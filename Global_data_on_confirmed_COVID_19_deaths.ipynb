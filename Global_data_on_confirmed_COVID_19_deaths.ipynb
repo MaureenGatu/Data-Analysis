{
  "nbformat": 4,
  "nbformat_minor": 0,
  "metadata": {
    "colab": {
      "name": "Global data on confirmed COVID-19 deaths.ipynb",
      "provenance": [],
      "mount_file_id": "1sfeQByowH_08qtZGUTJfUmIpzJhiJ35U",
      "authorship_tag": "ABX9TyOeX1N/4DxullTozyPC9mQR",
      "include_colab_link": true
    },
    "kernelspec": {
      "display_name": "Python 3",
      "name": "python3"
    },
    "language_info": {
      "name": "python"
    }
  },
  "cells": [
    {
      "cell_type": "markdown",
      "metadata": {
        "id": "view-in-github",
        "colab_type": "text"
      },
      "source": [
        "<a href=\"https://colab.research.google.com/github/MaureenGatu/Data-Analysis/blob/main/Global_data_on_confirmed_COVID_19_deaths.ipynb\" target=\"_parent\"><img src=\"https://colab.research.google.com/assets/colab-badge.svg\" alt=\"Open In Colab\"/></a>"
      ]
    },
    {
      "cell_type": "markdown",
      "metadata": {
        "id": "-Mv-z-IY6Ewr"
      },
      "source": [
        "# ***COVID-19 DEATHS DATA EXPLORATION***"
      ]
    },
    {
      "cell_type": "markdown",
      "metadata": {
        "id": "kVGmt3poBmaK"
      },
      "source": [
        "## **Overview**"
      ]
    },
    {
      "cell_type": "markdown",
      "metadata": {
        "id": "UZ1qwRUaBq3U"
      },
      "source": [
        ""
      ]
    },
    {
      "cell_type": "markdown",
      "metadata": {
        "id": "t3ciiEhEBwbq"
      },
      "source": [
        "### Analysis Design\n",
        "\n"
      ]
    },
    {
      "cell_type": "markdown",
      "metadata": {
        "id": "LQKLCN0dDPap"
      },
      "source": [
        "To get a proper picture and a good understanding of the data used for this analysis, the analysis was subdivided into the following sections.\n",
        "1. ***Covid-19 Related deaths***\n",
        "\n",
        "    a. Global analysis\n",
        "\n",
        "    b. Anlysis by Continent\n",
        "\n",
        "    c. Per country analysis\n",
        "2. ***Covid-19 Vaccination***\n",
        "\n",
        "    a. Global analysis\n",
        "\n",
        "    b. Anlysis by Continent\n",
        "\n",
        "    c. Per country analysis\n",
        "3. ***Covid-19 Deaths vs. Vaccination Analysis***\n",
        "\n",
        "    a. Global analysis\n",
        "\n",
        "    b. Anlysis by Continent\n",
        "\n",
        "    c. Per country analysis\n",
        "4. ***Conclusion***"
      ]
    },
    {
      "cell_type": "markdown",
      "metadata": {
        "id": "oGxfZo8LWZXx"
      },
      "source": [
        "## Connecting to our Database"
      ]
    },
    {
      "cell_type": "code",
      "metadata": {
        "colab": {
          "base_uri": "https://localhost:8080/",
          "height": 38
        },
        "id": "aGOQCVTLWpSn",
        "outputId": "c915ed80-bb4d-4ce7-c118-e04be9fc6baf"
      },
      "source": [
        "# We will first load the sql extension into our environment\n",
        "%load_ext sql\n",
        "\n",
        "# Then connect to our in memory sqlite database\n",
        "# NB: This database will cease to exist as soon as the database connection is closed. \n",
        "%sql sqlite://"
      ],
      "execution_count": 1,
      "outputs": [
        {
          "output_type": "execute_result",
          "data": {
            "application/vnd.google.colaboratory.intrinsic+json": {
              "type": "string"
            },
            "text/plain": [
              "'Connected: @None'"
            ]
          },
          "metadata": {},
          "execution_count": 1
        }
      ]
    },
    {
      "cell_type": "markdown",
      "metadata": {
        "id": "HOnfqP8HWXgB"
      },
      "source": [
        "## Importing Data from CSV files"
      ]
    },
    {
      "cell_type": "markdown",
      "metadata": {
        "id": "UDDmPdUHmOIT"
      },
      "source": [
        "Datasets used in this notebook:\n",
        "\n",
        "\n",
        "1.   **Covid 19 Deaths**\n",
        "2.   **Covid 19 Vaccinations** \n",
        "\n",
        "> The dataset is from Our World in Data. ([Dataset Download](https://ourworldindata.org/covid-deaths))\n",
        "\n",
        "\n",
        "\n",
        "\n"
      ]
    },
    {
      "cell_type": "code",
      "metadata": {
        "id": "pfQPCUG1j63f"
      },
      "source": [
        "# Importing the pandas library\n",
        "# We will use a function read_csv from pandas to read our datasets as shown\n",
        "#\n",
        "import pandas as pd "
      ],
      "execution_count": 2,
      "outputs": []
    },
    {
      "cell_type": "code",
      "metadata": {
        "colab": {
          "base_uri": "https://localhost:8080/",
          "height": 250
        },
        "id": "wLNd4C2J12rZ",
        "outputId": "1e11fac3-0fbc-474c-d26f-dade306ed060"
      },
      "source": [
        "# Loading our table from the respective CSV files \n",
        "with open('/content/drive/MyDrive/Data Science/Data Analysis/SQL/DATA/COVID_DEATHS_DATA.csv','r') as f:\n",
        "    covid_deaths = pd.read_csv(f, index_col=0, encoding='utf-8')\n",
        "# saving the urban center CSV file into a database\n",
        "%sql DROP TABLE if EXISTS covid_deaths;\n",
        "%sql PERSIST covid_deaths;\n",
        "\n",
        "# Displaying the first  5 entries \n",
        "%sql SELECT * FROM covid_deaths LIMIT 5;"
      ],
      "execution_count": 3,
      "outputs": [
        {
          "output_type": "stream",
          "name": "stdout",
          "text": [
            " * sqlite://\n",
            "Done.\n",
            " * sqlite://\n",
            " * sqlite://\n",
            "Done.\n"
          ]
        },
        {
          "output_type": "execute_result",
          "data": {
            "text/html": [
              "<table>\n",
              "    <thead>\n",
              "        <tr>\n",
              "            <th>iso_code</th>\n",
              "            <th>continent</th>\n",
              "            <th>location</th>\n",
              "            <th>date</th>\n",
              "            <th>population</th>\n",
              "            <th>total_cases</th>\n",
              "            <th>new_cases</th>\n",
              "            <th>new_cases_smoothed</th>\n",
              "            <th>total_deaths</th>\n",
              "            <th>new_deaths</th>\n",
              "            <th>new_deaths_smoothed</th>\n",
              "            <th>total_cases_per_million</th>\n",
              "            <th>new_cases_per_million</th>\n",
              "            <th>new_cases_smoothed_per_million</th>\n",
              "            <th>total_deaths_per_million</th>\n",
              "            <th>new_deaths_per_million</th>\n",
              "            <th>new_deaths_smoothed_per_million</th>\n",
              "            <th>reproduction_rate</th>\n",
              "            <th>icu_patients</th>\n",
              "            <th>icu_patients_per_million</th>\n",
              "            <th>hosp_patients</th>\n",
              "            <th>hosp_patients_per_million</th>\n",
              "            <th>weekly_icu_admissions</th>\n",
              "            <th>weekly_icu_admissions_per_million</th>\n",
              "            <th>weekly_hosp_admissions</th>\n",
              "            <th>weekly_hosp_admissions_per_million</th>\n",
              "        </tr>\n",
              "    </thead>\n",
              "    <tbody>\n",
              "        <tr>\n",
              "            <td>AFG</td>\n",
              "            <td>Asia</td>\n",
              "            <td>Afghanistan</td>\n",
              "            <td>24/02/2020</td>\n",
              "            <td>39835428.0</td>\n",
              "            <td>5.0</td>\n",
              "            <td>5.0</td>\n",
              "            <td>None</td>\n",
              "            <td>None</td>\n",
              "            <td>None</td>\n",
              "            <td>None</td>\n",
              "            <td>0.126</td>\n",
              "            <td>0.126</td>\n",
              "            <td>None</td>\n",
              "            <td>None</td>\n",
              "            <td>None</td>\n",
              "            <td>None</td>\n",
              "            <td>None</td>\n",
              "            <td>None</td>\n",
              "            <td>None</td>\n",
              "            <td>None</td>\n",
              "            <td>None</td>\n",
              "            <td>None</td>\n",
              "            <td>None</td>\n",
              "            <td>None</td>\n",
              "            <td>None</td>\n",
              "        </tr>\n",
              "        <tr>\n",
              "            <td>AFG</td>\n",
              "            <td>Asia</td>\n",
              "            <td>Afghanistan</td>\n",
              "            <td>25/02/2020</td>\n",
              "            <td>39835428.0</td>\n",
              "            <td>5.0</td>\n",
              "            <td>0.0</td>\n",
              "            <td>None</td>\n",
              "            <td>None</td>\n",
              "            <td>None</td>\n",
              "            <td>None</td>\n",
              "            <td>0.126</td>\n",
              "            <td>0.0</td>\n",
              "            <td>None</td>\n",
              "            <td>None</td>\n",
              "            <td>None</td>\n",
              "            <td>None</td>\n",
              "            <td>None</td>\n",
              "            <td>None</td>\n",
              "            <td>None</td>\n",
              "            <td>None</td>\n",
              "            <td>None</td>\n",
              "            <td>None</td>\n",
              "            <td>None</td>\n",
              "            <td>None</td>\n",
              "            <td>None</td>\n",
              "        </tr>\n",
              "        <tr>\n",
              "            <td>AFG</td>\n",
              "            <td>Asia</td>\n",
              "            <td>Afghanistan</td>\n",
              "            <td>26/02/2020</td>\n",
              "            <td>39835428.0</td>\n",
              "            <td>5.0</td>\n",
              "            <td>0.0</td>\n",
              "            <td>None</td>\n",
              "            <td>None</td>\n",
              "            <td>None</td>\n",
              "            <td>None</td>\n",
              "            <td>0.126</td>\n",
              "            <td>0.0</td>\n",
              "            <td>None</td>\n",
              "            <td>None</td>\n",
              "            <td>None</td>\n",
              "            <td>None</td>\n",
              "            <td>None</td>\n",
              "            <td>None</td>\n",
              "            <td>None</td>\n",
              "            <td>None</td>\n",
              "            <td>None</td>\n",
              "            <td>None</td>\n",
              "            <td>None</td>\n",
              "            <td>None</td>\n",
              "            <td>None</td>\n",
              "        </tr>\n",
              "        <tr>\n",
              "            <td>AFG</td>\n",
              "            <td>Asia</td>\n",
              "            <td>Afghanistan</td>\n",
              "            <td>27/02/2020</td>\n",
              "            <td>39835428.0</td>\n",
              "            <td>5.0</td>\n",
              "            <td>0.0</td>\n",
              "            <td>None</td>\n",
              "            <td>None</td>\n",
              "            <td>None</td>\n",
              "            <td>None</td>\n",
              "            <td>0.126</td>\n",
              "            <td>0.0</td>\n",
              "            <td>None</td>\n",
              "            <td>None</td>\n",
              "            <td>None</td>\n",
              "            <td>None</td>\n",
              "            <td>None</td>\n",
              "            <td>None</td>\n",
              "            <td>None</td>\n",
              "            <td>None</td>\n",
              "            <td>None</td>\n",
              "            <td>None</td>\n",
              "            <td>None</td>\n",
              "            <td>None</td>\n",
              "            <td>None</td>\n",
              "        </tr>\n",
              "        <tr>\n",
              "            <td>AFG</td>\n",
              "            <td>Asia</td>\n",
              "            <td>Afghanistan</td>\n",
              "            <td>28/02/2020</td>\n",
              "            <td>39835428.0</td>\n",
              "            <td>5.0</td>\n",
              "            <td>0.0</td>\n",
              "            <td>None</td>\n",
              "            <td>None</td>\n",
              "            <td>None</td>\n",
              "            <td>None</td>\n",
              "            <td>0.126</td>\n",
              "            <td>0.0</td>\n",
              "            <td>None</td>\n",
              "            <td>None</td>\n",
              "            <td>None</td>\n",
              "            <td>None</td>\n",
              "            <td>None</td>\n",
              "            <td>None</td>\n",
              "            <td>None</td>\n",
              "            <td>None</td>\n",
              "            <td>None</td>\n",
              "            <td>None</td>\n",
              "            <td>None</td>\n",
              "            <td>None</td>\n",
              "            <td>None</td>\n",
              "        </tr>\n",
              "    </tbody>\n",
              "</table>"
            ],
            "text/plain": [
              "[('AFG', 'Asia', 'Afghanistan', '24/02/2020', 39835428.0, 5.0, 5.0, None, None, None, None, 0.126, 0.126, None, None, None, None, None, None, None, None, None, None, None, None, None),\n",
              " ('AFG', 'Asia', 'Afghanistan', '25/02/2020', 39835428.0, 5.0, 0.0, None, None, None, None, 0.126, 0.0, None, None, None, None, None, None, None, None, None, None, None, None, None),\n",
              " ('AFG', 'Asia', 'Afghanistan', '26/02/2020', 39835428.0, 5.0, 0.0, None, None, None, None, 0.126, 0.0, None, None, None, None, None, None, None, None, None, None, None, None, None),\n",
              " ('AFG', 'Asia', 'Afghanistan', '27/02/2020', 39835428.0, 5.0, 0.0, None, None, None, None, 0.126, 0.0, None, None, None, None, None, None, None, None, None, None, None, None, None),\n",
              " ('AFG', 'Asia', 'Afghanistan', '28/02/2020', 39835428.0, 5.0, 0.0, None, None, None, None, 0.126, 0.0, None, None, None, None, None, None, None, None, None, None, None, None, None)]"
            ]
          },
          "metadata": {},
          "execution_count": 3
        }
      ]
    },
    {
      "cell_type": "code",
      "metadata": {
        "colab": {
          "base_uri": "https://localhost:8080/",
          "height": 250
        },
        "id": "iwCRvKEW152I",
        "outputId": "7758ad8e-ca7c-4fe9-825b-782988b33764"
      },
      "source": [
        "# Let's load our covid_vaccine dataset below\n",
        "with open('/content/drive/MyDrive/Data Science/Data Analysis/SQL/DATA/COVID_VACCINATION_DATA.csv','r') as f:\n",
        "    covid_vaccine = pd.read_csv(f, index_col=0, encoding='utf-8') \n",
        "\n",
        "# Save the houshold dataset into a database\n",
        "%sql DROP TABLE if EXISTS covid_vaccine;\n",
        "%sql PERSIST covid_vaccine;\n",
        "\n",
        "# Display the first 5 entries from the database\n",
        "%sql SELECT * FROM covid_vaccine LIMIT 5;"
      ],
      "execution_count": 4,
      "outputs": [
        {
          "output_type": "stream",
          "name": "stdout",
          "text": [
            " * sqlite://\n",
            "Done.\n",
            " * sqlite://\n",
            " * sqlite://\n",
            "Done.\n"
          ]
        },
        {
          "output_type": "execute_result",
          "data": {
            "text/html": [
              "<table>\n",
              "    <thead>\n",
              "        <tr>\n",
              "            <th>iso_code</th>\n",
              "            <th>continent</th>\n",
              "            <th>location</th>\n",
              "            <th>date</th>\n",
              "            <th>new_tests</th>\n",
              "            <th>total_tests</th>\n",
              "            <th>total_tests_per_thousand</th>\n",
              "            <th>new_tests_per_thousand</th>\n",
              "            <th>new_tests_smoothed</th>\n",
              "            <th>new_tests_smoothed_per_thousand</th>\n",
              "            <th>positive_rate</th>\n",
              "            <th>tests_per_case</th>\n",
              "            <th>tests_units</th>\n",
              "            <th>total_vaccinations</th>\n",
              "            <th>people_vaccinated</th>\n",
              "            <th>people_fully_vaccinated</th>\n",
              "            <th>total_boosters</th>\n",
              "            <th>new_vaccinations</th>\n",
              "            <th>new_vaccinations_smoothed</th>\n",
              "            <th>total_vaccinations_per_hundred</th>\n",
              "            <th>people_vaccinated_per_hundred</th>\n",
              "            <th>people_fully_vaccinated_per_hundred</th>\n",
              "            <th>total_boosters_per_hundred</th>\n",
              "            <th>new_vaccinations_smoothed_per_million</th>\n",
              "            <th>stringency_index</th>\n",
              "            <th>population_density</th>\n",
              "            <th>median_age</th>\n",
              "            <th>aged_65_older</th>\n",
              "            <th>aged_70_older</th>\n",
              "            <th>gdp_per_capita</th>\n",
              "            <th>extreme_poverty</th>\n",
              "            <th>cardiovasc_death_rate</th>\n",
              "            <th>diabetes_prevalence</th>\n",
              "            <th>female_smokers</th>\n",
              "            <th>male_smokers</th>\n",
              "            <th>handwashing_facilities</th>\n",
              "            <th>hospital_beds_per_thousand</th>\n",
              "            <th>life_expectancy</th>\n",
              "            <th>human_development_index</th>\n",
              "            <th>excess_mortality_cumulative_absolute</th>\n",
              "            <th>excess_mortality_cumulative</th>\n",
              "            <th>excess_mortality</th>\n",
              "            <th>excess_mortality_cumulative_per_million</th>\n",
              "        </tr>\n",
              "    </thead>\n",
              "    <tbody>\n",
              "        <tr>\n",
              "            <td>AFG</td>\n",
              "            <td>Asia</td>\n",
              "            <td>Afghanistan</td>\n",
              "            <td>24/02/2020</td>\n",
              "            <td>None</td>\n",
              "            <td>None</td>\n",
              "            <td>None</td>\n",
              "            <td>None</td>\n",
              "            <td>None</td>\n",
              "            <td>None</td>\n",
              "            <td>None</td>\n",
              "            <td>None</td>\n",
              "            <td>None</td>\n",
              "            <td>None</td>\n",
              "            <td>None</td>\n",
              "            <td>None</td>\n",
              "            <td>None</td>\n",
              "            <td>None</td>\n",
              "            <td>None</td>\n",
              "            <td>None</td>\n",
              "            <td>None</td>\n",
              "            <td>None</td>\n",
              "            <td>None</td>\n",
              "            <td>None</td>\n",
              "            <td>8.33</td>\n",
              "            <td>54.422</td>\n",
              "            <td>18.6</td>\n",
              "            <td>2.5810000000000004</td>\n",
              "            <td>1.337</td>\n",
              "            <td>1803.987</td>\n",
              "            <td>None</td>\n",
              "            <td>597.029</td>\n",
              "            <td>9.59</td>\n",
              "            <td>None</td>\n",
              "            <td>None</td>\n",
              "            <td>37.746</td>\n",
              "            <td>0.5</td>\n",
              "            <td>64.83</td>\n",
              "            <td>0.511</td>\n",
              "            <td>None</td>\n",
              "            <td>None</td>\n",
              "            <td>None</td>\n",
              "            <td>None</td>\n",
              "        </tr>\n",
              "        <tr>\n",
              "            <td>AFG</td>\n",
              "            <td>Asia</td>\n",
              "            <td>Afghanistan</td>\n",
              "            <td>25/02/2020</td>\n",
              "            <td>None</td>\n",
              "            <td>None</td>\n",
              "            <td>None</td>\n",
              "            <td>None</td>\n",
              "            <td>None</td>\n",
              "            <td>None</td>\n",
              "            <td>None</td>\n",
              "            <td>None</td>\n",
              "            <td>None</td>\n",
              "            <td>None</td>\n",
              "            <td>None</td>\n",
              "            <td>None</td>\n",
              "            <td>None</td>\n",
              "            <td>None</td>\n",
              "            <td>None</td>\n",
              "            <td>None</td>\n",
              "            <td>None</td>\n",
              "            <td>None</td>\n",
              "            <td>None</td>\n",
              "            <td>None</td>\n",
              "            <td>8.33</td>\n",
              "            <td>54.422</td>\n",
              "            <td>18.6</td>\n",
              "            <td>2.5810000000000004</td>\n",
              "            <td>1.337</td>\n",
              "            <td>1803.987</td>\n",
              "            <td>None</td>\n",
              "            <td>597.029</td>\n",
              "            <td>9.59</td>\n",
              "            <td>None</td>\n",
              "            <td>None</td>\n",
              "            <td>37.746</td>\n",
              "            <td>0.5</td>\n",
              "            <td>64.83</td>\n",
              "            <td>0.511</td>\n",
              "            <td>None</td>\n",
              "            <td>None</td>\n",
              "            <td>None</td>\n",
              "            <td>None</td>\n",
              "        </tr>\n",
              "        <tr>\n",
              "            <td>AFG</td>\n",
              "            <td>Asia</td>\n",
              "            <td>Afghanistan</td>\n",
              "            <td>26/02/2020</td>\n",
              "            <td>None</td>\n",
              "            <td>None</td>\n",
              "            <td>None</td>\n",
              "            <td>None</td>\n",
              "            <td>None</td>\n",
              "            <td>None</td>\n",
              "            <td>None</td>\n",
              "            <td>None</td>\n",
              "            <td>None</td>\n",
              "            <td>None</td>\n",
              "            <td>None</td>\n",
              "            <td>None</td>\n",
              "            <td>None</td>\n",
              "            <td>None</td>\n",
              "            <td>None</td>\n",
              "            <td>None</td>\n",
              "            <td>None</td>\n",
              "            <td>None</td>\n",
              "            <td>None</td>\n",
              "            <td>None</td>\n",
              "            <td>8.33</td>\n",
              "            <td>54.422</td>\n",
              "            <td>18.6</td>\n",
              "            <td>2.5810000000000004</td>\n",
              "            <td>1.337</td>\n",
              "            <td>1803.987</td>\n",
              "            <td>None</td>\n",
              "            <td>597.029</td>\n",
              "            <td>9.59</td>\n",
              "            <td>None</td>\n",
              "            <td>None</td>\n",
              "            <td>37.746</td>\n",
              "            <td>0.5</td>\n",
              "            <td>64.83</td>\n",
              "            <td>0.511</td>\n",
              "            <td>None</td>\n",
              "            <td>None</td>\n",
              "            <td>None</td>\n",
              "            <td>None</td>\n",
              "        </tr>\n",
              "        <tr>\n",
              "            <td>AFG</td>\n",
              "            <td>Asia</td>\n",
              "            <td>Afghanistan</td>\n",
              "            <td>27/02/2020</td>\n",
              "            <td>None</td>\n",
              "            <td>None</td>\n",
              "            <td>None</td>\n",
              "            <td>None</td>\n",
              "            <td>None</td>\n",
              "            <td>None</td>\n",
              "            <td>None</td>\n",
              "            <td>None</td>\n",
              "            <td>None</td>\n",
              "            <td>None</td>\n",
              "            <td>None</td>\n",
              "            <td>None</td>\n",
              "            <td>None</td>\n",
              "            <td>None</td>\n",
              "            <td>None</td>\n",
              "            <td>None</td>\n",
              "            <td>None</td>\n",
              "            <td>None</td>\n",
              "            <td>None</td>\n",
              "            <td>None</td>\n",
              "            <td>8.33</td>\n",
              "            <td>54.422</td>\n",
              "            <td>18.6</td>\n",
              "            <td>2.5810000000000004</td>\n",
              "            <td>1.337</td>\n",
              "            <td>1803.987</td>\n",
              "            <td>None</td>\n",
              "            <td>597.029</td>\n",
              "            <td>9.59</td>\n",
              "            <td>None</td>\n",
              "            <td>None</td>\n",
              "            <td>37.746</td>\n",
              "            <td>0.5</td>\n",
              "            <td>64.83</td>\n",
              "            <td>0.511</td>\n",
              "            <td>None</td>\n",
              "            <td>None</td>\n",
              "            <td>None</td>\n",
              "            <td>None</td>\n",
              "        </tr>\n",
              "        <tr>\n",
              "            <td>AFG</td>\n",
              "            <td>Asia</td>\n",
              "            <td>Afghanistan</td>\n",
              "            <td>28/02/2020</td>\n",
              "            <td>None</td>\n",
              "            <td>None</td>\n",
              "            <td>None</td>\n",
              "            <td>None</td>\n",
              "            <td>None</td>\n",
              "            <td>None</td>\n",
              "            <td>None</td>\n",
              "            <td>None</td>\n",
              "            <td>None</td>\n",
              "            <td>None</td>\n",
              "            <td>None</td>\n",
              "            <td>None</td>\n",
              "            <td>None</td>\n",
              "            <td>None</td>\n",
              "            <td>None</td>\n",
              "            <td>None</td>\n",
              "            <td>None</td>\n",
              "            <td>None</td>\n",
              "            <td>None</td>\n",
              "            <td>None</td>\n",
              "            <td>8.33</td>\n",
              "            <td>54.422</td>\n",
              "            <td>18.6</td>\n",
              "            <td>2.5810000000000004</td>\n",
              "            <td>1.337</td>\n",
              "            <td>1803.987</td>\n",
              "            <td>None</td>\n",
              "            <td>597.029</td>\n",
              "            <td>9.59</td>\n",
              "            <td>None</td>\n",
              "            <td>None</td>\n",
              "            <td>37.746</td>\n",
              "            <td>0.5</td>\n",
              "            <td>64.83</td>\n",
              "            <td>0.511</td>\n",
              "            <td>None</td>\n",
              "            <td>None</td>\n",
              "            <td>None</td>\n",
              "            <td>None</td>\n",
              "        </tr>\n",
              "    </tbody>\n",
              "</table>"
            ],
            "text/plain": [
              "[('AFG', 'Asia', 'Afghanistan', '24/02/2020', None, None, None, None, None, None, None, None, None, None, None, None, None, None, None, None, None, None, None, None, 8.33, 54.422, 18.6, 2.5810000000000004, 1.337, 1803.987, None, 597.029, 9.59, None, None, 37.746, 0.5, 64.83, 0.511, None, None, None, None),\n",
              " ('AFG', 'Asia', 'Afghanistan', '25/02/2020', None, None, None, None, None, None, None, None, None, None, None, None, None, None, None, None, None, None, None, None, 8.33, 54.422, 18.6, 2.5810000000000004, 1.337, 1803.987, None, 597.029, 9.59, None, None, 37.746, 0.5, 64.83, 0.511, None, None, None, None),\n",
              " ('AFG', 'Asia', 'Afghanistan', '26/02/2020', None, None, None, None, None, None, None, None, None, None, None, None, None, None, None, None, None, None, None, None, 8.33, 54.422, 18.6, 2.5810000000000004, 1.337, 1803.987, None, 597.029, 9.59, None, None, 37.746, 0.5, 64.83, 0.511, None, None, None, None),\n",
              " ('AFG', 'Asia', 'Afghanistan', '27/02/2020', None, None, None, None, None, None, None, None, None, None, None, None, None, None, None, None, None, None, None, None, 8.33, 54.422, 18.6, 2.5810000000000004, 1.337, 1803.987, None, 597.029, 9.59, None, None, 37.746, 0.5, 64.83, 0.511, None, None, None, None),\n",
              " ('AFG', 'Asia', 'Afghanistan', '28/02/2020', None, None, None, None, None, None, None, None, None, None, None, None, None, None, None, None, None, None, None, None, 8.33, 54.422, 18.6, 2.5810000000000004, 1.337, 1803.987, None, 597.029, 9.59, None, None, 37.746, 0.5, 64.83, 0.511, None, None, None, None)]"
            ]
          },
          "metadata": {},
          "execution_count": 4
        }
      ]
    },
    {
      "cell_type": "code",
      "metadata": {
        "colab": {
          "base_uri": "https://localhost:8080/",
          "height": 95
        },
        "id": "98zkb7fu-LpQ",
        "outputId": "a65261cd-6ee4-473e-89f2-8f2a471f3304"
      },
      "source": [
        "%%sql\n",
        "--Lenght of covid_vaccine dataset\n",
        "SELECT COUNT(*)\n",
        "FROM covid_vaccine;"
      ],
      "execution_count": 5,
      "outputs": [
        {
          "output_type": "stream",
          "name": "stdout",
          "text": [
            " * sqlite://\n",
            "Done.\n"
          ]
        },
        {
          "output_type": "execute_result",
          "data": {
            "text/html": [
              "<table>\n",
              "    <thead>\n",
              "        <tr>\n",
              "            <th>COUNT(*)</th>\n",
              "        </tr>\n",
              "    </thead>\n",
              "    <tbody>\n",
              "        <tr>\n",
              "            <td>122175</td>\n",
              "        </tr>\n",
              "    </tbody>\n",
              "</table>"
            ],
            "text/plain": [
              "[(122175,)]"
            ]
          },
          "metadata": {},
          "execution_count": 5
        }
      ]
    },
    {
      "cell_type": "code",
      "metadata": {
        "colab": {
          "base_uri": "https://localhost:8080/",
          "height": 95
        },
        "id": "i_Siuuph-gf2",
        "outputId": "0a1c28dd-a999-452f-f6fe-64020e0ecf6a"
      },
      "source": [
        "%%sql\n",
        "--Lenght of covid_deaths dataset\n",
        "SELECT COUNT(*)\n",
        "FROM covid_deaths;"
      ],
      "execution_count": 6,
      "outputs": [
        {
          "output_type": "stream",
          "name": "stdout",
          "text": [
            " * sqlite://\n",
            "Done.\n"
          ]
        },
        {
          "output_type": "execute_result",
          "data": {
            "text/html": [
              "<table>\n",
              "    <thead>\n",
              "        <tr>\n",
              "            <th>COUNT(*)</th>\n",
              "        </tr>\n",
              "    </thead>\n",
              "    <tbody>\n",
              "        <tr>\n",
              "            <td>122175</td>\n",
              "        </tr>\n",
              "    </tbody>\n",
              "</table>"
            ],
            "text/plain": [
              "[(122175,)]"
            ]
          },
          "metadata": {},
          "execution_count": 6
        }
      ]
    },
    {
      "cell_type": "markdown",
      "metadata": {
        "id": "ZzCgH-PY9elE"
      },
      "source": [
        "## Data Exploration"
      ]
    },
    {
      "cell_type": "markdown",
      "metadata": {
        "id": "hf-72ECZ_4tP"
      },
      "source": [
        "### Covid 19 Deaths"
      ]
    },
    {
      "cell_type": "markdown",
      "metadata": {
        "id": "xcbAE9eGdhcv"
      },
      "source": [
        "#### Global Numbers"
      ]
    },
    {
      "cell_type": "code",
      "metadata": {
        "colab": {
          "base_uri": "https://localhost:8080/",
          "height": 95
        },
        "id": "yloOQEs_SSgY",
        "outputId": "6e17622e-ed16-4e4a-a642-219ba9e100b8"
      },
      "source": [
        "%%sql\n",
        "--Total confirmed  covid-19 related deaths worldwide\n",
        "SELECT location,date,MAX(total_deaths) as total_deaths FROM covid_deaths;"
      ],
      "execution_count": 7,
      "outputs": [
        {
          "output_type": "stream",
          "name": "stdout",
          "text": [
            " * sqlite://\n",
            "Done.\n"
          ]
        },
        {
          "output_type": "execute_result",
          "data": {
            "text/html": [
              "<table>\n",
              "    <thead>\n",
              "        <tr>\n",
              "            <th>location</th>\n",
              "            <th>date</th>\n",
              "            <th>total_deaths</th>\n",
              "        </tr>\n",
              "    </thead>\n",
              "    <tbody>\n",
              "        <tr>\n",
              "            <td>World</td>\n",
              "            <td>08/10/2021</td>\n",
              "            <td>4842788.0</td>\n",
              "        </tr>\n",
              "    </tbody>\n",
              "</table>"
            ],
            "text/plain": [
              "[('World', '08/10/2021', 4842788.0)]"
            ]
          },
          "metadata": {},
          "execution_count": 7
        }
      ]
    },
    {
      "cell_type": "code",
      "metadata": {
        "colab": {
          "base_uri": "https://localhost:8080/",
          "height": 95
        },
        "id": "gIaYVMmjTCOz",
        "outputId": "f312b2e2-7cf0-4d02-bf5b-bd8788d70dda"
      },
      "source": [
        "%%sql\n",
        "--Highest number of reported covid-19 related deaths per million worldwide\n",
        "SELECT location,date,MAX(total_deaths_per_million) as total_deaths_per_million FROM covid_deaths;"
      ],
      "execution_count": 8,
      "outputs": [
        {
          "output_type": "stream",
          "name": "stdout",
          "text": [
            " * sqlite://\n",
            "Done.\n"
          ]
        },
        {
          "output_type": "execute_result",
          "data": {
            "text/html": [
              "<table>\n",
              "    <thead>\n",
              "        <tr>\n",
              "            <th>location</th>\n",
              "            <th>date</th>\n",
              "            <th>total_deaths_per_million</th>\n",
              "        </tr>\n",
              "    </thead>\n",
              "    <tbody>\n",
              "        <tr>\n",
              "            <td>Peru</td>\n",
              "            <td>08/10/2021</td>\n",
              "            <td>5984.278</td>\n",
              "        </tr>\n",
              "    </tbody>\n",
              "</table>"
            ],
            "text/plain": [
              "[('Peru', '08/10/2021', 5984.278)]"
            ]
          },
          "metadata": {},
          "execution_count": 8
        }
      ]
    },
    {
      "cell_type": "code",
      "metadata": {
        "colab": {
          "base_uri": "https://localhost:8080/",
          "height": 95
        },
        "id": "Q-YG7dASTXV7",
        "outputId": "f66a2d51-d6ab-414f-df8a-c23dd5e30cf3"
      },
      "source": [
        "%%sql\n",
        "-- Highest number of reported new cases of covid worldwide\n",
        "SELECT location,date, MAX(new_cases) as Highest_reported_newcases FROM covid_deaths;"
      ],
      "execution_count": 9,
      "outputs": [
        {
          "output_type": "stream",
          "name": "stdout",
          "text": [
            " * sqlite://\n",
            "Done.\n"
          ]
        },
        {
          "output_type": "execute_result",
          "data": {
            "text/html": [
              "<table>\n",
              "    <thead>\n",
              "        <tr>\n",
              "            <th>location</th>\n",
              "            <th>date</th>\n",
              "            <th>Highest_reported_newcases</th>\n",
              "        </tr>\n",
              "    </thead>\n",
              "    <tbody>\n",
              "        <tr>\n",
              "            <td>World</td>\n",
              "            <td>28/04/2021</td>\n",
              "            <td>905948.0</td>\n",
              "        </tr>\n",
              "    </tbody>\n",
              "</table>"
            ],
            "text/plain": [
              "[('World', '28/04/2021', 905948.0)]"
            ]
          },
          "metadata": {},
          "execution_count": 9
        }
      ]
    },
    {
      "cell_type": "code",
      "metadata": {
        "colab": {
          "base_uri": "https://localhost:8080/",
          "height": 95
        },
        "id": "bx_qb7G6USjN",
        "outputId": "55cb28ea-1a96-4e1c-ccd0-189d764322a0"
      },
      "source": [
        "%%sql\n",
        "-- Highest number of reported new deaths worldwide\n",
        "SELECT location,date, MAX(new_deaths) as Highest_reported_newdeaths FROM covid_deaths;"
      ],
      "execution_count": 10,
      "outputs": [
        {
          "output_type": "stream",
          "name": "stdout",
          "text": [
            " * sqlite://\n",
            "Done.\n"
          ]
        },
        {
          "output_type": "execute_result",
          "data": {
            "text/html": [
              "<table>\n",
              "    <thead>\n",
              "        <tr>\n",
              "            <th>location</th>\n",
              "            <th>date</th>\n",
              "            <th>Highest_reported_newdeaths</th>\n",
              "        </tr>\n",
              "    </thead>\n",
              "    <tbody>\n",
              "        <tr>\n",
              "            <td>World</td>\n",
              "            <td>20/01/2021</td>\n",
              "            <td>17977.0</td>\n",
              "        </tr>\n",
              "    </tbody>\n",
              "</table>"
            ],
            "text/plain": [
              "[('World', '20/01/2021', 17977.0)]"
            ]
          },
          "metadata": {},
          "execution_count": 10
        }
      ]
    },
    {
      "cell_type": "code",
      "metadata": {
        "colab": {
          "base_uri": "https://localhost:8080/",
          "height": 95
        },
        "id": "7u4QPgMFU3FE",
        "outputId": "430682a7-39ea-4dab-c889-4ce20dbb85aa"
      },
      "source": [
        "%%sql\n",
        "-- Highest number of reported new deaths worldwide\n",
        "SELECT location,date, MAX(new_cases_per_million) as Highest_reported_newcases_permillion FROM covid_deaths;\n"
      ],
      "execution_count": 11,
      "outputs": [
        {
          "output_type": "stream",
          "name": "stdout",
          "text": [
            " * sqlite://\n",
            "Done.\n"
          ]
        },
        {
          "output_type": "execute_result",
          "data": {
            "text/html": [
              "<table>\n",
              "    <thead>\n",
              "        <tr>\n",
              "            <th>location</th>\n",
              "            <th>date</th>\n",
              "            <th>Highest_reported_newcases_permillion</th>\n",
              "        </tr>\n",
              "    </thead>\n",
              "    <tbody>\n",
              "        <tr>\n",
              "            <td>Vatican</td>\n",
              "            <td>12/10/2020</td>\n",
              "            <td>8620.69</td>\n",
              "        </tr>\n",
              "    </tbody>\n",
              "</table>"
            ],
            "text/plain": [
              "[('Vatican', '12/10/2020', 8620.69)]"
            ]
          },
          "metadata": {},
          "execution_count": 11
        }
      ]
    },
    {
      "cell_type": "code",
      "metadata": {
        "id": "sio0AZ_8IUMq",
        "colab": {
          "base_uri": "https://localhost:8080/",
          "height": 95
        },
        "outputId": "c76fd8d2-7278-4ddd-efec-044d00d70f24"
      },
      "source": [
        "%%sql\n",
        "-- Highest weekly ICU admissions globally\n",
        "SELECT location, date, MAX(weekly_icu_admissions) as global_weekly_icu_admissions\n",
        "FROM covid_deaths\n",
        "\n"
      ],
      "execution_count": 15,
      "outputs": [
        {
          "output_type": "stream",
          "name": "stdout",
          "text": [
            " * sqlite://\n",
            "Done.\n"
          ]
        },
        {
          "output_type": "execute_result",
          "data": {
            "text/html": [
              "<table>\n",
              "    <thead>\n",
              "        <tr>\n",
              "            <th>location</th>\n",
              "            <th>date</th>\n",
              "            <th>global_weekly_icu_admissions</th>\n",
              "        </tr>\n",
              "    </thead>\n",
              "    <tbody>\n",
              "        <tr>\n",
              "            <td>France</td>\n",
              "            <td>05/04/2020</td>\n",
              "            <td>4002.4559999999997</td>\n",
              "        </tr>\n",
              "    </tbody>\n",
              "</table>"
            ],
            "text/plain": [
              "[('France', '05/04/2020', 4002.4559999999997)]"
            ]
          },
          "metadata": {},
          "execution_count": 15
        }
      ]
    },
    {
      "cell_type": "markdown",
      "metadata": {
        "id": "nEbXX_18SyJv"
      },
      "source": [
        "##### ***Summary***\n",
        "* **Total confirmed** covid-19 related **deaths** were **4.84 milion** as of 8th October 2021.\n",
        "\n",
        "* Highest number of reported covid-19 related **deaths per million worldwide** was recorded in **Peru on 8th October 2021 which was 5984.278** deaths per a million people.\n",
        "\n",
        "* Highest number of reported **new cases** of covid worldwide was recorded on **April 28th  2021 with 905,948** new reported cases.\n",
        "\n",
        "* **Highest** number of reported **new deaths worldwide** was recorded on **20th January 2021 with 17,977** new deaths being recorded.\n",
        "\n",
        "* Highest number of reported **new cases per million worldwide** was reocrded in **Vatican** with **8,620 new cases/million on 12th October 2020**.\n",
        "\n",
        "* **Highest weekly ICU admissions** globally were recorded in **France** with **4,002** admissions in the first week of **April 2020**\n",
        "\n",
        "---\n",
        "\n",
        "\n",
        "\n",
        "---\n",
        "\n",
        "\n"
      ]
    },
    {
      "cell_type": "markdown",
      "metadata": {
        "id": "37i5kty06Eq1"
      },
      "source": [
        "#### Analysis by continent\n"
      ]
    },
    {
      "cell_type": "code",
      "metadata": {
        "colab": {
          "base_uri": "https://localhost:8080/",
          "height": 221
        },
        "id": "rLyZPvtxvuxt",
        "outputId": "f97735e9-e2f7-4aee-fecd-d011a81f2984"
      },
      "source": [
        "%%sql\n",
        "-- Per continent death count.\n",
        "SELECT location, MAX(total_deaths)*100 as total_deaths\n",
        "FROM covid_deaths\n",
        "-- To exclude data that was aggregated per continent\n",
        "WHERE continent IS  NULL AND location NOT IN ('World','International')\n",
        "--Group by location to get highest per country\n",
        "GROUP BY location \n",
        "--Order in descending order of the highest death count per location \n",
        "ORDER BY 2 desc;"
      ],
      "execution_count": 41,
      "outputs": [
        {
          "output_type": "stream",
          "name": "stdout",
          "text": [
            " * sqlite://\n",
            "Done.\n"
          ]
        },
        {
          "output_type": "execute_result",
          "data": {
            "text/html": [
              "<table>\n",
              "    <thead>\n",
              "        <tr>\n",
              "            <th>location</th>\n",
              "            <th>total_deaths</th>\n",
              "        </tr>\n",
              "    </thead>\n",
              "    <tbody>\n",
              "        <tr>\n",
              "            <td>Europe</td>\n",
              "            <td>124500000.0</td>\n",
              "        </tr>\n",
              "        <tr>\n",
              "            <td>South America</td>\n",
              "            <td>115984500.0</td>\n",
              "        </tr>\n",
              "        <tr>\n",
              "            <td>Asia</td>\n",
              "            <td>114053100.0</td>\n",
              "        </tr>\n",
              "        <tr>\n",
              "            <td>North America</td>\n",
              "            <td>108151800.0</td>\n",
              "        </tr>\n",
              "        <tr>\n",
              "            <td>European Union</td>\n",
              "            <td>77691900.0</td>\n",
              "        </tr>\n",
              "        <tr>\n",
              "            <td>Africa</td>\n",
              "            <td>21353100.0</td>\n",
              "        </tr>\n",
              "        <tr>\n",
              "            <td>Oceania</td>\n",
              "            <td>234800.0</td>\n",
              "        </tr>\n",
              "    </tbody>\n",
              "</table>"
            ],
            "text/plain": [
              "[('Europe', 124500000.0),\n",
              " ('South America', 115984500.0),\n",
              " ('Asia', 114053100.0),\n",
              " ('North America', 108151800.0),\n",
              " ('European Union', 77691900.0),\n",
              " ('Africa', 21353100.0),\n",
              " ('Oceania', 234800.0)]"
            ]
          },
          "metadata": {},
          "execution_count": 41
        }
      ]
    },
    {
      "cell_type": "code",
      "metadata": {
        "id": "B3dFcgb5IT_K",
        "colab": {
          "base_uri": "https://localhost:8080/",
          "height": 221
        },
        "outputId": "851b0323-158a-454d-8355-d3d8678c3f8f"
      },
      "source": [
        "%%sql\n",
        "-- Continent wide death count per population\n",
        "SELECT location, MAX((total_deaths/population))*100 as death_count_per_population\n",
        "FROM covid_deaths\n",
        "-- To select data that was aggregated per continent except the aggregated world data.\n",
        "WHERE continent IS  NULL AND location NOT IN ('World','International')\n",
        "--Group by location to get highest per country\n",
        "GROUP BY location \n",
        "--Order in descending order of the highest death count per location \n",
        "ORDER BY 2 desc;\n"
      ],
      "execution_count": 40,
      "outputs": [
        {
          "output_type": "stream",
          "name": "stdout",
          "text": [
            " * sqlite://\n",
            "Done.\n"
          ]
        },
        {
          "output_type": "execute_result",
          "data": {
            "text/html": [
              "<table>\n",
              "    <thead>\n",
              "        <tr>\n",
              "            <th>location</th>\n",
              "            <th>death_count_per_population</th>\n",
              "        </tr>\n",
              "    </thead>\n",
              "    <tbody>\n",
              "        <tr>\n",
              "            <td>South America</td>\n",
              "            <td>0.2670853017598405</td>\n",
              "        </tr>\n",
              "        <tr>\n",
              "            <td>North America</td>\n",
              "            <td>0.18128594222088593</td>\n",
              "        </tr>\n",
              "        <tr>\n",
              "            <td>European Union</td>\n",
              "            <td>0.17373356910340879</td>\n",
              "        </tr>\n",
              "        <tr>\n",
              "            <td>Europe</td>\n",
              "            <td>0.16650007832324168</td>\n",
              "        </tr>\n",
              "        <tr>\n",
              "            <td>Asia</td>\n",
              "            <td>0.024372088114134122</td>\n",
              "        </tr>\n",
              "        <tr>\n",
              "            <td>Africa</td>\n",
              "            <td>0.015546640200181016</td>\n",
              "        </tr>\n",
              "        <tr>\n",
              "            <td>Oceania</td>\n",
              "            <td>0.005432675842274149</td>\n",
              "        </tr>\n",
              "    </tbody>\n",
              "</table>"
            ],
            "text/plain": [
              "[('South America', 0.2670853017598405),\n",
              " ('North America', 0.18128594222088593),\n",
              " ('European Union', 0.17373356910340879),\n",
              " ('Europe', 0.16650007832324168),\n",
              " ('Asia', 0.024372088114134122),\n",
              " ('Africa', 0.015546640200181016),\n",
              " ('Oceania', 0.005432675842274149)]"
            ]
          },
          "metadata": {},
          "execution_count": 40
        }
      ]
    },
    {
      "cell_type": "code",
      "metadata": {
        "colab": {
          "base_uri": "https://localhost:8080/",
          "height": 221
        },
        "id": "GLTCkCuIxhcc",
        "outputId": "1b495f21-7c1d-4c1e-a46a-1bdc283f8685"
      },
      "source": [
        "%%sql\n",
        "-- Continent wide death count per population\n",
        "SELECT location, MAX(total_cases) as total_cases\n",
        "FROM covid_deaths\n",
        "-- To exclude data that was aggregated per continent\n",
        "WHERE continent IS  NULL AND location NOT IN ('World','International')\n",
        "--Group by location to get highest per country\n",
        "GROUP BY location \n",
        "--Order in descending order of the highest death count per location \n",
        "ORDER BY 2 desc;"
      ],
      "execution_count": 28,
      "outputs": [
        {
          "output_type": "stream",
          "name": "stdout",
          "text": [
            " * sqlite://\n",
            "Done.\n"
          ]
        },
        {
          "output_type": "execute_result",
          "data": {
            "text/html": [
              "<table>\n",
              "    <thead>\n",
              "        <tr>\n",
              "            <th>location</th>\n",
              "            <th>total_cases</th>\n",
              "        </tr>\n",
              "    </thead>\n",
              "    <tbody>\n",
              "        <tr>\n",
              "            <td>Asia</td>\n",
              "            <td>76889805.0</td>\n",
              "        </tr>\n",
              "        <tr>\n",
              "            <td>Europe</td>\n",
              "            <td>60551949.0</td>\n",
              "        </tr>\n",
              "        <tr>\n",
              "            <td>North America</td>\n",
              "            <td>53271010.0</td>\n",
              "        </tr>\n",
              "        <tr>\n",
              "            <td>European Union</td>\n",
              "            <td>38363236.0</td>\n",
              "        </tr>\n",
              "        <tr>\n",
              "            <td>South America</td>\n",
              "            <td>37951049.0</td>\n",
              "        </tr>\n",
              "        <tr>\n",
              "            <td>Africa</td>\n",
              "            <td>8380407.0</td>\n",
              "        </tr>\n",
              "        <tr>\n",
              "            <td>Oceania</td>\n",
              "            <td>203523.0</td>\n",
              "        </tr>\n",
              "    </tbody>\n",
              "</table>"
            ],
            "text/plain": [
              "[('Asia', 76889805.0),\n",
              " ('Europe', 60551949.0),\n",
              " ('North America', 53271010.0),\n",
              " ('European Union', 38363236.0),\n",
              " ('South America', 37951049.0),\n",
              " ('Africa', 8380407.0),\n",
              " ('Oceania', 203523.0)]"
            ]
          },
          "metadata": {},
          "execution_count": 28
        }
      ]
    },
    {
      "cell_type": "code",
      "metadata": {
        "id": "AuIQocS6IUD9",
        "colab": {
          "base_uri": "https://localhost:8080/",
          "height": 221
        },
        "outputId": "f4116a55-c78d-40a6-c960-3f2d6cb26edd"
      },
      "source": [
        "%%sql\n",
        "-- Continent wide death count per population\n",
        "SELECT location, MAX((total_cases/population))*100 as infected_pop_percentage\n",
        "FROM covid_deaths\n",
        "-- To exclude data that was aggregated per continent\n",
        "WHERE continent IS  NULL AND location NOT IN ('World','International')\n",
        "--Group by location to get highest per country\n",
        "GROUP BY location \n",
        "--Order in descending order of the highest death count per location \n",
        "ORDER BY 2 desc;"
      ],
      "execution_count": 27,
      "outputs": [
        {
          "output_type": "stream",
          "name": "stdout",
          "text": [
            " * sqlite://\n",
            "Done.\n"
          ]
        },
        {
          "output_type": "execute_result",
          "data": {
            "text/html": [
              "<table>\n",
              "    <thead>\n",
              "        <tr>\n",
              "            <th>location</th>\n",
              "            <th>infected_pop_percentage</th>\n",
              "        </tr>\n",
              "    </thead>\n",
              "    <tbody>\n",
              "        <tr>\n",
              "            <td>North America</td>\n",
              "            <td>8.9293800388974</td>\n",
              "        </tr>\n",
              "        <tr>\n",
              "            <td>South America</td>\n",
              "            <td>8.73924306632998</td>\n",
              "        </tr>\n",
              "        <tr>\n",
              "            <td>European Union</td>\n",
              "            <td>8.578734607644272</td>\n",
              "        </tr>\n",
              "        <tr>\n",
              "            <td>Europe</td>\n",
              "            <td>8.097915061144526</td>\n",
              "        </tr>\n",
              "        <tr>\n",
              "            <td>Asia</td>\n",
              "            <td>1.643063715531266</td>\n",
              "        </tr>\n",
              "        <tr>\n",
              "            <td>Africa</td>\n",
              "            <td>0.6101557729794662</td>\n",
              "        </tr>\n",
              "        <tr>\n",
              "            <td>Oceania</td>\n",
              "            <td>0.4709005474647196</td>\n",
              "        </tr>\n",
              "    </tbody>\n",
              "</table>"
            ],
            "text/plain": [
              "[('North America', 8.9293800388974),\n",
              " ('South America', 8.73924306632998),\n",
              " ('European Union', 8.578734607644272),\n",
              " ('Europe', 8.097915061144526),\n",
              " ('Asia', 1.643063715531266),\n",
              " ('Africa', 0.6101557729794662),\n",
              " ('Oceania', 0.4709005474647196)]"
            ]
          },
          "metadata": {},
          "execution_count": 27
        }
      ]
    },
    {
      "cell_type": "code",
      "metadata": {
        "colab": {
          "base_uri": "https://localhost:8080/",
          "height": 221
        },
        "id": "yJz0HFa2zYKk",
        "outputId": "daf0841c-3a3c-4385-de2e-f6433ecf6185"
      },
      "source": [
        "%%sql\n",
        "-- Highest_reported_new_deaths per continent\n",
        "SELECT location,date, MAX(new_deaths) as Highest_reported_new_deaths\n",
        "FROM covid_deaths\n",
        "-- To exclude data that was aggregated per continent\n",
        "WHERE continent IS  NULL AND location NOT IN ('World','International')\n",
        "--Group by location to get highest per country\n",
        "GROUP BY location \n",
        "--Order in descending order of the highest death count per location \n",
        "ORDER BY 3 desc;"
      ],
      "execution_count": 29,
      "outputs": [
        {
          "output_type": "stream",
          "name": "stdout",
          "text": [
            " * sqlite://\n",
            "Done.\n"
          ]
        },
        {
          "output_type": "execute_result",
          "data": {
            "text/html": [
              "<table>\n",
              "    <thead>\n",
              "        <tr>\n",
              "            <th>location</th>\n",
              "            <th>date</th>\n",
              "            <th>Highest_reported_new_deaths</th>\n",
              "        </tr>\n",
              "    </thead>\n",
              "    <tbody>\n",
              "        <tr>\n",
              "            <td>Asia</td>\n",
              "            <td>10/06/2021</td>\n",
              "            <td>8524.0</td>\n",
              "        </tr>\n",
              "        <tr>\n",
              "            <td>Europe</td>\n",
              "            <td>19/01/2021</td>\n",
              "            <td>7557.0</td>\n",
              "        </tr>\n",
              "        <tr>\n",
              "            <td>North America</td>\n",
              "            <td>05/02/2021</td>\n",
              "            <td>6980.0</td>\n",
              "        </tr>\n",
              "        <tr>\n",
              "            <td>South America</td>\n",
              "            <td>08/04/2021</td>\n",
              "            <td>5919.0</td>\n",
              "        </tr>\n",
              "        <tr>\n",
              "            <td>European Union</td>\n",
              "            <td>19/01/2021</td>\n",
              "            <td>5020.0</td>\n",
              "        </tr>\n",
              "        <tr>\n",
              "            <td>Africa</td>\n",
              "            <td>05/07/2021</td>\n",
              "            <td>1513.0</td>\n",
              "        </tr>\n",
              "        <tr>\n",
              "            <td>Oceania</td>\n",
              "            <td>03/09/2020</td>\n",
              "            <td>59.0</td>\n",
              "        </tr>\n",
              "    </tbody>\n",
              "</table>"
            ],
            "text/plain": [
              "[('Asia', '10/06/2021', 8524.0),\n",
              " ('Europe', '19/01/2021', 7557.0),\n",
              " ('North America', '05/02/2021', 6980.0),\n",
              " ('South America', '08/04/2021', 5919.0),\n",
              " ('European Union', '19/01/2021', 5020.0),\n",
              " ('Africa', '05/07/2021', 1513.0),\n",
              " ('Oceania', '03/09/2020', 59.0)]"
            ]
          },
          "metadata": {},
          "execution_count": 29
        }
      ]
    },
    {
      "cell_type": "code",
      "metadata": {
        "colab": {
          "base_uri": "https://localhost:8080/",
          "height": 221
        },
        "id": "pm73_cxoyOqZ",
        "outputId": "65209032-b6b6-4143-986a-afe97b8f15e5"
      },
      "source": [
        "%%sql\n",
        "-- Highest_reported_newcases per continent\n",
        "SELECT location,date, MAX(new_cases) as Highest_reported_newcases\n",
        "FROM covid_deaths\n",
        "-- To exclude data that was aggregated per continent\n",
        "WHERE continent IS  NULL AND location NOT IN ('World','International')\n",
        "--Group by location to get highest per country\n",
        "GROUP BY location \n",
        "--Order in descending order of the highest death count per location \n",
        "ORDER BY 3 desc;"
      ],
      "execution_count": 26,
      "outputs": [
        {
          "output_type": "stream",
          "name": "stdout",
          "text": [
            " * sqlite://\n",
            "Done.\n"
          ]
        },
        {
          "output_type": "execute_result",
          "data": {
            "text/html": [
              "<table>\n",
              "    <thead>\n",
              "        <tr>\n",
              "            <th>location</th>\n",
              "            <th>date</th>\n",
              "            <th>Highest_reported_newcases</th>\n",
              "        </tr>\n",
              "    </thead>\n",
              "    <tbody>\n",
              "        <tr>\n",
              "            <td>Asia</td>\n",
              "            <td>06/05/2021</td>\n",
              "            <td>525129.0</td>\n",
              "        </tr>\n",
              "        <tr>\n",
              "            <td>Europe</td>\n",
              "            <td>02/11/2020</td>\n",
              "            <td>346447.0</td>\n",
              "        </tr>\n",
              "        <tr>\n",
              "            <td>North America</td>\n",
              "            <td>08/01/2021</td>\n",
              "            <td>335286.0</td>\n",
              "        </tr>\n",
              "        <tr>\n",
              "            <td>European Union</td>\n",
              "            <td>02/11/2020</td>\n",
              "            <td>274748.0</td>\n",
              "        </tr>\n",
              "        <tr>\n",
              "            <td>South America</td>\n",
              "            <td>23/06/2021</td>\n",
              "            <td>186399.0</td>\n",
              "        </tr>\n",
              "        <tr>\n",
              "            <td>Africa</td>\n",
              "            <td>23/08/2021</td>\n",
              "            <td>49021.0</td>\n",
              "        </tr>\n",
              "        <tr>\n",
              "            <td>Oceania</td>\n",
              "            <td>08/10/2021</td>\n",
              "            <td>3108.0</td>\n",
              "        </tr>\n",
              "    </tbody>\n",
              "</table>"
            ],
            "text/plain": [
              "[('Asia', '06/05/2021', 525129.0),\n",
              " ('Europe', '02/11/2020', 346447.0),\n",
              " ('North America', '08/01/2021', 335286.0),\n",
              " ('European Union', '02/11/2020', 274748.0),\n",
              " ('South America', '23/06/2021', 186399.0),\n",
              " ('Africa', '23/08/2021', 49021.0),\n",
              " ('Oceania', '08/10/2021', 3108.0)]"
            ]
          },
          "metadata": {},
          "execution_count": 26
        }
      ]
    },
    {
      "cell_type": "code",
      "metadata": {
        "colab": {
          "base_uri": "https://localhost:8080/",
          "height": 221
        },
        "id": "u3jZNKzbzwLY",
        "outputId": "fd93b371-9d30-4320-cd30-e8eab4a09fc4"
      },
      "source": [
        "%%sql\n",
        "-- Highest_reported_newcases per continent\n",
        "SELECT location,date,MAX(new_cases_per_million) as new_cases_per_million\n",
        "FROM covid_deaths\n",
        "-- To exclude data that was aggregated per continent\n",
        "WHERE continent IS  NULL AND location NOT IN ('World','International')\n",
        "--Group by location to get highest per country\n",
        "GROUP BY location \n",
        "--Order in descending order of the highest death count per location \n",
        "ORDER BY 3 desc;"
      ],
      "execution_count": 35,
      "outputs": [
        {
          "output_type": "stream",
          "name": "stdout",
          "text": [
            " * sqlite://\n",
            "Done.\n"
          ]
        },
        {
          "output_type": "execute_result",
          "data": {
            "text/html": [
              "<table>\n",
              "    <thead>\n",
              "        <tr>\n",
              "            <th>location</th>\n",
              "            <th>date</th>\n",
              "            <th>new_cases_per_million</th>\n",
              "        </tr>\n",
              "    </thead>\n",
              "    <tbody>\n",
              "        <tr>\n",
              "            <td>European Union</td>\n",
              "            <td>02/11/2020</td>\n",
              "            <td>614.388</td>\n",
              "        </tr>\n",
              "        <tr>\n",
              "            <td>North America</td>\n",
              "            <td>08/01/2021</td>\n",
              "            <td>562.012</td>\n",
              "        </tr>\n",
              "        <tr>\n",
              "            <td>Europe</td>\n",
              "            <td>02/11/2020</td>\n",
              "            <td>463.32099999999997</td>\n",
              "        </tr>\n",
              "        <tr>\n",
              "            <td>South America</td>\n",
              "            <td>23/06/2021</td>\n",
              "            <td>429.23400000000004</td>\n",
              "        </tr>\n",
              "        <tr>\n",
              "            <td>Asia</td>\n",
              "            <td>06/05/2021</td>\n",
              "            <td>112.215</td>\n",
              "        </tr>\n",
              "        <tr>\n",
              "            <td>Oceania</td>\n",
              "            <td>08/10/2021</td>\n",
              "            <td>71.911</td>\n",
              "        </tr>\n",
              "        <tr>\n",
              "            <td>Africa</td>\n",
              "            <td>23/08/2021</td>\n",
              "            <td>35.691</td>\n",
              "        </tr>\n",
              "    </tbody>\n",
              "</table>"
            ],
            "text/plain": [
              "[('European Union', '02/11/2020', 614.388),\n",
              " ('North America', '08/01/2021', 562.012),\n",
              " ('Europe', '02/11/2020', 463.32099999999997),\n",
              " ('South America', '23/06/2021', 429.23400000000004),\n",
              " ('Asia', '06/05/2021', 112.215),\n",
              " ('Oceania', '08/10/2021', 71.911),\n",
              " ('Africa', '23/08/2021', 35.691)]"
            ]
          },
          "metadata": {},
          "execution_count": 35
        }
      ]
    },
    {
      "cell_type": "code",
      "metadata": {
        "colab": {
          "base_uri": "https://localhost:8080/",
          "height": 221
        },
        "id": "bjE3E-bS1r6H",
        "outputId": "7fb4d27b-0603-4969-b563-5fc93980b8be"
      },
      "source": [
        "%%sql\n",
        "-- Highest_new_cases_per_million\n",
        "SELECT location, population\n",
        "FROM covid_deaths\n",
        "-- To exclude data that was aggregated per continent\n",
        "WHERE continent IS  NULL AND location NOT IN ('World','International')\n",
        "--Group by location to get highest per country\n",
        "GROUP BY location \n",
        "--Order in descending order of the highest death count per location \n",
        "ORDER BY 2 desc;"
      ],
      "execution_count": 39,
      "outputs": [
        {
          "output_type": "stream",
          "name": "stdout",
          "text": [
            " * sqlite://\n",
            "Done.\n"
          ]
        },
        {
          "output_type": "execute_result",
          "data": {
            "text/html": [
              "<table>\n",
              "    <thead>\n",
              "        <tr>\n",
              "            <th>location</th>\n",
              "            <th>population</th>\n",
              "        </tr>\n",
              "    </thead>\n",
              "    <tbody>\n",
              "        <tr>\n",
              "            <td>Asia</td>\n",
              "            <td>4679660580.0</td>\n",
              "        </tr>\n",
              "        <tr>\n",
              "            <td>Africa</td>\n",
              "            <td>1373486472.0</td>\n",
              "        </tr>\n",
              "        <tr>\n",
              "            <td>Europe</td>\n",
              "            <td>747747396.0</td>\n",
              "        </tr>\n",
              "        <tr>\n",
              "            <td>North America</td>\n",
              "            <td>596581283.0</td>\n",
              "        </tr>\n",
              "        <tr>\n",
              "            <td>European Union</td>\n",
              "            <td>447189915.0</td>\n",
              "        </tr>\n",
              "        <tr>\n",
              "            <td>South America</td>\n",
              "            <td>434260138.0</td>\n",
              "        </tr>\n",
              "        <tr>\n",
              "            <td>Oceania</td>\n",
              "            <td>43219954.0</td>\n",
              "        </tr>\n",
              "    </tbody>\n",
              "</table>"
            ],
            "text/plain": [
              "[('Asia', 4679660580.0),\n",
              " ('Africa', 1373486472.0),\n",
              " ('Europe', 747747396.0),\n",
              " ('North America', 596581283.0),\n",
              " ('European Union', 447189915.0),\n",
              " ('South America', 434260138.0),\n",
              " ('Oceania', 43219954.0)]"
            ]
          },
          "metadata": {},
          "execution_count": 39
        }
      ]
    },
    {
      "cell_type": "code",
      "metadata": {
        "colab": {
          "base_uri": "https://localhost:8080/",
          "height": 221
        },
        "id": "8_q3Ar-l0VND",
        "outputId": "86a20251-03f8-434a-bc09-3ccdf6e79b61"
      },
      "source": [
        "%%sql\n",
        "-- Highest_new_cases_per_million\n",
        "SELECT location, MAX((new_cases/population))*100 as infected_pop_percentage\n",
        "FROM covid_deaths\n",
        "-- To exclude data that was aggregated per continent\n",
        "WHERE continent IS  NULL AND location NOT IN ('World','International')\n",
        "--Group by location to get highest per country\n",
        "GROUP BY location \n",
        "--Order in descending order of the highest death count per location \n",
        "ORDER BY 2 desc;"
      ],
      "execution_count": 38,
      "outputs": [
        {
          "output_type": "stream",
          "name": "stdout",
          "text": [
            " * sqlite://\n",
            "Done.\n"
          ]
        },
        {
          "output_type": "execute_result",
          "data": {
            "text/html": [
              "<table>\n",
              "    <thead>\n",
              "        <tr>\n",
              "            <th>location</th>\n",
              "            <th>infected_pop_percentage</th>\n",
              "        </tr>\n",
              "    </thead>\n",
              "    <tbody>\n",
              "        <tr>\n",
              "            <td>European Union</td>\n",
              "            <td>0.06143877372547634</td>\n",
              "        </tr>\n",
              "        <tr>\n",
              "            <td>North America</td>\n",
              "            <td>0.05620122681589393</td>\n",
              "        </tr>\n",
              "        <tr>\n",
              "            <td>Europe</td>\n",
              "            <td>0.04633209046976073</td>\n",
              "        </tr>\n",
              "        <tr>\n",
              "            <td>South America</td>\n",
              "            <td>0.04292335024312086</td>\n",
              "        </tr>\n",
              "        <tr>\n",
              "            <td>Asia</td>\n",
              "            <td>0.01122151897606215</td>\n",
              "        </tr>\n",
              "        <tr>\n",
              "            <td>Oceania</td>\n",
              "            <td>0.007191122878103942</td>\n",
              "        </tr>\n",
              "        <tr>\n",
              "            <td>Africa</td>\n",
              "            <td>0.003569092306283742</td>\n",
              "        </tr>\n",
              "    </tbody>\n",
              "</table>"
            ],
            "text/plain": [
              "[('European Union', 0.06143877372547634),\n",
              " ('North America', 0.05620122681589393),\n",
              " ('Europe', 0.04633209046976073),\n",
              " ('South America', 0.04292335024312086),\n",
              " ('Asia', 0.01122151897606215),\n",
              " ('Oceania', 0.007191122878103942),\n",
              " ('Africa', 0.003569092306283742)]"
            ]
          },
          "metadata": {},
          "execution_count": 38
        }
      ]
    },
    {
      "cell_type": "markdown",
      "metadata": {
        "id": "hLOshibV9ecp"
      },
      "source": [
        "#### Analysis by country"
      ]
    },
    {
      "cell_type": "code",
      "metadata": {
        "colab": {
          "base_uri": "https://localhost:8080/"
        },
        "id": "ZJORWS6M6CuH",
        "outputId": "97b4b8a5-3eb4-4083-eaf7-c907eba7a0b7"
      },
      "source": [
        "%%sql\n",
        "--Selecting the data that we are going to be using ordered by date and location\n",
        "SELECT location, date, total_cases,new_cases, total_deaths, population FROM covid_deaths ORDER BY 1,2 LIMIT 10;"
      ],
      "execution_count": 3,
      "outputs": [
        {
          "output_type": "stream",
          "name": "stderr",
          "text": [
            "UsageError: Cell magic `%%sql` not found.\n"
          ]
        }
      ]
    },
    {
      "cell_type": "code",
      "metadata": {
        "id": "BjdUisX-ITw2",
        "colab": {
          "base_uri": "https://localhost:8080/"
        },
        "outputId": "3d8ce607-69a6-4e19-8165-f41da9bd5c30"
      },
      "source": [
        "%%sql\n",
        "--Looking at total deaths vs total cases\n",
        "SELECT location, date, total_cases, total_deaths, (total_deaths/total_cases)*100 as death_percentage\n",
        "FROM covid_deaths WHERE total_cases AND total_deaths IS NOT NULL\n",
        "ORDER BY 5 desc LIMIT 10;"
      ],
      "execution_count": 4,
      "outputs": [
        {
          "output_type": "stream",
          "name": "stderr",
          "text": [
            "UsageError: Cell magic `%%sql` not found.\n"
          ]
        }
      ]
    },
    {
      "cell_type": "code",
      "metadata": {
        "id": "C8HAl48sc0pb"
      },
      "source": [
        "%%sql\n",
        "--Looking at total deaths vs total cases\n",
        "SELECT location, date, total_cases, total_deaths, (total_deaths/total_cases)*100 as death_percentage\n",
        "FROM covid_deaths \n",
        "WHERE location like '%Kenya%' AND  total_cases AND total_deaths IS NOT NULL \n",
        "ORDER BY 5 desc LIMIT 5;"
      ],
      "execution_count": null,
      "outputs": []
    },
    {
      "cell_type": "code",
      "metadata": {
        "id": "qu17vUwpHQkA"
      },
      "source": [
        "%%sql\n",
        "--Looking at percentage of infection per country \n",
        "  --Ordered by highest infected population percentage\n",
        "SELECT location, date, total_cases, total_deaths, (total_cases/population)*100 as infected_pop_percentage\n",
        "FROM covid_deaths \n",
        "GROUP BY location\n",
        "ORDER BY 5 desc LIMIT 5;"
      ],
      "execution_count": null,
      "outputs": []
    },
    {
      "cell_type": "markdown",
      "metadata": {
        "id": "gEa0MhN-lnvM"
      },
      "source": [
        "Seychelles, Montenegro and Andorra had the highest percentage of infeccted population which were 21.97%, 21.43% and 19.77% respectively as of 08/10/2021."
      ]
    },
    {
      "cell_type": "code",
      "metadata": {
        "id": "JhbxBMmccJNk"
      },
      "source": [
        "%%sql\n",
        "--Looking at top percentage of infected population in Kenya.\n",
        "SELECT location, total_cases, MAX(total_deaths) as highest_total_deaths, MAX((total_cases/population))*100 as infected_pop_percentage\n",
        "FROM covid_deaths\n",
        "WHERE continent IS NOT NULL\n",
        "GROUP BY location  \n",
        "ORDER BY 4 desc LIMIT 15;"
      ],
      "execution_count": null,
      "outputs": []
    },
    {
      "cell_type": "markdown",
      "metadata": {
        "id": "oNUe3t3-i898"
      },
      "source": [
        "Percentage of Kenyan population infected with covid 19 as at 08/10/2021 was 0.456%"
      ]
    },
    {
      "cell_type": "code",
      "metadata": {
        "id": "t0NjSEgQIT4F"
      },
      "source": [
        "%%sql\n",
        "--Looking at coutries with the highest total death count.\n",
        "SELECT location, total_cases, MAX(total_deaths) as maximum_deaths \n",
        "FROM covid_deaths \n",
        "WHERE continent IS NOT NULL\n",
        "group by location\n",
        "ORDER BY 3 desc LIMIT 5;"
      ],
      "execution_count": null,
      "outputs": []
    },
    {
      "cell_type": "code",
      "metadata": {
        "id": "gIeKcM39IT73"
      },
      "source": [
        "%%sql\n",
        "-- Top 5 countries with highest death count per population\n",
        "SELECT location, MAX((total_deaths/population))*100 as death_count_per_population\n",
        "FROM covid_deaths\n",
        "-- To exclude data that was aggregated per continent\n",
        "WHERE continent IS NOT NULL\n",
        "--Group by location to get highest per country\n",
        "GROUP BY location \n",
        "--Order in descending order of the highest death count per location \n",
        "ORDER BY 2 desc LIMIT 5;\n"
      ],
      "execution_count": null,
      "outputs": []
    },
    {
      "cell_type": "markdown",
      "metadata": {
        "id": "bzVjs1FKxkHE"
      },
      "source": [
        "Peru had the highest death to population ratio at 0.60% percent followed by Bosmia and Herzegovina at 0.33%."
      ]
    },
    {
      "cell_type": "markdown",
      "metadata": {
        "id": "DoThNKqti0Xm"
      },
      "source": [
        "### Vaccination analysis"
      ]
    },
    {
      "cell_type": "markdown",
      "metadata": {
        "id": "XxwAQAXIAPXT"
      },
      "source": [
        "#### Global Numbers"
      ]
    },
    {
      "cell_type": "code",
      "metadata": {
        "colab": {
          "base_uri": "https://localhost:8080/"
        },
        "id": "WePz1aiyAPXU",
        "outputId": "6048070e-a429-4bd0-a7c7-85c1912ce574"
      },
      "source": [
        "%%sql\n",
        "SELECT date, SUM(new_deaths\t) as global_new_death_count\n",
        "FROM covid_deaths\n",
        "--\n",
        "GROUP BY date \n",
        "--Order in descending order of the highest death count per location \n",
        "ORDER BY 2 desc LIMIT 5;"
      ],
      "execution_count": null,
      "outputs": [
        {
          "output_type": "stream",
          "name": "stderr",
          "text": [
            "UsageError: Cell magic `%%sql` not found.\n"
          ]
        }
      ]
    },
    {
      "cell_type": "code",
      "metadata": {
        "colab": {
          "base_uri": "https://localhost:8080/"
        },
        "id": "8Gpfh3rBAPXV",
        "outputId": "b9927b87-2764-4386-cb73-a98e3e3dce39"
      },
      "source": [
        "%%sql\n",
        "SELECT date, SUM(new_cases) as global_new_cases\n",
        "FROM covid_deaths\n",
        "--\n",
        "GROUP BY date \n",
        "--Order in descending order of the highest death count per location \n",
        "ORDER BY 2 desc LIMIT 5;"
      ],
      "execution_count": null,
      "outputs": [
        {
          "output_type": "stream",
          "name": "stderr",
          "text": [
            "UsageError: Cell magic `%%sql` not found.\n"
          ]
        }
      ]
    },
    {
      "cell_type": "code",
      "metadata": {
        "id": "z9f741RoAPXV"
      },
      "source": [
        "%%sql\n",
        "-- Highest weekly ICU admissions globally\n",
        "SELECT date, SUM(weekly_icu_admissions) as global_weekly_icu_admissions\n",
        "FROM covid_deaths\n",
        "\n",
        "GROUP BY date \n",
        "-- View top 5 ICU admissions\n",
        "ORDER BY 2 desc LIMIT 5;"
      ],
      "execution_count": null,
      "outputs": []
    },
    {
      "cell_type": "markdown",
      "metadata": {
        "id": "xVh4CuRXAUTi"
      },
      "source": [
        "#### Analysis by continent"
      ]
    },
    {
      "cell_type": "code",
      "metadata": {
        "colab": {
          "base_uri": "https://localhost:8080/"
        },
        "id": "Hlr1rlwKAUTi",
        "outputId": "ce4246ab-e770-4733-f53a-6c4b472be1e5"
      },
      "source": [
        "%%sql\n",
        "-- Continent wide death count per population\n",
        "SELECT location, MAX((total_cases/population))*100 as infected_pop_percentage\n",
        "FROM covid_deaths\n",
        "-- To exclude data that was aggregated per continent\n",
        "WHERE continent IS  NULL \n",
        "--Group by location to get highest per country\n",
        "GROUP BY location \n",
        "--Order in descending order of the highest death count per location \n",
        "ORDER BY 2 desc;"
      ],
      "execution_count": null,
      "outputs": [
        {
          "output_type": "stream",
          "name": "stdout",
          "text": [
            " * sqlite://\n",
            "Done.\n"
          ]
        },
        {
          "output_type": "execute_result",
          "data": {
            "text/html": [
              "<table>\n",
              "    <thead>\n",
              "        <tr>\n",
              "            <th>location</th>\n",
              "            <th>infected_pop_percentage</th>\n",
              "        </tr>\n",
              "    </thead>\n",
              "    <tbody>\n",
              "        <tr>\n",
              "            <td>North America</td>\n",
              "            <td>8.9293800388974</td>\n",
              "        </tr>\n",
              "        <tr>\n",
              "            <td>South America</td>\n",
              "            <td>8.73924306632998</td>\n",
              "        </tr>\n",
              "        <tr>\n",
              "            <td>European Union</td>\n",
              "            <td>8.578734607644272</td>\n",
              "        </tr>\n",
              "        <tr>\n",
              "            <td>Europe</td>\n",
              "            <td>8.097915061144526</td>\n",
              "        </tr>\n",
              "        <tr>\n",
              "            <td>World</td>\n",
              "            <td>3.0127030018166945</td>\n",
              "        </tr>\n",
              "        <tr>\n",
              "            <td>Asia</td>\n",
              "            <td>1.643063715531266</td>\n",
              "        </tr>\n",
              "        <tr>\n",
              "            <td>Africa</td>\n",
              "            <td>0.6101557729794662</td>\n",
              "        </tr>\n",
              "        <tr>\n",
              "            <td>Oceania</td>\n",
              "            <td>0.4709005474647196</td>\n",
              "        </tr>\n",
              "        <tr>\n",
              "            <td>International</td>\n",
              "            <td>None</td>\n",
              "        </tr>\n",
              "    </tbody>\n",
              "</table>"
            ],
            "text/plain": [
              "[('North America', 8.9293800388974),\n",
              " ('South America', 8.73924306632998),\n",
              " ('European Union', 8.578734607644272),\n",
              " ('Europe', 8.097915061144526),\n",
              " ('World', 3.0127030018166945),\n",
              " ('Asia', 1.643063715531266),\n",
              " ('Africa', 0.6101557729794662),\n",
              " ('Oceania', 0.4709005474647196),\n",
              " ('International', None)]"
            ]
          },
          "metadata": {},
          "execution_count": 15
        }
      ]
    },
    {
      "cell_type": "code",
      "metadata": {
        "colab": {
          "base_uri": "https://localhost:8080/"
        },
        "id": "pqslih0nAUTj",
        "outputId": "3baaf1bf-cea6-46f9-d176-4cd5cb2da3a4"
      },
      "source": [
        "%%sql\n",
        "-- Continent wide death count per population\n",
        "SELECT location, MAX((total_deaths/population))*100 as death_count_per_population\n",
        "FROM covid_deaths\n",
        "-- To exclude data that was aggregated per continent\n",
        "WHERE continent IS  NULL \n",
        "--Group by location to get highest per country\n",
        "GROUP BY location \n",
        "--Order in descending order of the highest death count per location \n",
        "ORDER BY 2 desc;\n"
      ],
      "execution_count": null,
      "outputs": [
        {
          "output_type": "stream",
          "name": "stdout",
          "text": [
            " * sqlite://\n",
            "Done.\n"
          ]
        },
        {
          "output_type": "execute_result",
          "data": {
            "text/html": [
              "<table>\n",
              "    <thead>\n",
              "        <tr>\n",
              "            <th>location</th>\n",
              "            <th>death_count_per_population</th>\n",
              "        </tr>\n",
              "    </thead>\n",
              "    <tbody>\n",
              "        <tr>\n",
              "            <td>South America</td>\n",
              "            <td>0.2670853017598405</td>\n",
              "        </tr>\n",
              "        <tr>\n",
              "            <td>North America</td>\n",
              "            <td>0.18128594222088593</td>\n",
              "        </tr>\n",
              "        <tr>\n",
              "            <td>European Union</td>\n",
              "            <td>0.17373356910340879</td>\n",
              "        </tr>\n",
              "        <tr>\n",
              "            <td>Europe</td>\n",
              "            <td>0.16650007832324168</td>\n",
              "        </tr>\n",
              "        <tr>\n",
              "            <td>World</td>\n",
              "            <td>0.06149598823422537</td>\n",
              "        </tr>\n",
              "        <tr>\n",
              "            <td>Asia</td>\n",
              "            <td>0.024372088114134122</td>\n",
              "        </tr>\n",
              "        <tr>\n",
              "            <td>Africa</td>\n",
              "            <td>0.015546640200181016</td>\n",
              "        </tr>\n",
              "        <tr>\n",
              "            <td>Oceania</td>\n",
              "            <td>0.005432675842274149</td>\n",
              "        </tr>\n",
              "        <tr>\n",
              "            <td>International</td>\n",
              "            <td>None</td>\n",
              "        </tr>\n",
              "    </tbody>\n",
              "</table>"
            ],
            "text/plain": [
              "[('South America', 0.2670853017598405),\n",
              " ('North America', 0.18128594222088593),\n",
              " ('European Union', 0.17373356910340879),\n",
              " ('Europe', 0.16650007832324168),\n",
              " ('World', 0.06149598823422537),\n",
              " ('Asia', 0.024372088114134122),\n",
              " ('Africa', 0.015546640200181016),\n",
              " ('Oceania', 0.005432675842274149),\n",
              " ('International', None)]"
            ]
          },
          "metadata": {},
          "execution_count": 16
        }
      ]
    },
    {
      "cell_type": "markdown",
      "metadata": {
        "id": "LZinsL0KAazt"
      },
      "source": [
        "#### Analysis by country"
      ]
    },
    {
      "cell_type": "code",
      "metadata": {
        "colab": {
          "base_uri": "https://localhost:8080/"
        },
        "id": "GXbkkNkEAazu",
        "outputId": "97b4b8a5-3eb4-4083-eaf7-c907eba7a0b7"
      },
      "source": [
        "%%sql\n",
        "--Selecting the data that we are going to be using ordered by date and location\n",
        "SELECT location, date, total_cases,new_cases, total_deaths, population FROM covid_deaths ORDER BY 1,2 LIMIT 10;"
      ],
      "execution_count": null,
      "outputs": [
        {
          "output_type": "stream",
          "name": "stderr",
          "text": [
            "UsageError: Cell magic `%%sql` not found.\n"
          ]
        }
      ]
    },
    {
      "cell_type": "code",
      "metadata": {
        "colab": {
          "base_uri": "https://localhost:8080/"
        },
        "id": "9G4Qg1mRAazv",
        "outputId": "3d8ce607-69a6-4e19-8165-f41da9bd5c30"
      },
      "source": [
        "%%sql\n",
        "--Looking at total deaths vs total cases\n",
        "SELECT location, date, total_cases, total_deaths, (total_deaths/total_cases)*100 as death_percentage\n",
        "FROM covid_deaths WHERE total_cases AND total_deaths IS NOT NULL\n",
        "ORDER BY 5 desc LIMIT 10;"
      ],
      "execution_count": null,
      "outputs": [
        {
          "output_type": "stream",
          "name": "stderr",
          "text": [
            "UsageError: Cell magic `%%sql` not found.\n"
          ]
        }
      ]
    },
    {
      "cell_type": "code",
      "metadata": {
        "id": "hVjBOaV7Aazv"
      },
      "source": [
        "%%sql\n",
        "--Looking at total deaths vs total cases\n",
        "SELECT location, date, total_cases, total_deaths, (total_deaths/total_cases)*100 as death_percentage\n",
        "FROM covid_deaths \n",
        "WHERE location like '%Kenya%' AND  total_cases AND total_deaths IS NOT NULL \n",
        "ORDER BY 5 desc LIMIT 5;"
      ],
      "execution_count": null,
      "outputs": []
    },
    {
      "cell_type": "code",
      "metadata": {
        "id": "xOOCMvDHAazv"
      },
      "source": [
        "%%sql\n",
        "--Looking at percentage of infection per country \n",
        "  --Ordered by highest infected population percentage\n",
        "SELECT location, date, total_cases, total_deaths, (total_cases/population)*100 as infected_pop_percentage\n",
        "FROM covid_deaths \n",
        "GROUP BY location\n",
        "ORDER BY 5 desc LIMIT 5;"
      ],
      "execution_count": null,
      "outputs": []
    },
    {
      "cell_type": "markdown",
      "metadata": {
        "id": "P-YiqOYlAazw"
      },
      "source": [
        "Seychelles, Montenegro and Andorra had the highest percentage of infeccted population which were 21.97%, 21.43% and 19.77% respectively as of 08/10/2021."
      ]
    },
    {
      "cell_type": "code",
      "metadata": {
        "id": "cb6HTcWYAazw"
      },
      "source": [
        "%%sql\n",
        "--Looking at top percentage of infected population in Kenya.\n",
        "SELECT location, total_cases, MAX(total_deaths) as highest_total_deaths, MAX((total_cases/population))*100 as infected_pop_percentage\n",
        "FROM covid_deaths\n",
        "WHERE continent IS NOT NULL\n",
        "GROUP BY location  \n",
        "ORDER BY 4 desc LIMIT 15;"
      ],
      "execution_count": null,
      "outputs": []
    },
    {
      "cell_type": "markdown",
      "metadata": {
        "id": "1bsiX69nAazw"
      },
      "source": [
        "Percentage of Kenyan population infected with covid 19 as at 08/10/2021 was 0.456%"
      ]
    },
    {
      "cell_type": "code",
      "metadata": {
        "id": "KXmi-DNXAazx"
      },
      "source": [
        "%%sql\n",
        "--Looking at coutries with the highest total death count.\n",
        "SELECT location, total_cases, MAX(total_deaths) as maximum_deaths \n",
        "FROM covid_deaths \n",
        "WHERE continent IS NOT NULL\n",
        "group by location\n",
        "ORDER BY 3 desc LIMIT 5;"
      ],
      "execution_count": null,
      "outputs": []
    },
    {
      "cell_type": "code",
      "metadata": {
        "id": "TUKmUoPKAazx"
      },
      "source": [
        "%%sql\n",
        "-- Top 5 countries with highest death count per population\n",
        "SELECT location, MAX((total_deaths/population))*100 as death_count_per_population\n",
        "FROM covid_deaths\n",
        "-- To exclude data that was aggregated per continent\n",
        "WHERE continent IS NOT NULL\n",
        "--Group by location to get highest per country\n",
        "GROUP BY location \n",
        "--Order in descending order of the highest death count per location \n",
        "ORDER BY 2 desc LIMIT 5;\n"
      ],
      "execution_count": null,
      "outputs": []
    },
    {
      "cell_type": "markdown",
      "metadata": {
        "id": "M4zo1IriAazx"
      },
      "source": [
        "Peru had the highest death to population ratio at 0.60% percent followed by Bosmia and Herzegovina at 0.33%."
      ]
    },
    {
      "cell_type": "code",
      "metadata": {
        "id": "Kn1Sk0wKIUOx"
      },
      "source": [
        "%%sql\n"
      ],
      "execution_count": null,
      "outputs": []
    },
    {
      "cell_type": "markdown",
      "metadata": {
        "id": "ctNrV9h8i6Rq"
      },
      "source": [
        "### Covid Deaths vs Vaccinations"
      ]
    },
    {
      "cell_type": "markdown",
      "metadata": {
        "id": "SFtZ41J9Aujr"
      },
      "source": [
        "#### Global Numbers"
      ]
    },
    {
      "cell_type": "code",
      "metadata": {
        "colab": {
          "base_uri": "https://localhost:8080/"
        },
        "id": "Sz4u0vMuAujs",
        "outputId": "6048070e-a429-4bd0-a7c7-85c1912ce574"
      },
      "source": [
        "%%sql\n",
        "SELECT date, SUM(new_deaths\t) as global_new_death_count\n",
        "FROM covid_deaths\n",
        "--\n",
        "GROUP BY date \n",
        "--Order in descending order of the highest death count per location \n",
        "ORDER BY 2 desc LIMIT 5;"
      ],
      "execution_count": null,
      "outputs": [
        {
          "output_type": "stream",
          "name": "stderr",
          "text": [
            "UsageError: Cell magic `%%sql` not found.\n"
          ]
        }
      ]
    },
    {
      "cell_type": "code",
      "metadata": {
        "colab": {
          "base_uri": "https://localhost:8080/"
        },
        "id": "eZbbrTuDAujt",
        "outputId": "b9927b87-2764-4386-cb73-a98e3e3dce39"
      },
      "source": [
        "%%sql\n",
        "SELECT date, SUM(new_cases) as global_new_cases\n",
        "FROM covid_deaths\n",
        "--\n",
        "GROUP BY date \n",
        "--Order in descending order of the highest death count per location \n",
        "ORDER BY 2 desc LIMIT 5;"
      ],
      "execution_count": null,
      "outputs": [
        {
          "output_type": "stream",
          "name": "stderr",
          "text": [
            "UsageError: Cell magic `%%sql` not found.\n"
          ]
        }
      ]
    },
    {
      "cell_type": "code",
      "metadata": {
        "id": "qpwyVLaiAujv"
      },
      "source": [
        "%%sql\n",
        "-- Highest weekly ICU admissions globally\n",
        "SELECT date, SUM(weekly_icu_admissions) as global_weekly_icu_admissions\n",
        "FROM covid_deaths\n",
        "\n",
        "GROUP BY date \n",
        "-- View top 5 ICU admissions\n",
        "ORDER BY 2 desc LIMIT 5;"
      ],
      "execution_count": null,
      "outputs": []
    },
    {
      "cell_type": "code",
      "metadata": {
        "id": "sOs-bY8mIUSW",
        "colab": {
          "base_uri": "https://localhost:8080/",
          "height": 304
        },
        "outputId": "b20a4cc8-69a4-4f8d-87c7-b0a7f663b665"
      },
      "source": [
        "%%sql\n",
        "-- Joining the tableson location and date\n",
        "SELECT * FROM covid_deaths JOIN  covid_vaccine \n",
        "on covid_deaths.location = covid_vaccine.location \n",
        "and covid_deaths.date = covid_vaccine.date\n",
        "LIMIT 10; "
      ],
      "execution_count": 27,
      "outputs": [
        {
          "output_type": "stream",
          "name": "stdout",
          "text": [
            " * sqlite://\n",
            "Done.\n"
          ]
        },
        {
          "output_type": "execute_result",
          "data": {
            "text/html": [
              "<table>\n",
              "    <thead>\n",
              "        <tr>\n",
              "            <th>iso_code</th>\n",
              "            <th>continent</th>\n",
              "            <th>location</th>\n",
              "            <th>date</th>\n",
              "            <th>population</th>\n",
              "            <th>total_cases</th>\n",
              "            <th>new_cases</th>\n",
              "            <th>new_cases_smoothed</th>\n",
              "            <th>total_deaths</th>\n",
              "            <th>new_deaths</th>\n",
              "            <th>new_deaths_smoothed</th>\n",
              "            <th>total_cases_per_million</th>\n",
              "            <th>new_cases_per_million</th>\n",
              "            <th>new_cases_smoothed_per_million</th>\n",
              "            <th>total_deaths_per_million</th>\n",
              "            <th>new_deaths_per_million</th>\n",
              "            <th>new_deaths_smoothed_per_million</th>\n",
              "            <th>reproduction_rate</th>\n",
              "            <th>icu_patients</th>\n",
              "            <th>icu_patients_per_million</th>\n",
              "            <th>hosp_patients</th>\n",
              "            <th>hosp_patients_per_million</th>\n",
              "            <th>weekly_icu_admissions</th>\n",
              "            <th>weekly_icu_admissions_per_million</th>\n",
              "            <th>weekly_hosp_admissions</th>\n",
              "            <th>weekly_hosp_admissions_per_million</th>\n",
              "            <th>iso_code_1</th>\n",
              "            <th>continent_1</th>\n",
              "            <th>location_1</th>\n",
              "            <th>date_1</th>\n",
              "            <th>new_tests</th>\n",
              "            <th>total_tests</th>\n",
              "            <th>total_tests_per_thousand</th>\n",
              "            <th>new_tests_per_thousand</th>\n",
              "            <th>new_tests_smoothed</th>\n",
              "            <th>new_tests_smoothed_per_thousand</th>\n",
              "            <th>positive_rate</th>\n",
              "            <th>tests_per_case</th>\n",
              "            <th>tests_units</th>\n",
              "            <th>total_vaccinations</th>\n",
              "            <th>people_vaccinated</th>\n",
              "            <th>people_fully_vaccinated</th>\n",
              "            <th>total_boosters</th>\n",
              "            <th>new_vaccinations</th>\n",
              "            <th>new_vaccinations_smoothed</th>\n",
              "            <th>total_vaccinations_per_hundred</th>\n",
              "            <th>people_vaccinated_per_hundred</th>\n",
              "            <th>people_fully_vaccinated_per_hundred</th>\n",
              "            <th>total_boosters_per_hundred</th>\n",
              "            <th>new_vaccinations_smoothed_per_million</th>\n",
              "            <th>stringency_index</th>\n",
              "            <th>population_density</th>\n",
              "            <th>median_age</th>\n",
              "            <th>aged_65_older</th>\n",
              "            <th>aged_70_older</th>\n",
              "            <th>gdp_per_capita</th>\n",
              "            <th>extreme_poverty</th>\n",
              "            <th>cardiovasc_death_rate</th>\n",
              "            <th>diabetes_prevalence</th>\n",
              "            <th>female_smokers</th>\n",
              "            <th>male_smokers</th>\n",
              "            <th>handwashing_facilities</th>\n",
              "            <th>hospital_beds_per_thousand</th>\n",
              "            <th>life_expectancy</th>\n",
              "            <th>human_development_index</th>\n",
              "            <th>excess_mortality_cumulative_absolute</th>\n",
              "            <th>excess_mortality_cumulative</th>\n",
              "            <th>excess_mortality</th>\n",
              "            <th>excess_mortality_cumulative_per_million</th>\n",
              "        </tr>\n",
              "    </thead>\n",
              "    <tbody>\n",
              "        <tr>\n",
              "            <td>AFG</td>\n",
              "            <td>Asia</td>\n",
              "            <td>Afghanistan</td>\n",
              "            <td>24/02/2020</td>\n",
              "            <td>39835428.0</td>\n",
              "            <td>5.0</td>\n",
              "            <td>5.0</td>\n",
              "            <td>None</td>\n",
              "            <td>None</td>\n",
              "            <td>None</td>\n",
              "            <td>None</td>\n",
              "            <td>0.126</td>\n",
              "            <td>0.126</td>\n",
              "            <td>None</td>\n",
              "            <td>None</td>\n",
              "            <td>None</td>\n",
              "            <td>None</td>\n",
              "            <td>None</td>\n",
              "            <td>None</td>\n",
              "            <td>None</td>\n",
              "            <td>None</td>\n",
              "            <td>None</td>\n",
              "            <td>None</td>\n",
              "            <td>None</td>\n",
              "            <td>None</td>\n",
              "            <td>None</td>\n",
              "            <td>AFG</td>\n",
              "            <td>Asia</td>\n",
              "            <td>Afghanistan</td>\n",
              "            <td>24/02/2020</td>\n",
              "            <td>None</td>\n",
              "            <td>None</td>\n",
              "            <td>None</td>\n",
              "            <td>None</td>\n",
              "            <td>None</td>\n",
              "            <td>None</td>\n",
              "            <td>None</td>\n",
              "            <td>None</td>\n",
              "            <td>None</td>\n",
              "            <td>None</td>\n",
              "            <td>None</td>\n",
              "            <td>None</td>\n",
              "            <td>None</td>\n",
              "            <td>None</td>\n",
              "            <td>None</td>\n",
              "            <td>None</td>\n",
              "            <td>None</td>\n",
              "            <td>None</td>\n",
              "            <td>None</td>\n",
              "            <td>None</td>\n",
              "            <td>8.33</td>\n",
              "            <td>54.422</td>\n",
              "            <td>18.6</td>\n",
              "            <td>2.5810000000000004</td>\n",
              "            <td>1.337</td>\n",
              "            <td>1803.987</td>\n",
              "            <td>None</td>\n",
              "            <td>597.029</td>\n",
              "            <td>9.59</td>\n",
              "            <td>None</td>\n",
              "            <td>None</td>\n",
              "            <td>37.746</td>\n",
              "            <td>0.5</td>\n",
              "            <td>64.83</td>\n",
              "            <td>0.511</td>\n",
              "            <td>None</td>\n",
              "            <td>None</td>\n",
              "            <td>None</td>\n",
              "            <td>None</td>\n",
              "        </tr>\n",
              "        <tr>\n",
              "            <td>AFG</td>\n",
              "            <td>Asia</td>\n",
              "            <td>Afghanistan</td>\n",
              "            <td>25/02/2020</td>\n",
              "            <td>39835428.0</td>\n",
              "            <td>5.0</td>\n",
              "            <td>0.0</td>\n",
              "            <td>None</td>\n",
              "            <td>None</td>\n",
              "            <td>None</td>\n",
              "            <td>None</td>\n",
              "            <td>0.126</td>\n",
              "            <td>0.0</td>\n",
              "            <td>None</td>\n",
              "            <td>None</td>\n",
              "            <td>None</td>\n",
              "            <td>None</td>\n",
              "            <td>None</td>\n",
              "            <td>None</td>\n",
              "            <td>None</td>\n",
              "            <td>None</td>\n",
              "            <td>None</td>\n",
              "            <td>None</td>\n",
              "            <td>None</td>\n",
              "            <td>None</td>\n",
              "            <td>None</td>\n",
              "            <td>AFG</td>\n",
              "            <td>Asia</td>\n",
              "            <td>Afghanistan</td>\n",
              "            <td>25/02/2020</td>\n",
              "            <td>None</td>\n",
              "            <td>None</td>\n",
              "            <td>None</td>\n",
              "            <td>None</td>\n",
              "            <td>None</td>\n",
              "            <td>None</td>\n",
              "            <td>None</td>\n",
              "            <td>None</td>\n",
              "            <td>None</td>\n",
              "            <td>None</td>\n",
              "            <td>None</td>\n",
              "            <td>None</td>\n",
              "            <td>None</td>\n",
              "            <td>None</td>\n",
              "            <td>None</td>\n",
              "            <td>None</td>\n",
              "            <td>None</td>\n",
              "            <td>None</td>\n",
              "            <td>None</td>\n",
              "            <td>None</td>\n",
              "            <td>8.33</td>\n",
              "            <td>54.422</td>\n",
              "            <td>18.6</td>\n",
              "            <td>2.5810000000000004</td>\n",
              "            <td>1.337</td>\n",
              "            <td>1803.987</td>\n",
              "            <td>None</td>\n",
              "            <td>597.029</td>\n",
              "            <td>9.59</td>\n",
              "            <td>None</td>\n",
              "            <td>None</td>\n",
              "            <td>37.746</td>\n",
              "            <td>0.5</td>\n",
              "            <td>64.83</td>\n",
              "            <td>0.511</td>\n",
              "            <td>None</td>\n",
              "            <td>None</td>\n",
              "            <td>None</td>\n",
              "            <td>None</td>\n",
              "        </tr>\n",
              "        <tr>\n",
              "            <td>AFG</td>\n",
              "            <td>Asia</td>\n",
              "            <td>Afghanistan</td>\n",
              "            <td>26/02/2020</td>\n",
              "            <td>39835428.0</td>\n",
              "            <td>5.0</td>\n",
              "            <td>0.0</td>\n",
              "            <td>None</td>\n",
              "            <td>None</td>\n",
              "            <td>None</td>\n",
              "            <td>None</td>\n",
              "            <td>0.126</td>\n",
              "            <td>0.0</td>\n",
              "            <td>None</td>\n",
              "            <td>None</td>\n",
              "            <td>None</td>\n",
              "            <td>None</td>\n",
              "            <td>None</td>\n",
              "            <td>None</td>\n",
              "            <td>None</td>\n",
              "            <td>None</td>\n",
              "            <td>None</td>\n",
              "            <td>None</td>\n",
              "            <td>None</td>\n",
              "            <td>None</td>\n",
              "            <td>None</td>\n",
              "            <td>AFG</td>\n",
              "            <td>Asia</td>\n",
              "            <td>Afghanistan</td>\n",
              "            <td>26/02/2020</td>\n",
              "            <td>None</td>\n",
              "            <td>None</td>\n",
              "            <td>None</td>\n",
              "            <td>None</td>\n",
              "            <td>None</td>\n",
              "            <td>None</td>\n",
              "            <td>None</td>\n",
              "            <td>None</td>\n",
              "            <td>None</td>\n",
              "            <td>None</td>\n",
              "            <td>None</td>\n",
              "            <td>None</td>\n",
              "            <td>None</td>\n",
              "            <td>None</td>\n",
              "            <td>None</td>\n",
              "            <td>None</td>\n",
              "            <td>None</td>\n",
              "            <td>None</td>\n",
              "            <td>None</td>\n",
              "            <td>None</td>\n",
              "            <td>8.33</td>\n",
              "            <td>54.422</td>\n",
              "            <td>18.6</td>\n",
              "            <td>2.5810000000000004</td>\n",
              "            <td>1.337</td>\n",
              "            <td>1803.987</td>\n",
              "            <td>None</td>\n",
              "            <td>597.029</td>\n",
              "            <td>9.59</td>\n",
              "            <td>None</td>\n",
              "            <td>None</td>\n",
              "            <td>37.746</td>\n",
              "            <td>0.5</td>\n",
              "            <td>64.83</td>\n",
              "            <td>0.511</td>\n",
              "            <td>None</td>\n",
              "            <td>None</td>\n",
              "            <td>None</td>\n",
              "            <td>None</td>\n",
              "        </tr>\n",
              "        <tr>\n",
              "            <td>AFG</td>\n",
              "            <td>Asia</td>\n",
              "            <td>Afghanistan</td>\n",
              "            <td>27/02/2020</td>\n",
              "            <td>39835428.0</td>\n",
              "            <td>5.0</td>\n",
              "            <td>0.0</td>\n",
              "            <td>None</td>\n",
              "            <td>None</td>\n",
              "            <td>None</td>\n",
              "            <td>None</td>\n",
              "            <td>0.126</td>\n",
              "            <td>0.0</td>\n",
              "            <td>None</td>\n",
              "            <td>None</td>\n",
              "            <td>None</td>\n",
              "            <td>None</td>\n",
              "            <td>None</td>\n",
              "            <td>None</td>\n",
              "            <td>None</td>\n",
              "            <td>None</td>\n",
              "            <td>None</td>\n",
              "            <td>None</td>\n",
              "            <td>None</td>\n",
              "            <td>None</td>\n",
              "            <td>None</td>\n",
              "            <td>AFG</td>\n",
              "            <td>Asia</td>\n",
              "            <td>Afghanistan</td>\n",
              "            <td>27/02/2020</td>\n",
              "            <td>None</td>\n",
              "            <td>None</td>\n",
              "            <td>None</td>\n",
              "            <td>None</td>\n",
              "            <td>None</td>\n",
              "            <td>None</td>\n",
              "            <td>None</td>\n",
              "            <td>None</td>\n",
              "            <td>None</td>\n",
              "            <td>None</td>\n",
              "            <td>None</td>\n",
              "            <td>None</td>\n",
              "            <td>None</td>\n",
              "            <td>None</td>\n",
              "            <td>None</td>\n",
              "            <td>None</td>\n",
              "            <td>None</td>\n",
              "            <td>None</td>\n",
              "            <td>None</td>\n",
              "            <td>None</td>\n",
              "            <td>8.33</td>\n",
              "            <td>54.422</td>\n",
              "            <td>18.6</td>\n",
              "            <td>2.5810000000000004</td>\n",
              "            <td>1.337</td>\n",
              "            <td>1803.987</td>\n",
              "            <td>None</td>\n",
              "            <td>597.029</td>\n",
              "            <td>9.59</td>\n",
              "            <td>None</td>\n",
              "            <td>None</td>\n",
              "            <td>37.746</td>\n",
              "            <td>0.5</td>\n",
              "            <td>64.83</td>\n",
              "            <td>0.511</td>\n",
              "            <td>None</td>\n",
              "            <td>None</td>\n",
              "            <td>None</td>\n",
              "            <td>None</td>\n",
              "        </tr>\n",
              "        <tr>\n",
              "            <td>AFG</td>\n",
              "            <td>Asia</td>\n",
              "            <td>Afghanistan</td>\n",
              "            <td>28/02/2020</td>\n",
              "            <td>39835428.0</td>\n",
              "            <td>5.0</td>\n",
              "            <td>0.0</td>\n",
              "            <td>None</td>\n",
              "            <td>None</td>\n",
              "            <td>None</td>\n",
              "            <td>None</td>\n",
              "            <td>0.126</td>\n",
              "            <td>0.0</td>\n",
              "            <td>None</td>\n",
              "            <td>None</td>\n",
              "            <td>None</td>\n",
              "            <td>None</td>\n",
              "            <td>None</td>\n",
              "            <td>None</td>\n",
              "            <td>None</td>\n",
              "            <td>None</td>\n",
              "            <td>None</td>\n",
              "            <td>None</td>\n",
              "            <td>None</td>\n",
              "            <td>None</td>\n",
              "            <td>None</td>\n",
              "            <td>AFG</td>\n",
              "            <td>Asia</td>\n",
              "            <td>Afghanistan</td>\n",
              "            <td>28/02/2020</td>\n",
              "            <td>None</td>\n",
              "            <td>None</td>\n",
              "            <td>None</td>\n",
              "            <td>None</td>\n",
              "            <td>None</td>\n",
              "            <td>None</td>\n",
              "            <td>None</td>\n",
              "            <td>None</td>\n",
              "            <td>None</td>\n",
              "            <td>None</td>\n",
              "            <td>None</td>\n",
              "            <td>None</td>\n",
              "            <td>None</td>\n",
              "            <td>None</td>\n",
              "            <td>None</td>\n",
              "            <td>None</td>\n",
              "            <td>None</td>\n",
              "            <td>None</td>\n",
              "            <td>None</td>\n",
              "            <td>None</td>\n",
              "            <td>8.33</td>\n",
              "            <td>54.422</td>\n",
              "            <td>18.6</td>\n",
              "            <td>2.5810000000000004</td>\n",
              "            <td>1.337</td>\n",
              "            <td>1803.987</td>\n",
              "            <td>None</td>\n",
              "            <td>597.029</td>\n",
              "            <td>9.59</td>\n",
              "            <td>None</td>\n",
              "            <td>None</td>\n",
              "            <td>37.746</td>\n",
              "            <td>0.5</td>\n",
              "            <td>64.83</td>\n",
              "            <td>0.511</td>\n",
              "            <td>None</td>\n",
              "            <td>None</td>\n",
              "            <td>None</td>\n",
              "            <td>None</td>\n",
              "        </tr>\n",
              "        <tr>\n",
              "            <td>AFG</td>\n",
              "            <td>Asia</td>\n",
              "            <td>Afghanistan</td>\n",
              "            <td>29/02/2020</td>\n",
              "            <td>39835428.0</td>\n",
              "            <td>5.0</td>\n",
              "            <td>0.0</td>\n",
              "            <td>0.7140000000000001</td>\n",
              "            <td>None</td>\n",
              "            <td>None</td>\n",
              "            <td>0.0</td>\n",
              "            <td>0.126</td>\n",
              "            <td>0.0</td>\n",
              "            <td>0.018000000000000002</td>\n",
              "            <td>None</td>\n",
              "            <td>None</td>\n",
              "            <td>0.0</td>\n",
              "            <td>None</td>\n",
              "            <td>None</td>\n",
              "            <td>None</td>\n",
              "            <td>None</td>\n",
              "            <td>None</td>\n",
              "            <td>None</td>\n",
              "            <td>None</td>\n",
              "            <td>None</td>\n",
              "            <td>None</td>\n",
              "            <td>AFG</td>\n",
              "            <td>Asia</td>\n",
              "            <td>Afghanistan</td>\n",
              "            <td>29/02/2020</td>\n",
              "            <td>None</td>\n",
              "            <td>None</td>\n",
              "            <td>None</td>\n",
              "            <td>None</td>\n",
              "            <td>None</td>\n",
              "            <td>None</td>\n",
              "            <td>None</td>\n",
              "            <td>None</td>\n",
              "            <td>None</td>\n",
              "            <td>None</td>\n",
              "            <td>None</td>\n",
              "            <td>None</td>\n",
              "            <td>None</td>\n",
              "            <td>None</td>\n",
              "            <td>None</td>\n",
              "            <td>None</td>\n",
              "            <td>None</td>\n",
              "            <td>None</td>\n",
              "            <td>None</td>\n",
              "            <td>None</td>\n",
              "            <td>8.33</td>\n",
              "            <td>54.422</td>\n",
              "            <td>18.6</td>\n",
              "            <td>2.5810000000000004</td>\n",
              "            <td>1.337</td>\n",
              "            <td>1803.987</td>\n",
              "            <td>None</td>\n",
              "            <td>597.029</td>\n",
              "            <td>9.59</td>\n",
              "            <td>None</td>\n",
              "            <td>None</td>\n",
              "            <td>37.746</td>\n",
              "            <td>0.5</td>\n",
              "            <td>64.83</td>\n",
              "            <td>0.511</td>\n",
              "            <td>None</td>\n",
              "            <td>None</td>\n",
              "            <td>None</td>\n",
              "            <td>None</td>\n",
              "        </tr>\n",
              "        <tr>\n",
              "            <td>AFG</td>\n",
              "            <td>Asia</td>\n",
              "            <td>Afghanistan</td>\n",
              "            <td>01/03/2020</td>\n",
              "            <td>39835428.0</td>\n",
              "            <td>5.0</td>\n",
              "            <td>0.0</td>\n",
              "            <td>0.7140000000000001</td>\n",
              "            <td>None</td>\n",
              "            <td>None</td>\n",
              "            <td>0.0</td>\n",
              "            <td>0.126</td>\n",
              "            <td>0.0</td>\n",
              "            <td>0.018000000000000002</td>\n",
              "            <td>None</td>\n",
              "            <td>None</td>\n",
              "            <td>0.0</td>\n",
              "            <td>None</td>\n",
              "            <td>None</td>\n",
              "            <td>None</td>\n",
              "            <td>None</td>\n",
              "            <td>None</td>\n",
              "            <td>None</td>\n",
              "            <td>None</td>\n",
              "            <td>None</td>\n",
              "            <td>None</td>\n",
              "            <td>AFG</td>\n",
              "            <td>Asia</td>\n",
              "            <td>Afghanistan</td>\n",
              "            <td>01/03/2020</td>\n",
              "            <td>None</td>\n",
              "            <td>None</td>\n",
              "            <td>None</td>\n",
              "            <td>None</td>\n",
              "            <td>None</td>\n",
              "            <td>None</td>\n",
              "            <td>None</td>\n",
              "            <td>None</td>\n",
              "            <td>None</td>\n",
              "            <td>None</td>\n",
              "            <td>None</td>\n",
              "            <td>None</td>\n",
              "            <td>None</td>\n",
              "            <td>None</td>\n",
              "            <td>None</td>\n",
              "            <td>None</td>\n",
              "            <td>None</td>\n",
              "            <td>None</td>\n",
              "            <td>None</td>\n",
              "            <td>None</td>\n",
              "            <td>27.78</td>\n",
              "            <td>54.422</td>\n",
              "            <td>18.6</td>\n",
              "            <td>2.5810000000000004</td>\n",
              "            <td>1.337</td>\n",
              "            <td>1803.987</td>\n",
              "            <td>None</td>\n",
              "            <td>597.029</td>\n",
              "            <td>9.59</td>\n",
              "            <td>None</td>\n",
              "            <td>None</td>\n",
              "            <td>37.746</td>\n",
              "            <td>0.5</td>\n",
              "            <td>64.83</td>\n",
              "            <td>0.511</td>\n",
              "            <td>None</td>\n",
              "            <td>None</td>\n",
              "            <td>None</td>\n",
              "            <td>None</td>\n",
              "        </tr>\n",
              "        <tr>\n",
              "            <td>AFG</td>\n",
              "            <td>Asia</td>\n",
              "            <td>Afghanistan</td>\n",
              "            <td>02/03/2020</td>\n",
              "            <td>39835428.0</td>\n",
              "            <td>5.0</td>\n",
              "            <td>0.0</td>\n",
              "            <td>0.0</td>\n",
              "            <td>None</td>\n",
              "            <td>None</td>\n",
              "            <td>0.0</td>\n",
              "            <td>0.126</td>\n",
              "            <td>0.0</td>\n",
              "            <td>0.0</td>\n",
              "            <td>None</td>\n",
              "            <td>None</td>\n",
              "            <td>0.0</td>\n",
              "            <td>None</td>\n",
              "            <td>None</td>\n",
              "            <td>None</td>\n",
              "            <td>None</td>\n",
              "            <td>None</td>\n",
              "            <td>None</td>\n",
              "            <td>None</td>\n",
              "            <td>None</td>\n",
              "            <td>None</td>\n",
              "            <td>AFG</td>\n",
              "            <td>Asia</td>\n",
              "            <td>Afghanistan</td>\n",
              "            <td>02/03/2020</td>\n",
              "            <td>None</td>\n",
              "            <td>None</td>\n",
              "            <td>None</td>\n",
              "            <td>None</td>\n",
              "            <td>None</td>\n",
              "            <td>None</td>\n",
              "            <td>None</td>\n",
              "            <td>None</td>\n",
              "            <td>None</td>\n",
              "            <td>None</td>\n",
              "            <td>None</td>\n",
              "            <td>None</td>\n",
              "            <td>None</td>\n",
              "            <td>None</td>\n",
              "            <td>None</td>\n",
              "            <td>None</td>\n",
              "            <td>None</td>\n",
              "            <td>None</td>\n",
              "            <td>None</td>\n",
              "            <td>None</td>\n",
              "            <td>27.78</td>\n",
              "            <td>54.422</td>\n",
              "            <td>18.6</td>\n",
              "            <td>2.5810000000000004</td>\n",
              "            <td>1.337</td>\n",
              "            <td>1803.987</td>\n",
              "            <td>None</td>\n",
              "            <td>597.029</td>\n",
              "            <td>9.59</td>\n",
              "            <td>None</td>\n",
              "            <td>None</td>\n",
              "            <td>37.746</td>\n",
              "            <td>0.5</td>\n",
              "            <td>64.83</td>\n",
              "            <td>0.511</td>\n",
              "            <td>None</td>\n",
              "            <td>None</td>\n",
              "            <td>None</td>\n",
              "            <td>None</td>\n",
              "        </tr>\n",
              "        <tr>\n",
              "            <td>AFG</td>\n",
              "            <td>Asia</td>\n",
              "            <td>Afghanistan</td>\n",
              "            <td>03/03/2020</td>\n",
              "            <td>39835428.0</td>\n",
              "            <td>5.0</td>\n",
              "            <td>0.0</td>\n",
              "            <td>0.0</td>\n",
              "            <td>None</td>\n",
              "            <td>None</td>\n",
              "            <td>0.0</td>\n",
              "            <td>0.126</td>\n",
              "            <td>0.0</td>\n",
              "            <td>0.0</td>\n",
              "            <td>None</td>\n",
              "            <td>None</td>\n",
              "            <td>0.0</td>\n",
              "            <td>None</td>\n",
              "            <td>None</td>\n",
              "            <td>None</td>\n",
              "            <td>None</td>\n",
              "            <td>None</td>\n",
              "            <td>None</td>\n",
              "            <td>None</td>\n",
              "            <td>None</td>\n",
              "            <td>None</td>\n",
              "            <td>AFG</td>\n",
              "            <td>Asia</td>\n",
              "            <td>Afghanistan</td>\n",
              "            <td>03/03/2020</td>\n",
              "            <td>None</td>\n",
              "            <td>None</td>\n",
              "            <td>None</td>\n",
              "            <td>None</td>\n",
              "            <td>None</td>\n",
              "            <td>None</td>\n",
              "            <td>None</td>\n",
              "            <td>None</td>\n",
              "            <td>None</td>\n",
              "            <td>None</td>\n",
              "            <td>None</td>\n",
              "            <td>None</td>\n",
              "            <td>None</td>\n",
              "            <td>None</td>\n",
              "            <td>None</td>\n",
              "            <td>None</td>\n",
              "            <td>None</td>\n",
              "            <td>None</td>\n",
              "            <td>None</td>\n",
              "            <td>None</td>\n",
              "            <td>27.78</td>\n",
              "            <td>54.422</td>\n",
              "            <td>18.6</td>\n",
              "            <td>2.5810000000000004</td>\n",
              "            <td>1.337</td>\n",
              "            <td>1803.987</td>\n",
              "            <td>None</td>\n",
              "            <td>597.029</td>\n",
              "            <td>9.59</td>\n",
              "            <td>None</td>\n",
              "            <td>None</td>\n",
              "            <td>37.746</td>\n",
              "            <td>0.5</td>\n",
              "            <td>64.83</td>\n",
              "            <td>0.511</td>\n",
              "            <td>None</td>\n",
              "            <td>None</td>\n",
              "            <td>None</td>\n",
              "            <td>None</td>\n",
              "        </tr>\n",
              "        <tr>\n",
              "            <td>AFG</td>\n",
              "            <td>Asia</td>\n",
              "            <td>Afghanistan</td>\n",
              "            <td>04/03/2020</td>\n",
              "            <td>39835428.0</td>\n",
              "            <td>5.0</td>\n",
              "            <td>0.0</td>\n",
              "            <td>0.0</td>\n",
              "            <td>None</td>\n",
              "            <td>None</td>\n",
              "            <td>0.0</td>\n",
              "            <td>0.126</td>\n",
              "            <td>0.0</td>\n",
              "            <td>0.0</td>\n",
              "            <td>None</td>\n",
              "            <td>None</td>\n",
              "            <td>0.0</td>\n",
              "            <td>None</td>\n",
              "            <td>None</td>\n",
              "            <td>None</td>\n",
              "            <td>None</td>\n",
              "            <td>None</td>\n",
              "            <td>None</td>\n",
              "            <td>None</td>\n",
              "            <td>None</td>\n",
              "            <td>None</td>\n",
              "            <td>AFG</td>\n",
              "            <td>Asia</td>\n",
              "            <td>Afghanistan</td>\n",
              "            <td>04/03/2020</td>\n",
              "            <td>None</td>\n",
              "            <td>None</td>\n",
              "            <td>None</td>\n",
              "            <td>None</td>\n",
              "            <td>None</td>\n",
              "            <td>None</td>\n",
              "            <td>None</td>\n",
              "            <td>None</td>\n",
              "            <td>None</td>\n",
              "            <td>None</td>\n",
              "            <td>None</td>\n",
              "            <td>None</td>\n",
              "            <td>None</td>\n",
              "            <td>None</td>\n",
              "            <td>None</td>\n",
              "            <td>None</td>\n",
              "            <td>None</td>\n",
              "            <td>None</td>\n",
              "            <td>None</td>\n",
              "            <td>None</td>\n",
              "            <td>27.78</td>\n",
              "            <td>54.422</td>\n",
              "            <td>18.6</td>\n",
              "            <td>2.5810000000000004</td>\n",
              "            <td>1.337</td>\n",
              "            <td>1803.987</td>\n",
              "            <td>None</td>\n",
              "            <td>597.029</td>\n",
              "            <td>9.59</td>\n",
              "            <td>None</td>\n",
              "            <td>None</td>\n",
              "            <td>37.746</td>\n",
              "            <td>0.5</td>\n",
              "            <td>64.83</td>\n",
              "            <td>0.511</td>\n",
              "            <td>None</td>\n",
              "            <td>None</td>\n",
              "            <td>None</td>\n",
              "            <td>None</td>\n",
              "        </tr>\n",
              "    </tbody>\n",
              "</table>"
            ],
            "text/plain": [
              "[('AFG', 'Asia', 'Afghanistan', '24/02/2020', 39835428.0, 5.0, 5.0, None, None, None, None, 0.126, 0.126, None, None, None, None, None, None, None, None, None, None, None, None, None, 'AFG', 'Asia', 'Afghanistan', '24/02/2020', None, None, None, None, None, None, None, None, None, None, None, None, None, None, None, None, None, None, None, None, 8.33, 54.422, 18.6, 2.5810000000000004, 1.337, 1803.987, None, 597.029, 9.59, None, None, 37.746, 0.5, 64.83, 0.511, None, None, None, None),\n",
              " ('AFG', 'Asia', 'Afghanistan', '25/02/2020', 39835428.0, 5.0, 0.0, None, None, None, None, 0.126, 0.0, None, None, None, None, None, None, None, None, None, None, None, None, None, 'AFG', 'Asia', 'Afghanistan', '25/02/2020', None, None, None, None, None, None, None, None, None, None, None, None, None, None, None, None, None, None, None, None, 8.33, 54.422, 18.6, 2.5810000000000004, 1.337, 1803.987, None, 597.029, 9.59, None, None, 37.746, 0.5, 64.83, 0.511, None, None, None, None),\n",
              " ('AFG', 'Asia', 'Afghanistan', '26/02/2020', 39835428.0, 5.0, 0.0, None, None, None, None, 0.126, 0.0, None, None, None, None, None, None, None, None, None, None, None, None, None, 'AFG', 'Asia', 'Afghanistan', '26/02/2020', None, None, None, None, None, None, None, None, None, None, None, None, None, None, None, None, None, None, None, None, 8.33, 54.422, 18.6, 2.5810000000000004, 1.337, 1803.987, None, 597.029, 9.59, None, None, 37.746, 0.5, 64.83, 0.511, None, None, None, None),\n",
              " ('AFG', 'Asia', 'Afghanistan', '27/02/2020', 39835428.0, 5.0, 0.0, None, None, None, None, 0.126, 0.0, None, None, None, None, None, None, None, None, None, None, None, None, None, 'AFG', 'Asia', 'Afghanistan', '27/02/2020', None, None, None, None, None, None, None, None, None, None, None, None, None, None, None, None, None, None, None, None, 8.33, 54.422, 18.6, 2.5810000000000004, 1.337, 1803.987, None, 597.029, 9.59, None, None, 37.746, 0.5, 64.83, 0.511, None, None, None, None),\n",
              " ('AFG', 'Asia', 'Afghanistan', '28/02/2020', 39835428.0, 5.0, 0.0, None, None, None, None, 0.126, 0.0, None, None, None, None, None, None, None, None, None, None, None, None, None, 'AFG', 'Asia', 'Afghanistan', '28/02/2020', None, None, None, None, None, None, None, None, None, None, None, None, None, None, None, None, None, None, None, None, 8.33, 54.422, 18.6, 2.5810000000000004, 1.337, 1803.987, None, 597.029, 9.59, None, None, 37.746, 0.5, 64.83, 0.511, None, None, None, None),\n",
              " ('AFG', 'Asia', 'Afghanistan', '29/02/2020', 39835428.0, 5.0, 0.0, 0.7140000000000001, None, None, 0.0, 0.126, 0.0, 0.018000000000000002, None, None, 0.0, None, None, None, None, None, None, None, None, None, 'AFG', 'Asia', 'Afghanistan', '29/02/2020', None, None, None, None, None, None, None, None, None, None, None, None, None, None, None, None, None, None, None, None, 8.33, 54.422, 18.6, 2.5810000000000004, 1.337, 1803.987, None, 597.029, 9.59, None, None, 37.746, 0.5, 64.83, 0.511, None, None, None, None),\n",
              " ('AFG', 'Asia', 'Afghanistan', '01/03/2020', 39835428.0, 5.0, 0.0, 0.7140000000000001, None, None, 0.0, 0.126, 0.0, 0.018000000000000002, None, None, 0.0, None, None, None, None, None, None, None, None, None, 'AFG', 'Asia', 'Afghanistan', '01/03/2020', None, None, None, None, None, None, None, None, None, None, None, None, None, None, None, None, None, None, None, None, 27.78, 54.422, 18.6, 2.5810000000000004, 1.337, 1803.987, None, 597.029, 9.59, None, None, 37.746, 0.5, 64.83, 0.511, None, None, None, None),\n",
              " ('AFG', 'Asia', 'Afghanistan', '02/03/2020', 39835428.0, 5.0, 0.0, 0.0, None, None, 0.0, 0.126, 0.0, 0.0, None, None, 0.0, None, None, None, None, None, None, None, None, None, 'AFG', 'Asia', 'Afghanistan', '02/03/2020', None, None, None, None, None, None, None, None, None, None, None, None, None, None, None, None, None, None, None, None, 27.78, 54.422, 18.6, 2.5810000000000004, 1.337, 1803.987, None, 597.029, 9.59, None, None, 37.746, 0.5, 64.83, 0.511, None, None, None, None),\n",
              " ('AFG', 'Asia', 'Afghanistan', '03/03/2020', 39835428.0, 5.0, 0.0, 0.0, None, None, 0.0, 0.126, 0.0, 0.0, None, None, 0.0, None, None, None, None, None, None, None, None, None, 'AFG', 'Asia', 'Afghanistan', '03/03/2020', None, None, None, None, None, None, None, None, None, None, None, None, None, None, None, None, None, None, None, None, 27.78, 54.422, 18.6, 2.5810000000000004, 1.337, 1803.987, None, 597.029, 9.59, None, None, 37.746, 0.5, 64.83, 0.511, None, None, None, None),\n",
              " ('AFG', 'Asia', 'Afghanistan', '04/03/2020', 39835428.0, 5.0, 0.0, 0.0, None, None, 0.0, 0.126, 0.0, 0.0, None, None, 0.0, None, None, None, None, None, None, None, None, None, 'AFG', 'Asia', 'Afghanistan', '04/03/2020', None, None, None, None, None, None, None, None, None, None, None, None, None, None, None, None, None, None, None, None, 27.78, 54.422, 18.6, 2.5810000000000004, 1.337, 1803.987, None, 597.029, 9.59, None, None, 37.746, 0.5, 64.83, 0.511, None, None, None, None)]"
            ]
          },
          "metadata": {},
          "execution_count": 27
        }
      ]
    },
    {
      "cell_type": "code",
      "metadata": {
        "colab": {
          "base_uri": "https://localhost:8080/",
          "height": 263
        },
        "id": "DaGVS9OemLAX",
        "outputId": "b6eea426-0567-491c-b90c-04aa69a232ee"
      },
      "source": [
        "%%sql\n",
        "---Total vaccination vs population\n",
        "SELECT covid_deaths.location, MAX(((covid_vaccine.people_vaccinated- covid_vaccine.people_fully_vaccinated)/covid_deaths.population))*100 as people_partially_vaccinated\n",
        "FROM covid_deaths JOIN  covid_vaccine \n",
        "on covid_deaths.location = covid_vaccine.location \n",
        "and covid_deaths.date = covid_vaccine.date\n",
        "WHERE covid_deaths.continent IS NULL\n",
        "GROUP BY covid_deaths.location\n",
        "ORDER BY 2 DESC\n",
        "LIMIT 10;"
      ],
      "execution_count": 37,
      "outputs": [
        {
          "output_type": "stream",
          "name": "stdout",
          "text": [
            " * sqlite://\n",
            "Done.\n"
          ]
        },
        {
          "output_type": "execute_result",
          "data": {
            "text/html": [
              "<table>\n",
              "    <thead>\n",
              "        <tr>\n",
              "            <th>location</th>\n",
              "            <th>people_partially_vaccinated</th>\n",
              "        </tr>\n",
              "    </thead>\n",
              "    <tbody>\n",
              "        <tr>\n",
              "            <td>South America</td>\n",
              "            <td>24.634861834820306</td>\n",
              "        </tr>\n",
              "        <tr>\n",
              "            <td>Asia</td>\n",
              "            <td>23.54395672858821</td>\n",
              "        </tr>\n",
              "        <tr>\n",
              "            <td>European Union</td>\n",
              "            <td>20.135174336389046</td>\n",
              "        </tr>\n",
              "        <tr>\n",
              "            <td>World</td>\n",
              "            <td>17.37371468729586</td>\n",
              "        </tr>\n",
              "        <tr>\n",
              "            <td>Oceania</td>\n",
              "            <td>17.122102906449182</td>\n",
              "        </tr>\n",
              "        <tr>\n",
              "            <td>Europe</td>\n",
              "            <td>15.206105512134743</td>\n",
              "        </tr>\n",
              "        <tr>\n",
              "            <td>North America</td>\n",
              "            <td>11.909894598553807</td>\n",
              "        </tr>\n",
              "        <tr>\n",
              "            <td>Africa</td>\n",
              "            <td>2.449838108052367</td>\n",
              "        </tr>\n",
              "        <tr>\n",
              "            <td>International</td>\n",
              "            <td>None</td>\n",
              "        </tr>\n",
              "    </tbody>\n",
              "</table>"
            ],
            "text/plain": [
              "[('South America', 24.634861834820306),\n",
              " ('Asia', 23.54395672858821),\n",
              " ('European Union', 20.135174336389046),\n",
              " ('World', 17.37371468729586),\n",
              " ('Oceania', 17.122102906449182),\n",
              " ('Europe', 15.206105512134743),\n",
              " ('North America', 11.909894598553807),\n",
              " ('Africa', 2.449838108052367),\n",
              " ('International', None)]"
            ]
          },
          "metadata": {},
          "execution_count": 37
        }
      ]
    },
    {
      "cell_type": "code",
      "metadata": {
        "id": "HSXgKUMWIUV-",
        "colab": {
          "base_uri": "https://localhost:8080/",
          "height": 263
        },
        "outputId": "4c6d6bd0-5d97-46b8-f867-cf30d320ec87"
      },
      "source": [
        "%%sql\n",
        "---Total vaccination vs population\n",
        "SELECT covid_deaths.location, MAX((covid_vaccine.people_fully_vaccinated/covid_deaths.population))*100 as people_fully_vaccinated\n",
        "FROM covid_deaths JOIN  covid_vaccine \n",
        "on covid_deaths.location = covid_vaccine.location \n",
        "and covid_deaths.date = covid_vaccine.date\n",
        "WHERE covid_deaths.continent IS NULL\n",
        "GROUP BY covid_deaths.location\n",
        "ORDER BY 2 DESC\n",
        "LIMIT 10;"
      ],
      "execution_count": 49,
      "outputs": [
        {
          "output_type": "stream",
          "name": "stdout",
          "text": [
            " * sqlite://\n",
            "Done.\n"
          ]
        },
        {
          "output_type": "execute_result",
          "data": {
            "text/html": [
              "<table>\n",
              "    <thead>\n",
              "        <tr>\n",
              "            <th>location</th>\n",
              "            <th>people_fully_vaccinated</th>\n",
              "            <th>SUM(covid_vaccine.new_vaccinations)</th>\n",
              "        </tr>\n",
              "    </thead>\n",
              "    <tbody>\n",
              "        <tr>\n",
              "            <td>European Union</td>\n",
              "            <td>63.513990694535224</td>\n",
              "            <td>573299608.0</td>\n",
              "        </tr>\n",
              "        <tr>\n",
              "            <td>Europe</td>\n",
              "            <td>53.2014887819148</td>\n",
              "            <td>813382928.0</td>\n",
              "        </tr>\n",
              "        <tr>\n",
              "            <td>North America</td>\n",
              "            <td>48.265529812137935</td>\n",
              "            <td>635020739.0</td>\n",
              "        </tr>\n",
              "        <tr>\n",
              "            <td>South America</td>\n",
              "            <td>43.78810403270309</td>\n",
              "            <td>460836637.0</td>\n",
              "        </tr>\n",
              "        <tr>\n",
              "            <td>Asia</td>\n",
              "            <td>38.19361377700602</td>\n",
              "            <td>4354710132.0</td>\n",
              "        </tr>\n",
              "        <tr>\n",
              "            <td>Oceania</td>\n",
              "            <td>36.73017328986514</td>\n",
              "            <td>38276189.0</td>\n",
              "        </tr>\n",
              "        <tr>\n",
              "            <td>World</td>\n",
              "            <td>34.829549871620955</td>\n",
              "            <td>6463418984.0</td>\n",
              "        </tr>\n",
              "        <tr>\n",
              "            <td>Africa</td>\n",
              "            <td>4.637739162239088</td>\n",
              "            <td>159265365.0</td>\n",
              "        </tr>\n",
              "        <tr>\n",
              "            <td>International</td>\n",
              "            <td>None</td>\n",
              "            <td>None</td>\n",
              "        </tr>\n",
              "    </tbody>\n",
              "</table>"
            ],
            "text/plain": [
              "[('European Union', 63.513990694535224, 573299608.0),\n",
              " ('Europe', 53.2014887819148, 813382928.0),\n",
              " ('North America', 48.265529812137935, 635020739.0),\n",
              " ('South America', 43.78810403270309, 460836637.0),\n",
              " ('Asia', 38.19361377700602, 4354710132.0),\n",
              " ('Oceania', 36.73017328986514, 38276189.0),\n",
              " ('World', 34.829549871620955, 6463418984.0),\n",
              " ('Africa', 4.637739162239088, 159265365.0),\n",
              " ('International', None, None)]"
            ]
          },
          "metadata": {},
          "execution_count": 49
        }
      ]
    },
    {
      "cell_type": "code",
      "metadata": {
        "colab": {
          "base_uri": "https://localhost:8080/"
        },
        "id": "YLFGthDnraIJ",
        "outputId": "606b7bd1-e967-4aad-c464-55124ab95f67"
      },
      "source": [
        "%%sql\n",
        "---Total vaccination vs population\n",
        "SELECT covid_deaths.location,covid_deaths.date, SUM(covid_vaccine.new_vaccinations) OVER ( PARTITION BY covid_deaths.location order by covid_deaths.location, covid_deaths.date) as RollingPeopleVaccinated\n",
        "FROM covid_deaths JOIN  covid_vaccine \n",
        "on covid_deaths.location = covid_vaccine.location \n",
        "and covid_deaths.date = covid_vaccine.date\n",
        "WHERE covid_deaths.continent IS NOT  NULL\n",
        "GROUP BY covid_deaths.location\n",
        "--ORDER BY 2 DESC\n",
        "LIMIT 10;"
      ],
      "execution_count": 93,
      "outputs": [
        {
          "output_type": "stream",
          "name": "stdout",
          "text": [
            " * sqlite://\n",
            "(sqlite3.OperationalError) near \"(\": syntax error\n",
            "[SQL: ---Total vaccination vs population\n",
            "SELECT covid_deaths.location,covid_deaths.date, SUM(covid_vaccine.new_vaccinations) OVER ( PARTITION BY covid_deaths.location order by covid_deaths.location, covid_deaths.date) as RollingPeopleVaccinated\n",
            "FROM covid_deaths JOIN  covid_vaccine \n",
            "on covid_deaths.location = covid_vaccine.location \n",
            "and covid_deaths.date = covid_vaccine.date\n",
            "WHERE covid_deaths.continent IS NOT  NULL\n",
            "GROUP BY covid_deaths.location\n",
            "--ORDER BY 2 DESC\n",
            "LIMIT 10;]\n",
            "(Background on this error at: https://sqlalche.me/e/14/e3q8)\n"
          ]
        }
      ]
    },
    {
      "cell_type": "code",
      "metadata": {
        "id": "_avDXTEHIUY0",
        "colab": {
          "base_uri": "https://localhost:8080/"
        },
        "outputId": "0306eb26-92cd-45a1-8fb5-2e280e72d473"
      },
      "source": [
        "%%sql\n",
        "-- Rolling count\n",
        "Select covid_deaths.continent, covid_deaths.location, covid_deaths.date, covid_deaths.population, covid_vaccine.new_vaccinations\n",
        "SUM(covid_vaccine.new_vaccinations) OVER (Partition by covid_deaths.location \n",
        "Order by covid_deaths.location, covid_deaths.date) as RollingPeopleVaccinated\n",
        "--,(RollingPeopleVaccinated/population)*100\n",
        "From covid_deaths\n",
        "Join covid_vaccine\n",
        "\tOn covid_deaths.location = covid_vaccine.location\n",
        "\tand covid_deaths.date = covid_vaccine.date\n",
        "where covid_deaths.continent is not null \n",
        "order by 2,3 LIMIT 10;"
      ],
      "execution_count": 78,
      "outputs": [
        {
          "output_type": "stream",
          "name": "stdout",
          "text": [
            " * sqlite://\n",
            "(sqlite3.OperationalError) near \"(\": syntax error\n",
            "[SQL: -- Rolling count\n",
            "Select covid_deaths.continent, covid_deaths.location, covid_deaths.date, covid_deaths.population, covid_vaccine.new_vaccinations\n",
            "SUM(covid_vaccine.new_vaccinations) OVER (Partition by covid_deaths.location \n",
            "Order by covid_deaths.location, covid_deaths.date) as RollingPeopleVaccinated,(RollingPeopleVaccinated/population)*100\n",
            "From covid_deaths\n",
            "Join covid_vaccine\n",
            "\tOn covid_deaths.location = covid_vaccine.location\n",
            "\tand covid_deaths.date = covid_vaccine.date\n",
            "where covid_deaths.continent is not null \n",
            "order by 2,3 LIMIT 10;]\n",
            "(Background on this error at: https://sqlalche.me/e/14/e3q8)\n"
          ]
        }
      ]
    },
    {
      "cell_type": "markdown",
      "metadata": {
        "id": "qRngORkLA3eg"
      },
      "source": [
        "#### Analysis by continent"
      ]
    },
    {
      "cell_type": "code",
      "metadata": {
        "colab": {
          "base_uri": "https://localhost:8080/"
        },
        "id": "ofUOLXfeA3eg",
        "outputId": "ce4246ab-e770-4733-f53a-6c4b472be1e5"
      },
      "source": [
        "%%sql\n",
        "-- Continent wide death count per population\n",
        "SELECT location, MAX((total_cases/population))*100 as infected_pop_percentage\n",
        "FROM covid_deaths\n",
        "-- To exclude data that was aggregated per continent\n",
        "WHERE continent IS  NULL \n",
        "--Group by location to get highest per country\n",
        "GROUP BY location \n",
        "--Order in descending order of the highest death count per location \n",
        "ORDER BY 2 desc;"
      ],
      "execution_count": null,
      "outputs": [
        {
          "output_type": "stream",
          "name": "stdout",
          "text": [
            " * sqlite://\n",
            "Done.\n"
          ]
        },
        {
          "output_type": "execute_result",
          "data": {
            "text/html": [
              "<table>\n",
              "    <thead>\n",
              "        <tr>\n",
              "            <th>location</th>\n",
              "            <th>infected_pop_percentage</th>\n",
              "        </tr>\n",
              "    </thead>\n",
              "    <tbody>\n",
              "        <tr>\n",
              "            <td>North America</td>\n",
              "            <td>8.9293800388974</td>\n",
              "        </tr>\n",
              "        <tr>\n",
              "            <td>South America</td>\n",
              "            <td>8.73924306632998</td>\n",
              "        </tr>\n",
              "        <tr>\n",
              "            <td>European Union</td>\n",
              "            <td>8.578734607644272</td>\n",
              "        </tr>\n",
              "        <tr>\n",
              "            <td>Europe</td>\n",
              "            <td>8.097915061144526</td>\n",
              "        </tr>\n",
              "        <tr>\n",
              "            <td>World</td>\n",
              "            <td>3.0127030018166945</td>\n",
              "        </tr>\n",
              "        <tr>\n",
              "            <td>Asia</td>\n",
              "            <td>1.643063715531266</td>\n",
              "        </tr>\n",
              "        <tr>\n",
              "            <td>Africa</td>\n",
              "            <td>0.6101557729794662</td>\n",
              "        </tr>\n",
              "        <tr>\n",
              "            <td>Oceania</td>\n",
              "            <td>0.4709005474647196</td>\n",
              "        </tr>\n",
              "        <tr>\n",
              "            <td>International</td>\n",
              "            <td>None</td>\n",
              "        </tr>\n",
              "    </tbody>\n",
              "</table>"
            ],
            "text/plain": [
              "[('North America', 8.9293800388974),\n",
              " ('South America', 8.73924306632998),\n",
              " ('European Union', 8.578734607644272),\n",
              " ('Europe', 8.097915061144526),\n",
              " ('World', 3.0127030018166945),\n",
              " ('Asia', 1.643063715531266),\n",
              " ('Africa', 0.6101557729794662),\n",
              " ('Oceania', 0.4709005474647196),\n",
              " ('International', None)]"
            ]
          },
          "metadata": {},
          "execution_count": 15
        }
      ]
    },
    {
      "cell_type": "code",
      "metadata": {
        "colab": {
          "base_uri": "https://localhost:8080/"
        },
        "id": "0Vc2tOrFA3eh",
        "outputId": "3baaf1bf-cea6-46f9-d176-4cd5cb2da3a4"
      },
      "source": [
        "%%sql\n",
        "-- Continent wide death count per population\n",
        "SELECT location, MAX((total_deaths/population))*100 as death_count_per_population\n",
        "FROM covid_deaths\n",
        "-- To exclude data that was aggregated per continent\n",
        "WHERE continent IS  NULL \n",
        "--Group by location to get highest per country\n",
        "GROUP BY location \n",
        "--Order in descending order of the highest death count per location \n",
        "ORDER BY 2 desc;\n"
      ],
      "execution_count": null,
      "outputs": [
        {
          "output_type": "stream",
          "name": "stdout",
          "text": [
            " * sqlite://\n",
            "Done.\n"
          ]
        },
        {
          "output_type": "execute_result",
          "data": {
            "text/html": [
              "<table>\n",
              "    <thead>\n",
              "        <tr>\n",
              "            <th>location</th>\n",
              "            <th>death_count_per_population</th>\n",
              "        </tr>\n",
              "    </thead>\n",
              "    <tbody>\n",
              "        <tr>\n",
              "            <td>South America</td>\n",
              "            <td>0.2670853017598405</td>\n",
              "        </tr>\n",
              "        <tr>\n",
              "            <td>North America</td>\n",
              "            <td>0.18128594222088593</td>\n",
              "        </tr>\n",
              "        <tr>\n",
              "            <td>European Union</td>\n",
              "            <td>0.17373356910340879</td>\n",
              "        </tr>\n",
              "        <tr>\n",
              "            <td>Europe</td>\n",
              "            <td>0.16650007832324168</td>\n",
              "        </tr>\n",
              "        <tr>\n",
              "            <td>World</td>\n",
              "            <td>0.06149598823422537</td>\n",
              "        </tr>\n",
              "        <tr>\n",
              "            <td>Asia</td>\n",
              "            <td>0.024372088114134122</td>\n",
              "        </tr>\n",
              "        <tr>\n",
              "            <td>Africa</td>\n",
              "            <td>0.015546640200181016</td>\n",
              "        </tr>\n",
              "        <tr>\n",
              "            <td>Oceania</td>\n",
              "            <td>0.005432675842274149</td>\n",
              "        </tr>\n",
              "        <tr>\n",
              "            <td>International</td>\n",
              "            <td>None</td>\n",
              "        </tr>\n",
              "    </tbody>\n",
              "</table>"
            ],
            "text/plain": [
              "[('South America', 0.2670853017598405),\n",
              " ('North America', 0.18128594222088593),\n",
              " ('European Union', 0.17373356910340879),\n",
              " ('Europe', 0.16650007832324168),\n",
              " ('World', 0.06149598823422537),\n",
              " ('Asia', 0.024372088114134122),\n",
              " ('Africa', 0.015546640200181016),\n",
              " ('Oceania', 0.005432675842274149),\n",
              " ('International', None)]"
            ]
          },
          "metadata": {},
          "execution_count": 16
        }
      ]
    },
    {
      "cell_type": "markdown",
      "metadata": {
        "id": "O6M7ruV9A9n8"
      },
      "source": [
        "#### Analysis by country"
      ]
    },
    {
      "cell_type": "code",
      "metadata": {
        "colab": {
          "base_uri": "https://localhost:8080/"
        },
        "id": "21KEsReyA9n8",
        "outputId": "97b4b8a5-3eb4-4083-eaf7-c907eba7a0b7"
      },
      "source": [
        "%%sql\n",
        "--Selecting the data that we are going to be using ordered by date and location\n",
        "SELECT location, date, total_cases,new_cases, total_deaths, population FROM covid_deaths ORDER BY 1,2 LIMIT 10;"
      ],
      "execution_count": null,
      "outputs": [
        {
          "output_type": "stream",
          "name": "stderr",
          "text": [
            "UsageError: Cell magic `%%sql` not found.\n"
          ]
        }
      ]
    },
    {
      "cell_type": "code",
      "metadata": {
        "colab": {
          "base_uri": "https://localhost:8080/"
        },
        "id": "d8i0lk8hA9n9",
        "outputId": "3d8ce607-69a6-4e19-8165-f41da9bd5c30"
      },
      "source": [
        "%%sql\n",
        "--Looking at total deaths vs total cases\n",
        "SELECT location, date, total_cases, total_deaths, (total_deaths/total_cases)*100 as death_percentage\n",
        "FROM covid_deaths WHERE total_cases AND total_deaths IS NOT NULL\n",
        "ORDER BY 5 desc LIMIT 10;"
      ],
      "execution_count": null,
      "outputs": [
        {
          "output_type": "stream",
          "name": "stderr",
          "text": [
            "UsageError: Cell magic `%%sql` not found.\n"
          ]
        }
      ]
    },
    {
      "cell_type": "code",
      "metadata": {
        "id": "eNuIQd3gA9n9"
      },
      "source": [
        "%%sql\n",
        "--Looking at total deaths vs total cases\n",
        "SELECT location, date, total_cases, total_deaths, (total_deaths/total_cases)*100 as death_percentage\n",
        "FROM covid_deaths \n",
        "WHERE location like '%Kenya%' AND  total_cases AND total_deaths IS NOT NULL \n",
        "ORDER BY 5 desc LIMIT 5;"
      ],
      "execution_count": null,
      "outputs": []
    },
    {
      "cell_type": "code",
      "metadata": {
        "id": "iQ66e4byA9n-"
      },
      "source": [
        "%%sql\n",
        "--Looking at percentage of infection per country \n",
        "  --Ordered by highest infected population percentage\n",
        "SELECT location, date, total_cases, total_deaths, (total_cases/population)*100 as infected_pop_percentage\n",
        "FROM covid_deaths \n",
        "GROUP BY location\n",
        "ORDER BY 5 desc LIMIT 5;"
      ],
      "execution_count": null,
      "outputs": []
    },
    {
      "cell_type": "markdown",
      "metadata": {
        "id": "h9FGlrSeA9n-"
      },
      "source": [
        "Seychelles, Montenegro and Andorra had the highest percentage of infeccted population which were 21.97%, 21.43% and 19.77% respectively as of 08/10/2021."
      ]
    },
    {
      "cell_type": "code",
      "metadata": {
        "id": "VpUCPw_LA9n-"
      },
      "source": [
        "%%sql\n",
        "--Looking at top percentage of infected population in Kenya.\n",
        "SELECT location, total_cases, MAX(total_deaths) as highest_total_deaths, MAX((total_cases/population))*100 as infected_pop_percentage\n",
        "FROM covid_deaths\n",
        "WHERE continent IS NOT NULL\n",
        "GROUP BY location  \n",
        "ORDER BY 4 desc LIMIT 15;"
      ],
      "execution_count": null,
      "outputs": []
    },
    {
      "cell_type": "markdown",
      "metadata": {
        "id": "aP0WmLUuA9n-"
      },
      "source": [
        "Percentage of Kenyan population infected with covid 19 as at 08/10/2021 was 0.456%"
      ]
    },
    {
      "cell_type": "code",
      "metadata": {
        "id": "YBHwHTNzA9n_"
      },
      "source": [
        "%%sql\n",
        "--Looking at coutries with the highest total death count.\n",
        "SELECT location, total_cases, MAX(total_deaths) as maximum_deaths \n",
        "FROM covid_deaths \n",
        "WHERE continent IS NOT NULL\n",
        "group by location\n",
        "ORDER BY 3 desc LIMIT 5;"
      ],
      "execution_count": null,
      "outputs": []
    },
    {
      "cell_type": "code",
      "metadata": {
        "id": "VcD3w7PEA9n_"
      },
      "source": [
        "%%sql\n",
        "-- Top 5 countries with highest death count per population\n",
        "SELECT location, MAX((total_deaths/population))*100 as death_count_per_population\n",
        "FROM covid_deaths\n",
        "-- To exclude data that was aggregated per continent\n",
        "WHERE continent IS NOT NULL\n",
        "--Group by location to get highest per country\n",
        "GROUP BY location \n",
        "--Order in descending order of the highest death count per location \n",
        "ORDER BY 2 desc LIMIT 5;\n"
      ],
      "execution_count": null,
      "outputs": []
    },
    {
      "cell_type": "markdown",
      "metadata": {
        "id": "GXLwhk6tA9n_"
      },
      "source": [
        "Peru had the highest death to population ratio at 0.60% percent followed by Bosmia and Herzegovina at 0.33%."
      ]
    },
    {
      "cell_type": "code",
      "metadata": {
        "id": "SOFn7yqtA9oA"
      },
      "source": [
        "%%sql\n"
      ],
      "execution_count": null,
      "outputs": []
    },
    {
      "cell_type": "code",
      "metadata": {
        "id": "cvlsX1HUIUcj"
      },
      "source": [
        "%%sql\n",
        "\n"
      ],
      "execution_count": null,
      "outputs": []
    },
    {
      "cell_type": "code",
      "metadata": {
        "id": "o6guWnxiIUoz"
      },
      "source": [
        "%%sql\n"
      ],
      "execution_count": null,
      "outputs": []
    },
    {
      "cell_type": "code",
      "metadata": {
        "id": "SAjtU5vCIUuf"
      },
      "source": [
        "%%sql\n"
      ],
      "execution_count": null,
      "outputs": []
    },
    {
      "cell_type": "markdown",
      "metadata": {
        "id": "Y-vxSTw5BTDR"
      },
      "source": [
        "# **Conclussion**"
      ]
    },
    {
      "cell_type": "markdown",
      "metadata": {
        "id": "ILnB8BH-BdE5"
      },
      "source": [
        ""
      ]
    }
  ]
}