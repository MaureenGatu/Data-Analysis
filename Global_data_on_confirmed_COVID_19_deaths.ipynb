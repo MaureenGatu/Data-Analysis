{
  "nbformat": 4,
  "nbformat_minor": 0,
  "metadata": {
    "colab": {
      "name": "Global data on confirmed COVID-19 deaths.ipynb",
      "provenance": [],
      "mount_file_id": "1sfeQByowH_08qtZGUTJfUmIpzJhiJ35U",
      "authorship_tag": "ABX9TyPHceoyA37ZGlv1wbA+tZs/",
      "include_colab_link": true
    },
    "kernelspec": {
      "display_name": "Python 3",
      "name": "python3"
    },
    "language_info": {
      "name": "python"
    }
  },
  "cells": [
    {
      "cell_type": "markdown",
      "metadata": {
        "id": "view-in-github",
        "colab_type": "text"
      },
      "source": [
        "<a href=\"https://colab.research.google.com/github/MaureenGatu/Data-Analysis/blob/main/Global_data_on_confirmed_COVID_19_deaths.ipynb\" target=\"_parent\"><img src=\"https://colab.research.google.com/assets/colab-badge.svg\" alt=\"Open In Colab\"/></a>"
      ]
    },
    {
      "cell_type": "markdown",
      "metadata": {
        "id": "-Mv-z-IY6Ewr"
      },
      "source": [
        "# ***COVID-19 DEATHS DATA EXPLORATION***"
      ]
    },
    {
      "cell_type": "markdown",
      "metadata": {
        "id": "oGxfZo8LWZXx"
      },
      "source": [
        "## 1.0 Connecting to our Database"
      ]
    },
    {
      "cell_type": "code",
      "metadata": {
        "colab": {
          "base_uri": "https://localhost:8080/",
          "height": 72
        },
        "id": "aGOQCVTLWpSn",
        "outputId": "b18e888b-c066-492b-d8c2-a969045e053e"
      },
      "source": [
        "# We will first load the sql extension into our environment\n",
        "%load_ext sql\n",
        "\n",
        "# Then connect to our in memory sqlite database\n",
        "# NB: This database will cease to exist as soon as the database connection is closed. \n",
        "%sql sqlite://"
      ],
      "execution_count": 2,
      "outputs": [
        {
          "output_type": "stream",
          "name": "stdout",
          "text": [
            "The sql extension is already loaded. To reload it, use:\n",
            "  %reload_ext sql\n"
          ]
        },
        {
          "output_type": "execute_result",
          "data": {
            "application/vnd.google.colaboratory.intrinsic+json": {
              "type": "string"
            },
            "text/plain": [
              "'Connected: @None'"
            ]
          },
          "metadata": {},
          "execution_count": 2
        }
      ]
    },
    {
      "cell_type": "markdown",
      "metadata": {
        "id": "HOnfqP8HWXgB"
      },
      "source": [
        "## 1.1 Importing Data from CSV files"
      ]
    },
    {
      "cell_type": "markdown",
      "metadata": {
        "id": "UDDmPdUHmOIT"
      },
      "source": [
        "Datasets used in this notebook:\n",
        "\n",
        "\n",
        "1.   **Covid 19 Deaths**\n",
        "2.   **Covid 19 Vaccinations** \n",
        "\n",
        "> The dataset is from Our World in Data. ([Dataset Download](https://ourworldindata.org/covid-deaths))\n",
        "\n",
        "\n",
        "\n",
        "\n"
      ]
    },
    {
      "cell_type": "code",
      "metadata": {
        "id": "pfQPCUG1j63f"
      },
      "source": [
        "# Importing the pandas library\n",
        "# We will use a function read_csv from pandas to read our datasets as shown\n",
        "#\n",
        "import pandas as pd "
      ],
      "execution_count": 3,
      "outputs": []
    },
    {
      "cell_type": "code",
      "metadata": {
        "colab": {
          "base_uri": "https://localhost:8080/",
          "height": 250
        },
        "id": "wLNd4C2J12rZ",
        "outputId": "f19b5123-acd0-4bc8-effd-c7e767717f5a"
      },
      "source": [
        "# Loading our table from the respective CSV files \n",
        "with open('/content/drive/MyDrive/Data Science/Data Analysis/SQL/DATA/COVID_DEATHS_DATA.csv','r') as f:\n",
        "    covid_deaths = pd.read_csv(f, index_col=0, encoding='utf-8')\n",
        "# saving the urban center CSV file into a database\n",
        "%sql DROP TABLE if EXISTS covid_deaths;\n",
        "%sql PERSIST covid_deaths;\n",
        "\n",
        "# Displaying the first  5 entries \n",
        "%sql SELECT * FROM covid_deaths LIMIT 5;"
      ],
      "execution_count": 4,
      "outputs": [
        {
          "output_type": "stream",
          "name": "stdout",
          "text": [
            " * sqlite://\n",
            "Done.\n",
            " * sqlite://\n",
            " * sqlite://\n",
            "Done.\n"
          ]
        },
        {
          "output_type": "execute_result",
          "data": {
            "text/html": [
              "<table>\n",
              "    <thead>\n",
              "        <tr>\n",
              "            <th>iso_code</th>\n",
              "            <th>continent</th>\n",
              "            <th>location</th>\n",
              "            <th>date</th>\n",
              "            <th>population</th>\n",
              "            <th>total_cases</th>\n",
              "            <th>new_cases</th>\n",
              "            <th>new_cases_smoothed</th>\n",
              "            <th>total_deaths</th>\n",
              "            <th>new_deaths</th>\n",
              "            <th>new_deaths_smoothed</th>\n",
              "            <th>total_cases_per_million</th>\n",
              "            <th>new_cases_per_million</th>\n",
              "            <th>new_cases_smoothed_per_million</th>\n",
              "            <th>total_deaths_per_million</th>\n",
              "            <th>new_deaths_per_million</th>\n",
              "            <th>new_deaths_smoothed_per_million</th>\n",
              "            <th>reproduction_rate</th>\n",
              "            <th>icu_patients</th>\n",
              "            <th>icu_patients_per_million</th>\n",
              "            <th>hosp_patients</th>\n",
              "            <th>hosp_patients_per_million</th>\n",
              "            <th>weekly_icu_admissions</th>\n",
              "            <th>weekly_icu_admissions_per_million</th>\n",
              "            <th>weekly_hosp_admissions</th>\n",
              "            <th>weekly_hosp_admissions_per_million</th>\n",
              "        </tr>\n",
              "    </thead>\n",
              "    <tbody>\n",
              "        <tr>\n",
              "            <td>AFG</td>\n",
              "            <td>Asia</td>\n",
              "            <td>Afghanistan</td>\n",
              "            <td>24/02/2020</td>\n",
              "            <td>39835428.0</td>\n",
              "            <td>5.0</td>\n",
              "            <td>5.0</td>\n",
              "            <td>None</td>\n",
              "            <td>None</td>\n",
              "            <td>None</td>\n",
              "            <td>None</td>\n",
              "            <td>0.126</td>\n",
              "            <td>0.126</td>\n",
              "            <td>None</td>\n",
              "            <td>None</td>\n",
              "            <td>None</td>\n",
              "            <td>None</td>\n",
              "            <td>None</td>\n",
              "            <td>None</td>\n",
              "            <td>None</td>\n",
              "            <td>None</td>\n",
              "            <td>None</td>\n",
              "            <td>None</td>\n",
              "            <td>None</td>\n",
              "            <td>None</td>\n",
              "            <td>None</td>\n",
              "        </tr>\n",
              "        <tr>\n",
              "            <td>AFG</td>\n",
              "            <td>Asia</td>\n",
              "            <td>Afghanistan</td>\n",
              "            <td>25/02/2020</td>\n",
              "            <td>39835428.0</td>\n",
              "            <td>5.0</td>\n",
              "            <td>0.0</td>\n",
              "            <td>None</td>\n",
              "            <td>None</td>\n",
              "            <td>None</td>\n",
              "            <td>None</td>\n",
              "            <td>0.126</td>\n",
              "            <td>0.0</td>\n",
              "            <td>None</td>\n",
              "            <td>None</td>\n",
              "            <td>None</td>\n",
              "            <td>None</td>\n",
              "            <td>None</td>\n",
              "            <td>None</td>\n",
              "            <td>None</td>\n",
              "            <td>None</td>\n",
              "            <td>None</td>\n",
              "            <td>None</td>\n",
              "            <td>None</td>\n",
              "            <td>None</td>\n",
              "            <td>None</td>\n",
              "        </tr>\n",
              "        <tr>\n",
              "            <td>AFG</td>\n",
              "            <td>Asia</td>\n",
              "            <td>Afghanistan</td>\n",
              "            <td>26/02/2020</td>\n",
              "            <td>39835428.0</td>\n",
              "            <td>5.0</td>\n",
              "            <td>0.0</td>\n",
              "            <td>None</td>\n",
              "            <td>None</td>\n",
              "            <td>None</td>\n",
              "            <td>None</td>\n",
              "            <td>0.126</td>\n",
              "            <td>0.0</td>\n",
              "            <td>None</td>\n",
              "            <td>None</td>\n",
              "            <td>None</td>\n",
              "            <td>None</td>\n",
              "            <td>None</td>\n",
              "            <td>None</td>\n",
              "            <td>None</td>\n",
              "            <td>None</td>\n",
              "            <td>None</td>\n",
              "            <td>None</td>\n",
              "            <td>None</td>\n",
              "            <td>None</td>\n",
              "            <td>None</td>\n",
              "        </tr>\n",
              "        <tr>\n",
              "            <td>AFG</td>\n",
              "            <td>Asia</td>\n",
              "            <td>Afghanistan</td>\n",
              "            <td>27/02/2020</td>\n",
              "            <td>39835428.0</td>\n",
              "            <td>5.0</td>\n",
              "            <td>0.0</td>\n",
              "            <td>None</td>\n",
              "            <td>None</td>\n",
              "            <td>None</td>\n",
              "            <td>None</td>\n",
              "            <td>0.126</td>\n",
              "            <td>0.0</td>\n",
              "            <td>None</td>\n",
              "            <td>None</td>\n",
              "            <td>None</td>\n",
              "            <td>None</td>\n",
              "            <td>None</td>\n",
              "            <td>None</td>\n",
              "            <td>None</td>\n",
              "            <td>None</td>\n",
              "            <td>None</td>\n",
              "            <td>None</td>\n",
              "            <td>None</td>\n",
              "            <td>None</td>\n",
              "            <td>None</td>\n",
              "        </tr>\n",
              "        <tr>\n",
              "            <td>AFG</td>\n",
              "            <td>Asia</td>\n",
              "            <td>Afghanistan</td>\n",
              "            <td>28/02/2020</td>\n",
              "            <td>39835428.0</td>\n",
              "            <td>5.0</td>\n",
              "            <td>0.0</td>\n",
              "            <td>None</td>\n",
              "            <td>None</td>\n",
              "            <td>None</td>\n",
              "            <td>None</td>\n",
              "            <td>0.126</td>\n",
              "            <td>0.0</td>\n",
              "            <td>None</td>\n",
              "            <td>None</td>\n",
              "            <td>None</td>\n",
              "            <td>None</td>\n",
              "            <td>None</td>\n",
              "            <td>None</td>\n",
              "            <td>None</td>\n",
              "            <td>None</td>\n",
              "            <td>None</td>\n",
              "            <td>None</td>\n",
              "            <td>None</td>\n",
              "            <td>None</td>\n",
              "            <td>None</td>\n",
              "        </tr>\n",
              "    </tbody>\n",
              "</table>"
            ],
            "text/plain": [
              "[('AFG', 'Asia', 'Afghanistan', '24/02/2020', 39835428.0, 5.0, 5.0, None, None, None, None, 0.126, 0.126, None, None, None, None, None, None, None, None, None, None, None, None, None),\n",
              " ('AFG', 'Asia', 'Afghanistan', '25/02/2020', 39835428.0, 5.0, 0.0, None, None, None, None, 0.126, 0.0, None, None, None, None, None, None, None, None, None, None, None, None, None),\n",
              " ('AFG', 'Asia', 'Afghanistan', '26/02/2020', 39835428.0, 5.0, 0.0, None, None, None, None, 0.126, 0.0, None, None, None, None, None, None, None, None, None, None, None, None, None),\n",
              " ('AFG', 'Asia', 'Afghanistan', '27/02/2020', 39835428.0, 5.0, 0.0, None, None, None, None, 0.126, 0.0, None, None, None, None, None, None, None, None, None, None, None, None, None),\n",
              " ('AFG', 'Asia', 'Afghanistan', '28/02/2020', 39835428.0, 5.0, 0.0, None, None, None, None, 0.126, 0.0, None, None, None, None, None, None, None, None, None, None, None, None, None)]"
            ]
          },
          "metadata": {},
          "execution_count": 4
        }
      ]
    },
    {
      "cell_type": "code",
      "metadata": {
        "colab": {
          "base_uri": "https://localhost:8080/",
          "height": 250
        },
        "id": "iwCRvKEW152I",
        "outputId": "f51c3420-b4cf-4949-8e69-6f8ba9fde470"
      },
      "source": [
        "# Let's load our covid_vaccine dataset below\n",
        "with open('/content/drive/MyDrive/Data Science/Data Analysis/SQL/DATA/COVID_VACCINATION_DATA.csv','r') as f:\n",
        "    covid_vaccine = pd.read_csv(f, index_col=0, encoding='utf-8') \n",
        "\n",
        "# Save the houshold dataset into a database\n",
        "%sql DROP TABLE if EXISTS covid_vaccine;\n",
        "%sql PERSIST covid_vaccine;\n",
        "\n",
        "# Display the first 5 entries from the database\n",
        "%sql SELECT * FROM covid_vaccine LIMIT 5;"
      ],
      "execution_count": 5,
      "outputs": [
        {
          "output_type": "stream",
          "name": "stdout",
          "text": [
            " * sqlite://\n",
            "Done.\n",
            " * sqlite://\n",
            " * sqlite://\n",
            "Done.\n"
          ]
        },
        {
          "output_type": "execute_result",
          "data": {
            "text/html": [
              "<table>\n",
              "    <thead>\n",
              "        <tr>\n",
              "            <th>iso_code</th>\n",
              "            <th>continent</th>\n",
              "            <th>location</th>\n",
              "            <th>date</th>\n",
              "            <th>new_tests</th>\n",
              "            <th>total_tests</th>\n",
              "            <th>total_tests_per_thousand</th>\n",
              "            <th>new_tests_per_thousand</th>\n",
              "            <th>new_tests_smoothed</th>\n",
              "            <th>new_tests_smoothed_per_thousand</th>\n",
              "            <th>positive_rate</th>\n",
              "            <th>tests_per_case</th>\n",
              "            <th>tests_units</th>\n",
              "            <th>total_vaccinations</th>\n",
              "            <th>people_vaccinated</th>\n",
              "            <th>people_fully_vaccinated</th>\n",
              "            <th>total_boosters</th>\n",
              "            <th>new_vaccinations</th>\n",
              "            <th>new_vaccinations_smoothed</th>\n",
              "            <th>total_vaccinations_per_hundred</th>\n",
              "            <th>people_vaccinated_per_hundred</th>\n",
              "            <th>people_fully_vaccinated_per_hundred</th>\n",
              "            <th>total_boosters_per_hundred</th>\n",
              "            <th>new_vaccinations_smoothed_per_million</th>\n",
              "            <th>stringency_index</th>\n",
              "            <th>population_density</th>\n",
              "            <th>median_age</th>\n",
              "            <th>aged_65_older</th>\n",
              "            <th>aged_70_older</th>\n",
              "            <th>gdp_per_capita</th>\n",
              "            <th>extreme_poverty</th>\n",
              "            <th>cardiovasc_death_rate</th>\n",
              "            <th>diabetes_prevalence</th>\n",
              "            <th>female_smokers</th>\n",
              "            <th>male_smokers</th>\n",
              "            <th>handwashing_facilities</th>\n",
              "            <th>hospital_beds_per_thousand</th>\n",
              "            <th>life_expectancy</th>\n",
              "            <th>human_development_index</th>\n",
              "            <th>excess_mortality_cumulative_absolute</th>\n",
              "            <th>excess_mortality_cumulative</th>\n",
              "            <th>excess_mortality</th>\n",
              "            <th>excess_mortality_cumulative_per_million</th>\n",
              "        </tr>\n",
              "    </thead>\n",
              "    <tbody>\n",
              "        <tr>\n",
              "            <td>AFG</td>\n",
              "            <td>Asia</td>\n",
              "            <td>Afghanistan</td>\n",
              "            <td>24/02/2020</td>\n",
              "            <td>None</td>\n",
              "            <td>None</td>\n",
              "            <td>None</td>\n",
              "            <td>None</td>\n",
              "            <td>None</td>\n",
              "            <td>None</td>\n",
              "            <td>None</td>\n",
              "            <td>None</td>\n",
              "            <td>None</td>\n",
              "            <td>None</td>\n",
              "            <td>None</td>\n",
              "            <td>None</td>\n",
              "            <td>None</td>\n",
              "            <td>None</td>\n",
              "            <td>None</td>\n",
              "            <td>None</td>\n",
              "            <td>None</td>\n",
              "            <td>None</td>\n",
              "            <td>None</td>\n",
              "            <td>None</td>\n",
              "            <td>8.33</td>\n",
              "            <td>54.422</td>\n",
              "            <td>18.6</td>\n",
              "            <td>2.5810000000000004</td>\n",
              "            <td>1.337</td>\n",
              "            <td>1803.987</td>\n",
              "            <td>None</td>\n",
              "            <td>597.029</td>\n",
              "            <td>9.59</td>\n",
              "            <td>None</td>\n",
              "            <td>None</td>\n",
              "            <td>37.746</td>\n",
              "            <td>0.5</td>\n",
              "            <td>64.83</td>\n",
              "            <td>0.511</td>\n",
              "            <td>None</td>\n",
              "            <td>None</td>\n",
              "            <td>None</td>\n",
              "            <td>None</td>\n",
              "        </tr>\n",
              "        <tr>\n",
              "            <td>AFG</td>\n",
              "            <td>Asia</td>\n",
              "            <td>Afghanistan</td>\n",
              "            <td>25/02/2020</td>\n",
              "            <td>None</td>\n",
              "            <td>None</td>\n",
              "            <td>None</td>\n",
              "            <td>None</td>\n",
              "            <td>None</td>\n",
              "            <td>None</td>\n",
              "            <td>None</td>\n",
              "            <td>None</td>\n",
              "            <td>None</td>\n",
              "            <td>None</td>\n",
              "            <td>None</td>\n",
              "            <td>None</td>\n",
              "            <td>None</td>\n",
              "            <td>None</td>\n",
              "            <td>None</td>\n",
              "            <td>None</td>\n",
              "            <td>None</td>\n",
              "            <td>None</td>\n",
              "            <td>None</td>\n",
              "            <td>None</td>\n",
              "            <td>8.33</td>\n",
              "            <td>54.422</td>\n",
              "            <td>18.6</td>\n",
              "            <td>2.5810000000000004</td>\n",
              "            <td>1.337</td>\n",
              "            <td>1803.987</td>\n",
              "            <td>None</td>\n",
              "            <td>597.029</td>\n",
              "            <td>9.59</td>\n",
              "            <td>None</td>\n",
              "            <td>None</td>\n",
              "            <td>37.746</td>\n",
              "            <td>0.5</td>\n",
              "            <td>64.83</td>\n",
              "            <td>0.511</td>\n",
              "            <td>None</td>\n",
              "            <td>None</td>\n",
              "            <td>None</td>\n",
              "            <td>None</td>\n",
              "        </tr>\n",
              "        <tr>\n",
              "            <td>AFG</td>\n",
              "            <td>Asia</td>\n",
              "            <td>Afghanistan</td>\n",
              "            <td>26/02/2020</td>\n",
              "            <td>None</td>\n",
              "            <td>None</td>\n",
              "            <td>None</td>\n",
              "            <td>None</td>\n",
              "            <td>None</td>\n",
              "            <td>None</td>\n",
              "            <td>None</td>\n",
              "            <td>None</td>\n",
              "            <td>None</td>\n",
              "            <td>None</td>\n",
              "            <td>None</td>\n",
              "            <td>None</td>\n",
              "            <td>None</td>\n",
              "            <td>None</td>\n",
              "            <td>None</td>\n",
              "            <td>None</td>\n",
              "            <td>None</td>\n",
              "            <td>None</td>\n",
              "            <td>None</td>\n",
              "            <td>None</td>\n",
              "            <td>8.33</td>\n",
              "            <td>54.422</td>\n",
              "            <td>18.6</td>\n",
              "            <td>2.5810000000000004</td>\n",
              "            <td>1.337</td>\n",
              "            <td>1803.987</td>\n",
              "            <td>None</td>\n",
              "            <td>597.029</td>\n",
              "            <td>9.59</td>\n",
              "            <td>None</td>\n",
              "            <td>None</td>\n",
              "            <td>37.746</td>\n",
              "            <td>0.5</td>\n",
              "            <td>64.83</td>\n",
              "            <td>0.511</td>\n",
              "            <td>None</td>\n",
              "            <td>None</td>\n",
              "            <td>None</td>\n",
              "            <td>None</td>\n",
              "        </tr>\n",
              "        <tr>\n",
              "            <td>AFG</td>\n",
              "            <td>Asia</td>\n",
              "            <td>Afghanistan</td>\n",
              "            <td>27/02/2020</td>\n",
              "            <td>None</td>\n",
              "            <td>None</td>\n",
              "            <td>None</td>\n",
              "            <td>None</td>\n",
              "            <td>None</td>\n",
              "            <td>None</td>\n",
              "            <td>None</td>\n",
              "            <td>None</td>\n",
              "            <td>None</td>\n",
              "            <td>None</td>\n",
              "            <td>None</td>\n",
              "            <td>None</td>\n",
              "            <td>None</td>\n",
              "            <td>None</td>\n",
              "            <td>None</td>\n",
              "            <td>None</td>\n",
              "            <td>None</td>\n",
              "            <td>None</td>\n",
              "            <td>None</td>\n",
              "            <td>None</td>\n",
              "            <td>8.33</td>\n",
              "            <td>54.422</td>\n",
              "            <td>18.6</td>\n",
              "            <td>2.5810000000000004</td>\n",
              "            <td>1.337</td>\n",
              "            <td>1803.987</td>\n",
              "            <td>None</td>\n",
              "            <td>597.029</td>\n",
              "            <td>9.59</td>\n",
              "            <td>None</td>\n",
              "            <td>None</td>\n",
              "            <td>37.746</td>\n",
              "            <td>0.5</td>\n",
              "            <td>64.83</td>\n",
              "            <td>0.511</td>\n",
              "            <td>None</td>\n",
              "            <td>None</td>\n",
              "            <td>None</td>\n",
              "            <td>None</td>\n",
              "        </tr>\n",
              "        <tr>\n",
              "            <td>AFG</td>\n",
              "            <td>Asia</td>\n",
              "            <td>Afghanistan</td>\n",
              "            <td>28/02/2020</td>\n",
              "            <td>None</td>\n",
              "            <td>None</td>\n",
              "            <td>None</td>\n",
              "            <td>None</td>\n",
              "            <td>None</td>\n",
              "            <td>None</td>\n",
              "            <td>None</td>\n",
              "            <td>None</td>\n",
              "            <td>None</td>\n",
              "            <td>None</td>\n",
              "            <td>None</td>\n",
              "            <td>None</td>\n",
              "            <td>None</td>\n",
              "            <td>None</td>\n",
              "            <td>None</td>\n",
              "            <td>None</td>\n",
              "            <td>None</td>\n",
              "            <td>None</td>\n",
              "            <td>None</td>\n",
              "            <td>None</td>\n",
              "            <td>8.33</td>\n",
              "            <td>54.422</td>\n",
              "            <td>18.6</td>\n",
              "            <td>2.5810000000000004</td>\n",
              "            <td>1.337</td>\n",
              "            <td>1803.987</td>\n",
              "            <td>None</td>\n",
              "            <td>597.029</td>\n",
              "            <td>9.59</td>\n",
              "            <td>None</td>\n",
              "            <td>None</td>\n",
              "            <td>37.746</td>\n",
              "            <td>0.5</td>\n",
              "            <td>64.83</td>\n",
              "            <td>0.511</td>\n",
              "            <td>None</td>\n",
              "            <td>None</td>\n",
              "            <td>None</td>\n",
              "            <td>None</td>\n",
              "        </tr>\n",
              "    </tbody>\n",
              "</table>"
            ],
            "text/plain": [
              "[('AFG', 'Asia', 'Afghanistan', '24/02/2020', None, None, None, None, None, None, None, None, None, None, None, None, None, None, None, None, None, None, None, None, 8.33, 54.422, 18.6, 2.5810000000000004, 1.337, 1803.987, None, 597.029, 9.59, None, None, 37.746, 0.5, 64.83, 0.511, None, None, None, None),\n",
              " ('AFG', 'Asia', 'Afghanistan', '25/02/2020', None, None, None, None, None, None, None, None, None, None, None, None, None, None, None, None, None, None, None, None, 8.33, 54.422, 18.6, 2.5810000000000004, 1.337, 1803.987, None, 597.029, 9.59, None, None, 37.746, 0.5, 64.83, 0.511, None, None, None, None),\n",
              " ('AFG', 'Asia', 'Afghanistan', '26/02/2020', None, None, None, None, None, None, None, None, None, None, None, None, None, None, None, None, None, None, None, None, 8.33, 54.422, 18.6, 2.5810000000000004, 1.337, 1803.987, None, 597.029, 9.59, None, None, 37.746, 0.5, 64.83, 0.511, None, None, None, None),\n",
              " ('AFG', 'Asia', 'Afghanistan', '27/02/2020', None, None, None, None, None, None, None, None, None, None, None, None, None, None, None, None, None, None, None, None, 8.33, 54.422, 18.6, 2.5810000000000004, 1.337, 1803.987, None, 597.029, 9.59, None, None, 37.746, 0.5, 64.83, 0.511, None, None, None, None),\n",
              " ('AFG', 'Asia', 'Afghanistan', '28/02/2020', None, None, None, None, None, None, None, None, None, None, None, None, None, None, None, None, None, None, None, None, 8.33, 54.422, 18.6, 2.5810000000000004, 1.337, 1803.987, None, 597.029, 9.59, None, None, 37.746, 0.5, 64.83, 0.511, None, None, None, None)]"
            ]
          },
          "metadata": {},
          "execution_count": 5
        }
      ]
    },
    {
      "cell_type": "code",
      "metadata": {
        "colab": {
          "base_uri": "https://localhost:8080/",
          "height": 284
        },
        "id": "ZJORWS6M6CuH",
        "outputId": "81d67f5c-d29f-488a-d3a2-befc2f346cc7"
      },
      "source": [
        "#Selecting the data that we are going to be using ordered by date and location\n",
        "%%sql\n",
        "\n",
        "SELECT location, date, total_cases,new_cases, total_deaths, population FROM covid_deaths ORDER BY 1,2 LIMIT 10;"
      ],
      "execution_count": 6,
      "outputs": [
        {
          "output_type": "stream",
          "name": "stdout",
          "text": [
            " * sqlite://\n",
            "Done.\n"
          ]
        },
        {
          "output_type": "execute_result",
          "data": {
            "text/html": [
              "<table>\n",
              "    <thead>\n",
              "        <tr>\n",
              "            <th>location</th>\n",
              "            <th>date</th>\n",
              "            <th>total_cases</th>\n",
              "            <th>new_cases</th>\n",
              "            <th>total_deaths</th>\n",
              "            <th>population</th>\n",
              "        </tr>\n",
              "    </thead>\n",
              "    <tbody>\n",
              "        <tr>\n",
              "            <td>Afghanistan</td>\n",
              "            <td>01/01/2021</td>\n",
              "            <td>52513.0</td>\n",
              "            <td>183.0</td>\n",
              "            <td>2201.0</td>\n",
              "            <td>39835428.0</td>\n",
              "        </tr>\n",
              "        <tr>\n",
              "            <td>Afghanistan</td>\n",
              "            <td>01/02/2021</td>\n",
              "            <td>55059.0</td>\n",
              "            <td>36.0</td>\n",
              "            <td>2404.0</td>\n",
              "            <td>39835428.0</td>\n",
              "        </tr>\n",
              "        <tr>\n",
              "            <td>Afghanistan</td>\n",
              "            <td>01/03/2020</td>\n",
              "            <td>5.0</td>\n",
              "            <td>0.0</td>\n",
              "            <td>None</td>\n",
              "            <td>39835428.0</td>\n",
              "        </tr>\n",
              "        <tr>\n",
              "            <td>Afghanistan</td>\n",
              "            <td>01/03/2021</td>\n",
              "            <td>55733.0</td>\n",
              "            <td>19.0</td>\n",
              "            <td>2444.0</td>\n",
              "            <td>39835428.0</td>\n",
              "        </tr>\n",
              "        <tr>\n",
              "            <td>Afghanistan</td>\n",
              "            <td>01/04/2020</td>\n",
              "            <td>192.0</td>\n",
              "            <td>26.0</td>\n",
              "            <td>4.0</td>\n",
              "            <td>39835428.0</td>\n",
              "        </tr>\n",
              "        <tr>\n",
              "            <td>Afghanistan</td>\n",
              "            <td>01/04/2021</td>\n",
              "            <td>56517.0</td>\n",
              "            <td>63.0</td>\n",
              "            <td>2489.0</td>\n",
              "            <td>39835428.0</td>\n",
              "        </tr>\n",
              "        <tr>\n",
              "            <td>Afghanistan</td>\n",
              "            <td>01/05/2020</td>\n",
              "            <td>2171.0</td>\n",
              "            <td>344.0</td>\n",
              "            <td>64.0</td>\n",
              "            <td>39835428.0</td>\n",
              "        </tr>\n",
              "        <tr>\n",
              "            <td>Afghanistan</td>\n",
              "            <td>01/05/2021</td>\n",
              "            <td>59939.0</td>\n",
              "            <td>194.0</td>\n",
              "            <td>2631.0</td>\n",
              "            <td>39835428.0</td>\n",
              "        </tr>\n",
              "        <tr>\n",
              "            <td>Afghanistan</td>\n",
              "            <td>01/06/2020</td>\n",
              "            <td>15836.0</td>\n",
              "            <td>656.0</td>\n",
              "            <td>269.0</td>\n",
              "            <td>39835428.0</td>\n",
              "        </tr>\n",
              "        <tr>\n",
              "            <td>Afghanistan</td>\n",
              "            <td>01/06/2021</td>\n",
              "            <td>72977.0</td>\n",
              "            <td>1139.0</td>\n",
              "            <td>2973.0</td>\n",
              "            <td>39835428.0</td>\n",
              "        </tr>\n",
              "    </tbody>\n",
              "</table>"
            ],
            "text/plain": [
              "[('Afghanistan', '01/01/2021', 52513.0, 183.0, 2201.0, 39835428.0),\n",
              " ('Afghanistan', '01/02/2021', 55059.0, 36.0, 2404.0, 39835428.0),\n",
              " ('Afghanistan', '01/03/2020', 5.0, 0.0, None, 39835428.0),\n",
              " ('Afghanistan', '01/03/2021', 55733.0, 19.0, 2444.0, 39835428.0),\n",
              " ('Afghanistan', '01/04/2020', 192.0, 26.0, 4.0, 39835428.0),\n",
              " ('Afghanistan', '01/04/2021', 56517.0, 63.0, 2489.0, 39835428.0),\n",
              " ('Afghanistan', '01/05/2020', 2171.0, 344.0, 64.0, 39835428.0),\n",
              " ('Afghanistan', '01/05/2021', 59939.0, 194.0, 2631.0, 39835428.0),\n",
              " ('Afghanistan', '01/06/2020', 15836.0, 656.0, 269.0, 39835428.0),\n",
              " ('Afghanistan', '01/06/2021', 72977.0, 1139.0, 2973.0, 39835428.0)]"
            ]
          },
          "metadata": {},
          "execution_count": 6
        }
      ]
    },
    {
      "cell_type": "code",
      "metadata": {
        "id": "BjdUisX-ITw2",
        "colab": {
          "base_uri": "https://localhost:8080/",
          "height": 284
        },
        "outputId": "111c888c-2418-46ca-9a21-bbb61e0ce1c5"
      },
      "source": [
        "%%sql\n",
        "--Looking at total deaths vs total cases\n",
        "SELECT location, date, total_cases, total_deaths, (total_deaths/total_cases)*100 as death_percentage\n",
        "FROM covid_deaths WHERE total_cases AND total_deaths IS NOT NULL\n",
        "ORDER BY 5 desc LIMIT 10;"
      ],
      "execution_count": 76,
      "outputs": [
        {
          "output_type": "stream",
          "name": "stdout",
          "text": [
            " * sqlite://\n",
            "Done.\n"
          ]
        },
        {
          "output_type": "execute_result",
          "data": {
            "text/html": [
              "<table>\n",
              "    <thead>\n",
              "        <tr>\n",
              "            <th>location</th>\n",
              "            <th>date</th>\n",
              "            <th>total_cases</th>\n",
              "            <th>total_deaths</th>\n",
              "            <th>death_percentage</th>\n",
              "        </tr>\n",
              "    </thead>\n",
              "    <tbody>\n",
              "        <tr>\n",
              "            <td>Guyana</td>\n",
              "            <td>12/03/2020</td>\n",
              "            <td>1.0</td>\n",
              "            <td>1.0</td>\n",
              "            <td>100.0</td>\n",
              "        </tr>\n",
              "        <tr>\n",
              "            <td>Guyana</td>\n",
              "            <td>13/03/2020</td>\n",
              "            <td>1.0</td>\n",
              "            <td>1.0</td>\n",
              "            <td>100.0</td>\n",
              "        </tr>\n",
              "        <tr>\n",
              "            <td>Guyana</td>\n",
              "            <td>14/03/2020</td>\n",
              "            <td>1.0</td>\n",
              "            <td>1.0</td>\n",
              "            <td>100.0</td>\n",
              "        </tr>\n",
              "        <tr>\n",
              "            <td>Iran</td>\n",
              "            <td>19/02/2020</td>\n",
              "            <td>2.0</td>\n",
              "            <td>2.0</td>\n",
              "            <td>100.0</td>\n",
              "        </tr>\n",
              "        <tr>\n",
              "            <td>Peru</td>\n",
              "            <td>06/03/2020</td>\n",
              "            <td>1.0</td>\n",
              "            <td>1.0</td>\n",
              "            <td>100.0</td>\n",
              "        </tr>\n",
              "        <tr>\n",
              "            <td>Peru</td>\n",
              "            <td>07/03/2020</td>\n",
              "            <td>1.0</td>\n",
              "            <td>1.0</td>\n",
              "            <td>100.0</td>\n",
              "        </tr>\n",
              "        <tr>\n",
              "            <td>San Marino</td>\n",
              "            <td>29/02/2020</td>\n",
              "            <td>1.0</td>\n",
              "            <td>1.0</td>\n",
              "            <td>100.0</td>\n",
              "        </tr>\n",
              "        <tr>\n",
              "            <td>San Marino</td>\n",
              "            <td>01/03/2020</td>\n",
              "            <td>1.0</td>\n",
              "            <td>1.0</td>\n",
              "            <td>100.0</td>\n",
              "        </tr>\n",
              "        <tr>\n",
              "            <td>San Marino</td>\n",
              "            <td>02/03/2020</td>\n",
              "            <td>1.0</td>\n",
              "            <td>1.0</td>\n",
              "            <td>100.0</td>\n",
              "        </tr>\n",
              "        <tr>\n",
              "            <td>Sudan</td>\n",
              "            <td>14/03/2020</td>\n",
              "            <td>1.0</td>\n",
              "            <td>1.0</td>\n",
              "            <td>100.0</td>\n",
              "        </tr>\n",
              "    </tbody>\n",
              "</table>"
            ],
            "text/plain": [
              "[('Guyana', '12/03/2020', 1.0, 1.0, 100.0),\n",
              " ('Guyana', '13/03/2020', 1.0, 1.0, 100.0),\n",
              " ('Guyana', '14/03/2020', 1.0, 1.0, 100.0),\n",
              " ('Iran', '19/02/2020', 2.0, 2.0, 100.0),\n",
              " ('Peru', '06/03/2020', 1.0, 1.0, 100.0),\n",
              " ('Peru', '07/03/2020', 1.0, 1.0, 100.0),\n",
              " ('San Marino', '29/02/2020', 1.0, 1.0, 100.0),\n",
              " ('San Marino', '01/03/2020', 1.0, 1.0, 100.0),\n",
              " ('San Marino', '02/03/2020', 1.0, 1.0, 100.0),\n",
              " ('Sudan', '14/03/2020', 1.0, 1.0, 100.0)]"
            ]
          },
          "metadata": {},
          "execution_count": 76
        }
      ]
    },
    {
      "cell_type": "code",
      "metadata": {
        "colab": {
          "base_uri": "https://localhost:8080/",
          "height": 179
        },
        "id": "C8HAl48sc0pb",
        "outputId": "e119a4bf-3847-4abf-98d2-7263c5a294b6"
      },
      "source": [
        "%%sql\n",
        "--Looking at total deaths vs total cases\n",
        "SELECT location, date, total_cases, total_deaths, (total_deaths/total_cases)*100 as death_percentage\n",
        "FROM covid_deaths \n",
        "WHERE location like '%Kenya%' AND  total_cases AND total_deaths IS NOT NULL \n",
        "ORDER BY 5 desc LIMIT 5;"
      ],
      "execution_count": 53,
      "outputs": [
        {
          "output_type": "stream",
          "name": "stdout",
          "text": [
            " * sqlite://\n",
            "Done.\n"
          ]
        },
        {
          "output_type": "execute_result",
          "data": {
            "text/html": [
              "<table>\n",
              "    <thead>\n",
              "        <tr>\n",
              "            <th>location</th>\n",
              "            <th>date</th>\n",
              "            <th>total_cases</th>\n",
              "            <th>total_deaths</th>\n",
              "            <th>death_percentage</th>\n",
              "        </tr>\n",
              "    </thead>\n",
              "    <tbody>\n",
              "        <tr>\n",
              "            <td>Kenya</td>\n",
              "            <td>16/05/2020</td>\n",
              "            <td>830.0</td>\n",
              "            <td>50.0</td>\n",
              "            <td>6.024096385542169</td>\n",
              "        </tr>\n",
              "        <tr>\n",
              "            <td>Kenya</td>\n",
              "            <td>15/05/2020</td>\n",
              "            <td>781.0</td>\n",
              "            <td>45.0</td>\n",
              "            <td>5.761843790012804</td>\n",
              "        </tr>\n",
              "        <tr>\n",
              "            <td>Kenya</td>\n",
              "            <td>17/05/2020</td>\n",
              "            <td>887.0</td>\n",
              "            <td>50.0</td>\n",
              "            <td>5.636978579481398</td>\n",
              "        </tr>\n",
              "        <tr>\n",
              "            <td>Kenya</td>\n",
              "            <td>14/05/2020</td>\n",
              "            <td>758.0</td>\n",
              "            <td>42.0</td>\n",
              "            <td>5.540897097625329</td>\n",
              "        </tr>\n",
              "        <tr>\n",
              "            <td>Kenya</td>\n",
              "            <td>18/05/2020</td>\n",
              "            <td>912.0</td>\n",
              "            <td>50.0</td>\n",
              "            <td>5.482456140350877</td>\n",
              "        </tr>\n",
              "    </tbody>\n",
              "</table>"
            ],
            "text/plain": [
              "[('Kenya', '16/05/2020', 830.0, 50.0, 6.024096385542169),\n",
              " ('Kenya', '15/05/2020', 781.0, 45.0, 5.761843790012804),\n",
              " ('Kenya', '17/05/2020', 887.0, 50.0, 5.636978579481398),\n",
              " ('Kenya', '14/05/2020', 758.0, 42.0, 5.540897097625329),\n",
              " ('Kenya', '18/05/2020', 912.0, 50.0, 5.482456140350877)]"
            ]
          },
          "metadata": {},
          "execution_count": 53
        }
      ]
    },
    {
      "cell_type": "code",
      "metadata": {
        "colab": {
          "base_uri": "https://localhost:8080/",
          "height": 179
        },
        "id": "qu17vUwpHQkA",
        "outputId": "63cd1727-7b60-4341-91ba-90d3aa568587"
      },
      "source": [
        "%%sql\n",
        "--Looking at percentage of infection per country \n",
        "  --Ordered by highest infected population percentage\n",
        "SELECT location, date, total_cases, total_deaths, (total_cases/population)*100 as infected_pop_percentage\n",
        "FROM covid_deaths \n",
        "GROUP BY location\n",
        "ORDER BY 5 desc LIMIT 5;"
      ],
      "execution_count": 67,
      "outputs": [
        {
          "output_type": "stream",
          "name": "stdout",
          "text": [
            " * sqlite://\n",
            "Done.\n"
          ]
        },
        {
          "output_type": "execute_result",
          "data": {
            "text/html": [
              "<table>\n",
              "    <thead>\n",
              "        <tr>\n",
              "            <th>location</th>\n",
              "            <th>date</th>\n",
              "            <th>total_cases</th>\n",
              "            <th>total_deaths</th>\n",
              "            <th>infected_pop_percentage</th>\n",
              "        </tr>\n",
              "    </thead>\n",
              "    <tbody>\n",
              "        <tr>\n",
              "            <td>Seychelles</td>\n",
              "            <td>08/10/2021</td>\n",
              "            <td>21726.0</td>\n",
              "            <td>118.0</td>\n",
              "            <td>21.965423111919925</td>\n",
              "        </tr>\n",
              "        <tr>\n",
              "            <td>Montenegro</td>\n",
              "            <td>08/10/2021</td>\n",
              "            <td>134602.0</td>\n",
              "            <td>1980.0</td>\n",
              "            <td>21.43169901807337</td>\n",
              "        </tr>\n",
              "        <tr>\n",
              "            <td>Andorra</td>\n",
              "            <td>08/10/2021</td>\n",
              "            <td>15291.0</td>\n",
              "            <td>130.0</td>\n",
              "            <td>19.76756211702045</td>\n",
              "        </tr>\n",
              "        <tr>\n",
              "            <td>San Marino</td>\n",
              "            <td>08/10/2021</td>\n",
              "            <td>5466.0</td>\n",
              "            <td>91.0</td>\n",
              "            <td>16.07174360482211</td>\n",
              "        </tr>\n",
              "        <tr>\n",
              "            <td>Czechia</td>\n",
              "            <td>08/10/2021</td>\n",
              "            <td>1698061.0</td>\n",
              "            <td>30496.0</td>\n",
              "            <td>15.833396506129441</td>\n",
              "        </tr>\n",
              "    </tbody>\n",
              "</table>"
            ],
            "text/plain": [
              "[('Seychelles', '08/10/2021', 21726.0, 118.0, 21.965423111919925),\n",
              " ('Montenegro', '08/10/2021', 134602.0, 1980.0, 21.43169901807337),\n",
              " ('Andorra', '08/10/2021', 15291.0, 130.0, 19.76756211702045),\n",
              " ('San Marino', '08/10/2021', 5466.0, 91.0, 16.07174360482211),\n",
              " ('Czechia', '08/10/2021', 1698061.0, 30496.0, 15.833396506129441)]"
            ]
          },
          "metadata": {},
          "execution_count": 67
        }
      ]
    },
    {
      "cell_type": "markdown",
      "metadata": {
        "id": "gEa0MhN-lnvM"
      },
      "source": [
        "Seychelles, Montenegro and Andorra had the highest percentage of infeccted population which were 21.97%, 21.43% and 19.77% respectively as of 08/10/2021."
      ]
    },
    {
      "cell_type": "code",
      "metadata": {
        "colab": {
          "base_uri": "https://localhost:8080/",
          "height": 389
        },
        "id": "JhbxBMmccJNk",
        "outputId": "79a6b85a-b122-4056-81f0-71c44c9fcef8"
      },
      "source": [
        "%%sql\n",
        "--Looking at top percentage of infected population in Kenya.\n",
        "SELECT location, total_cases, MAX(total_deaths) as highest_total_deaths, MAX((total_cases/population))*100 as infected_pop_percentage\n",
        "FROM covid_deaths\n",
        "WHERE continent IS NOT NULL\n",
        "GROUP BY location  \n",
        "ORDER BY 4 desc LIMIT 15;"
      ],
      "execution_count": 97,
      "outputs": [
        {
          "output_type": "stream",
          "name": "stdout",
          "text": [
            " * sqlite://\n",
            "Done.\n"
          ]
        },
        {
          "output_type": "execute_result",
          "data": {
            "text/html": [
              "<table>\n",
              "    <thead>\n",
              "        <tr>\n",
              "            <th>location</th>\n",
              "            <th>total_cases</th>\n",
              "            <th>highest_total_deaths</th>\n",
              "            <th>infected_pop_percentage</th>\n",
              "        </tr>\n",
              "    </thead>\n",
              "    <tbody>\n",
              "        <tr>\n",
              "            <td>Seychelles</td>\n",
              "            <td>21726.0</td>\n",
              "            <td>118.0</td>\n",
              "            <td>21.965423111919925</td>\n",
              "        </tr>\n",
              "        <tr>\n",
              "            <td>Montenegro</td>\n",
              "            <td>134602.0</td>\n",
              "            <td>1980.0</td>\n",
              "            <td>21.43169901807337</td>\n",
              "        </tr>\n",
              "        <tr>\n",
              "            <td>Andorra</td>\n",
              "            <td>15291.0</td>\n",
              "            <td>130.0</td>\n",
              "            <td>19.76756211702045</td>\n",
              "        </tr>\n",
              "        <tr>\n",
              "            <td>San Marino</td>\n",
              "            <td>5466.0</td>\n",
              "            <td>91.0</td>\n",
              "            <td>16.07174360482211</td>\n",
              "        </tr>\n",
              "        <tr>\n",
              "            <td>Czechia</td>\n",
              "            <td>1698061.0</td>\n",
              "            <td>30496.0</td>\n",
              "            <td>15.833396506129441</td>\n",
              "        </tr>\n",
              "        <tr>\n",
              "            <td>Georgia</td>\n",
              "            <td>628719.0</td>\n",
              "            <td>9192.0</td>\n",
              "            <td>15.797860832766089</td>\n",
              "        </tr>\n",
              "        <tr>\n",
              "            <td>Bahrain</td>\n",
              "            <td>275538.0</td>\n",
              "            <td>1390.0</td>\n",
              "            <td>15.760383688107558</td>\n",
              "        </tr>\n",
              "        <tr>\n",
              "            <td>Maldives</td>\n",
              "            <td>85394.0</td>\n",
              "            <td>233.0</td>\n",
              "            <td>15.708399249475738</td>\n",
              "        </tr>\n",
              "        <tr>\n",
              "            <td>Israel</td>\n",
              "            <td>1302777.0</td>\n",
              "            <td>7885.0</td>\n",
              "            <td>14.821503983719268</td>\n",
              "        </tr>\n",
              "        <tr>\n",
              "            <td>Slovenia</td>\n",
              "            <td>300084.0</td>\n",
              "            <td>4899.0</td>\n",
              "            <td>14.435978242411327</td>\n",
              "        </tr>\n",
              "        <tr>\n",
              "            <td>Serbia</td>\n",
              "            <td>994708.0</td>\n",
              "            <td>8631.0</td>\n",
              "            <td>14.398896156233498</td>\n",
              "        </tr>\n",
              "        <tr>\n",
              "            <td>Cyprus</td>\n",
              "            <td>120992.0</td>\n",
              "            <td>558.0</td>\n",
              "            <td>13.503496074240656</td>\n",
              "        </tr>\n",
              "        <tr>\n",
              "            <td>United States</td>\n",
              "            <td>44290052.0</td>\n",
              "            <td>712693.0</td>\n",
              "            <td>13.303708801122054</td>\n",
              "        </tr>\n",
              "        <tr>\n",
              "            <td>Lithuania</td>\n",
              "            <td>347548.0</td>\n",
              "            <td>5179.0</td>\n",
              "            <td>12.920662844413581</td>\n",
              "        </tr>\n",
              "        <tr>\n",
              "            <td>Luxembourg</td>\n",
              "            <td>79018.0</td>\n",
              "            <td>836.0</td>\n",
              "            <td>12.447425545120302</td>\n",
              "        </tr>\n",
              "    </tbody>\n",
              "</table>"
            ],
            "text/plain": [
              "[('Seychelles', 21726.0, 118.0, 21.965423111919925),\n",
              " ('Montenegro', 134602.0, 1980.0, 21.43169901807337),\n",
              " ('Andorra', 15291.0, 130.0, 19.76756211702045),\n",
              " ('San Marino', 5466.0, 91.0, 16.07174360482211),\n",
              " ('Czechia', 1698061.0, 30496.0, 15.833396506129441),\n",
              " ('Georgia', 628719.0, 9192.0, 15.797860832766089),\n",
              " ('Bahrain', 275538.0, 1390.0, 15.760383688107558),\n",
              " ('Maldives', 85394.0, 233.0, 15.708399249475738),\n",
              " ('Israel', 1302777.0, 7885.0, 14.821503983719268),\n",
              " ('Slovenia', 300084.0, 4899.0, 14.435978242411327),\n",
              " ('Serbia', 994708.0, 8631.0, 14.398896156233498),\n",
              " ('Cyprus', 120992.0, 558.0, 13.503496074240656),\n",
              " ('United States', 44290052.0, 712693.0, 13.303708801122054),\n",
              " ('Lithuania', 347548.0, 5179.0, 12.920662844413581),\n",
              " ('Luxembourg', 79018.0, 836.0, 12.447425545120302)]"
            ]
          },
          "metadata": {},
          "execution_count": 97
        }
      ]
    },
    {
      "cell_type": "markdown",
      "metadata": {
        "id": "oNUe3t3-i898"
      },
      "source": [
        "Percentage of Kenyan population infected with covid 19 as at 08/10/2021 was 0.456%"
      ]
    },
    {
      "cell_type": "code",
      "metadata": {
        "id": "t0NjSEgQIT4F",
        "colab": {
          "base_uri": "https://localhost:8080/",
          "height": 179
        },
        "outputId": "2a3191b1-d92b-441f-8acf-fc3d80f07c97"
      },
      "source": [
        "%%sql\n",
        "--Looking at coutries with the highest total death count.\n",
        "SELECT location, total_cases, MAX(total_deaths) as maximum_deaths \n",
        "FROM covid_deaths \n",
        "WHERE continent IS NOT NULL\n",
        "group by location\n",
        "ORDER BY 3 desc LIMIT 5;"
      ],
      "execution_count": 103,
      "outputs": [
        {
          "output_type": "stream",
          "name": "stdout",
          "text": [
            " * sqlite://\n",
            "Done.\n"
          ]
        },
        {
          "output_type": "execute_result",
          "data": {
            "text/html": [
              "<table>\n",
              "    <thead>\n",
              "        <tr>\n",
              "            <th>location</th>\n",
              "            <th>total_cases</th>\n",
              "            <th>maximum_deaths</th>\n",
              "        </tr>\n",
              "    </thead>\n",
              "    <tbody>\n",
              "        <tr>\n",
              "            <td>United States</td>\n",
              "            <td>44290052.0</td>\n",
              "            <td>712693.0</td>\n",
              "        </tr>\n",
              "        <tr>\n",
              "            <td>Brazil</td>\n",
              "            <td>21550730.0</td>\n",
              "            <td>600425.0</td>\n",
              "        </tr>\n",
              "        <tr>\n",
              "            <td>India</td>\n",
              "            <td>33935309.0</td>\n",
              "            <td>450375.0</td>\n",
              "        </tr>\n",
              "        <tr>\n",
              "            <td>Mexico</td>\n",
              "            <td>3714392.0</td>\n",
              "            <td>281610.0</td>\n",
              "        </tr>\n",
              "        <tr>\n",
              "            <td>Russia</td>\n",
              "            <td>7602386.0</td>\n",
              "            <td>210673.0</td>\n",
              "        </tr>\n",
              "    </tbody>\n",
              "</table>"
            ],
            "text/plain": [
              "[('United States', 44290052.0, 712693.0),\n",
              " ('Brazil', 21550730.0, 600425.0),\n",
              " ('India', 33935309.0, 450375.0),\n",
              " ('Mexico', 3714392.0, 281610.0),\n",
              " ('Russia', 7602386.0, 210673.0)]"
            ]
          },
          "metadata": {},
          "execution_count": 103
        }
      ]
    },
    {
      "cell_type": "code",
      "metadata": {
        "id": "gIeKcM39IT73",
        "colab": {
          "base_uri": "https://localhost:8080/",
          "height": 179
        },
        "outputId": "c837f35d-b3a0-4ca8-b667-bf3694ceee90"
      },
      "source": [
        "%%sql\n",
        "-- Top 5 countries with highest death count per population\n",
        "SELECT location, MAX((total_deaths/population))*100 as death_count_per_population\n",
        "FROM covid_deaths\n",
        "-- To exclude data that was aggregated per continent\n",
        "WHERE continent IS NOT NULL\n",
        "--Group by location to get highest per country\n",
        "GROUP BY location \n",
        "--Order in descending order of the highest death count per location \n",
        "ORDER BY 2 desc LIMIT 5;\n"
      ],
      "execution_count": 99,
      "outputs": [
        {
          "output_type": "stream",
          "name": "stdout",
          "text": [
            " * sqlite://\n",
            "Done.\n"
          ]
        },
        {
          "output_type": "execute_result",
          "data": {
            "text/html": [
              "<table>\n",
              "    <thead>\n",
              "        <tr>\n",
              "            <th>location</th>\n",
              "            <th>death_count_per_population</th>\n",
              "        </tr>\n",
              "    </thead>\n",
              "    <tbody>\n",
              "        <tr>\n",
              "            <td>Peru</td>\n",
              "            <td>0.5984277601990323</td>\n",
              "        </tr>\n",
              "        <tr>\n",
              "            <td>Bosnia and Herzegovina</td>\n",
              "            <td>0.332867672000782</td>\n",
              "        </tr>\n",
              "        <tr>\n",
              "            <td>North Macedonia</td>\n",
              "            <td>0.3264573543173853</td>\n",
              "        </tr>\n",
              "        <tr>\n",
              "            <td>Montenegro</td>\n",
              "            <td>0.31526102179600063</td>\n",
              "        </tr>\n",
              "        <tr>\n",
              "            <td>Hungary</td>\n",
              "            <td>0.3142463246933153</td>\n",
              "        </tr>\n",
              "    </tbody>\n",
              "</table>"
            ],
            "text/plain": [
              "[('Peru', 0.5984277601990323),\n",
              " ('Bosnia and Herzegovina', 0.332867672000782),\n",
              " ('North Macedonia', 0.3264573543173853),\n",
              " ('Montenegro', 0.31526102179600063),\n",
              " ('Hungary', 0.3142463246933153)]"
            ]
          },
          "metadata": {},
          "execution_count": 99
        }
      ]
    },
    {
      "cell_type": "markdown",
      "metadata": {
        "id": "bzVjs1FKxkHE"
      },
      "source": [
        "Peru had the highest death to population ratio at 0.60% percent followed by Bosmia and Herzegovina at 0.33%."
      ]
    },
    {
      "cell_type": "code",
      "metadata": {
        "id": "B3dFcgb5IT_K"
      },
      "source": [
        "%%sql\n"
      ],
      "execution_count": null,
      "outputs": []
    },
    {
      "cell_type": "code",
      "metadata": {
        "id": "AuIQocS6IUD9"
      },
      "source": [
        "%%sql\n"
      ],
      "execution_count": null,
      "outputs": []
    },
    {
      "cell_type": "code",
      "metadata": {
        "id": "xRBtPUwuIUGl"
      },
      "source": [
        "%%sql\n"
      ],
      "execution_count": null,
      "outputs": []
    },
    {
      "cell_type": "code",
      "metadata": {
        "id": "bG2eXBCrIUKP"
      },
      "source": [
        "%%sql\n"
      ],
      "execution_count": null,
      "outputs": []
    },
    {
      "cell_type": "code",
      "metadata": {
        "id": "sio0AZ_8IUMq"
      },
      "source": [
        "%%sql\n"
      ],
      "execution_count": null,
      "outputs": []
    },
    {
      "cell_type": "code",
      "metadata": {
        "id": "Kn1Sk0wKIUOx"
      },
      "source": [
        "%%sql\n"
      ],
      "execution_count": null,
      "outputs": []
    },
    {
      "cell_type": "code",
      "metadata": {
        "id": "sOs-bY8mIUSW"
      },
      "source": [
        "%%sql\n"
      ],
      "execution_count": null,
      "outputs": []
    },
    {
      "cell_type": "code",
      "metadata": {
        "id": "HSXgKUMWIUV-"
      },
      "source": [
        "%%sql\n"
      ],
      "execution_count": null,
      "outputs": []
    },
    {
      "cell_type": "code",
      "metadata": {
        "id": "_avDXTEHIUY0"
      },
      "source": [
        "%%sql\n"
      ],
      "execution_count": null,
      "outputs": []
    },
    {
      "cell_type": "code",
      "metadata": {
        "id": "cvlsX1HUIUcj"
      },
      "source": [
        "%%sql\n"
      ],
      "execution_count": null,
      "outputs": []
    },
    {
      "cell_type": "code",
      "metadata": {
        "id": "o6guWnxiIUoz"
      },
      "source": [
        "%%sql\n"
      ],
      "execution_count": null,
      "outputs": []
    },
    {
      "cell_type": "code",
      "metadata": {
        "id": "SAjtU5vCIUuf"
      },
      "source": [
        "%%sql\n"
      ],
      "execution_count": null,
      "outputs": []
    }
  ]
}