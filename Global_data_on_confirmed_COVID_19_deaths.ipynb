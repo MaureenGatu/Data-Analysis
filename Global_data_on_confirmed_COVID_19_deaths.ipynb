{
  "nbformat": 4,
  "nbformat_minor": 0,
  "metadata": {
    "colab": {
      "name": "Global data on confirmed COVID-19 deaths.ipynb",
      "provenance": [],
      "collapsed_sections": [
        "kVGmt3poBmaK",
        "t3ciiEhEBwbq",
        "oGxfZo8LWZXx",
        "HOnfqP8HWXgB",
        "xcbAE9eGdhcv",
        "37i5kty06Eq1",
        "hLOshibV9ecp",
        "xVh4CuRXAUTi",
        "SFtZ41J9Aujr",
        "qRngORkLA3eg",
        "O6M7ruV9A9n8"
      ],
      "mount_file_id": "1sfeQByowH_08qtZGUTJfUmIpzJhiJ35U",
      "authorship_tag": "ABX9TyPooJDOE4ibR3LOMt7XC4pb",
      "include_colab_link": true
    },
    "kernelspec": {
      "display_name": "Python 3",
      "name": "python3"
    },
    "language_info": {
      "name": "python"
    }
  },
  "cells": [
    {
      "cell_type": "markdown",
      "metadata": {
        "id": "view-in-github",
        "colab_type": "text"
      },
      "source": [
        "<a href=\"https://colab.research.google.com/github/MaureenGatu/Data-Analysis/blob/main/Global_data_on_confirmed_COVID_19_deaths.ipynb\" target=\"_parent\"><img src=\"https://colab.research.google.com/assets/colab-badge.svg\" alt=\"Open In Colab\"/></a>"
      ]
    },
    {
      "cell_type": "markdown",
      "metadata": {
        "id": "-Mv-z-IY6Ewr"
      },
      "source": [
        "# ***COVID-19 DEATHS DATA EXPLORATION***"
      ]
    },
    {
      "cell_type": "markdown",
      "metadata": {
        "id": "kVGmt3poBmaK"
      },
      "source": [
        "## **Overview**"
      ]
    },
    {
      "cell_type": "markdown",
      "metadata": {
        "id": "UZ1qwRUaBq3U"
      },
      "source": [
        ""
      ]
    },
    {
      "cell_type": "markdown",
      "metadata": {
        "id": "t3ciiEhEBwbq"
      },
      "source": [
        "### Analysis Design\n",
        "\n"
      ]
    },
    {
      "cell_type": "markdown",
      "metadata": {
        "id": "LQKLCN0dDPap"
      },
      "source": [
        "To get a proper picture and a good understanding of the data used for this analysis, the analysis was subdivided into the following sections.\n",
        "1. ***Covid-19 Related deaths***\n",
        "\n",
        "    a. Global analysis\n",
        "\n",
        "    b. Anlysis by Continent\n",
        "\n",
        "    c. Per country analysis\n",
        "2. ***Covid-19 Vaccination***\n",
        "\n",
        "    a. Global analysis\n",
        "\n",
        "    b. Anlysis by Continent\n",
        "\n",
        "    c. Per country analysis\n",
        "3. ***Covid-19 Deaths vs. Vaccination Analysis***\n",
        "\n",
        "    a. Global analysis\n",
        "\n",
        "    b. Anlysis by Continent\n",
        "\n",
        "    c. Per country analysis\n",
        "4. ***Conclusion***"
      ]
    },
    {
      "cell_type": "markdown",
      "metadata": {
        "id": "oGxfZo8LWZXx"
      },
      "source": [
        "## Connecting to our Database"
      ]
    },
    {
      "cell_type": "code",
      "metadata": {
        "colab": {
          "base_uri": "https://localhost:8080/",
          "height": 36
        },
        "id": "aGOQCVTLWpSn",
        "outputId": "4141ec2b-85f6-43e6-ea78-dce90aa3bb82"
      },
      "source": [
        "# We will first load the sql extension into our environment\n",
        "%load_ext sql\n",
        "\n",
        "# Then connect to our in memory sqlite database\n",
        "# NB: This database will cease to exist as soon as the database connection is closed. \n",
        "%sql sqlite://"
      ],
      "execution_count": 1,
      "outputs": [
        {
          "output_type": "execute_result",
          "data": {
            "application/vnd.google.colaboratory.intrinsic+json": {
              "type": "string"
            },
            "text/plain": [
              "'Connected: @None'"
            ]
          },
          "metadata": {},
          "execution_count": 1
        }
      ]
    },
    {
      "cell_type": "markdown",
      "metadata": {
        "id": "HOnfqP8HWXgB"
      },
      "source": [
        "## Importing Data from CSV files"
      ]
    },
    {
      "cell_type": "markdown",
      "metadata": {
        "id": "UDDmPdUHmOIT"
      },
      "source": [
        "Datasets used in this notebook:\n",
        "\n",
        "\n",
        "1.   **Covid 19 Deaths**\n",
        "2.   **Covid 19 Vaccinations** \n",
        "\n",
        "> The dataset is from Our World in Data. ([Dataset Download](https://ourworldindata.org/covid-deaths))\n",
        "\n",
        "\n",
        "\n",
        "\n"
      ]
    },
    {
      "cell_type": "code",
      "metadata": {
        "id": "pfQPCUG1j63f"
      },
      "source": [
        "# Importing the pandas library\n",
        "# We will use a function read_csv from pandas to read our datasets as shown\n",
        "#\n",
        "import pandas as pd "
      ],
      "execution_count": 2,
      "outputs": []
    },
    {
      "cell_type": "code",
      "metadata": {
        "colab": {
          "base_uri": "https://localhost:8080/",
          "height": 245
        },
        "id": "wLNd4C2J12rZ",
        "outputId": "8f0a8349-fc87-4ee3-be0d-2fe297dacb10"
      },
      "source": [
        "# Loading our table from the respective CSV files \n",
        "with open('/content/drive/MyDrive/Data Science/Data Analysis/SQL/DATA/COVID_DEATHS_DATA.csv','r') as f:\n",
        "    covid_deaths = pd.read_csv(f, index_col=0, encoding='utf-8')\n",
        "# saving the urban center CSV file into a database\n",
        "%sql DROP TABLE if EXISTS covid_deaths;\n",
        "%sql PERSIST covid_deaths;\n",
        "\n",
        "# Displaying the first  5 entries \n",
        "%sql SELECT * FROM covid_deaths LIMIT 5;"
      ],
      "execution_count": 3,
      "outputs": [
        {
          "output_type": "stream",
          "name": "stdout",
          "text": [
            " * sqlite://\n",
            "Done.\n",
            " * sqlite://\n",
            " * sqlite://\n",
            "Done.\n"
          ]
        },
        {
          "output_type": "execute_result",
          "data": {
            "text/html": [
              "<table>\n",
              "    <thead>\n",
              "        <tr>\n",
              "            <th>iso_code</th>\n",
              "            <th>continent</th>\n",
              "            <th>location</th>\n",
              "            <th>date</th>\n",
              "            <th>population</th>\n",
              "            <th>total_cases</th>\n",
              "            <th>new_cases</th>\n",
              "            <th>new_cases_smoothed</th>\n",
              "            <th>total_deaths</th>\n",
              "            <th>new_deaths</th>\n",
              "            <th>new_deaths_smoothed</th>\n",
              "            <th>total_cases_per_million</th>\n",
              "            <th>new_cases_per_million</th>\n",
              "            <th>new_cases_smoothed_per_million</th>\n",
              "            <th>total_deaths_per_million</th>\n",
              "            <th>new_deaths_per_million</th>\n",
              "            <th>new_deaths_smoothed_per_million</th>\n",
              "            <th>reproduction_rate</th>\n",
              "            <th>icu_patients</th>\n",
              "            <th>icu_patients_per_million</th>\n",
              "            <th>hosp_patients</th>\n",
              "            <th>hosp_patients_per_million</th>\n",
              "            <th>weekly_icu_admissions</th>\n",
              "            <th>weekly_icu_admissions_per_million</th>\n",
              "            <th>weekly_hosp_admissions</th>\n",
              "            <th>weekly_hosp_admissions_per_million</th>\n",
              "        </tr>\n",
              "    </thead>\n",
              "    <tbody>\n",
              "        <tr>\n",
              "            <td>AFG</td>\n",
              "            <td>Asia</td>\n",
              "            <td>Afghanistan</td>\n",
              "            <td>24/02/2020</td>\n",
              "            <td>39835428.0</td>\n",
              "            <td>5.0</td>\n",
              "            <td>5.0</td>\n",
              "            <td>None</td>\n",
              "            <td>None</td>\n",
              "            <td>None</td>\n",
              "            <td>None</td>\n",
              "            <td>0.126</td>\n",
              "            <td>0.126</td>\n",
              "            <td>None</td>\n",
              "            <td>None</td>\n",
              "            <td>None</td>\n",
              "            <td>None</td>\n",
              "            <td>None</td>\n",
              "            <td>None</td>\n",
              "            <td>None</td>\n",
              "            <td>None</td>\n",
              "            <td>None</td>\n",
              "            <td>None</td>\n",
              "            <td>None</td>\n",
              "            <td>None</td>\n",
              "            <td>None</td>\n",
              "        </tr>\n",
              "        <tr>\n",
              "            <td>AFG</td>\n",
              "            <td>Asia</td>\n",
              "            <td>Afghanistan</td>\n",
              "            <td>25/02/2020</td>\n",
              "            <td>39835428.0</td>\n",
              "            <td>5.0</td>\n",
              "            <td>0.0</td>\n",
              "            <td>None</td>\n",
              "            <td>None</td>\n",
              "            <td>None</td>\n",
              "            <td>None</td>\n",
              "            <td>0.126</td>\n",
              "            <td>0.0</td>\n",
              "            <td>None</td>\n",
              "            <td>None</td>\n",
              "            <td>None</td>\n",
              "            <td>None</td>\n",
              "            <td>None</td>\n",
              "            <td>None</td>\n",
              "            <td>None</td>\n",
              "            <td>None</td>\n",
              "            <td>None</td>\n",
              "            <td>None</td>\n",
              "            <td>None</td>\n",
              "            <td>None</td>\n",
              "            <td>None</td>\n",
              "        </tr>\n",
              "        <tr>\n",
              "            <td>AFG</td>\n",
              "            <td>Asia</td>\n",
              "            <td>Afghanistan</td>\n",
              "            <td>26/02/2020</td>\n",
              "            <td>39835428.0</td>\n",
              "            <td>5.0</td>\n",
              "            <td>0.0</td>\n",
              "            <td>None</td>\n",
              "            <td>None</td>\n",
              "            <td>None</td>\n",
              "            <td>None</td>\n",
              "            <td>0.126</td>\n",
              "            <td>0.0</td>\n",
              "            <td>None</td>\n",
              "            <td>None</td>\n",
              "            <td>None</td>\n",
              "            <td>None</td>\n",
              "            <td>None</td>\n",
              "            <td>None</td>\n",
              "            <td>None</td>\n",
              "            <td>None</td>\n",
              "            <td>None</td>\n",
              "            <td>None</td>\n",
              "            <td>None</td>\n",
              "            <td>None</td>\n",
              "            <td>None</td>\n",
              "        </tr>\n",
              "        <tr>\n",
              "            <td>AFG</td>\n",
              "            <td>Asia</td>\n",
              "            <td>Afghanistan</td>\n",
              "            <td>27/02/2020</td>\n",
              "            <td>39835428.0</td>\n",
              "            <td>5.0</td>\n",
              "            <td>0.0</td>\n",
              "            <td>None</td>\n",
              "            <td>None</td>\n",
              "            <td>None</td>\n",
              "            <td>None</td>\n",
              "            <td>0.126</td>\n",
              "            <td>0.0</td>\n",
              "            <td>None</td>\n",
              "            <td>None</td>\n",
              "            <td>None</td>\n",
              "            <td>None</td>\n",
              "            <td>None</td>\n",
              "            <td>None</td>\n",
              "            <td>None</td>\n",
              "            <td>None</td>\n",
              "            <td>None</td>\n",
              "            <td>None</td>\n",
              "            <td>None</td>\n",
              "            <td>None</td>\n",
              "            <td>None</td>\n",
              "        </tr>\n",
              "        <tr>\n",
              "            <td>AFG</td>\n",
              "            <td>Asia</td>\n",
              "            <td>Afghanistan</td>\n",
              "            <td>28/02/2020</td>\n",
              "            <td>39835428.0</td>\n",
              "            <td>5.0</td>\n",
              "            <td>0.0</td>\n",
              "            <td>None</td>\n",
              "            <td>None</td>\n",
              "            <td>None</td>\n",
              "            <td>None</td>\n",
              "            <td>0.126</td>\n",
              "            <td>0.0</td>\n",
              "            <td>None</td>\n",
              "            <td>None</td>\n",
              "            <td>None</td>\n",
              "            <td>None</td>\n",
              "            <td>None</td>\n",
              "            <td>None</td>\n",
              "            <td>None</td>\n",
              "            <td>None</td>\n",
              "            <td>None</td>\n",
              "            <td>None</td>\n",
              "            <td>None</td>\n",
              "            <td>None</td>\n",
              "            <td>None</td>\n",
              "        </tr>\n",
              "    </tbody>\n",
              "</table>"
            ],
            "text/plain": [
              "[('AFG', 'Asia', 'Afghanistan', '24/02/2020', 39835428.0, 5.0, 5.0, None, None, None, None, 0.126, 0.126, None, None, None, None, None, None, None, None, None, None, None, None, None),\n",
              " ('AFG', 'Asia', 'Afghanistan', '25/02/2020', 39835428.0, 5.0, 0.0, None, None, None, None, 0.126, 0.0, None, None, None, None, None, None, None, None, None, None, None, None, None),\n",
              " ('AFG', 'Asia', 'Afghanistan', '26/02/2020', 39835428.0, 5.0, 0.0, None, None, None, None, 0.126, 0.0, None, None, None, None, None, None, None, None, None, None, None, None, None),\n",
              " ('AFG', 'Asia', 'Afghanistan', '27/02/2020', 39835428.0, 5.0, 0.0, None, None, None, None, 0.126, 0.0, None, None, None, None, None, None, None, None, None, None, None, None, None),\n",
              " ('AFG', 'Asia', 'Afghanistan', '28/02/2020', 39835428.0, 5.0, 0.0, None, None, None, None, 0.126, 0.0, None, None, None, None, None, None, None, None, None, None, None, None, None)]"
            ]
          },
          "metadata": {},
          "execution_count": 3
        }
      ]
    },
    {
      "cell_type": "code",
      "metadata": {
        "colab": {
          "base_uri": "https://localhost:8080/",
          "height": 245
        },
        "id": "iwCRvKEW152I",
        "outputId": "a2a2c9f9-bc2b-4903-e31f-a61e6a6403b5"
      },
      "source": [
        "# Let's load our covid_vaccine dataset below\n",
        "with open('/content/drive/MyDrive/Data Science/Data Analysis/SQL/DATA/COVID_VACCINATION_DATA.csv','r') as f:\n",
        "    covid_vaccine = pd.read_csv(f, index_col=0, encoding='utf-8') \n",
        "\n",
        "# Save the houshold dataset into a database\n",
        "%sql DROP TABLE if EXISTS covid_vaccine;\n",
        "%sql PERSIST covid_vaccine;\n",
        "\n",
        "# Display the first 5 entries from the database\n",
        "%sql SELECT * FROM covid_vaccine LIMIT 5;"
      ],
      "execution_count": 4,
      "outputs": [
        {
          "output_type": "stream",
          "name": "stdout",
          "text": [
            " * sqlite://\n",
            "Done.\n",
            " * sqlite://\n",
            " * sqlite://\n",
            "Done.\n"
          ]
        },
        {
          "output_type": "execute_result",
          "data": {
            "text/html": [
              "<table>\n",
              "    <thead>\n",
              "        <tr>\n",
              "            <th>iso_code</th>\n",
              "            <th>continent</th>\n",
              "            <th>location</th>\n",
              "            <th>date</th>\n",
              "            <th>new_tests</th>\n",
              "            <th>total_tests</th>\n",
              "            <th>total_tests_per_thousand</th>\n",
              "            <th>new_tests_per_thousand</th>\n",
              "            <th>new_tests_smoothed</th>\n",
              "            <th>new_tests_smoothed_per_thousand</th>\n",
              "            <th>positive_rate</th>\n",
              "            <th>tests_per_case</th>\n",
              "            <th>tests_units</th>\n",
              "            <th>total_vaccinations</th>\n",
              "            <th>people_vaccinated</th>\n",
              "            <th>people_fully_vaccinated</th>\n",
              "            <th>total_boosters</th>\n",
              "            <th>new_vaccinations</th>\n",
              "            <th>new_vaccinations_smoothed</th>\n",
              "            <th>total_vaccinations_per_hundred</th>\n",
              "            <th>people_vaccinated_per_hundred</th>\n",
              "            <th>people_fully_vaccinated_per_hundred</th>\n",
              "            <th>total_boosters_per_hundred</th>\n",
              "            <th>new_vaccinations_smoothed_per_million</th>\n",
              "            <th>stringency_index</th>\n",
              "            <th>population_density</th>\n",
              "            <th>median_age</th>\n",
              "            <th>aged_65_older</th>\n",
              "            <th>aged_70_older</th>\n",
              "            <th>gdp_per_capita</th>\n",
              "            <th>extreme_poverty</th>\n",
              "            <th>cardiovasc_death_rate</th>\n",
              "            <th>diabetes_prevalence</th>\n",
              "            <th>female_smokers</th>\n",
              "            <th>male_smokers</th>\n",
              "            <th>handwashing_facilities</th>\n",
              "            <th>hospital_beds_per_thousand</th>\n",
              "            <th>life_expectancy</th>\n",
              "            <th>human_development_index</th>\n",
              "            <th>excess_mortality_cumulative_absolute</th>\n",
              "            <th>excess_mortality_cumulative</th>\n",
              "            <th>excess_mortality</th>\n",
              "            <th>excess_mortality_cumulative_per_million</th>\n",
              "        </tr>\n",
              "    </thead>\n",
              "    <tbody>\n",
              "        <tr>\n",
              "            <td>AFG</td>\n",
              "            <td>Asia</td>\n",
              "            <td>Afghanistan</td>\n",
              "            <td>24/02/2020</td>\n",
              "            <td>None</td>\n",
              "            <td>None</td>\n",
              "            <td>None</td>\n",
              "            <td>None</td>\n",
              "            <td>None</td>\n",
              "            <td>None</td>\n",
              "            <td>None</td>\n",
              "            <td>None</td>\n",
              "            <td>None</td>\n",
              "            <td>None</td>\n",
              "            <td>None</td>\n",
              "            <td>None</td>\n",
              "            <td>None</td>\n",
              "            <td>None</td>\n",
              "            <td>None</td>\n",
              "            <td>None</td>\n",
              "            <td>None</td>\n",
              "            <td>None</td>\n",
              "            <td>None</td>\n",
              "            <td>None</td>\n",
              "            <td>8.33</td>\n",
              "            <td>54.422</td>\n",
              "            <td>18.6</td>\n",
              "            <td>2.5810000000000004</td>\n",
              "            <td>1.337</td>\n",
              "            <td>1803.987</td>\n",
              "            <td>None</td>\n",
              "            <td>597.029</td>\n",
              "            <td>9.59</td>\n",
              "            <td>None</td>\n",
              "            <td>None</td>\n",
              "            <td>37.746</td>\n",
              "            <td>0.5</td>\n",
              "            <td>64.83</td>\n",
              "            <td>0.511</td>\n",
              "            <td>None</td>\n",
              "            <td>None</td>\n",
              "            <td>None</td>\n",
              "            <td>None</td>\n",
              "        </tr>\n",
              "        <tr>\n",
              "            <td>AFG</td>\n",
              "            <td>Asia</td>\n",
              "            <td>Afghanistan</td>\n",
              "            <td>25/02/2020</td>\n",
              "            <td>None</td>\n",
              "            <td>None</td>\n",
              "            <td>None</td>\n",
              "            <td>None</td>\n",
              "            <td>None</td>\n",
              "            <td>None</td>\n",
              "            <td>None</td>\n",
              "            <td>None</td>\n",
              "            <td>None</td>\n",
              "            <td>None</td>\n",
              "            <td>None</td>\n",
              "            <td>None</td>\n",
              "            <td>None</td>\n",
              "            <td>None</td>\n",
              "            <td>None</td>\n",
              "            <td>None</td>\n",
              "            <td>None</td>\n",
              "            <td>None</td>\n",
              "            <td>None</td>\n",
              "            <td>None</td>\n",
              "            <td>8.33</td>\n",
              "            <td>54.422</td>\n",
              "            <td>18.6</td>\n",
              "            <td>2.5810000000000004</td>\n",
              "            <td>1.337</td>\n",
              "            <td>1803.987</td>\n",
              "            <td>None</td>\n",
              "            <td>597.029</td>\n",
              "            <td>9.59</td>\n",
              "            <td>None</td>\n",
              "            <td>None</td>\n",
              "            <td>37.746</td>\n",
              "            <td>0.5</td>\n",
              "            <td>64.83</td>\n",
              "            <td>0.511</td>\n",
              "            <td>None</td>\n",
              "            <td>None</td>\n",
              "            <td>None</td>\n",
              "            <td>None</td>\n",
              "        </tr>\n",
              "        <tr>\n",
              "            <td>AFG</td>\n",
              "            <td>Asia</td>\n",
              "            <td>Afghanistan</td>\n",
              "            <td>26/02/2020</td>\n",
              "            <td>None</td>\n",
              "            <td>None</td>\n",
              "            <td>None</td>\n",
              "            <td>None</td>\n",
              "            <td>None</td>\n",
              "            <td>None</td>\n",
              "            <td>None</td>\n",
              "            <td>None</td>\n",
              "            <td>None</td>\n",
              "            <td>None</td>\n",
              "            <td>None</td>\n",
              "            <td>None</td>\n",
              "            <td>None</td>\n",
              "            <td>None</td>\n",
              "            <td>None</td>\n",
              "            <td>None</td>\n",
              "            <td>None</td>\n",
              "            <td>None</td>\n",
              "            <td>None</td>\n",
              "            <td>None</td>\n",
              "            <td>8.33</td>\n",
              "            <td>54.422</td>\n",
              "            <td>18.6</td>\n",
              "            <td>2.5810000000000004</td>\n",
              "            <td>1.337</td>\n",
              "            <td>1803.987</td>\n",
              "            <td>None</td>\n",
              "            <td>597.029</td>\n",
              "            <td>9.59</td>\n",
              "            <td>None</td>\n",
              "            <td>None</td>\n",
              "            <td>37.746</td>\n",
              "            <td>0.5</td>\n",
              "            <td>64.83</td>\n",
              "            <td>0.511</td>\n",
              "            <td>None</td>\n",
              "            <td>None</td>\n",
              "            <td>None</td>\n",
              "            <td>None</td>\n",
              "        </tr>\n",
              "        <tr>\n",
              "            <td>AFG</td>\n",
              "            <td>Asia</td>\n",
              "            <td>Afghanistan</td>\n",
              "            <td>27/02/2020</td>\n",
              "            <td>None</td>\n",
              "            <td>None</td>\n",
              "            <td>None</td>\n",
              "            <td>None</td>\n",
              "            <td>None</td>\n",
              "            <td>None</td>\n",
              "            <td>None</td>\n",
              "            <td>None</td>\n",
              "            <td>None</td>\n",
              "            <td>None</td>\n",
              "            <td>None</td>\n",
              "            <td>None</td>\n",
              "            <td>None</td>\n",
              "            <td>None</td>\n",
              "            <td>None</td>\n",
              "            <td>None</td>\n",
              "            <td>None</td>\n",
              "            <td>None</td>\n",
              "            <td>None</td>\n",
              "            <td>None</td>\n",
              "            <td>8.33</td>\n",
              "            <td>54.422</td>\n",
              "            <td>18.6</td>\n",
              "            <td>2.5810000000000004</td>\n",
              "            <td>1.337</td>\n",
              "            <td>1803.987</td>\n",
              "            <td>None</td>\n",
              "            <td>597.029</td>\n",
              "            <td>9.59</td>\n",
              "            <td>None</td>\n",
              "            <td>None</td>\n",
              "            <td>37.746</td>\n",
              "            <td>0.5</td>\n",
              "            <td>64.83</td>\n",
              "            <td>0.511</td>\n",
              "            <td>None</td>\n",
              "            <td>None</td>\n",
              "            <td>None</td>\n",
              "            <td>None</td>\n",
              "        </tr>\n",
              "        <tr>\n",
              "            <td>AFG</td>\n",
              "            <td>Asia</td>\n",
              "            <td>Afghanistan</td>\n",
              "            <td>28/02/2020</td>\n",
              "            <td>None</td>\n",
              "            <td>None</td>\n",
              "            <td>None</td>\n",
              "            <td>None</td>\n",
              "            <td>None</td>\n",
              "            <td>None</td>\n",
              "            <td>None</td>\n",
              "            <td>None</td>\n",
              "            <td>None</td>\n",
              "            <td>None</td>\n",
              "            <td>None</td>\n",
              "            <td>None</td>\n",
              "            <td>None</td>\n",
              "            <td>None</td>\n",
              "            <td>None</td>\n",
              "            <td>None</td>\n",
              "            <td>None</td>\n",
              "            <td>None</td>\n",
              "            <td>None</td>\n",
              "            <td>None</td>\n",
              "            <td>8.33</td>\n",
              "            <td>54.422</td>\n",
              "            <td>18.6</td>\n",
              "            <td>2.5810000000000004</td>\n",
              "            <td>1.337</td>\n",
              "            <td>1803.987</td>\n",
              "            <td>None</td>\n",
              "            <td>597.029</td>\n",
              "            <td>9.59</td>\n",
              "            <td>None</td>\n",
              "            <td>None</td>\n",
              "            <td>37.746</td>\n",
              "            <td>0.5</td>\n",
              "            <td>64.83</td>\n",
              "            <td>0.511</td>\n",
              "            <td>None</td>\n",
              "            <td>None</td>\n",
              "            <td>None</td>\n",
              "            <td>None</td>\n",
              "        </tr>\n",
              "    </tbody>\n",
              "</table>"
            ],
            "text/plain": [
              "[('AFG', 'Asia', 'Afghanistan', '24/02/2020', None, None, None, None, None, None, None, None, None, None, None, None, None, None, None, None, None, None, None, None, 8.33, 54.422, 18.6, 2.5810000000000004, 1.337, 1803.987, None, 597.029, 9.59, None, None, 37.746, 0.5, 64.83, 0.511, None, None, None, None),\n",
              " ('AFG', 'Asia', 'Afghanistan', '25/02/2020', None, None, None, None, None, None, None, None, None, None, None, None, None, None, None, None, None, None, None, None, 8.33, 54.422, 18.6, 2.5810000000000004, 1.337, 1803.987, None, 597.029, 9.59, None, None, 37.746, 0.5, 64.83, 0.511, None, None, None, None),\n",
              " ('AFG', 'Asia', 'Afghanistan', '26/02/2020', None, None, None, None, None, None, None, None, None, None, None, None, None, None, None, None, None, None, None, None, 8.33, 54.422, 18.6, 2.5810000000000004, 1.337, 1803.987, None, 597.029, 9.59, None, None, 37.746, 0.5, 64.83, 0.511, None, None, None, None),\n",
              " ('AFG', 'Asia', 'Afghanistan', '27/02/2020', None, None, None, None, None, None, None, None, None, None, None, None, None, None, None, None, None, None, None, None, 8.33, 54.422, 18.6, 2.5810000000000004, 1.337, 1803.987, None, 597.029, 9.59, None, None, 37.746, 0.5, 64.83, 0.511, None, None, None, None),\n",
              " ('AFG', 'Asia', 'Afghanistan', '28/02/2020', None, None, None, None, None, None, None, None, None, None, None, None, None, None, None, None, None, None, None, None, 8.33, 54.422, 18.6, 2.5810000000000004, 1.337, 1803.987, None, 597.029, 9.59, None, None, 37.746, 0.5, 64.83, 0.511, None, None, None, None)]"
            ]
          },
          "metadata": {},
          "execution_count": 4
        }
      ]
    },
    {
      "cell_type": "code",
      "metadata": {
        "colab": {
          "base_uri": "https://localhost:8080/",
          "height": 93
        },
        "id": "98zkb7fu-LpQ",
        "outputId": "250a9138-e1fa-4af4-da52-10f73f80daa0"
      },
      "source": [
        "%%sql\n",
        "--Lenght of covid_vaccine dataset\n",
        "SELECT COUNT(*)\n",
        "FROM covid_vaccine;"
      ],
      "execution_count": 5,
      "outputs": [
        {
          "output_type": "stream",
          "name": "stdout",
          "text": [
            " * sqlite://\n",
            "Done.\n"
          ]
        },
        {
          "output_type": "execute_result",
          "data": {
            "text/html": [
              "<table>\n",
              "    <thead>\n",
              "        <tr>\n",
              "            <th>COUNT(*)</th>\n",
              "        </tr>\n",
              "    </thead>\n",
              "    <tbody>\n",
              "        <tr>\n",
              "            <td>122175</td>\n",
              "        </tr>\n",
              "    </tbody>\n",
              "</table>"
            ],
            "text/plain": [
              "[(122175,)]"
            ]
          },
          "metadata": {},
          "execution_count": 5
        }
      ]
    },
    {
      "cell_type": "code",
      "metadata": {
        "colab": {
          "base_uri": "https://localhost:8080/",
          "height": 93
        },
        "id": "i_Siuuph-gf2",
        "outputId": "73da14f0-a942-498f-f118-9244fa8f424c"
      },
      "source": [
        "%%sql\n",
        "--Lenght of covid_deaths dataset\n",
        "SELECT COUNT(*)\n",
        "FROM covid_deaths;"
      ],
      "execution_count": 6,
      "outputs": [
        {
          "output_type": "stream",
          "name": "stdout",
          "text": [
            " * sqlite://\n",
            "Done.\n"
          ]
        },
        {
          "output_type": "execute_result",
          "data": {
            "text/html": [
              "<table>\n",
              "    <thead>\n",
              "        <tr>\n",
              "            <th>COUNT(*)</th>\n",
              "        </tr>\n",
              "    </thead>\n",
              "    <tbody>\n",
              "        <tr>\n",
              "            <td>122175</td>\n",
              "        </tr>\n",
              "    </tbody>\n",
              "</table>"
            ],
            "text/plain": [
              "[(122175,)]"
            ]
          },
          "metadata": {},
          "execution_count": 6
        }
      ]
    },
    {
      "cell_type": "markdown",
      "metadata": {
        "id": "ZzCgH-PY9elE"
      },
      "source": [
        "## **Data Exploration**"
      ]
    },
    {
      "cell_type": "markdown",
      "metadata": {
        "id": "hf-72ECZ_4tP"
      },
      "source": [
        "### ***Covid 19 Deaths***\n",
        "\n"
      ]
    },
    {
      "cell_type": "markdown",
      "metadata": {
        "id": "xcbAE9eGdhcv"
      },
      "source": [
        "#### **GLOBAL ANALYSIS**"
      ]
    },
    {
      "cell_type": "code",
      "metadata": {
        "colab": {
          "base_uri": "https://localhost:8080/",
          "height": 93
        },
        "id": "yloOQEs_SSgY",
        "outputId": "03cf3708-b154-48e4-c5d1-9c73d5ddd7ad"
      },
      "source": [
        "%%sql\n",
        "--Total confirmed  covid-19 related deaths worldwide\n",
        "SELECT location,date,MAX(total_deaths) as total_deaths FROM covid_deaths;"
      ],
      "execution_count": 7,
      "outputs": [
        {
          "output_type": "stream",
          "name": "stdout",
          "text": [
            " * sqlite://\n",
            "Done.\n"
          ]
        },
        {
          "output_type": "execute_result",
          "data": {
            "text/html": [
              "<table>\n",
              "    <thead>\n",
              "        <tr>\n",
              "            <th>location</th>\n",
              "            <th>date</th>\n",
              "            <th>total_deaths</th>\n",
              "        </tr>\n",
              "    </thead>\n",
              "    <tbody>\n",
              "        <tr>\n",
              "            <td>World</td>\n",
              "            <td>08/10/2021</td>\n",
              "            <td>4842788.0</td>\n",
              "        </tr>\n",
              "    </tbody>\n",
              "</table>"
            ],
            "text/plain": [
              "[('World', '08/10/2021', 4842788.0)]"
            ]
          },
          "metadata": {},
          "execution_count": 7
        }
      ]
    },
    {
      "cell_type": "code",
      "metadata": {
        "colab": {
          "base_uri": "https://localhost:8080/",
          "height": 93
        },
        "id": "gIaYVMmjTCOz",
        "outputId": "8a20a7da-62a3-4cc1-934d-8872f746c75b"
      },
      "source": [
        "%%sql\n",
        "--Highest number of reported covid-19 related deaths per million worldwide\n",
        "SELECT location,date,MAX(total_deaths_per_million) as total_deaths_per_million FROM covid_deaths;"
      ],
      "execution_count": 8,
      "outputs": [
        {
          "output_type": "stream",
          "name": "stdout",
          "text": [
            " * sqlite://\n",
            "Done.\n"
          ]
        },
        {
          "output_type": "execute_result",
          "data": {
            "text/html": [
              "<table>\n",
              "    <thead>\n",
              "        <tr>\n",
              "            <th>location</th>\n",
              "            <th>date</th>\n",
              "            <th>total_deaths_per_million</th>\n",
              "        </tr>\n",
              "    </thead>\n",
              "    <tbody>\n",
              "        <tr>\n",
              "            <td>Peru</td>\n",
              "            <td>08/10/2021</td>\n",
              "            <td>5984.278</td>\n",
              "        </tr>\n",
              "    </tbody>\n",
              "</table>"
            ],
            "text/plain": [
              "[('Peru', '08/10/2021', 5984.278)]"
            ]
          },
          "metadata": {},
          "execution_count": 8
        }
      ]
    },
    {
      "cell_type": "code",
      "metadata": {
        "colab": {
          "base_uri": "https://localhost:8080/",
          "height": 93
        },
        "id": "Q-YG7dASTXV7",
        "outputId": "9af42c0c-2571-4b4e-f0d4-f0155f8cb2ce"
      },
      "source": [
        "%%sql\n",
        "-- Highest number of reported new cases of covid worldwide\n",
        "SELECT location,date, MAX(new_cases) as Highest_reported_newcases FROM covid_deaths;"
      ],
      "execution_count": 9,
      "outputs": [
        {
          "output_type": "stream",
          "name": "stdout",
          "text": [
            " * sqlite://\n",
            "Done.\n"
          ]
        },
        {
          "output_type": "execute_result",
          "data": {
            "text/html": [
              "<table>\n",
              "    <thead>\n",
              "        <tr>\n",
              "            <th>location</th>\n",
              "            <th>date</th>\n",
              "            <th>Highest_reported_newcases</th>\n",
              "        </tr>\n",
              "    </thead>\n",
              "    <tbody>\n",
              "        <tr>\n",
              "            <td>World</td>\n",
              "            <td>28/04/2021</td>\n",
              "            <td>905948.0</td>\n",
              "        </tr>\n",
              "    </tbody>\n",
              "</table>"
            ],
            "text/plain": [
              "[('World', '28/04/2021', 905948.0)]"
            ]
          },
          "metadata": {},
          "execution_count": 9
        }
      ]
    },
    {
      "cell_type": "code",
      "metadata": {
        "colab": {
          "base_uri": "https://localhost:8080/",
          "height": 93
        },
        "id": "bx_qb7G6USjN",
        "outputId": "9935caaa-7da6-4621-fb07-7b7722d3e95c"
      },
      "source": [
        "%%sql\n",
        "-- Highest number of reported new deaths worldwide\n",
        "SELECT location,date, MAX(new_deaths) as Highest_reported_newdeaths FROM covid_deaths;"
      ],
      "execution_count": 10,
      "outputs": [
        {
          "output_type": "stream",
          "name": "stdout",
          "text": [
            " * sqlite://\n",
            "Done.\n"
          ]
        },
        {
          "output_type": "execute_result",
          "data": {
            "text/html": [
              "<table>\n",
              "    <thead>\n",
              "        <tr>\n",
              "            <th>location</th>\n",
              "            <th>date</th>\n",
              "            <th>Highest_reported_newdeaths</th>\n",
              "        </tr>\n",
              "    </thead>\n",
              "    <tbody>\n",
              "        <tr>\n",
              "            <td>World</td>\n",
              "            <td>20/01/2021</td>\n",
              "            <td>17977.0</td>\n",
              "        </tr>\n",
              "    </tbody>\n",
              "</table>"
            ],
            "text/plain": [
              "[('World', '20/01/2021', 17977.0)]"
            ]
          },
          "metadata": {},
          "execution_count": 10
        }
      ]
    },
    {
      "cell_type": "code",
      "metadata": {
        "colab": {
          "base_uri": "https://localhost:8080/",
          "height": 93
        },
        "id": "7u4QPgMFU3FE",
        "outputId": "90693b48-8fce-452c-829c-084e9fd66d6d"
      },
      "source": [
        "%%sql\n",
        "-- Highest number of reported new deaths worldwide\n",
        "SELECT location,date, MAX(new_cases_per_million) as Highest_reported_newcases_permillion FROM covid_deaths;\n"
      ],
      "execution_count": 11,
      "outputs": [
        {
          "output_type": "stream",
          "name": "stdout",
          "text": [
            " * sqlite://\n",
            "Done.\n"
          ]
        },
        {
          "output_type": "execute_result",
          "data": {
            "text/html": [
              "<table>\n",
              "    <thead>\n",
              "        <tr>\n",
              "            <th>location</th>\n",
              "            <th>date</th>\n",
              "            <th>Highest_reported_newcases_permillion</th>\n",
              "        </tr>\n",
              "    </thead>\n",
              "    <tbody>\n",
              "        <tr>\n",
              "            <td>Vatican</td>\n",
              "            <td>12/10/2020</td>\n",
              "            <td>8620.69</td>\n",
              "        </tr>\n",
              "    </tbody>\n",
              "</table>"
            ],
            "text/plain": [
              "[('Vatican', '12/10/2020', 8620.69)]"
            ]
          },
          "metadata": {},
          "execution_count": 11
        }
      ]
    },
    {
      "cell_type": "code",
      "metadata": {
        "id": "sio0AZ_8IUMq",
        "colab": {
          "base_uri": "https://localhost:8080/",
          "height": 93
        },
        "outputId": "cb4e2a00-48c1-405d-8efc-dd5a6b31636e"
      },
      "source": [
        "%%sql\n",
        "-- Highest weekly ICU admissions globally\n",
        "SELECT location, date, MAX(weekly_icu_admissions) as global_weekly_icu_admissions\n",
        "FROM covid_deaths\n",
        "\n"
      ],
      "execution_count": 12,
      "outputs": [
        {
          "output_type": "stream",
          "name": "stdout",
          "text": [
            " * sqlite://\n",
            "Done.\n"
          ]
        },
        {
          "output_type": "execute_result",
          "data": {
            "text/html": [
              "<table>\n",
              "    <thead>\n",
              "        <tr>\n",
              "            <th>location</th>\n",
              "            <th>date</th>\n",
              "            <th>global_weekly_icu_admissions</th>\n",
              "        </tr>\n",
              "    </thead>\n",
              "    <tbody>\n",
              "        <tr>\n",
              "            <td>France</td>\n",
              "            <td>05/04/2020</td>\n",
              "            <td>4002.4559999999997</td>\n",
              "        </tr>\n",
              "    </tbody>\n",
              "</table>"
            ],
            "text/plain": [
              "[('France', '05/04/2020', 4002.4559999999997)]"
            ]
          },
          "metadata": {},
          "execution_count": 12
        }
      ]
    },
    {
      "cell_type": "markdown",
      "metadata": {
        "id": "nEbXX_18SyJv"
      },
      "source": [
        "##### ***Summary***\n",
        "* **Total confirmed** covid-19 related **deaths** were **4.84 milion** as of 8th October 2021.\n",
        "\n",
        "* Highest number of reported covid-19 related **deaths per million worldwide** was recorded in **Peru on 8th October 2021 which was 5984.278** deaths per a million people.\n",
        "\n",
        "* Highest number of reported **new cases** of covid worldwide was recorded on **April 28th  2021 with 905,948** new reported cases.\n",
        "\n",
        "* **Highest** number of reported **new deaths worldwide** was recorded on **20th January 2021 with 17,977** new deaths being recorded.\n",
        "\n",
        "* Highest number of reported **new cases per million worldwide** was reocrded in **Vatican** with **8,620 new cases/million on 12th October 2020**.\n",
        "\n",
        "* **Highest weekly ICU admissions** globally were recorded in **France** with **4,002** admissions in the first week of **April 2020**\n",
        "\n",
        "---\n",
        "\n",
        "\n",
        "\n",
        "---\n",
        "\n",
        "\n"
      ]
    },
    {
      "cell_type": "markdown",
      "metadata": {
        "id": "37i5kty06Eq1"
      },
      "source": [
        "#### **ANALYSIS PER CONTINENT**\n"
      ]
    },
    {
      "cell_type": "code",
      "metadata": {
        "colab": {
          "base_uri": "https://localhost:8080/",
          "height": 212
        },
        "id": "bjE3E-bS1r6H",
        "outputId": "8a9c152d-2104-423c-ed54-d0c88ffa447a"
      },
      "source": [
        "%%sql\n",
        "-- First we'll look at the total popuation per continent.\n",
        "SELECT location, population\n",
        "FROM covid_deaths\n",
        "-- To exclude data that was aggregated per continent\n",
        "WHERE continent IS  NULL AND location NOT IN ('World','International')\n",
        "--Group by location to get highest per country\n",
        "GROUP BY location \n",
        "--Order in descending order of the highest death count per location \n",
        "ORDER BY 2 desc;"
      ],
      "execution_count": 13,
      "outputs": [
        {
          "output_type": "stream",
          "name": "stdout",
          "text": [
            " * sqlite://\n",
            "Done.\n"
          ]
        },
        {
          "output_type": "execute_result",
          "data": {
            "text/html": [
              "<table>\n",
              "    <thead>\n",
              "        <tr>\n",
              "            <th>location</th>\n",
              "            <th>population</th>\n",
              "        </tr>\n",
              "    </thead>\n",
              "    <tbody>\n",
              "        <tr>\n",
              "            <td>Asia</td>\n",
              "            <td>4679660580.0</td>\n",
              "        </tr>\n",
              "        <tr>\n",
              "            <td>Africa</td>\n",
              "            <td>1373486472.0</td>\n",
              "        </tr>\n",
              "        <tr>\n",
              "            <td>Europe</td>\n",
              "            <td>747747396.0</td>\n",
              "        </tr>\n",
              "        <tr>\n",
              "            <td>North America</td>\n",
              "            <td>596581283.0</td>\n",
              "        </tr>\n",
              "        <tr>\n",
              "            <td>European Union</td>\n",
              "            <td>447189915.0</td>\n",
              "        </tr>\n",
              "        <tr>\n",
              "            <td>South America</td>\n",
              "            <td>434260138.0</td>\n",
              "        </tr>\n",
              "        <tr>\n",
              "            <td>Oceania</td>\n",
              "            <td>43219954.0</td>\n",
              "        </tr>\n",
              "    </tbody>\n",
              "</table>"
            ],
            "text/plain": [
              "[('Asia', 4679660580.0),\n",
              " ('Africa', 1373486472.0),\n",
              " ('Europe', 747747396.0),\n",
              " ('North America', 596581283.0),\n",
              " ('European Union', 447189915.0),\n",
              " ('South America', 434260138.0),\n",
              " ('Oceania', 43219954.0)]"
            ]
          },
          "metadata": {},
          "execution_count": 13
        }
      ]
    },
    {
      "cell_type": "code",
      "metadata": {
        "colab": {
          "base_uri": "https://localhost:8080/",
          "height": 212
        },
        "id": "rLyZPvtxvuxt",
        "outputId": "b0b569b6-cb0e-426e-8a06-4a9b9b09cfd9"
      },
      "source": [
        "%%sql\n",
        "-- Per continent death count.\n",
        "SELECT location, MAX(total_deaths) as total_deaths \n",
        "FROM covid_deaths\n",
        "-- To exclude data that was aggregated per continent\n",
        "WHERE continent IS  NULL AND location NOT IN ('World','International')\n",
        "--Group by location to get highest per country\n",
        "GROUP BY location \n",
        "--Order in descending order of the highest death count per location \n",
        "ORDER BY 2 desc;"
      ],
      "execution_count": 14,
      "outputs": [
        {
          "output_type": "stream",
          "name": "stdout",
          "text": [
            " * sqlite://\n",
            "Done.\n"
          ]
        },
        {
          "output_type": "execute_result",
          "data": {
            "text/html": [
              "<table>\n",
              "    <thead>\n",
              "        <tr>\n",
              "            <th>location</th>\n",
              "            <th>total_deaths</th>\n",
              "        </tr>\n",
              "    </thead>\n",
              "    <tbody>\n",
              "        <tr>\n",
              "            <td>Europe</td>\n",
              "            <td>1245000.0</td>\n",
              "        </tr>\n",
              "        <tr>\n",
              "            <td>South America</td>\n",
              "            <td>1159845.0</td>\n",
              "        </tr>\n",
              "        <tr>\n",
              "            <td>Asia</td>\n",
              "            <td>1140531.0</td>\n",
              "        </tr>\n",
              "        <tr>\n",
              "            <td>North America</td>\n",
              "            <td>1081518.0</td>\n",
              "        </tr>\n",
              "        <tr>\n",
              "            <td>European Union</td>\n",
              "            <td>776919.0</td>\n",
              "        </tr>\n",
              "        <tr>\n",
              "            <td>Africa</td>\n",
              "            <td>213531.0</td>\n",
              "        </tr>\n",
              "        <tr>\n",
              "            <td>Oceania</td>\n",
              "            <td>2348.0</td>\n",
              "        </tr>\n",
              "    </tbody>\n",
              "</table>"
            ],
            "text/plain": [
              "[('Europe', 1245000.0),\n",
              " ('South America', 1159845.0),\n",
              " ('Asia', 1140531.0),\n",
              " ('North America', 1081518.0),\n",
              " ('European Union', 776919.0),\n",
              " ('Africa', 213531.0),\n",
              " ('Oceania', 2348.0)]"
            ]
          },
          "metadata": {},
          "execution_count": 14
        }
      ]
    },
    {
      "cell_type": "code",
      "metadata": {
        "id": "B3dFcgb5IT_K",
        "colab": {
          "base_uri": "https://localhost:8080/",
          "height": 212
        },
        "outputId": "34011359-6de6-4142-d895-bf42a1363ac0"
      },
      "source": [
        "%%sql\n",
        "-- Continent wide death count per population\n",
        "SELECT location, MAX((total_deaths/population))*100 as death_count_per_population\n",
        "FROM covid_deaths\n",
        "-- To select data that was aggregated per continent except the aggregated world data.\n",
        "WHERE continent IS  NULL AND location NOT IN ('World','International')\n",
        "--Group by location to get highest per country\n",
        "GROUP BY location \n",
        "--Order in descending order of the highest death count per location \n",
        "ORDER BY 2 desc;\n"
      ],
      "execution_count": 15,
      "outputs": [
        {
          "output_type": "stream",
          "name": "stdout",
          "text": [
            " * sqlite://\n",
            "Done.\n"
          ]
        },
        {
          "output_type": "execute_result",
          "data": {
            "text/html": [
              "<table>\n",
              "    <thead>\n",
              "        <tr>\n",
              "            <th>location</th>\n",
              "            <th>death_count_per_population</th>\n",
              "        </tr>\n",
              "    </thead>\n",
              "    <tbody>\n",
              "        <tr>\n",
              "            <td>South America</td>\n",
              "            <td>0.2670853017598405</td>\n",
              "        </tr>\n",
              "        <tr>\n",
              "            <td>North America</td>\n",
              "            <td>0.18128594222088593</td>\n",
              "        </tr>\n",
              "        <tr>\n",
              "            <td>European Union</td>\n",
              "            <td>0.17373356910340879</td>\n",
              "        </tr>\n",
              "        <tr>\n",
              "            <td>Europe</td>\n",
              "            <td>0.16650007832324168</td>\n",
              "        </tr>\n",
              "        <tr>\n",
              "            <td>Asia</td>\n",
              "            <td>0.024372088114134122</td>\n",
              "        </tr>\n",
              "        <tr>\n",
              "            <td>Africa</td>\n",
              "            <td>0.015546640200181016</td>\n",
              "        </tr>\n",
              "        <tr>\n",
              "            <td>Oceania</td>\n",
              "            <td>0.005432675842274149</td>\n",
              "        </tr>\n",
              "    </tbody>\n",
              "</table>"
            ],
            "text/plain": [
              "[('South America', 0.2670853017598405),\n",
              " ('North America', 0.18128594222088593),\n",
              " ('European Union', 0.17373356910340879),\n",
              " ('Europe', 0.16650007832324168),\n",
              " ('Asia', 0.024372088114134122),\n",
              " ('Africa', 0.015546640200181016),\n",
              " ('Oceania', 0.005432675842274149)]"
            ]
          },
          "metadata": {},
          "execution_count": 15
        }
      ]
    },
    {
      "cell_type": "code",
      "metadata": {
        "colab": {
          "base_uri": "https://localhost:8080/",
          "height": 212
        },
        "id": "GLTCkCuIxhcc",
        "outputId": "337117da-dbb6-462d-f105-c341c9ab2e76"
      },
      "source": [
        "%%sql\n",
        "-- Continent wide death count per population\n",
        "SELECT location, MAX(total_cases) as total_cases\n",
        "FROM covid_deaths\n",
        "-- To exclude data that was aggregated per continent\n",
        "WHERE continent IS  NULL AND location NOT IN ('World','International')\n",
        "--Group by location to get highest per country\n",
        "GROUP BY location \n",
        "--Order in descending order of the highest death count per location \n",
        "ORDER BY 2 desc;"
      ],
      "execution_count": 16,
      "outputs": [
        {
          "output_type": "stream",
          "name": "stdout",
          "text": [
            " * sqlite://\n",
            "Done.\n"
          ]
        },
        {
          "output_type": "execute_result",
          "data": {
            "text/html": [
              "<table>\n",
              "    <thead>\n",
              "        <tr>\n",
              "            <th>location</th>\n",
              "            <th>total_cases</th>\n",
              "        </tr>\n",
              "    </thead>\n",
              "    <tbody>\n",
              "        <tr>\n",
              "            <td>Asia</td>\n",
              "            <td>76889805.0</td>\n",
              "        </tr>\n",
              "        <tr>\n",
              "            <td>Europe</td>\n",
              "            <td>60551949.0</td>\n",
              "        </tr>\n",
              "        <tr>\n",
              "            <td>North America</td>\n",
              "            <td>53271010.0</td>\n",
              "        </tr>\n",
              "        <tr>\n",
              "            <td>European Union</td>\n",
              "            <td>38363236.0</td>\n",
              "        </tr>\n",
              "        <tr>\n",
              "            <td>South America</td>\n",
              "            <td>37951049.0</td>\n",
              "        </tr>\n",
              "        <tr>\n",
              "            <td>Africa</td>\n",
              "            <td>8380407.0</td>\n",
              "        </tr>\n",
              "        <tr>\n",
              "            <td>Oceania</td>\n",
              "            <td>203523.0</td>\n",
              "        </tr>\n",
              "    </tbody>\n",
              "</table>"
            ],
            "text/plain": [
              "[('Asia', 76889805.0),\n",
              " ('Europe', 60551949.0),\n",
              " ('North America', 53271010.0),\n",
              " ('European Union', 38363236.0),\n",
              " ('South America', 37951049.0),\n",
              " ('Africa', 8380407.0),\n",
              " ('Oceania', 203523.0)]"
            ]
          },
          "metadata": {},
          "execution_count": 16
        }
      ]
    },
    {
      "cell_type": "code",
      "metadata": {
        "colab": {
          "base_uri": "https://localhost:8080/",
          "height": 212
        },
        "id": "b3d9WKWX-PHY",
        "outputId": "2ac0e734-62b3-408e-9aa5-fe43e5f9c463"
      },
      "source": [
        "%%sql\n",
        "-- Continent percentage_deaths_of_total_cases\n",
        "SELECT location, MAX((total_deaths/total_cases))*100 as percentage_deaths_of_total_cases\n",
        "FROM covid_deaths\n",
        "-- To exclude data that was aggregated per continent\n",
        "WHERE continent IS  NULL AND location NOT IN ('World','International')\n",
        "--Group by location to get highest per country\n",
        "GROUP BY location \n",
        "--Order in descending order of the highest death count per location \n",
        "ORDER BY 2 desc;"
      ],
      "execution_count": 17,
      "outputs": [
        {
          "output_type": "stream",
          "name": "stdout",
          "text": [
            " * sqlite://\n",
            "Done.\n"
          ]
        },
        {
          "output_type": "execute_result",
          "data": {
            "text/html": [
              "<table>\n",
              "    <thead>\n",
              "        <tr>\n",
              "            <th>location</th>\n",
              "            <th>percentage_deaths_of_total_cases</th>\n",
              "        </tr>\n",
              "    </thead>\n",
              "    <tbody>\n",
              "        <tr>\n",
              "            <td>European Union</td>\n",
              "            <td>11.122714802366561</td>\n",
              "        </tr>\n",
              "        <tr>\n",
              "            <td>Europe</td>\n",
              "            <td>9.953974434570346</td>\n",
              "        </tr>\n",
              "        <tr>\n",
              "            <td>South America</td>\n",
              "            <td>7.739426320555919</td>\n",
              "        </tr>\n",
              "        <tr>\n",
              "            <td>North America</td>\n",
              "            <td>7.096774193548387</td>\n",
              "        </tr>\n",
              "        <tr>\n",
              "            <td>Africa</td>\n",
              "            <td>5.460146827477714</td>\n",
              "        </tr>\n",
              "        <tr>\n",
              "            <td>Asia</td>\n",
              "            <td>4.3056537645648225</td>\n",
              "        </tr>\n",
              "        <tr>\n",
              "            <td>Oceania</td>\n",
              "            <td>3.7037037037037033</td>\n",
              "        </tr>\n",
              "    </tbody>\n",
              "</table>"
            ],
            "text/plain": [
              "[('European Union', 11.122714802366561),\n",
              " ('Europe', 9.953974434570346),\n",
              " ('South America', 7.739426320555919),\n",
              " ('North America', 7.096774193548387),\n",
              " ('Africa', 5.460146827477714),\n",
              " ('Asia', 4.3056537645648225),\n",
              " ('Oceania', 3.7037037037037033)]"
            ]
          },
          "metadata": {},
          "execution_count": 17
        }
      ]
    },
    {
      "cell_type": "code",
      "metadata": {
        "id": "AuIQocS6IUD9",
        "colab": {
          "base_uri": "https://localhost:8080/",
          "height": 212
        },
        "outputId": "cc5498d9-e233-44fe-e18b-118a3cd233ab"
      },
      "source": [
        "%%sql\n",
        "-- Continent wide death count per population\n",
        "SELECT location, MAX((total_cases/population))*100 as infected_pop_percentage\n",
        "FROM covid_deaths\n",
        "-- To exclude data that was aggregated per continent\n",
        "WHERE continent IS  NULL AND location NOT IN ('World','International')\n",
        "--Group by location to get highest per country\n",
        "GROUP BY location \n",
        "--Order in descending order of the highest death count per location \n",
        "ORDER BY 2 desc;"
      ],
      "execution_count": 18,
      "outputs": [
        {
          "output_type": "stream",
          "name": "stdout",
          "text": [
            " * sqlite://\n",
            "Done.\n"
          ]
        },
        {
          "output_type": "execute_result",
          "data": {
            "text/html": [
              "<table>\n",
              "    <thead>\n",
              "        <tr>\n",
              "            <th>location</th>\n",
              "            <th>infected_pop_percentage</th>\n",
              "        </tr>\n",
              "    </thead>\n",
              "    <tbody>\n",
              "        <tr>\n",
              "            <td>North America</td>\n",
              "            <td>8.9293800388974</td>\n",
              "        </tr>\n",
              "        <tr>\n",
              "            <td>South America</td>\n",
              "            <td>8.73924306632998</td>\n",
              "        </tr>\n",
              "        <tr>\n",
              "            <td>European Union</td>\n",
              "            <td>8.578734607644272</td>\n",
              "        </tr>\n",
              "        <tr>\n",
              "            <td>Europe</td>\n",
              "            <td>8.097915061144526</td>\n",
              "        </tr>\n",
              "        <tr>\n",
              "            <td>Asia</td>\n",
              "            <td>1.643063715531266</td>\n",
              "        </tr>\n",
              "        <tr>\n",
              "            <td>Africa</td>\n",
              "            <td>0.6101557729794662</td>\n",
              "        </tr>\n",
              "        <tr>\n",
              "            <td>Oceania</td>\n",
              "            <td>0.4709005474647196</td>\n",
              "        </tr>\n",
              "    </tbody>\n",
              "</table>"
            ],
            "text/plain": [
              "[('North America', 8.9293800388974),\n",
              " ('South America', 8.73924306632998),\n",
              " ('European Union', 8.578734607644272),\n",
              " ('Europe', 8.097915061144526),\n",
              " ('Asia', 1.643063715531266),\n",
              " ('Africa', 0.6101557729794662),\n",
              " ('Oceania', 0.4709005474647196)]"
            ]
          },
          "metadata": {},
          "execution_count": 18
        }
      ]
    },
    {
      "cell_type": "code",
      "metadata": {
        "colab": {
          "base_uri": "https://localhost:8080/",
          "height": 212
        },
        "id": "yJz0HFa2zYKk",
        "outputId": "75e743e5-7153-4910-ca7f-830b931fdf15"
      },
      "source": [
        "%%sql\n",
        "-- Highest_reported_new_deaths per continent\n",
        "SELECT location,date, MAX(new_deaths) as Highest_reported_new_deaths\n",
        "FROM covid_deaths\n",
        "-- To exclude data that was aggregated per continent\n",
        "WHERE continent IS  NULL AND location NOT IN ('World','International')\n",
        "--Group by location to get highest per country\n",
        "GROUP BY location \n",
        "--Order in descending order of the highest death count per location \n",
        "ORDER BY 3 desc;"
      ],
      "execution_count": 19,
      "outputs": [
        {
          "output_type": "stream",
          "name": "stdout",
          "text": [
            " * sqlite://\n",
            "Done.\n"
          ]
        },
        {
          "output_type": "execute_result",
          "data": {
            "text/html": [
              "<table>\n",
              "    <thead>\n",
              "        <tr>\n",
              "            <th>location</th>\n",
              "            <th>date</th>\n",
              "            <th>Highest_reported_new_deaths</th>\n",
              "        </tr>\n",
              "    </thead>\n",
              "    <tbody>\n",
              "        <tr>\n",
              "            <td>Asia</td>\n",
              "            <td>10/06/2021</td>\n",
              "            <td>8524.0</td>\n",
              "        </tr>\n",
              "        <tr>\n",
              "            <td>Europe</td>\n",
              "            <td>19/01/2021</td>\n",
              "            <td>7557.0</td>\n",
              "        </tr>\n",
              "        <tr>\n",
              "            <td>North America</td>\n",
              "            <td>05/02/2021</td>\n",
              "            <td>6980.0</td>\n",
              "        </tr>\n",
              "        <tr>\n",
              "            <td>South America</td>\n",
              "            <td>08/04/2021</td>\n",
              "            <td>5919.0</td>\n",
              "        </tr>\n",
              "        <tr>\n",
              "            <td>European Union</td>\n",
              "            <td>19/01/2021</td>\n",
              "            <td>5020.0</td>\n",
              "        </tr>\n",
              "        <tr>\n",
              "            <td>Africa</td>\n",
              "            <td>05/07/2021</td>\n",
              "            <td>1513.0</td>\n",
              "        </tr>\n",
              "        <tr>\n",
              "            <td>Oceania</td>\n",
              "            <td>03/09/2020</td>\n",
              "            <td>59.0</td>\n",
              "        </tr>\n",
              "    </tbody>\n",
              "</table>"
            ],
            "text/plain": [
              "[('Asia', '10/06/2021', 8524.0),\n",
              " ('Europe', '19/01/2021', 7557.0),\n",
              " ('North America', '05/02/2021', 6980.0),\n",
              " ('South America', '08/04/2021', 5919.0),\n",
              " ('European Union', '19/01/2021', 5020.0),\n",
              " ('Africa', '05/07/2021', 1513.0),\n",
              " ('Oceania', '03/09/2020', 59.0)]"
            ]
          },
          "metadata": {},
          "execution_count": 19
        }
      ]
    },
    {
      "cell_type": "code",
      "metadata": {
        "colab": {
          "base_uri": "https://localhost:8080/",
          "height": 212
        },
        "id": "pm73_cxoyOqZ",
        "outputId": "d8570442-9454-400d-b1e0-540051d9a5b0"
      },
      "source": [
        "%%sql\n",
        "-- Highest_reported_newcases per continent\n",
        "SELECT location,date, MAX(new_cases) as Highest_reported_newcases\n",
        "FROM covid_deaths\n",
        "-- To exclude data that was aggregated per continent\n",
        "WHERE continent IS  NULL AND location NOT IN ('World','International')\n",
        "--Group by location to get highest per country\n",
        "GROUP BY location \n",
        "--Order in descending order of the highest death count per location \n",
        "ORDER BY 3 desc;"
      ],
      "execution_count": 20,
      "outputs": [
        {
          "output_type": "stream",
          "name": "stdout",
          "text": [
            " * sqlite://\n",
            "Done.\n"
          ]
        },
        {
          "output_type": "execute_result",
          "data": {
            "text/html": [
              "<table>\n",
              "    <thead>\n",
              "        <tr>\n",
              "            <th>location</th>\n",
              "            <th>date</th>\n",
              "            <th>Highest_reported_newcases</th>\n",
              "        </tr>\n",
              "    </thead>\n",
              "    <tbody>\n",
              "        <tr>\n",
              "            <td>Asia</td>\n",
              "            <td>06/05/2021</td>\n",
              "            <td>525129.0</td>\n",
              "        </tr>\n",
              "        <tr>\n",
              "            <td>Europe</td>\n",
              "            <td>02/11/2020</td>\n",
              "            <td>346447.0</td>\n",
              "        </tr>\n",
              "        <tr>\n",
              "            <td>North America</td>\n",
              "            <td>08/01/2021</td>\n",
              "            <td>335286.0</td>\n",
              "        </tr>\n",
              "        <tr>\n",
              "            <td>European Union</td>\n",
              "            <td>02/11/2020</td>\n",
              "            <td>274748.0</td>\n",
              "        </tr>\n",
              "        <tr>\n",
              "            <td>South America</td>\n",
              "            <td>23/06/2021</td>\n",
              "            <td>186399.0</td>\n",
              "        </tr>\n",
              "        <tr>\n",
              "            <td>Africa</td>\n",
              "            <td>23/08/2021</td>\n",
              "            <td>49021.0</td>\n",
              "        </tr>\n",
              "        <tr>\n",
              "            <td>Oceania</td>\n",
              "            <td>08/10/2021</td>\n",
              "            <td>3108.0</td>\n",
              "        </tr>\n",
              "    </tbody>\n",
              "</table>"
            ],
            "text/plain": [
              "[('Asia', '06/05/2021', 525129.0),\n",
              " ('Europe', '02/11/2020', 346447.0),\n",
              " ('North America', '08/01/2021', 335286.0),\n",
              " ('European Union', '02/11/2020', 274748.0),\n",
              " ('South America', '23/06/2021', 186399.0),\n",
              " ('Africa', '23/08/2021', 49021.0),\n",
              " ('Oceania', '08/10/2021', 3108.0)]"
            ]
          },
          "metadata": {},
          "execution_count": 20
        }
      ]
    },
    {
      "cell_type": "code",
      "metadata": {
        "colab": {
          "base_uri": "https://localhost:8080/",
          "height": 212
        },
        "id": "u3jZNKzbzwLY",
        "outputId": "9cc5fc2b-3fa1-481a-ee7b-715e238438cb"
      },
      "source": [
        "%%sql\n",
        "-- Highest_reported_newcases per continent\n",
        "SELECT location,date,MAX(new_cases_per_million) as new_cases_per_million\n",
        "FROM covid_deaths\n",
        "-- To exclude data that was aggregated per continent\n",
        "WHERE continent IS  NULL AND location NOT IN ('World','International')\n",
        "--Group by location to get highest per country\n",
        "GROUP BY location \n",
        "--Order in descending order of the highest death count per location \n",
        "ORDER BY 3 desc;"
      ],
      "execution_count": 21,
      "outputs": [
        {
          "output_type": "stream",
          "name": "stdout",
          "text": [
            " * sqlite://\n",
            "Done.\n"
          ]
        },
        {
          "output_type": "execute_result",
          "data": {
            "text/html": [
              "<table>\n",
              "    <thead>\n",
              "        <tr>\n",
              "            <th>location</th>\n",
              "            <th>date</th>\n",
              "            <th>new_cases_per_million</th>\n",
              "        </tr>\n",
              "    </thead>\n",
              "    <tbody>\n",
              "        <tr>\n",
              "            <td>European Union</td>\n",
              "            <td>02/11/2020</td>\n",
              "            <td>614.388</td>\n",
              "        </tr>\n",
              "        <tr>\n",
              "            <td>North America</td>\n",
              "            <td>08/01/2021</td>\n",
              "            <td>562.012</td>\n",
              "        </tr>\n",
              "        <tr>\n",
              "            <td>Europe</td>\n",
              "            <td>02/11/2020</td>\n",
              "            <td>463.32099999999997</td>\n",
              "        </tr>\n",
              "        <tr>\n",
              "            <td>South America</td>\n",
              "            <td>23/06/2021</td>\n",
              "            <td>429.23400000000004</td>\n",
              "        </tr>\n",
              "        <tr>\n",
              "            <td>Asia</td>\n",
              "            <td>06/05/2021</td>\n",
              "            <td>112.215</td>\n",
              "        </tr>\n",
              "        <tr>\n",
              "            <td>Oceania</td>\n",
              "            <td>08/10/2021</td>\n",
              "            <td>71.911</td>\n",
              "        </tr>\n",
              "        <tr>\n",
              "            <td>Africa</td>\n",
              "            <td>23/08/2021</td>\n",
              "            <td>35.691</td>\n",
              "        </tr>\n",
              "    </tbody>\n",
              "</table>"
            ],
            "text/plain": [
              "[('European Union', '02/11/2020', 614.388),\n",
              " ('North America', '08/01/2021', 562.012),\n",
              " ('Europe', '02/11/2020', 463.32099999999997),\n",
              " ('South America', '23/06/2021', 429.23400000000004),\n",
              " ('Asia', '06/05/2021', 112.215),\n",
              " ('Oceania', '08/10/2021', 71.911),\n",
              " ('Africa', '23/08/2021', 35.691)]"
            ]
          },
          "metadata": {},
          "execution_count": 21
        }
      ]
    },
    {
      "cell_type": "code",
      "metadata": {
        "colab": {
          "base_uri": "https://localhost:8080/",
          "height": 212
        },
        "id": "8_q3Ar-l0VND",
        "outputId": "53ca9f39-e406-43dc-bafd-dd1902022e22"
      },
      "source": [
        "%%sql\n",
        "-- Highest_new_cases_per_million\n",
        "SELECT location, MAX((new_cases/population))*100 as infected_pop_percentage\n",
        "FROM covid_deaths\n",
        "-- To exclude data that was aggregated per continent\n",
        "WHERE continent IS  NULL AND location NOT IN ('World','International')\n",
        "--Group by location to get highest per country\n",
        "GROUP BY location \n",
        "--Order in descending order of the highest death count per location \n",
        "ORDER BY 2 desc;"
      ],
      "execution_count": 22,
      "outputs": [
        {
          "output_type": "stream",
          "name": "stdout",
          "text": [
            " * sqlite://\n",
            "Done.\n"
          ]
        },
        {
          "output_type": "execute_result",
          "data": {
            "text/html": [
              "<table>\n",
              "    <thead>\n",
              "        <tr>\n",
              "            <th>location</th>\n",
              "            <th>infected_pop_percentage</th>\n",
              "        </tr>\n",
              "    </thead>\n",
              "    <tbody>\n",
              "        <tr>\n",
              "            <td>European Union</td>\n",
              "            <td>0.06143877372547634</td>\n",
              "        </tr>\n",
              "        <tr>\n",
              "            <td>North America</td>\n",
              "            <td>0.05620122681589393</td>\n",
              "        </tr>\n",
              "        <tr>\n",
              "            <td>Europe</td>\n",
              "            <td>0.04633209046976073</td>\n",
              "        </tr>\n",
              "        <tr>\n",
              "            <td>South America</td>\n",
              "            <td>0.04292335024312086</td>\n",
              "        </tr>\n",
              "        <tr>\n",
              "            <td>Asia</td>\n",
              "            <td>0.01122151897606215</td>\n",
              "        </tr>\n",
              "        <tr>\n",
              "            <td>Oceania</td>\n",
              "            <td>0.007191122878103942</td>\n",
              "        </tr>\n",
              "        <tr>\n",
              "            <td>Africa</td>\n",
              "            <td>0.003569092306283742</td>\n",
              "        </tr>\n",
              "    </tbody>\n",
              "</table>"
            ],
            "text/plain": [
              "[('European Union', 0.06143877372547634),\n",
              " ('North America', 0.05620122681589393),\n",
              " ('Europe', 0.04633209046976073),\n",
              " ('South America', 0.04292335024312086),\n",
              " ('Asia', 0.01122151897606215),\n",
              " ('Oceania', 0.007191122878103942),\n",
              " ('Africa', 0.003569092306283742)]"
            ]
          },
          "metadata": {},
          "execution_count": 22
        }
      ]
    },
    {
      "cell_type": "markdown",
      "metadata": {
        "id": "5W6HwhWeIn1p"
      },
      "source": [
        "##### ***Summary***\n",
        "\n",
        "* **Asia** has the highest recorded **population size** with over **4.6 billion** people followed by **Africa** with over **1.3 billion** people.\n",
        "\n",
        "* **Highest** recorded **total cases** were in **Asia** with over **76.89 million** cases reported followed by Europe with 66.55 million reported cases.\n",
        "\n",
        "* The **most deaths** were reported in **Europe** with **1.245 million** recorded covid-19 related cases, followed by **South America** with over **1.59million** reported deaths. Asia reported aa total of 1.14 million  covid-19 related deaths.\n",
        "\n",
        "* **South America** had **lost** over **0.26% of its population** to covid, **North America** had **lost 0.18%**,European Union 0.17% Europe 0.16% while Africa and Ocean reportes less than 0.1% deaths.\n",
        "\n",
        "* **North and South America** had the highest **percentage of thier population infected** with covid-19 which were **8.9%** and **8.74%** of the total population respectively.\n",
        "\n",
        "* Highest recoerded new cases and new deaths were all in the year 2021 except in oceania.\n",
        "\n",
        "* **European Union** and **North America** had the highest number of **new cases per millio**n with **614**, and **562** cases per million respectively."
      ]
    },
    {
      "cell_type": "markdown",
      "metadata": {
        "id": "hLOshibV9ecp"
      },
      "source": [
        "#### **ANALYSIS PER COUNTRY**"
      ]
    },
    {
      "cell_type": "code",
      "metadata": {
        "colab": {
          "base_uri": "https://localhost:8080/",
          "height": 172
        },
        "id": "-1LneZUx57jf",
        "outputId": "be29c48e-09ab-463a-85ab-26128f1db478"
      },
      "source": [
        "%%sql\n",
        "-- Country with most reported cases\n",
        "SELECT location, total_cases , (total_cases/popuLation)*100 as infected_pop_percentage\n",
        "FROM covid_deaths\n",
        "-- Exclude continent=wide data\n",
        "WHERE continent IS NOT NULL\n",
        "--TO select distinct countries\n",
        "GROUP BY location\n",
        "--Order by the total cases\n",
        "ORDER BY 2 DESC\n",
        "--View the top 5 countries\n",
        "LIMIT 5;"
      ],
      "execution_count": 27,
      "outputs": [
        {
          "output_type": "stream",
          "name": "stdout",
          "text": [
            " * sqlite://\n",
            "Done.\n"
          ]
        },
        {
          "output_type": "execute_result",
          "data": {
            "text/html": [
              "<table>\n",
              "    <thead>\n",
              "        <tr>\n",
              "            <th>location</th>\n",
              "            <th>total_cases</th>\n",
              "            <th>infected_pop_percentage</th>\n",
              "        </tr>\n",
              "    </thead>\n",
              "    <tbody>\n",
              "        <tr>\n",
              "            <td>United States</td>\n",
              "            <td>44290052.0</td>\n",
              "            <td>13.303708801122054</td>\n",
              "        </tr>\n",
              "        <tr>\n",
              "            <td>India</td>\n",
              "            <td>33935309.0</td>\n",
              "            <td>2.43541617689513</td>\n",
              "        </tr>\n",
              "        <tr>\n",
              "            <td>Brazil</td>\n",
              "            <td>21550730.0</td>\n",
              "            <td>10.070743243013695</td>\n",
              "        </tr>\n",
              "        <tr>\n",
              "            <td>United Kingdom</td>\n",
              "            <td>8119442.0</td>\n",
              "            <td>11.904098449320111</td>\n",
              "        </tr>\n",
              "        <tr>\n",
              "            <td>Russia</td>\n",
              "            <td>7602386.0</td>\n",
              "            <td>5.210253340194272</td>\n",
              "        </tr>\n",
              "    </tbody>\n",
              "</table>"
            ],
            "text/plain": [
              "[('United States', 44290052.0, 13.303708801122054),\n",
              " ('India', 33935309.0, 2.43541617689513),\n",
              " ('Brazil', 21550730.0, 10.070743243013695),\n",
              " ('United Kingdom', 8119442.0, 11.904098449320111),\n",
              " ('Russia', 7602386.0, 5.210253340194272)]"
            ]
          },
          "metadata": {},
          "execution_count": 27
        }
      ]
    },
    {
      "cell_type": "code",
      "metadata": {
        "colab": {
          "base_uri": "https://localhost:8080/",
          "height": 172
        },
        "id": "KJxtJwVF7UlK",
        "outputId": "ced51377-8328-4462-ce10-a824791d76ca"
      },
      "source": [
        "%%sql\n",
        "-- Country with most reported cases\n",
        "SELECT location, total_deaths, (total_deaths/total_cases)*100 as infection_fatality_percentage\n",
        "FROM covid_deaths\n",
        "-- Exclude continent=wide data\n",
        "WHERE continent IS NOT NULL\n",
        "--TO select distinct countries\n",
        "GROUP BY location\n",
        "--Order by the total cases\n",
        "ORDER BY 2 desc\n",
        "--View the top 5 countries\n",
        "LIMIT 5;"
      ],
      "execution_count": 31,
      "outputs": [
        {
          "output_type": "stream",
          "name": "stdout",
          "text": [
            " * sqlite://\n",
            "Done.\n"
          ]
        },
        {
          "output_type": "execute_result",
          "data": {
            "text/html": [
              "<table>\n",
              "    <thead>\n",
              "        <tr>\n",
              "            <th>location</th>\n",
              "            <th>total_deaths</th>\n",
              "            <th>infection_fatality_percentage</th>\n",
              "        </tr>\n",
              "    </thead>\n",
              "    <tbody>\n",
              "        <tr>\n",
              "            <td>United States</td>\n",
              "            <td>712693.0</td>\n",
              "            <td>1.6091491606286665</td>\n",
              "        </tr>\n",
              "        <tr>\n",
              "            <td>Brazil</td>\n",
              "            <td>600425.0</td>\n",
              "            <td>2.7861005172446593</td>\n",
              "        </tr>\n",
              "        <tr>\n",
              "            <td>India</td>\n",
              "            <td>450375.0</td>\n",
              "            <td>1.3271575042973678</td>\n",
              "        </tr>\n",
              "        <tr>\n",
              "            <td>Mexico</td>\n",
              "            <td>281610.0</td>\n",
              "            <td>7.581590742172609</td>\n",
              "        </tr>\n",
              "        <tr>\n",
              "            <td>Russia</td>\n",
              "            <td>210673.0</td>\n",
              "            <td>2.7711431647906326</td>\n",
              "        </tr>\n",
              "    </tbody>\n",
              "</table>"
            ],
            "text/plain": [
              "[('United States', 712693.0, 1.6091491606286665),\n",
              " ('Brazil', 600425.0, 2.7861005172446593),\n",
              " ('India', 450375.0, 1.3271575042973678),\n",
              " ('Mexico', 281610.0, 7.581590742172609),\n",
              " ('Russia', 210673.0, 2.7711431647906326)]"
            ]
          },
          "metadata": {},
          "execution_count": 31
        }
      ]
    },
    {
      "cell_type": "code",
      "metadata": {
        "colab": {
          "base_uri": "https://localhost:8080/",
          "height": 172
        },
        "id": "8L5HSF2d9aTl",
        "outputId": "cf198a86-ccf2-44aa-dea5-218f6f82ce3f"
      },
      "source": [
        "%%sql\n",
        "-- Country with most reported cases\n",
        "SELECT location, total_cases, total_deaths, (total_deaths/total_cases)*100 as infection_fatality_percentage\n",
        "FROM covid_deaths\n",
        "-- Exclude continent=wide data\n",
        "WHERE continent IS NOT NULL\n",
        "--TO select distinct countries\n",
        "GROUP BY location\n",
        "--Order by the total cases\n",
        "ORDER BY 4 desc\n",
        "--View the top 5 countries\n",
        "LIMIT 5;"
      ],
      "execution_count": 34,
      "outputs": [
        {
          "output_type": "stream",
          "name": "stdout",
          "text": [
            " * sqlite://\n",
            "Done.\n"
          ]
        },
        {
          "output_type": "execute_result",
          "data": {
            "text/html": [
              "<table>\n",
              "    <thead>\n",
              "        <tr>\n",
              "            <th>location</th>\n",
              "            <th>total_cases</th>\n",
              "            <th>total_deaths</th>\n",
              "            <th>infection_fatality_percentage</th>\n",
              "        </tr>\n",
              "    </thead>\n",
              "    <tbody>\n",
              "        <tr>\n",
              "            <td>Vanuatu</td>\n",
              "            <td>4.0</td>\n",
              "            <td>1.0</td>\n",
              "            <td>25.0</td>\n",
              "        </tr>\n",
              "        <tr>\n",
              "            <td>Yemen</td>\n",
              "            <td>9333.0</td>\n",
              "            <td>1773.0</td>\n",
              "            <td>18.997107039537127</td>\n",
              "        </tr>\n",
              "        <tr>\n",
              "            <td>Peru</td>\n",
              "            <td>2182982.0</td>\n",
              "            <td>199632.0</td>\n",
              "            <td>9.144921946218522</td>\n",
              "        </tr>\n",
              "        <tr>\n",
              "            <td>Sudan</td>\n",
              "            <td>38746.0</td>\n",
              "            <td>2951.0</td>\n",
              "            <td>7.616270066587519</td>\n",
              "        </tr>\n",
              "        <tr>\n",
              "            <td>Mexico</td>\n",
              "            <td>3714392.0</td>\n",
              "            <td>281610.0</td>\n",
              "            <td>7.581590742172609</td>\n",
              "        </tr>\n",
              "    </tbody>\n",
              "</table>"
            ],
            "text/plain": [
              "[('Vanuatu', 4.0, 1.0, 25.0),\n",
              " ('Yemen', 9333.0, 1773.0, 18.997107039537127),\n",
              " ('Peru', 2182982.0, 199632.0, 9.144921946218522),\n",
              " ('Sudan', 38746.0, 2951.0, 7.616270066587519),\n",
              " ('Mexico', 3714392.0, 281610.0, 7.581590742172609)]"
            ]
          },
          "metadata": {},
          "execution_count": 34
        }
      ]
    },
    {
      "cell_type": "code",
      "metadata": {
        "colab": {
          "base_uri": "https://localhost:8080/",
          "height": 172
        },
        "id": "B5WiuvwbALsv",
        "outputId": "8666d98c-9c6e-409e-bfd7-96078f8a13d0"
      },
      "source": [
        "%%sql\n",
        "-- Country with most reported cases\n",
        "SELECT location, total_cases , (total_cases/popuLation)*100 as infected_pop_percentage,(total_deaths/total_cases)*100 as infection_fatality_percentage\n",
        "FROM covid_deaths\n",
        "-- Exclude continent=wide data\n",
        "WHERE continent IS NOT NULL\n",
        "--TO select distinct countries\n",
        "GROUP BY location\n",
        "--Order by the total cases\n",
        "ORDER BY 3 DESC\n",
        "--View the top 5 countries\n",
        "LIMIT 5;"
      ],
      "execution_count": 36,
      "outputs": [
        {
          "output_type": "stream",
          "name": "stdout",
          "text": [
            " * sqlite://\n",
            "Done.\n"
          ]
        },
        {
          "output_type": "execute_result",
          "data": {
            "text/html": [
              "<table>\n",
              "    <thead>\n",
              "        <tr>\n",
              "            <th>location</th>\n",
              "            <th>total_cases</th>\n",
              "            <th>infected_pop_percentage</th>\n",
              "            <th>infection_fatality_percentage</th>\n",
              "        </tr>\n",
              "    </thead>\n",
              "    <tbody>\n",
              "        <tr>\n",
              "            <td>Seychelles</td>\n",
              "            <td>21726.0</td>\n",
              "            <td>21.965423111919925</td>\n",
              "            <td>0.5431280493418025</td>\n",
              "        </tr>\n",
              "        <tr>\n",
              "            <td>Montenegro</td>\n",
              "            <td>134602.0</td>\n",
              "            <td>21.43169901807337</td>\n",
              "            <td>1.4710034026240322</td>\n",
              "        </tr>\n",
              "        <tr>\n",
              "            <td>Andorra</td>\n",
              "            <td>15291.0</td>\n",
              "            <td>19.76756211702045</td>\n",
              "            <td>0.8501733045582369</td>\n",
              "        </tr>\n",
              "        <tr>\n",
              "            <td>San Marino</td>\n",
              "            <td>5466.0</td>\n",
              "            <td>16.07174360482211</td>\n",
              "            <td>1.6648371752652762</td>\n",
              "        </tr>\n",
              "        <tr>\n",
              "            <td>Czechia</td>\n",
              "            <td>1698061.0</td>\n",
              "            <td>15.833396506129441</td>\n",
              "            <td>1.7959307704493537</td>\n",
              "        </tr>\n",
              "    </tbody>\n",
              "</table>"
            ],
            "text/plain": [
              "[('Seychelles', 21726.0, 21.965423111919925, 0.5431280493418025),\n",
              " ('Montenegro', 134602.0, 21.43169901807337, 1.4710034026240322),\n",
              " ('Andorra', 15291.0, 19.76756211702045, 0.8501733045582369),\n",
              " ('San Marino', 5466.0, 16.07174360482211, 1.6648371752652762),\n",
              " ('Czechia', 1698061.0, 15.833396506129441, 1.7959307704493537)]"
            ]
          },
          "metadata": {},
          "execution_count": 36
        }
      ]
    },
    {
      "cell_type": "code",
      "metadata": {
        "colab": {
          "base_uri": "https://localhost:8080/",
          "height": 172
        },
        "id": "TTNV6_IJDESq",
        "outputId": "ba5cf6f6-4cec-419e-db13-82f91b047ad7"
      },
      "source": [
        "%%sql\n",
        "-- Country hishtes new cases -- ,(total_deaths/total_cases)*100 as infection_fatality_percentage\n",
        "SELECT location, new_cases,(new_cases/popuLation)*100 as new_infected_pop_percentage\n",
        "FROM covid_deaths\n",
        "-- Exclude continent=wide data\n",
        "WHERE continent IS NOT NULL\n",
        "--TO select distinct countries\n",
        "GROUP BY location\n",
        "--Order by the total cases\n",
        "ORDER BY 2 DESC\n",
        "--View the top 5 countries\n",
        "LIMIT 5;"
      ],
      "execution_count": 46,
      "outputs": [
        {
          "output_type": "stream",
          "name": "stdout",
          "text": [
            " * sqlite://\n",
            "Done.\n"
          ]
        },
        {
          "output_type": "execute_result",
          "data": {
            "text/html": [
              "<table>\n",
              "    <thead>\n",
              "        <tr>\n",
              "            <th>location</th>\n",
              "            <th>new_cases</th>\n",
              "            <th>new_infected_pop_percentage</th>\n",
              "        </tr>\n",
              "    </thead>\n",
              "    <tbody>\n",
              "        <tr>\n",
              "            <td>United States</td>\n",
              "            <td>131142.0</td>\n",
              "            <td>0.03939202825042401</td>\n",
              "        </tr>\n",
              "        <tr>\n",
              "            <td>United Kingdom</td>\n",
              "            <td>35120.0</td>\n",
              "            <td>0.051490230183320766</td>\n",
              "        </tr>\n",
              "        <tr>\n",
              "            <td>Turkey</td>\n",
              "            <td>30201.0</td>\n",
              "            <td>0.03551273326860039</td>\n",
              "        </tr>\n",
              "        <tr>\n",
              "            <td>Russia</td>\n",
              "            <td>26561.0</td>\n",
              "            <td>0.018203434943832114</td>\n",
              "        </tr>\n",
              "        <tr>\n",
              "            <td>Philippines</td>\n",
              "            <td>20577.0</td>\n",
              "            <td>0.01853000682324254</td>\n",
              "        </tr>\n",
              "    </tbody>\n",
              "</table>"
            ],
            "text/plain": [
              "[('United States', 131142.0, 0.03939202825042401),\n",
              " ('United Kingdom', 35120.0, 0.051490230183320766),\n",
              " ('Turkey', 30201.0, 0.03551273326860039),\n",
              " ('Russia', 26561.0, 0.018203434943832114),\n",
              " ('Philippines', 20577.0, 0.01853000682324254)]"
            ]
          },
          "metadata": {},
          "execution_count": 46
        }
      ]
    },
    {
      "cell_type": "code",
      "metadata": {
        "colab": {
          "base_uri": "https://localhost:8080/",
          "height": 172
        },
        "id": "0efIH_IVBi6x",
        "outputId": "fefe53c7-cf0e-4e61-8ef3-a96dd0e9cf8f"
      },
      "source": [
        "%%sql\n",
        "-- Country hishtes new cases -- ,(total_deaths/total_cases)*100 as infection_fatality_percentage\n",
        "SELECT location, new_cases, (new_cases/popuLation)*100 as new_infected_pop_percentage\n",
        "FROM covid_deaths\n",
        "-- Exclude continent=wide data\n",
        "WHERE continent IS NOT NULL\n",
        "--TO select distinct countries\n",
        "GROUP BY location\n",
        "--Order by the total cases\n",
        "ORDER BY 3 DESC\n",
        "--View the top 5 countries\n",
        "LIMIT 5;"
      ],
      "execution_count": 44,
      "outputs": [
        {
          "output_type": "stream",
          "name": "stdout",
          "text": [
            " * sqlite://\n",
            "Done.\n"
          ]
        },
        {
          "output_type": "execute_result",
          "data": {
            "text/html": [
              "<table>\n",
              "    <thead>\n",
              "        <tr>\n",
              "            <th>location</th>\n",
              "            <th>new_cases</th>\n",
              "            <th>new_infected_pop_percentage</th>\n",
              "        </tr>\n",
              "    </thead>\n",
              "    <tbody>\n",
              "        <tr>\n",
              "            <td>Barbados</td>\n",
              "            <td>301.0</td>\n",
              "            <td>0.10461996190582118</td>\n",
              "        </tr>\n",
              "        <tr>\n",
              "            <td>Serbia</td>\n",
              "            <td>6401.0</td>\n",
              "            <td>0.09265767873189984</td>\n",
              "        </tr>\n",
              "        <tr>\n",
              "            <td>Lithuania</td>\n",
              "            <td>2453.0</td>\n",
              "            <td>0.09119426944579313</td>\n",
              "        </tr>\n",
              "        <tr>\n",
              "            <td>Latvia</td>\n",
              "            <td>1695.0</td>\n",
              "            <td>0.09079056892209365</td>\n",
              "        </tr>\n",
              "        <tr>\n",
              "            <td>Dominica</td>\n",
              "            <td>55.0</td>\n",
              "            <td>0.07620683921742503</td>\n",
              "        </tr>\n",
              "    </tbody>\n",
              "</table>"
            ],
            "text/plain": [
              "[('Barbados', 301.0, 0.10461996190582118),\n",
              " ('Serbia', 6401.0, 0.09265767873189984),\n",
              " ('Lithuania', 2453.0, 0.09119426944579313),\n",
              " ('Latvia', 1695.0, 0.09079056892209365),\n",
              " ('Dominica', 55.0, 0.07620683921742503)]"
            ]
          },
          "metadata": {},
          "execution_count": 44
        }
      ]
    },
    {
      "cell_type": "code",
      "metadata": {
        "colab": {
          "base_uri": "https://localhost:8080/",
          "height": 172
        },
        "id": "3VZ4l3ZYEu6a",
        "outputId": "0636ba5d-71d1-44c1-8bbf-6b132ab933f6"
      },
      "source": [
        "%%sql\n",
        "-- Country hishtes new cases -- ,(total_deaths/total_cases)*100 as infection_fatality_percentage\n",
        "SELECT location,date, MAX(weekly_icu_admissions)\n",
        "FROM covid_deaths\n",
        "-- Exclude continent=wide data\n",
        "WHERE continent IS NOT NULL\n",
        "--TO select distinct countries\n",
        "GROUP BY location\n",
        "--Order by the total cases\n",
        "ORDER BY 3 DESC\n",
        "--View the top 5 countries\n",
        "LIMIT 5;"
      ],
      "execution_count": 52,
      "outputs": [
        {
          "output_type": "stream",
          "name": "stdout",
          "text": [
            " * sqlite://\n",
            "Done.\n"
          ]
        },
        {
          "output_type": "execute_result",
          "data": {
            "text/html": [
              "<table>\n",
              "    <thead>\n",
              "        <tr>\n",
              "            <th>location</th>\n",
              "            <th>date</th>\n",
              "            <th>MAX(weekly_icu_admissions)</th>\n",
              "        </tr>\n",
              "    </thead>\n",
              "    <tbody>\n",
              "        <tr>\n",
              "            <td>France</td>\n",
              "            <td>05/04/2020</td>\n",
              "            <td>4002.4559999999997</td>\n",
              "        </tr>\n",
              "        <tr>\n",
              "            <td>Czechia</td>\n",
              "            <td>14/03/2021</td>\n",
              "            <td>2994.548</td>\n",
              "        </tr>\n",
              "        <tr>\n",
              "            <td>Spain</td>\n",
              "            <td>15/03/2020</td>\n",
              "            <td>2792.9040000000005</td>\n",
              "        </tr>\n",
              "        <tr>\n",
              "            <td>Israel</td>\n",
              "            <td>17/01/2021</td>\n",
              "            <td>1165.0</td>\n",
              "        </tr>\n",
              "        <tr>\n",
              "            <td>Netherlands</td>\n",
              "            <td>29/03/2020</td>\n",
              "            <td>739.8969999999999</td>\n",
              "        </tr>\n",
              "    </tbody>\n",
              "</table>"
            ],
            "text/plain": [
              "[('France', '05/04/2020', 4002.4559999999997),\n",
              " ('Czechia', '14/03/2021', 2994.548),\n",
              " ('Spain', '15/03/2020', 2792.9040000000005),\n",
              " ('Israel', '17/01/2021', 1165.0),\n",
              " ('Netherlands', '29/03/2020', 739.8969999999999)]"
            ]
          },
          "metadata": {},
          "execution_count": 52
        }
      ]
    },
    {
      "cell_type": "code",
      "metadata": {
        "colab": {
          "base_uri": "https://localhost:8080/",
          "height": 179
        },
        "id": "ZJORWS6M6CuH",
        "outputId": "9d3c018c-85e1-4bc1-c620-3ad70f1596b5"
      },
      "source": [
        "%%sql\n",
        "--Selecting the data that we are going to be using ordered by date and location\n",
        "SELECT location, date, total_cases,new_cases, total_deaths, population FROM covid_deaths ORDER BY 1,2 LIMIT 5;"
      ],
      "execution_count": null,
      "outputs": [
        {
          "output_type": "stream",
          "name": "stdout",
          "text": [
            " * sqlite://\n",
            "Done.\n"
          ]
        },
        {
          "output_type": "execute_result",
          "data": {
            "text/html": [
              "<table>\n",
              "    <thead>\n",
              "        <tr>\n",
              "            <th>location</th>\n",
              "            <th>date</th>\n",
              "            <th>total_cases</th>\n",
              "            <th>new_cases</th>\n",
              "            <th>total_deaths</th>\n",
              "            <th>population</th>\n",
              "        </tr>\n",
              "    </thead>\n",
              "    <tbody>\n",
              "        <tr>\n",
              "            <td>Afghanistan</td>\n",
              "            <td>01/01/2021</td>\n",
              "            <td>52513.0</td>\n",
              "            <td>183.0</td>\n",
              "            <td>2201.0</td>\n",
              "            <td>39835428.0</td>\n",
              "        </tr>\n",
              "        <tr>\n",
              "            <td>Afghanistan</td>\n",
              "            <td>01/02/2021</td>\n",
              "            <td>55059.0</td>\n",
              "            <td>36.0</td>\n",
              "            <td>2404.0</td>\n",
              "            <td>39835428.0</td>\n",
              "        </tr>\n",
              "        <tr>\n",
              "            <td>Afghanistan</td>\n",
              "            <td>01/03/2020</td>\n",
              "            <td>5.0</td>\n",
              "            <td>0.0</td>\n",
              "            <td>None</td>\n",
              "            <td>39835428.0</td>\n",
              "        </tr>\n",
              "        <tr>\n",
              "            <td>Afghanistan</td>\n",
              "            <td>01/03/2021</td>\n",
              "            <td>55733.0</td>\n",
              "            <td>19.0</td>\n",
              "            <td>2444.0</td>\n",
              "            <td>39835428.0</td>\n",
              "        </tr>\n",
              "        <tr>\n",
              "            <td>Afghanistan</td>\n",
              "            <td>01/04/2020</td>\n",
              "            <td>192.0</td>\n",
              "            <td>26.0</td>\n",
              "            <td>4.0</td>\n",
              "            <td>39835428.0</td>\n",
              "        </tr>\n",
              "    </tbody>\n",
              "</table>"
            ],
            "text/plain": [
              "[('Afghanistan', '01/01/2021', 52513.0, 183.0, 2201.0, 39835428.0),\n",
              " ('Afghanistan', '01/02/2021', 55059.0, 36.0, 2404.0, 39835428.0),\n",
              " ('Afghanistan', '01/03/2020', 5.0, 0.0, None, 39835428.0),\n",
              " ('Afghanistan', '01/03/2021', 55733.0, 19.0, 2444.0, 39835428.0),\n",
              " ('Afghanistan', '01/04/2020', 192.0, 26.0, 4.0, 39835428.0)]"
            ]
          },
          "metadata": {},
          "execution_count": 33
        }
      ]
    },
    {
      "cell_type": "code",
      "metadata": {
        "id": "BjdUisX-ITw2",
        "colab": {
          "base_uri": "https://localhost:8080/",
          "height": 179
        },
        "outputId": "e5973189-d9e5-4309-e780-e080bf3de19a"
      },
      "source": [
        "%%sql\n",
        "--Looking at total deaths vs total cases\n",
        "SELECT location, date, total_cases, total_deaths, (total_deaths/total_cases)*100 as death_percentage\n",
        "FROM covid_deaths WHERE total_cases AND total_deaths IS NOT NULL\n",
        "ORDER BY 5 desc LIMIT 5;"
      ],
      "execution_count": null,
      "outputs": [
        {
          "output_type": "stream",
          "name": "stdout",
          "text": [
            " * sqlite://\n",
            "Done.\n"
          ]
        },
        {
          "output_type": "execute_result",
          "data": {
            "text/html": [
              "<table>\n",
              "    <thead>\n",
              "        <tr>\n",
              "            <th>location</th>\n",
              "            <th>date</th>\n",
              "            <th>total_cases</th>\n",
              "            <th>total_deaths</th>\n",
              "            <th>death_percentage</th>\n",
              "        </tr>\n",
              "    </thead>\n",
              "    <tbody>\n",
              "        <tr>\n",
              "            <td>Guyana</td>\n",
              "            <td>12/03/2020</td>\n",
              "            <td>1.0</td>\n",
              "            <td>1.0</td>\n",
              "            <td>100.0</td>\n",
              "        </tr>\n",
              "        <tr>\n",
              "            <td>Guyana</td>\n",
              "            <td>13/03/2020</td>\n",
              "            <td>1.0</td>\n",
              "            <td>1.0</td>\n",
              "            <td>100.0</td>\n",
              "        </tr>\n",
              "        <tr>\n",
              "            <td>Guyana</td>\n",
              "            <td>14/03/2020</td>\n",
              "            <td>1.0</td>\n",
              "            <td>1.0</td>\n",
              "            <td>100.0</td>\n",
              "        </tr>\n",
              "        <tr>\n",
              "            <td>Iran</td>\n",
              "            <td>19/02/2020</td>\n",
              "            <td>2.0</td>\n",
              "            <td>2.0</td>\n",
              "            <td>100.0</td>\n",
              "        </tr>\n",
              "        <tr>\n",
              "            <td>Peru</td>\n",
              "            <td>06/03/2020</td>\n",
              "            <td>1.0</td>\n",
              "            <td>1.0</td>\n",
              "            <td>100.0</td>\n",
              "        </tr>\n",
              "    </tbody>\n",
              "</table>"
            ],
            "text/plain": [
              "[('Guyana', '12/03/2020', 1.0, 1.0, 100.0),\n",
              " ('Guyana', '13/03/2020', 1.0, 1.0, 100.0),\n",
              " ('Guyana', '14/03/2020', 1.0, 1.0, 100.0),\n",
              " ('Iran', '19/02/2020', 2.0, 2.0, 100.0),\n",
              " ('Peru', '06/03/2020', 1.0, 1.0, 100.0)]"
            ]
          },
          "metadata": {},
          "execution_count": 32
        }
      ]
    },
    {
      "cell_type": "code",
      "metadata": {
        "colab": {
          "base_uri": "https://localhost:8080/",
          "height": 179
        },
        "id": "C8HAl48sc0pb",
        "outputId": "9acc9a34-0c72-49b8-a60f-9b92933a402a"
      },
      "source": [
        "%%sql\n",
        "--Looking at total deaths vs total cases\n",
        "SELECT location, date, total_cases, total_deaths, (total_deaths/total_cases)*100 as death_percentage\n",
        "FROM covid_deaths \n",
        "WHERE location like '%Kenya%' AND  total_cases AND total_deaths IS NOT NULL \n",
        "ORDER BY 5 desc LIMIT 5;"
      ],
      "execution_count": null,
      "outputs": [
        {
          "output_type": "stream",
          "name": "stdout",
          "text": [
            " * sqlite://\n",
            "Done.\n"
          ]
        },
        {
          "output_type": "execute_result",
          "data": {
            "text/html": [
              "<table>\n",
              "    <thead>\n",
              "        <tr>\n",
              "            <th>location</th>\n",
              "            <th>date</th>\n",
              "            <th>total_cases</th>\n",
              "            <th>total_deaths</th>\n",
              "            <th>death_percentage</th>\n",
              "        </tr>\n",
              "    </thead>\n",
              "    <tbody>\n",
              "        <tr>\n",
              "            <td>Kenya</td>\n",
              "            <td>16/05/2020</td>\n",
              "            <td>830.0</td>\n",
              "            <td>50.0</td>\n",
              "            <td>6.024096385542169</td>\n",
              "        </tr>\n",
              "        <tr>\n",
              "            <td>Kenya</td>\n",
              "            <td>15/05/2020</td>\n",
              "            <td>781.0</td>\n",
              "            <td>45.0</td>\n",
              "            <td>5.761843790012804</td>\n",
              "        </tr>\n",
              "        <tr>\n",
              "            <td>Kenya</td>\n",
              "            <td>17/05/2020</td>\n",
              "            <td>887.0</td>\n",
              "            <td>50.0</td>\n",
              "            <td>5.636978579481398</td>\n",
              "        </tr>\n",
              "        <tr>\n",
              "            <td>Kenya</td>\n",
              "            <td>14/05/2020</td>\n",
              "            <td>758.0</td>\n",
              "            <td>42.0</td>\n",
              "            <td>5.540897097625329</td>\n",
              "        </tr>\n",
              "        <tr>\n",
              "            <td>Kenya</td>\n",
              "            <td>18/05/2020</td>\n",
              "            <td>912.0</td>\n",
              "            <td>50.0</td>\n",
              "            <td>5.482456140350877</td>\n",
              "        </tr>\n",
              "    </tbody>\n",
              "</table>"
            ],
            "text/plain": [
              "[('Kenya', '16/05/2020', 830.0, 50.0, 6.024096385542169),\n",
              " ('Kenya', '15/05/2020', 781.0, 45.0, 5.761843790012804),\n",
              " ('Kenya', '17/05/2020', 887.0, 50.0, 5.636978579481398),\n",
              " ('Kenya', '14/05/2020', 758.0, 42.0, 5.540897097625329),\n",
              " ('Kenya', '18/05/2020', 912.0, 50.0, 5.482456140350877)]"
            ]
          },
          "metadata": {},
          "execution_count": 26
        }
      ]
    },
    {
      "cell_type": "code",
      "metadata": {
        "colab": {
          "base_uri": "https://localhost:8080/",
          "height": 179
        },
        "id": "qu17vUwpHQkA",
        "outputId": "9d4fb0c1-1a97-41ed-e434-67a066dc455f"
      },
      "source": [
        "%%sql\n",
        "--Looking at percentage of infection per country \n",
        "  --Ordered by highest infected population percentage\n",
        "SELECT location, date, total_cases, total_deaths, (total_cases/population)*100 as infected_pop_percentage\n",
        "FROM covid_deaths \n",
        "GROUP BY location\n",
        "ORDER BY 5 desc LIMIT 5;"
      ],
      "execution_count": null,
      "outputs": [
        {
          "output_type": "stream",
          "name": "stdout",
          "text": [
            " * sqlite://\n",
            "Done.\n"
          ]
        },
        {
          "output_type": "execute_result",
          "data": {
            "text/html": [
              "<table>\n",
              "    <thead>\n",
              "        <tr>\n",
              "            <th>location</th>\n",
              "            <th>date</th>\n",
              "            <th>total_cases</th>\n",
              "            <th>total_deaths</th>\n",
              "            <th>infected_pop_percentage</th>\n",
              "        </tr>\n",
              "    </thead>\n",
              "    <tbody>\n",
              "        <tr>\n",
              "            <td>Seychelles</td>\n",
              "            <td>08/10/2021</td>\n",
              "            <td>21726.0</td>\n",
              "            <td>118.0</td>\n",
              "            <td>21.965423111919925</td>\n",
              "        </tr>\n",
              "        <tr>\n",
              "            <td>Montenegro</td>\n",
              "            <td>08/10/2021</td>\n",
              "            <td>134602.0</td>\n",
              "            <td>1980.0</td>\n",
              "            <td>21.43169901807337</td>\n",
              "        </tr>\n",
              "        <tr>\n",
              "            <td>Andorra</td>\n",
              "            <td>08/10/2021</td>\n",
              "            <td>15291.0</td>\n",
              "            <td>130.0</td>\n",
              "            <td>19.76756211702045</td>\n",
              "        </tr>\n",
              "        <tr>\n",
              "            <td>San Marino</td>\n",
              "            <td>08/10/2021</td>\n",
              "            <td>5466.0</td>\n",
              "            <td>91.0</td>\n",
              "            <td>16.07174360482211</td>\n",
              "        </tr>\n",
              "        <tr>\n",
              "            <td>Czechia</td>\n",
              "            <td>08/10/2021</td>\n",
              "            <td>1698061.0</td>\n",
              "            <td>30496.0</td>\n",
              "            <td>15.833396506129441</td>\n",
              "        </tr>\n",
              "    </tbody>\n",
              "</table>"
            ],
            "text/plain": [
              "[('Seychelles', '08/10/2021', 21726.0, 118.0, 21.965423111919925),\n",
              " ('Montenegro', '08/10/2021', 134602.0, 1980.0, 21.43169901807337),\n",
              " ('Andorra', '08/10/2021', 15291.0, 130.0, 19.76756211702045),\n",
              " ('San Marino', '08/10/2021', 5466.0, 91.0, 16.07174360482211),\n",
              " ('Czechia', '08/10/2021', 1698061.0, 30496.0, 15.833396506129441)]"
            ]
          },
          "metadata": {},
          "execution_count": 27
        }
      ]
    },
    {
      "cell_type": "code",
      "metadata": {
        "colab": {
          "base_uri": "https://localhost:8080/",
          "height": 179
        },
        "id": "JhbxBMmccJNk",
        "outputId": "451915dd-0fb3-4e6b-eb11-0abc95d1e4f2"
      },
      "source": [
        "%%sql\n",
        "--Looking at top percentage of infected population in Kenya.\n",
        "SELECT location, total_cases, MAX(total_deaths) as highest_total_deaths, MAX((total_cases/population))*100 as infected_pop_percentage\n",
        "FROM covid_deaths\n",
        "WHERE continent IS NOT NULL\n",
        "GROUP BY location  \n",
        "ORDER BY 4 desc LIMIT 5;"
      ],
      "execution_count": null,
      "outputs": [
        {
          "output_type": "stream",
          "name": "stdout",
          "text": [
            " * sqlite://\n",
            "Done.\n"
          ]
        },
        {
          "output_type": "execute_result",
          "data": {
            "text/html": [
              "<table>\n",
              "    <thead>\n",
              "        <tr>\n",
              "            <th>location</th>\n",
              "            <th>total_cases</th>\n",
              "            <th>highest_total_deaths</th>\n",
              "            <th>infected_pop_percentage</th>\n",
              "        </tr>\n",
              "    </thead>\n",
              "    <tbody>\n",
              "        <tr>\n",
              "            <td>Seychelles</td>\n",
              "            <td>21726.0</td>\n",
              "            <td>118.0</td>\n",
              "            <td>21.965423111919925</td>\n",
              "        </tr>\n",
              "        <tr>\n",
              "            <td>Montenegro</td>\n",
              "            <td>134602.0</td>\n",
              "            <td>1980.0</td>\n",
              "            <td>21.43169901807337</td>\n",
              "        </tr>\n",
              "        <tr>\n",
              "            <td>Andorra</td>\n",
              "            <td>15291.0</td>\n",
              "            <td>130.0</td>\n",
              "            <td>19.76756211702045</td>\n",
              "        </tr>\n",
              "        <tr>\n",
              "            <td>San Marino</td>\n",
              "            <td>5466.0</td>\n",
              "            <td>91.0</td>\n",
              "            <td>16.07174360482211</td>\n",
              "        </tr>\n",
              "        <tr>\n",
              "            <td>Czechia</td>\n",
              "            <td>1698061.0</td>\n",
              "            <td>30496.0</td>\n",
              "            <td>15.833396506129441</td>\n",
              "        </tr>\n",
              "    </tbody>\n",
              "</table>"
            ],
            "text/plain": [
              "[('Seychelles', 21726.0, 118.0, 21.965423111919925),\n",
              " ('Montenegro', 134602.0, 1980.0, 21.43169901807337),\n",
              " ('Andorra', 15291.0, 130.0, 19.76756211702045),\n",
              " ('San Marino', 5466.0, 91.0, 16.07174360482211),\n",
              " ('Czechia', 1698061.0, 30496.0, 15.833396506129441)]"
            ]
          },
          "metadata": {},
          "execution_count": 31
        }
      ]
    },
    {
      "cell_type": "markdown",
      "metadata": {
        "id": "oNUe3t3-i898"
      },
      "source": [
        "Percentage of Kenyan population infected with covid 19 as at 08/10/2021 was 0.456%"
      ]
    },
    {
      "cell_type": "code",
      "metadata": {
        "id": "t0NjSEgQIT4F",
        "colab": {
          "base_uri": "https://localhost:8080/",
          "height": 179
        },
        "outputId": "b922c93d-334b-42ae-c160-d9370e5d94ee"
      },
      "source": [
        "%%sql\n",
        "--Looking at coutries with the highest total death count.\n",
        "SELECT location, total_cases, MAX(total_deaths) as maximum_deaths \n",
        "FROM covid_deaths \n",
        "WHERE continent IS NOT NULL\n",
        "group by location\n",
        "ORDER BY 3 desc LIMIT 5;"
      ],
      "execution_count": null,
      "outputs": [
        {
          "output_type": "stream",
          "name": "stdout",
          "text": [
            " * sqlite://\n",
            "Done.\n"
          ]
        },
        {
          "output_type": "execute_result",
          "data": {
            "text/html": [
              "<table>\n",
              "    <thead>\n",
              "        <tr>\n",
              "            <th>location</th>\n",
              "            <th>total_cases</th>\n",
              "            <th>maximum_deaths</th>\n",
              "        </tr>\n",
              "    </thead>\n",
              "    <tbody>\n",
              "        <tr>\n",
              "            <td>United States</td>\n",
              "            <td>44290052.0</td>\n",
              "            <td>712693.0</td>\n",
              "        </tr>\n",
              "        <tr>\n",
              "            <td>Brazil</td>\n",
              "            <td>21550730.0</td>\n",
              "            <td>600425.0</td>\n",
              "        </tr>\n",
              "        <tr>\n",
              "            <td>India</td>\n",
              "            <td>33935309.0</td>\n",
              "            <td>450375.0</td>\n",
              "        </tr>\n",
              "        <tr>\n",
              "            <td>Mexico</td>\n",
              "            <td>3714392.0</td>\n",
              "            <td>281610.0</td>\n",
              "        </tr>\n",
              "        <tr>\n",
              "            <td>Russia</td>\n",
              "            <td>7602386.0</td>\n",
              "            <td>210673.0</td>\n",
              "        </tr>\n",
              "    </tbody>\n",
              "</table>"
            ],
            "text/plain": [
              "[('United States', 44290052.0, 712693.0),\n",
              " ('Brazil', 21550730.0, 600425.0),\n",
              " ('India', 33935309.0, 450375.0),\n",
              " ('Mexico', 3714392.0, 281610.0),\n",
              " ('Russia', 7602386.0, 210673.0)]"
            ]
          },
          "metadata": {},
          "execution_count": 29
        }
      ]
    },
    {
      "cell_type": "code",
      "metadata": {
        "id": "gIeKcM39IT73",
        "colab": {
          "base_uri": "https://localhost:8080/"
        },
        "outputId": "c8c3c174-4fe3-41d3-e0aa-c0b819c1bd99"
      },
      "source": [
        "%%sql\n",
        "-- Top 5 countries with highest death count per population\n",
        "SELECT location, MAX((total_deaths/population))*100 as death_count_per_population\n",
        "FROM covid_deaths\n",
        "-- To exclude data that was aggregated per continent\n",
        "WHERE continent IS NOT NULL\n",
        "--Group by location to get highest per country\n",
        "GROUP BY location \n",
        "--Order in descending order of the highest death count per location \n",
        "ORDER BY 2 desc LIMIT 5;\n"
      ],
      "execution_count": null,
      "outputs": [
        {
          "output_type": "stream",
          "name": "stdout",
          "text": [
            " * sqlite://\n",
            "Done.\n"
          ]
        },
        {
          "output_type": "execute_result",
          "data": {
            "text/html": [
              "<table>\n",
              "    <thead>\n",
              "        <tr>\n",
              "            <th>location</th>\n",
              "            <th>death_count_per_population</th>\n",
              "        </tr>\n",
              "    </thead>\n",
              "    <tbody>\n",
              "        <tr>\n",
              "            <td>Peru</td>\n",
              "            <td>0.5984277601990323</td>\n",
              "        </tr>\n",
              "        <tr>\n",
              "            <td>Bosnia and Herzegovina</td>\n",
              "            <td>0.332867672000782</td>\n",
              "        </tr>\n",
              "        <tr>\n",
              "            <td>North Macedonia</td>\n",
              "            <td>0.3264573543173853</td>\n",
              "        </tr>\n",
              "        <tr>\n",
              "            <td>Montenegro</td>\n",
              "            <td>0.31526102179600063</td>\n",
              "        </tr>\n",
              "        <tr>\n",
              "            <td>Hungary</td>\n",
              "            <td>0.3142463246933153</td>\n",
              "        </tr>\n",
              "    </tbody>\n",
              "</table>"
            ],
            "text/plain": [
              "[('Peru', 0.5984277601990323),\n",
              " ('Bosnia and Herzegovina', 0.332867672000782),\n",
              " ('North Macedonia', 0.3264573543173853),\n",
              " ('Montenegro', 0.31526102179600063),\n",
              " ('Hungary', 0.3142463246933153)]"
            ]
          },
          "metadata": {},
          "execution_count": 55
        }
      ]
    },
    {
      "cell_type": "markdown",
      "metadata": {
        "id": "IIuHUJjD9i-O"
      },
      "source": [
        "##### **Summary**\n",
        "\n",
        "* The **United states** had the **highest** number of **total cases** with over **44.29million** people being infected, representing **13.3% of it's total population**.\n",
        "Other countries with highest number of cases were India, Brazil, United Kindom and Russia.\n",
        "\n",
        "* The **United States** also had the **highest** number of **reported deaths** with over **700 thousand** reported deaths. However the **infection fatality** in the country was **1.61%**. OF The countries with highest number of deaths,**Mexico** had the **highest fatality rate** at **7.58%** which is among the highest across all countries.\n",
        "\n",
        "* Coutries with the **highest percentage of** their **population infected** by the virus were **Seychells** with **21.97%** of it population being infect, followed by Montenegro, Andorra,San Marino and Czechia with 21.43%, 19.77%,16.07% and 15.83% repectively.\n",
        "\n",
        "* The **United States** had the **highest number of new cases** with over **131 thousand** new cases reported on 08/10/2021. Cmparing the rate of infection to the population size, **Barbados** had the **highest number of new infection/population ratio** with **0.105%**.\n",
        "\n",
        "* **France** ad the **highest** number of **weekly ICU admission** in **April 2020** with **4002** admissions, followed by **Czechia** with **2,994** admissions in **March 2021**.\n",
        "\n",
        "* **Peru** had the **highest death to population ratio** at **0.60% percent** followed by Bosmia and Herzegovina at 0.33%."
      ]
    },
    {
      "cell_type": "markdown",
      "metadata": {
        "id": "DoThNKqti0Xm"
      },
      "source": [
        "### ***Vaccination analysis***"
      ]
    },
    {
      "cell_type": "markdown",
      "metadata": {
        "id": "XxwAQAXIAPXT"
      },
      "source": [
        "#### Global Numbers"
      ]
    },
    {
      "cell_type": "code",
      "metadata": {
        "colab": {
          "base_uri": "https://localhost:8080/",
          "height": 192
        },
        "id": "cib0-2rPGqAp",
        "outputId": "8132338c-2457-4461-f0fc-06a35be60fd2"
      },
      "source": [
        "# Preview the table\n",
        "# Display the first 5 entries from the database\n",
        "%sql SELECT * FROM covid_vaccine LIMIT 5;"
      ],
      "execution_count": 53,
      "outputs": [
        {
          "output_type": "stream",
          "name": "stdout",
          "text": [
            " * sqlite://\n",
            "Done.\n"
          ]
        },
        {
          "output_type": "execute_result",
          "data": {
            "text/html": [
              "<table>\n",
              "    <thead>\n",
              "        <tr>\n",
              "            <th>iso_code</th>\n",
              "            <th>continent</th>\n",
              "            <th>location</th>\n",
              "            <th>date</th>\n",
              "            <th>new_tests</th>\n",
              "            <th>total_tests</th>\n",
              "            <th>total_tests_per_thousand</th>\n",
              "            <th>new_tests_per_thousand</th>\n",
              "            <th>new_tests_smoothed</th>\n",
              "            <th>new_tests_smoothed_per_thousand</th>\n",
              "            <th>positive_rate</th>\n",
              "            <th>tests_per_case</th>\n",
              "            <th>tests_units</th>\n",
              "            <th>total_vaccinations</th>\n",
              "            <th>people_vaccinated</th>\n",
              "            <th>people_fully_vaccinated</th>\n",
              "            <th>total_boosters</th>\n",
              "            <th>new_vaccinations</th>\n",
              "            <th>new_vaccinations_smoothed</th>\n",
              "            <th>total_vaccinations_per_hundred</th>\n",
              "            <th>people_vaccinated_per_hundred</th>\n",
              "            <th>people_fully_vaccinated_per_hundred</th>\n",
              "            <th>total_boosters_per_hundred</th>\n",
              "            <th>new_vaccinations_smoothed_per_million</th>\n",
              "            <th>stringency_index</th>\n",
              "            <th>population_density</th>\n",
              "            <th>median_age</th>\n",
              "            <th>aged_65_older</th>\n",
              "            <th>aged_70_older</th>\n",
              "            <th>gdp_per_capita</th>\n",
              "            <th>extreme_poverty</th>\n",
              "            <th>cardiovasc_death_rate</th>\n",
              "            <th>diabetes_prevalence</th>\n",
              "            <th>female_smokers</th>\n",
              "            <th>male_smokers</th>\n",
              "            <th>handwashing_facilities</th>\n",
              "            <th>hospital_beds_per_thousand</th>\n",
              "            <th>life_expectancy</th>\n",
              "            <th>human_development_index</th>\n",
              "            <th>excess_mortality_cumulative_absolute</th>\n",
              "            <th>excess_mortality_cumulative</th>\n",
              "            <th>excess_mortality</th>\n",
              "            <th>excess_mortality_cumulative_per_million</th>\n",
              "        </tr>\n",
              "    </thead>\n",
              "    <tbody>\n",
              "        <tr>\n",
              "            <td>AFG</td>\n",
              "            <td>Asia</td>\n",
              "            <td>Afghanistan</td>\n",
              "            <td>24/02/2020</td>\n",
              "            <td>None</td>\n",
              "            <td>None</td>\n",
              "            <td>None</td>\n",
              "            <td>None</td>\n",
              "            <td>None</td>\n",
              "            <td>None</td>\n",
              "            <td>None</td>\n",
              "            <td>None</td>\n",
              "            <td>None</td>\n",
              "            <td>None</td>\n",
              "            <td>None</td>\n",
              "            <td>None</td>\n",
              "            <td>None</td>\n",
              "            <td>None</td>\n",
              "            <td>None</td>\n",
              "            <td>None</td>\n",
              "            <td>None</td>\n",
              "            <td>None</td>\n",
              "            <td>None</td>\n",
              "            <td>None</td>\n",
              "            <td>8.33</td>\n",
              "            <td>54.422</td>\n",
              "            <td>18.6</td>\n",
              "            <td>2.5810000000000004</td>\n",
              "            <td>1.337</td>\n",
              "            <td>1803.987</td>\n",
              "            <td>None</td>\n",
              "            <td>597.029</td>\n",
              "            <td>9.59</td>\n",
              "            <td>None</td>\n",
              "            <td>None</td>\n",
              "            <td>37.746</td>\n",
              "            <td>0.5</td>\n",
              "            <td>64.83</td>\n",
              "            <td>0.511</td>\n",
              "            <td>None</td>\n",
              "            <td>None</td>\n",
              "            <td>None</td>\n",
              "            <td>None</td>\n",
              "        </tr>\n",
              "        <tr>\n",
              "            <td>AFG</td>\n",
              "            <td>Asia</td>\n",
              "            <td>Afghanistan</td>\n",
              "            <td>25/02/2020</td>\n",
              "            <td>None</td>\n",
              "            <td>None</td>\n",
              "            <td>None</td>\n",
              "            <td>None</td>\n",
              "            <td>None</td>\n",
              "            <td>None</td>\n",
              "            <td>None</td>\n",
              "            <td>None</td>\n",
              "            <td>None</td>\n",
              "            <td>None</td>\n",
              "            <td>None</td>\n",
              "            <td>None</td>\n",
              "            <td>None</td>\n",
              "            <td>None</td>\n",
              "            <td>None</td>\n",
              "            <td>None</td>\n",
              "            <td>None</td>\n",
              "            <td>None</td>\n",
              "            <td>None</td>\n",
              "            <td>None</td>\n",
              "            <td>8.33</td>\n",
              "            <td>54.422</td>\n",
              "            <td>18.6</td>\n",
              "            <td>2.5810000000000004</td>\n",
              "            <td>1.337</td>\n",
              "            <td>1803.987</td>\n",
              "            <td>None</td>\n",
              "            <td>597.029</td>\n",
              "            <td>9.59</td>\n",
              "            <td>None</td>\n",
              "            <td>None</td>\n",
              "            <td>37.746</td>\n",
              "            <td>0.5</td>\n",
              "            <td>64.83</td>\n",
              "            <td>0.511</td>\n",
              "            <td>None</td>\n",
              "            <td>None</td>\n",
              "            <td>None</td>\n",
              "            <td>None</td>\n",
              "        </tr>\n",
              "        <tr>\n",
              "            <td>AFG</td>\n",
              "            <td>Asia</td>\n",
              "            <td>Afghanistan</td>\n",
              "            <td>26/02/2020</td>\n",
              "            <td>None</td>\n",
              "            <td>None</td>\n",
              "            <td>None</td>\n",
              "            <td>None</td>\n",
              "            <td>None</td>\n",
              "            <td>None</td>\n",
              "            <td>None</td>\n",
              "            <td>None</td>\n",
              "            <td>None</td>\n",
              "            <td>None</td>\n",
              "            <td>None</td>\n",
              "            <td>None</td>\n",
              "            <td>None</td>\n",
              "            <td>None</td>\n",
              "            <td>None</td>\n",
              "            <td>None</td>\n",
              "            <td>None</td>\n",
              "            <td>None</td>\n",
              "            <td>None</td>\n",
              "            <td>None</td>\n",
              "            <td>8.33</td>\n",
              "            <td>54.422</td>\n",
              "            <td>18.6</td>\n",
              "            <td>2.5810000000000004</td>\n",
              "            <td>1.337</td>\n",
              "            <td>1803.987</td>\n",
              "            <td>None</td>\n",
              "            <td>597.029</td>\n",
              "            <td>9.59</td>\n",
              "            <td>None</td>\n",
              "            <td>None</td>\n",
              "            <td>37.746</td>\n",
              "            <td>0.5</td>\n",
              "            <td>64.83</td>\n",
              "            <td>0.511</td>\n",
              "            <td>None</td>\n",
              "            <td>None</td>\n",
              "            <td>None</td>\n",
              "            <td>None</td>\n",
              "        </tr>\n",
              "        <tr>\n",
              "            <td>AFG</td>\n",
              "            <td>Asia</td>\n",
              "            <td>Afghanistan</td>\n",
              "            <td>27/02/2020</td>\n",
              "            <td>None</td>\n",
              "            <td>None</td>\n",
              "            <td>None</td>\n",
              "            <td>None</td>\n",
              "            <td>None</td>\n",
              "            <td>None</td>\n",
              "            <td>None</td>\n",
              "            <td>None</td>\n",
              "            <td>None</td>\n",
              "            <td>None</td>\n",
              "            <td>None</td>\n",
              "            <td>None</td>\n",
              "            <td>None</td>\n",
              "            <td>None</td>\n",
              "            <td>None</td>\n",
              "            <td>None</td>\n",
              "            <td>None</td>\n",
              "            <td>None</td>\n",
              "            <td>None</td>\n",
              "            <td>None</td>\n",
              "            <td>8.33</td>\n",
              "            <td>54.422</td>\n",
              "            <td>18.6</td>\n",
              "            <td>2.5810000000000004</td>\n",
              "            <td>1.337</td>\n",
              "            <td>1803.987</td>\n",
              "            <td>None</td>\n",
              "            <td>597.029</td>\n",
              "            <td>9.59</td>\n",
              "            <td>None</td>\n",
              "            <td>None</td>\n",
              "            <td>37.746</td>\n",
              "            <td>0.5</td>\n",
              "            <td>64.83</td>\n",
              "            <td>0.511</td>\n",
              "            <td>None</td>\n",
              "            <td>None</td>\n",
              "            <td>None</td>\n",
              "            <td>None</td>\n",
              "        </tr>\n",
              "        <tr>\n",
              "            <td>AFG</td>\n",
              "            <td>Asia</td>\n",
              "            <td>Afghanistan</td>\n",
              "            <td>28/02/2020</td>\n",
              "            <td>None</td>\n",
              "            <td>None</td>\n",
              "            <td>None</td>\n",
              "            <td>None</td>\n",
              "            <td>None</td>\n",
              "            <td>None</td>\n",
              "            <td>None</td>\n",
              "            <td>None</td>\n",
              "            <td>None</td>\n",
              "            <td>None</td>\n",
              "            <td>None</td>\n",
              "            <td>None</td>\n",
              "            <td>None</td>\n",
              "            <td>None</td>\n",
              "            <td>None</td>\n",
              "            <td>None</td>\n",
              "            <td>None</td>\n",
              "            <td>None</td>\n",
              "            <td>None</td>\n",
              "            <td>None</td>\n",
              "            <td>8.33</td>\n",
              "            <td>54.422</td>\n",
              "            <td>18.6</td>\n",
              "            <td>2.5810000000000004</td>\n",
              "            <td>1.337</td>\n",
              "            <td>1803.987</td>\n",
              "            <td>None</td>\n",
              "            <td>597.029</td>\n",
              "            <td>9.59</td>\n",
              "            <td>None</td>\n",
              "            <td>None</td>\n",
              "            <td>37.746</td>\n",
              "            <td>0.5</td>\n",
              "            <td>64.83</td>\n",
              "            <td>0.511</td>\n",
              "            <td>None</td>\n",
              "            <td>None</td>\n",
              "            <td>None</td>\n",
              "            <td>None</td>\n",
              "        </tr>\n",
              "    </tbody>\n",
              "</table>"
            ],
            "text/plain": [
              "[('AFG', 'Asia', 'Afghanistan', '24/02/2020', None, None, None, None, None, None, None, None, None, None, None, None, None, None, None, None, None, None, None, None, 8.33, 54.422, 18.6, 2.5810000000000004, 1.337, 1803.987, None, 597.029, 9.59, None, None, 37.746, 0.5, 64.83, 0.511, None, None, None, None),\n",
              " ('AFG', 'Asia', 'Afghanistan', '25/02/2020', None, None, None, None, None, None, None, None, None, None, None, None, None, None, None, None, None, None, None, None, 8.33, 54.422, 18.6, 2.5810000000000004, 1.337, 1803.987, None, 597.029, 9.59, None, None, 37.746, 0.5, 64.83, 0.511, None, None, None, None),\n",
              " ('AFG', 'Asia', 'Afghanistan', '26/02/2020', None, None, None, None, None, None, None, None, None, None, None, None, None, None, None, None, None, None, None, None, 8.33, 54.422, 18.6, 2.5810000000000004, 1.337, 1803.987, None, 597.029, 9.59, None, None, 37.746, 0.5, 64.83, 0.511, None, None, None, None),\n",
              " ('AFG', 'Asia', 'Afghanistan', '27/02/2020', None, None, None, None, None, None, None, None, None, None, None, None, None, None, None, None, None, None, None, None, 8.33, 54.422, 18.6, 2.5810000000000004, 1.337, 1803.987, None, 597.029, 9.59, None, None, 37.746, 0.5, 64.83, 0.511, None, None, None, None),\n",
              " ('AFG', 'Asia', 'Afghanistan', '28/02/2020', None, None, None, None, None, None, None, None, None, None, None, None, None, None, None, None, None, None, None, None, 8.33, 54.422, 18.6, 2.5810000000000004, 1.337, 1803.987, None, 597.029, 9.59, None, None, 37.746, 0.5, 64.83, 0.511, None, None, None, None)]"
            ]
          },
          "metadata": {},
          "execution_count": 53
        }
      ]
    },
    {
      "cell_type": "code",
      "metadata": {
        "colab": {
          "base_uri": "https://localhost:8080/",
          "height": 212
        },
        "id": "unYeWxwAM9ST",
        "outputId": "5e927871-409d-4ec4-edf3-03f0a023e6ea"
      },
      "source": [
        "# Display the first 5 entries from the database\n",
        "%%sql \n",
        "SELECT location, date, total_vaccinations,people_fully_vaccinated,total_boosters, new_vaccinations \n",
        "FROM covid_vaccine\n",
        "WHERE continent IS NULL AND location NOT IN ('World','International')\n",
        "GROUP BY location\n",
        "ORDER BY 3 DESC;\n"
      ],
      "execution_count": 60,
      "outputs": [
        {
          "output_type": "stream",
          "name": "stdout",
          "text": [
            " * sqlite://\n",
            "Done.\n"
          ]
        },
        {
          "output_type": "execute_result",
          "data": {
            "text/html": [
              "<table>\n",
              "    <thead>\n",
              "        <tr>\n",
              "            <th>location</th>\n",
              "            <th>date</th>\n",
              "            <th>total_vaccinations</th>\n",
              "            <th>people_fully_vaccinated</th>\n",
              "            <th>total_boosters</th>\n",
              "            <th>new_vaccinations</th>\n",
              "        </tr>\n",
              "    </thead>\n",
              "    <tbody>\n",
              "        <tr>\n",
              "            <td>Asia</td>\n",
              "            <td>08/10/2021</td>\n",
              "            <td>4356210192.0</td>\n",
              "            <td>1787331488.0</td>\n",
              "            <td>18274814.0</td>\n",
              "            <td>15577446.0</td>\n",
              "        </tr>\n",
              "        <tr>\n",
              "            <td>Europe</td>\n",
              "            <td>08/10/2021</td>\n",
              "            <td>813382929.0</td>\n",
              "            <td>397812747.0</td>\n",
              "            <td>5576863.0</td>\n",
              "            <td>884079.0</td>\n",
              "        </tr>\n",
              "        <tr>\n",
              "            <td>North America</td>\n",
              "            <td>08/10/2021</td>\n",
              "            <td>635020744.0</td>\n",
              "            <td>287943117.0</td>\n",
              "            <td>8458813.0</td>\n",
              "            <td>1320478.0</td>\n",
              "        </tr>\n",
              "        <tr>\n",
              "            <td>European Union</td>\n",
              "            <td>08/10/2021</td>\n",
              "            <td>573299618.0</td>\n",
              "            <td>284028161.0</td>\n",
              "            <td>3953953.0</td>\n",
              "            <td>482997.0</td>\n",
              "        </tr>\n",
              "        <tr>\n",
              "            <td>South America</td>\n",
              "            <td>08/10/2021</td>\n",
              "            <td>460837057.0</td>\n",
              "            <td>190154281.0</td>\n",
              "            <td>4765030.0</td>\n",
              "            <td>2634235.0</td>\n",
              "        </tr>\n",
              "        <tr>\n",
              "            <td>Africa</td>\n",
              "            <td>08/10/2021</td>\n",
              "            <td>159686591.0</td>\n",
              "            <td>63698720.0</td>\n",
              "            <td>None</td>\n",
              "            <td>239904.0</td>\n",
              "        </tr>\n",
              "        <tr>\n",
              "            <td>Oceania</td>\n",
              "            <td>08/10/2021</td>\n",
              "            <td>38281472.0</td>\n",
              "            <td>15874764.0</td>\n",
              "            <td>None</td>\n",
              "            <td>331299.0</td>\n",
              "        </tr>\n",
              "    </tbody>\n",
              "</table>"
            ],
            "text/plain": [
              "[('Asia', '08/10/2021', 4356210192.0, 1787331488.0, 18274814.0, 15577446.0),\n",
              " ('Europe', '08/10/2021', 813382929.0, 397812747.0, 5576863.0, 884079.0),\n",
              " ('North America', '08/10/2021', 635020744.0, 287943117.0, 8458813.0, 1320478.0),\n",
              " ('European Union', '08/10/2021', 573299618.0, 284028161.0, 3953953.0, 482997.0),\n",
              " ('South America', '08/10/2021', 460837057.0, 190154281.0, 4765030.0, 2634235.0),\n",
              " ('Africa', '08/10/2021', 159686591.0, 63698720.0, None, 239904.0),\n",
              " ('Oceania', '08/10/2021', 38281472.0, 15874764.0, None, 331299.0)]"
            ]
          },
          "metadata": {},
          "execution_count": 60
        }
      ]
    },
    {
      "cell_type": "code",
      "metadata": {
        "colab": {
          "base_uri": "https://localhost:8080/",
          "height": 93
        },
        "id": "AVt8gkIoPUL9",
        "outputId": "56299bc1-5284-46e2-f089-589bff481d2a"
      },
      "source": [
        "%%sql\n",
        "-- Total vaccinations worldwide\n",
        "SELECT location, MAX(total_vaccinations) as total_vaccinations, MAX(people_fully_vaccinated) as fully_vaccinated_people FROM covid_vaccine"
      ],
      "execution_count": 66,
      "outputs": [
        {
          "output_type": "stream",
          "name": "stdout",
          "text": [
            " * sqlite://\n",
            "Done.\n"
          ]
        },
        {
          "output_type": "execute_result",
          "data": {
            "text/html": [
              "<table>\n",
              "    <thead>\n",
              "        <tr>\n",
              "            <th>location</th>\n",
              "            <th>total_vaccinations</th>\n",
              "            <th>fully_vaccinated_people</th>\n",
              "        </tr>\n",
              "    </thead>\n",
              "    <tbody>\n",
              "        <tr>\n",
              "            <td>World</td>\n",
              "            <td>6463418985.0</td>\n",
              "            <td>2742815117.0</td>\n",
              "        </tr>\n",
              "    </tbody>\n",
              "</table>"
            ],
            "text/plain": [
              "[('World', 6463418985.0, 2742815117.0)]"
            ]
          },
          "metadata": {},
          "execution_count": 66
        }
      ]
    },
    {
      "cell_type": "code",
      "metadata": {
        "colab": {
          "base_uri": "https://localhost:8080/",
          "height": 93
        },
        "id": "8LmsA1jDQ_iV",
        "outputId": "1cae1313-db9f-4010-f4b9-bf1ddcd1e2c9"
      },
      "source": [
        "%%sql\n",
        "-- Total vaccinations worldwide\n",
        "SELECT location,date, MAX(new_vaccinations) as new_vaccinations FROM covid_vaccine"
      ],
      "execution_count": 67,
      "outputs": [
        {
          "output_type": "stream",
          "name": "stdout",
          "text": [
            " * sqlite://\n",
            "Done.\n"
          ]
        },
        {
          "output_type": "execute_result",
          "data": {
            "text/html": [
              "<table>\n",
              "    <thead>\n",
              "        <tr>\n",
              "            <th>location</th>\n",
              "            <th>date</th>\n",
              "            <th>new_vaccinations</th>\n",
              "        </tr>\n",
              "    </thead>\n",
              "    <tbody>\n",
              "        <tr>\n",
              "            <td>World</td>\n",
              "            <td>03/08/2021</td>\n",
              "            <td>56277686.0</td>\n",
              "        </tr>\n",
              "    </tbody>\n",
              "</table>"
            ],
            "text/plain": [
              "[('World', '03/08/2021', 56277686.0)]"
            ]
          },
          "metadata": {},
          "execution_count": 67
        }
      ]
    },
    {
      "cell_type": "markdown",
      "metadata": {
        "id": "xVh4CuRXAUTi"
      },
      "source": [
        "#### Analysis by continent"
      ]
    },
    {
      "cell_type": "code",
      "metadata": {
        "colab": {
          "base_uri": "https://localhost:8080/",
          "height": 212
        },
        "id": "Hlr1rlwKAUTi",
        "outputId": "7399eac1-b18d-46b9-a074-8a939ae1209b"
      },
      "source": [
        "%%sql\n",
        "-- First we'll look at the total popuation per continent.\n",
        "SELECT location, total_vaccinations, people_fully_vaccinated\n",
        "FROM covid_vaccine\n",
        "-- To exclude data that was aggregated per continent\n",
        "WHERE continent IS  NULL AND location NOT IN ('World','International')\n",
        "--Group by location to get highest per country\n",
        "GROUP BY location \n",
        "--Order in descending order of the highest death count per location \n",
        "ORDER BY 2 desc;"
      ],
      "execution_count": 68,
      "outputs": [
        {
          "output_type": "stream",
          "name": "stdout",
          "text": [
            " * sqlite://\n",
            "Done.\n"
          ]
        },
        {
          "output_type": "execute_result",
          "data": {
            "text/html": [
              "<table>\n",
              "    <thead>\n",
              "        <tr>\n",
              "            <th>location</th>\n",
              "            <th>total_vaccinations</th>\n",
              "            <th>people_fully_vaccinated</th>\n",
              "        </tr>\n",
              "    </thead>\n",
              "    <tbody>\n",
              "        <tr>\n",
              "            <td>Asia</td>\n",
              "            <td>4356210192.0</td>\n",
              "            <td>1787331488.0</td>\n",
              "        </tr>\n",
              "        <tr>\n",
              "            <td>Europe</td>\n",
              "            <td>813382929.0</td>\n",
              "            <td>397812747.0</td>\n",
              "        </tr>\n",
              "        <tr>\n",
              "            <td>North America</td>\n",
              "            <td>635020744.0</td>\n",
              "            <td>287943117.0</td>\n",
              "        </tr>\n",
              "        <tr>\n",
              "            <td>European Union</td>\n",
              "            <td>573299618.0</td>\n",
              "            <td>284028161.0</td>\n",
              "        </tr>\n",
              "        <tr>\n",
              "            <td>South America</td>\n",
              "            <td>460837057.0</td>\n",
              "            <td>190154281.0</td>\n",
              "        </tr>\n",
              "        <tr>\n",
              "            <td>Africa</td>\n",
              "            <td>159686591.0</td>\n",
              "            <td>63698720.0</td>\n",
              "        </tr>\n",
              "        <tr>\n",
              "            <td>Oceania</td>\n",
              "            <td>38281472.0</td>\n",
              "            <td>15874764.0</td>\n",
              "        </tr>\n",
              "    </tbody>\n",
              "</table>"
            ],
            "text/plain": [
              "[('Asia', 4356210192.0, 1787331488.0),\n",
              " ('Europe', 813382929.0, 397812747.0),\n",
              " ('North America', 635020744.0, 287943117.0),\n",
              " ('European Union', 573299618.0, 284028161.0),\n",
              " ('South America', 460837057.0, 190154281.0),\n",
              " ('Africa', 159686591.0, 63698720.0),\n",
              " ('Oceania', 38281472.0, 15874764.0)]"
            ]
          },
          "metadata": {},
          "execution_count": 68
        }
      ]
    },
    {
      "cell_type": "code",
      "metadata": {
        "colab": {
          "base_uri": "https://localhost:8080/",
          "height": 212
        },
        "id": "_TtbPM_iR4I8",
        "outputId": "f8c64cfd-64f9-4e1e-fc00-e6c6ca0b9b4a"
      },
      "source": [
        "%%sql\n",
        "-- First we'll look at the total popuation per continent.\n",
        "SELECT location,date, new_vaccinations\n",
        "FROM covid_vaccine\n",
        "-- To exclude data that was aggregated per continent\n",
        "WHERE continent IS  NULL AND location NOT IN ('World','International')\n",
        "--Group by location to get highest per country\n",
        "GROUP BY location \n",
        "--Order in descending order of the highest death count per location \n",
        "ORDER BY 3 desc;"
      ],
      "execution_count": 72,
      "outputs": [
        {
          "output_type": "stream",
          "name": "stdout",
          "text": [
            " * sqlite://\n",
            "Done.\n"
          ]
        },
        {
          "output_type": "execute_result",
          "data": {
            "text/html": [
              "<table>\n",
              "    <thead>\n",
              "        <tr>\n",
              "            <th>location</th>\n",
              "            <th>date</th>\n",
              "            <th>new_vaccinations</th>\n",
              "        </tr>\n",
              "    </thead>\n",
              "    <tbody>\n",
              "        <tr>\n",
              "            <td>Asia</td>\n",
              "            <td>08/10/2021</td>\n",
              "            <td>15577446.0</td>\n",
              "        </tr>\n",
              "        <tr>\n",
              "            <td>South America</td>\n",
              "            <td>08/10/2021</td>\n",
              "            <td>2634235.0</td>\n",
              "        </tr>\n",
              "        <tr>\n",
              "            <td>North America</td>\n",
              "            <td>08/10/2021</td>\n",
              "            <td>1320478.0</td>\n",
              "        </tr>\n",
              "        <tr>\n",
              "            <td>Europe</td>\n",
              "            <td>08/10/2021</td>\n",
              "            <td>884079.0</td>\n",
              "        </tr>\n",
              "        <tr>\n",
              "            <td>European Union</td>\n",
              "            <td>08/10/2021</td>\n",
              "            <td>482997.0</td>\n",
              "        </tr>\n",
              "        <tr>\n",
              "            <td>Oceania</td>\n",
              "            <td>08/10/2021</td>\n",
              "            <td>331299.0</td>\n",
              "        </tr>\n",
              "        <tr>\n",
              "            <td>Africa</td>\n",
              "            <td>08/10/2021</td>\n",
              "            <td>239904.0</td>\n",
              "        </tr>\n",
              "    </tbody>\n",
              "</table>"
            ],
            "text/plain": [
              "[('Asia', '08/10/2021', 15577446.0),\n",
              " ('South America', '08/10/2021', 2634235.0),\n",
              " ('North America', '08/10/2021', 1320478.0),\n",
              " ('Europe', '08/10/2021', 884079.0),\n",
              " ('European Union', '08/10/2021', 482997.0),\n",
              " ('Oceania', '08/10/2021', 331299.0),\n",
              " ('Africa', '08/10/2021', 239904.0)]"
            ]
          },
          "metadata": {},
          "execution_count": 72
        }
      ]
    },
    {
      "cell_type": "markdown",
      "metadata": {
        "id": "LZinsL0KAazt"
      },
      "source": [
        "#### Analysis by country"
      ]
    },
    {
      "cell_type": "code",
      "metadata": {
        "colab": {
          "base_uri": "https://localhost:8080/",
          "height": 172
        },
        "id": "GXbkkNkEAazu",
        "outputId": "50448503-71ba-4d0f-b0bd-a2d988e6ca18"
      },
      "source": [
        "%%sql\n",
        "-- Countries the the most fully vaccinated people\n",
        "SELECT location, people_fully_vaccinated\n",
        "FROM covid_vaccine\n",
        "-- Exclude continent=wide data\n",
        "WHERE continent IS NOT NULL\n",
        "--TO select distinct countries\n",
        "GROUP BY location\n",
        "--Order by the total cases\n",
        "ORDER BY 2 DESC\n",
        "--View the top 5 countries\n",
        "LIMIT 5;"
      ],
      "execution_count": 74,
      "outputs": [
        {
          "output_type": "stream",
          "name": "stdout",
          "text": [
            " * sqlite://\n",
            "Done.\n"
          ]
        },
        {
          "output_type": "execute_result",
          "data": {
            "text/html": [
              "<table>\n",
              "    <thead>\n",
              "        <tr>\n",
              "            <th>location</th>\n",
              "            <th>people_fully_vaccinated</th>\n",
              "        </tr>\n",
              "    </thead>\n",
              "    <tbody>\n",
              "        <tr>\n",
              "            <td>India</td>\n",
              "            <td>260058462.0</td>\n",
              "        </tr>\n",
              "        <tr>\n",
              "            <td>United States</td>\n",
              "            <td>186917921.0</td>\n",
              "        </tr>\n",
              "        <tr>\n",
              "            <td>Brazil</td>\n",
              "            <td>97624430.0</td>\n",
              "        </tr>\n",
              "        <tr>\n",
              "            <td>Indonesia</td>\n",
              "            <td>56106006.0</td>\n",
              "        </tr>\n",
              "        <tr>\n",
              "            <td>Germany</td>\n",
              "            <td>54234240.0</td>\n",
              "        </tr>\n",
              "    </tbody>\n",
              "</table>"
            ],
            "text/plain": [
              "[('India', 260058462.0),\n",
              " ('United States', 186917921.0),\n",
              " ('Brazil', 97624430.0),\n",
              " ('Indonesia', 56106006.0),\n",
              " ('Germany', 54234240.0)]"
            ]
          },
          "metadata": {},
          "execution_count": 74
        }
      ]
    },
    {
      "cell_type": "code",
      "metadata": {
        "colab": {
          "base_uri": "https://localhost:8080/",
          "height": 172
        },
        "id": "9G4Qg1mRAazv",
        "outputId": "0156d573-50f0-475f-d7c1-54cf8adb6e35"
      },
      "source": [
        "%%sql\n",
        "-- Countries conducting the most tests\n",
        "SELECT location, new_tests\n",
        "FROM covid_vaccine\n",
        "-- Exclude continent=wide data\n",
        "WHERE continent IS NOT NULL\n",
        "--TO select distinct countries\n",
        "GROUP BY location\n",
        "--Order by the total cases\n",
        "ORDER BY 2 DESC\n",
        "--View the top 5 countries\n",
        "LIMIT 5;"
      ],
      "execution_count": 75,
      "outputs": [
        {
          "output_type": "stream",
          "name": "stdout",
          "text": [
            " * sqlite://\n",
            "Done.\n"
          ]
        },
        {
          "output_type": "execute_result",
          "data": {
            "text/html": [
              "<table>\n",
              "    <thead>\n",
              "        <tr>\n",
              "            <th>location</th>\n",
              "            <th>new_tests</th>\n",
              "        </tr>\n",
              "    </thead>\n",
              "    <tbody>\n",
              "        <tr>\n",
              "            <td>India</td>\n",
              "            <td>1385706.0</td>\n",
              "        </tr>\n",
              "        <tr>\n",
              "            <td>South Korea</td>\n",
              "            <td>55107.0</td>\n",
              "        </tr>\n",
              "        <tr>\n",
              "            <td>Ukraine</td>\n",
              "            <td>53211.0</td>\n",
              "        </tr>\n",
              "        <tr>\n",
              "            <td>Pakistan</td>\n",
              "            <td>45619.0</td>\n",
              "        </tr>\n",
              "        <tr>\n",
              "            <td>New Zealand</td>\n",
              "            <td>29927.0</td>\n",
              "        </tr>\n",
              "    </tbody>\n",
              "</table>"
            ],
            "text/plain": [
              "[('India', 1385706.0),\n",
              " ('South Korea', 55107.0),\n",
              " ('Ukraine', 53211.0),\n",
              " ('Pakistan', 45619.0),\n",
              " ('New Zealand', 29927.0)]"
            ]
          },
          "metadata": {},
          "execution_count": 75
        }
      ]
    },
    {
      "cell_type": "code",
      "metadata": {
        "colab": {
          "base_uri": "https://localhost:8080/",
          "height": 172
        },
        "id": "VCTBNfNyS6aN",
        "outputId": "387817d2-2ba5-4572-a284-6b1ec3f307af"
      },
      "source": [
        "%%sql\n",
        "-- Country with highest positivity rates\n",
        "SELECT location,date, MAX(positive_rate) AS positive_rate\n",
        "FROM covid_vaccine\n",
        "-- Exclude continent=wide data\n",
        "WHERE continent IS NOT NULL\n",
        "--TO select distinct countries\n",
        "GROUP BY location\n",
        "--Order by the total cases\n",
        "ORDER BY 3 DESC\n",
        "--View the top 5 countries\n",
        "LIMIT 5;"
      ],
      "execution_count": 85,
      "outputs": [
        {
          "output_type": "stream",
          "name": "stdout",
          "text": [
            " * sqlite://\n",
            "Done.\n"
          ]
        },
        {
          "output_type": "execute_result",
          "data": {
            "text/html": [
              "<table>\n",
              "    <thead>\n",
              "        <tr>\n",
              "            <th>location</th>\n",
              "            <th>date</th>\n",
              "            <th>positive_rate</th>\n",
              "        </tr>\n",
              "    </thead>\n",
              "    <tbody>\n",
              "        <tr>\n",
              "            <td>Uganda</td>\n",
              "            <td>28/08/2021</td>\n",
              "            <td>0.97</td>\n",
              "        </tr>\n",
              "        <tr>\n",
              "            <td>Papua New Guinea</td>\n",
              "            <td>05/04/2021</td>\n",
              "            <td>0.9329999999999999</td>\n",
              "        </tr>\n",
              "        <tr>\n",
              "            <td>Palestine</td>\n",
              "            <td>06/10/2021</td>\n",
              "            <td>0.778</td>\n",
              "        </tr>\n",
              "        <tr>\n",
              "            <td>Bosnia and Herzegovina</td>\n",
              "            <td>02/03/2021</td>\n",
              "            <td>0.742</td>\n",
              "        </tr>\n",
              "        <tr>\n",
              "            <td>Gabon</td>\n",
              "            <td>22/09/2021</td>\n",
              "            <td>0.6609999999999999</td>\n",
              "        </tr>\n",
              "    </tbody>\n",
              "</table>"
            ],
            "text/plain": [
              "[('Uganda', '28/08/2021', 0.97),\n",
              " ('Papua New Guinea', '05/04/2021', 0.9329999999999999),\n",
              " ('Palestine', '06/10/2021', 0.778),\n",
              " ('Bosnia and Herzegovina', '02/03/2021', 0.742),\n",
              " ('Gabon', '22/09/2021', 0.6609999999999999)]"
            ]
          },
          "metadata": {},
          "execution_count": 85
        }
      ]
    },
    {
      "cell_type": "code",
      "metadata": {
        "colab": {
          "base_uri": "https://localhost:8080/",
          "height": 172
        },
        "id": "PlyXQxtLXCml",
        "outputId": "55629ad6-30cb-4000-cec4-806e676914b3"
      },
      "source": [
        "%%sql\n",
        "-- People fully vaccinated in coutries with the highest positivity rate.\n",
        "SELECT location,MAX(people_fully_vaccinated) as people_fully_vaccinated\n",
        "FROM covid_vaccine\n",
        "-- Exclude continent=wide data\n",
        "WHERE continent IS NOT NULL AND location IN ('Uganda','Palestine','Papua New Guinea','Bosnia and Herzegovina','Gabon')\n",
        "--TO select distinct countries\n",
        "GROUP BY location\n",
        "--Order by the total cases\n",
        "ORDER BY 2 DESC\n",
        "--View the top 5 countries\n",
        "LIMIT 5;"
      ],
      "execution_count": 95,
      "outputs": [
        {
          "output_type": "stream",
          "name": "stdout",
          "text": [
            " * sqlite://\n",
            "Done.\n"
          ]
        },
        {
          "output_type": "execute_result",
          "data": {
            "text/html": [
              "<table>\n",
              "    <thead>\n",
              "        <tr>\n",
              "            <th>location</th>\n",
              "            <th>people_fully_vaccinated</th>\n",
              "        </tr>\n",
              "    </thead>\n",
              "    <tbody>\n",
              "        <tr>\n",
              "            <td>Palestine</td>\n",
              "            <td>1164783.0</td>\n",
              "        </tr>\n",
              "        <tr>\n",
              "            <td>Bosnia and Herzegovina</td>\n",
              "            <td>508008.0</td>\n",
              "        </tr>\n",
              "        <tr>\n",
              "            <td>Uganda</td>\n",
              "            <td>415486.0</td>\n",
              "        </tr>\n",
              "        <tr>\n",
              "            <td>Gabon</td>\n",
              "            <td>80462.0</td>\n",
              "        </tr>\n",
              "        <tr>\n",
              "            <td>Papua New Guinea</td>\n",
              "            <td>61221.0</td>\n",
              "        </tr>\n",
              "    </tbody>\n",
              "</table>"
            ],
            "text/plain": [
              "[('Palestine', 1164783.0),\n",
              " ('Bosnia and Herzegovina', 508008.0),\n",
              " ('Uganda', 415486.0),\n",
              " ('Gabon', 80462.0),\n",
              " ('Papua New Guinea', 61221.0)]"
            ]
          },
          "metadata": {},
          "execution_count": 95
        }
      ]
    },
    {
      "cell_type": "code",
      "metadata": {
        "id": "Kn1Sk0wKIUOx"
      },
      "source": [
        "%%sql\n"
      ],
      "execution_count": null,
      "outputs": []
    },
    {
      "cell_type": "markdown",
      "metadata": {
        "id": "ctNrV9h8i6Rq"
      },
      "source": [
        "### ***Covid Deaths vs Vaccinations***"
      ]
    },
    {
      "cell_type": "markdown",
      "metadata": {
        "id": "SFtZ41J9Aujr"
      },
      "source": [
        "#### Global Numbers"
      ]
    },
    {
      "cell_type": "code",
      "metadata": {
        "colab": {
          "base_uri": "https://localhost:8080/"
        },
        "id": "Sz4u0vMuAujs",
        "outputId": "6048070e-a429-4bd0-a7c7-85c1912ce574"
      },
      "source": [
        "%%sql\n",
        "SELECT date, SUM(new_deaths\t) as global_new_death_count\n",
        "FROM covid_deaths\n",
        "--\n",
        "GROUP BY date \n",
        "--Order in descending order of the highest death count per location \n",
        "ORDER BY 2 desc LIMIT 5;"
      ],
      "execution_count": null,
      "outputs": [
        {
          "output_type": "stream",
          "name": "stderr",
          "text": [
            "UsageError: Cell magic `%%sql` not found.\n"
          ]
        }
      ]
    },
    {
      "cell_type": "code",
      "metadata": {
        "colab": {
          "base_uri": "https://localhost:8080/",
          "height": 179
        },
        "id": "eZbbrTuDAujt",
        "outputId": "ee12d8f6-c667-4a0d-ae3a-623b8f29bfee"
      },
      "source": [
        "%%sql\n",
        "SELECT date, SUM(new_cases) as global_new_cases\n",
        "FROM covid_deaths\n",
        "--\n",
        "GROUP BY date \n",
        "--Order in descending order of the highest death count per location \n",
        "ORDER BY 2 desc LIMIT 5;"
      ],
      "execution_count": null,
      "outputs": [
        {
          "output_type": "stream",
          "name": "stdout",
          "text": [
            " * sqlite://\n",
            "Done.\n"
          ]
        },
        {
          "output_type": "execute_result",
          "data": {
            "text/html": [
              "<table>\n",
              "    <thead>\n",
              "        <tr>\n",
              "            <th>date</th>\n",
              "            <th>global_new_cases</th>\n",
              "        </tr>\n",
              "    </thead>\n",
              "    <tbody>\n",
              "        <tr>\n",
              "            <td>07/01/2021</td>\n",
              "            <td>2899683.0</td>\n",
              "        </tr>\n",
              "        <tr>\n",
              "            <td>28/04/2021</td>\n",
              "            <td>2852132.0</td>\n",
              "        </tr>\n",
              "        <tr>\n",
              "            <td>23/04/2021</td>\n",
              "            <td>2850392.0</td>\n",
              "        </tr>\n",
              "        <tr>\n",
              "            <td>22/04/2021</td>\n",
              "            <td>2847266.0</td>\n",
              "        </tr>\n",
              "        <tr>\n",
              "            <td>21/04/2021</td>\n",
              "            <td>2826497.0</td>\n",
              "        </tr>\n",
              "    </tbody>\n",
              "</table>"
            ],
            "text/plain": [
              "[('07/01/2021', 2899683.0),\n",
              " ('28/04/2021', 2852132.0),\n",
              " ('23/04/2021', 2850392.0),\n",
              " ('22/04/2021', 2847266.0),\n",
              " ('21/04/2021', 2826497.0)]"
            ]
          },
          "metadata": {},
          "execution_count": 30
        }
      ]
    },
    {
      "cell_type": "code",
      "metadata": {
        "id": "qpwyVLaiAujv"
      },
      "source": [
        "%%sql\n",
        "-- Highest weekly ICU admissions globally\n",
        "SELECT date, SUM(weekly_icu_admissions) as global_weekly_icu_admissions\n",
        "FROM covid_deaths\n",
        "\n",
        "GROUP BY date \n",
        "-- View top 5 ICU admissions\n",
        "ORDER BY 2 desc LIMIT 5;"
      ],
      "execution_count": null,
      "outputs": []
    },
    {
      "cell_type": "code",
      "metadata": {
        "id": "sOs-bY8mIUSW",
        "colab": {
          "base_uri": "https://localhost:8080/",
          "height": 304
        },
        "outputId": "b20a4cc8-69a4-4f8d-87c7-b0a7f663b665"
      },
      "source": [
        "%%sql\n",
        "-- Joining the tableson location and date\n",
        "SELECT * FROM covid_deaths JOIN  covid_vaccine \n",
        "on covid_deaths.location = covid_vaccine.location \n",
        "and covid_deaths.date = covid_vaccine.date\n",
        "LIMIT 10; "
      ],
      "execution_count": null,
      "outputs": [
        {
          "output_type": "stream",
          "name": "stdout",
          "text": [
            " * sqlite://\n",
            "Done.\n"
          ]
        },
        {
          "output_type": "execute_result",
          "data": {
            "text/html": [
              "<table>\n",
              "    <thead>\n",
              "        <tr>\n",
              "            <th>iso_code</th>\n",
              "            <th>continent</th>\n",
              "            <th>location</th>\n",
              "            <th>date</th>\n",
              "            <th>population</th>\n",
              "            <th>total_cases</th>\n",
              "            <th>new_cases</th>\n",
              "            <th>new_cases_smoothed</th>\n",
              "            <th>total_deaths</th>\n",
              "            <th>new_deaths</th>\n",
              "            <th>new_deaths_smoothed</th>\n",
              "            <th>total_cases_per_million</th>\n",
              "            <th>new_cases_per_million</th>\n",
              "            <th>new_cases_smoothed_per_million</th>\n",
              "            <th>total_deaths_per_million</th>\n",
              "            <th>new_deaths_per_million</th>\n",
              "            <th>new_deaths_smoothed_per_million</th>\n",
              "            <th>reproduction_rate</th>\n",
              "            <th>icu_patients</th>\n",
              "            <th>icu_patients_per_million</th>\n",
              "            <th>hosp_patients</th>\n",
              "            <th>hosp_patients_per_million</th>\n",
              "            <th>weekly_icu_admissions</th>\n",
              "            <th>weekly_icu_admissions_per_million</th>\n",
              "            <th>weekly_hosp_admissions</th>\n",
              "            <th>weekly_hosp_admissions_per_million</th>\n",
              "            <th>iso_code_1</th>\n",
              "            <th>continent_1</th>\n",
              "            <th>location_1</th>\n",
              "            <th>date_1</th>\n",
              "            <th>new_tests</th>\n",
              "            <th>total_tests</th>\n",
              "            <th>total_tests_per_thousand</th>\n",
              "            <th>new_tests_per_thousand</th>\n",
              "            <th>new_tests_smoothed</th>\n",
              "            <th>new_tests_smoothed_per_thousand</th>\n",
              "            <th>positive_rate</th>\n",
              "            <th>tests_per_case</th>\n",
              "            <th>tests_units</th>\n",
              "            <th>total_vaccinations</th>\n",
              "            <th>people_vaccinated</th>\n",
              "            <th>people_fully_vaccinated</th>\n",
              "            <th>total_boosters</th>\n",
              "            <th>new_vaccinations</th>\n",
              "            <th>new_vaccinations_smoothed</th>\n",
              "            <th>total_vaccinations_per_hundred</th>\n",
              "            <th>people_vaccinated_per_hundred</th>\n",
              "            <th>people_fully_vaccinated_per_hundred</th>\n",
              "            <th>total_boosters_per_hundred</th>\n",
              "            <th>new_vaccinations_smoothed_per_million</th>\n",
              "            <th>stringency_index</th>\n",
              "            <th>population_density</th>\n",
              "            <th>median_age</th>\n",
              "            <th>aged_65_older</th>\n",
              "            <th>aged_70_older</th>\n",
              "            <th>gdp_per_capita</th>\n",
              "            <th>extreme_poverty</th>\n",
              "            <th>cardiovasc_death_rate</th>\n",
              "            <th>diabetes_prevalence</th>\n",
              "            <th>female_smokers</th>\n",
              "            <th>male_smokers</th>\n",
              "            <th>handwashing_facilities</th>\n",
              "            <th>hospital_beds_per_thousand</th>\n",
              "            <th>life_expectancy</th>\n",
              "            <th>human_development_index</th>\n",
              "            <th>excess_mortality_cumulative_absolute</th>\n",
              "            <th>excess_mortality_cumulative</th>\n",
              "            <th>excess_mortality</th>\n",
              "            <th>excess_mortality_cumulative_per_million</th>\n",
              "        </tr>\n",
              "    </thead>\n",
              "    <tbody>\n",
              "        <tr>\n",
              "            <td>AFG</td>\n",
              "            <td>Asia</td>\n",
              "            <td>Afghanistan</td>\n",
              "            <td>24/02/2020</td>\n",
              "            <td>39835428.0</td>\n",
              "            <td>5.0</td>\n",
              "            <td>5.0</td>\n",
              "            <td>None</td>\n",
              "            <td>None</td>\n",
              "            <td>None</td>\n",
              "            <td>None</td>\n",
              "            <td>0.126</td>\n",
              "            <td>0.126</td>\n",
              "            <td>None</td>\n",
              "            <td>None</td>\n",
              "            <td>None</td>\n",
              "            <td>None</td>\n",
              "            <td>None</td>\n",
              "            <td>None</td>\n",
              "            <td>None</td>\n",
              "            <td>None</td>\n",
              "            <td>None</td>\n",
              "            <td>None</td>\n",
              "            <td>None</td>\n",
              "            <td>None</td>\n",
              "            <td>None</td>\n",
              "            <td>AFG</td>\n",
              "            <td>Asia</td>\n",
              "            <td>Afghanistan</td>\n",
              "            <td>24/02/2020</td>\n",
              "            <td>None</td>\n",
              "            <td>None</td>\n",
              "            <td>None</td>\n",
              "            <td>None</td>\n",
              "            <td>None</td>\n",
              "            <td>None</td>\n",
              "            <td>None</td>\n",
              "            <td>None</td>\n",
              "            <td>None</td>\n",
              "            <td>None</td>\n",
              "            <td>None</td>\n",
              "            <td>None</td>\n",
              "            <td>None</td>\n",
              "            <td>None</td>\n",
              "            <td>None</td>\n",
              "            <td>None</td>\n",
              "            <td>None</td>\n",
              "            <td>None</td>\n",
              "            <td>None</td>\n",
              "            <td>None</td>\n",
              "            <td>8.33</td>\n",
              "            <td>54.422</td>\n",
              "            <td>18.6</td>\n",
              "            <td>2.5810000000000004</td>\n",
              "            <td>1.337</td>\n",
              "            <td>1803.987</td>\n",
              "            <td>None</td>\n",
              "            <td>597.029</td>\n",
              "            <td>9.59</td>\n",
              "            <td>None</td>\n",
              "            <td>None</td>\n",
              "            <td>37.746</td>\n",
              "            <td>0.5</td>\n",
              "            <td>64.83</td>\n",
              "            <td>0.511</td>\n",
              "            <td>None</td>\n",
              "            <td>None</td>\n",
              "            <td>None</td>\n",
              "            <td>None</td>\n",
              "        </tr>\n",
              "        <tr>\n",
              "            <td>AFG</td>\n",
              "            <td>Asia</td>\n",
              "            <td>Afghanistan</td>\n",
              "            <td>25/02/2020</td>\n",
              "            <td>39835428.0</td>\n",
              "            <td>5.0</td>\n",
              "            <td>0.0</td>\n",
              "            <td>None</td>\n",
              "            <td>None</td>\n",
              "            <td>None</td>\n",
              "            <td>None</td>\n",
              "            <td>0.126</td>\n",
              "            <td>0.0</td>\n",
              "            <td>None</td>\n",
              "            <td>None</td>\n",
              "            <td>None</td>\n",
              "            <td>None</td>\n",
              "            <td>None</td>\n",
              "            <td>None</td>\n",
              "            <td>None</td>\n",
              "            <td>None</td>\n",
              "            <td>None</td>\n",
              "            <td>None</td>\n",
              "            <td>None</td>\n",
              "            <td>None</td>\n",
              "            <td>None</td>\n",
              "            <td>AFG</td>\n",
              "            <td>Asia</td>\n",
              "            <td>Afghanistan</td>\n",
              "            <td>25/02/2020</td>\n",
              "            <td>None</td>\n",
              "            <td>None</td>\n",
              "            <td>None</td>\n",
              "            <td>None</td>\n",
              "            <td>None</td>\n",
              "            <td>None</td>\n",
              "            <td>None</td>\n",
              "            <td>None</td>\n",
              "            <td>None</td>\n",
              "            <td>None</td>\n",
              "            <td>None</td>\n",
              "            <td>None</td>\n",
              "            <td>None</td>\n",
              "            <td>None</td>\n",
              "            <td>None</td>\n",
              "            <td>None</td>\n",
              "            <td>None</td>\n",
              "            <td>None</td>\n",
              "            <td>None</td>\n",
              "            <td>None</td>\n",
              "            <td>8.33</td>\n",
              "            <td>54.422</td>\n",
              "            <td>18.6</td>\n",
              "            <td>2.5810000000000004</td>\n",
              "            <td>1.337</td>\n",
              "            <td>1803.987</td>\n",
              "            <td>None</td>\n",
              "            <td>597.029</td>\n",
              "            <td>9.59</td>\n",
              "            <td>None</td>\n",
              "            <td>None</td>\n",
              "            <td>37.746</td>\n",
              "            <td>0.5</td>\n",
              "            <td>64.83</td>\n",
              "            <td>0.511</td>\n",
              "            <td>None</td>\n",
              "            <td>None</td>\n",
              "            <td>None</td>\n",
              "            <td>None</td>\n",
              "        </tr>\n",
              "        <tr>\n",
              "            <td>AFG</td>\n",
              "            <td>Asia</td>\n",
              "            <td>Afghanistan</td>\n",
              "            <td>26/02/2020</td>\n",
              "            <td>39835428.0</td>\n",
              "            <td>5.0</td>\n",
              "            <td>0.0</td>\n",
              "            <td>None</td>\n",
              "            <td>None</td>\n",
              "            <td>None</td>\n",
              "            <td>None</td>\n",
              "            <td>0.126</td>\n",
              "            <td>0.0</td>\n",
              "            <td>None</td>\n",
              "            <td>None</td>\n",
              "            <td>None</td>\n",
              "            <td>None</td>\n",
              "            <td>None</td>\n",
              "            <td>None</td>\n",
              "            <td>None</td>\n",
              "            <td>None</td>\n",
              "            <td>None</td>\n",
              "            <td>None</td>\n",
              "            <td>None</td>\n",
              "            <td>None</td>\n",
              "            <td>None</td>\n",
              "            <td>AFG</td>\n",
              "            <td>Asia</td>\n",
              "            <td>Afghanistan</td>\n",
              "            <td>26/02/2020</td>\n",
              "            <td>None</td>\n",
              "            <td>None</td>\n",
              "            <td>None</td>\n",
              "            <td>None</td>\n",
              "            <td>None</td>\n",
              "            <td>None</td>\n",
              "            <td>None</td>\n",
              "            <td>None</td>\n",
              "            <td>None</td>\n",
              "            <td>None</td>\n",
              "            <td>None</td>\n",
              "            <td>None</td>\n",
              "            <td>None</td>\n",
              "            <td>None</td>\n",
              "            <td>None</td>\n",
              "            <td>None</td>\n",
              "            <td>None</td>\n",
              "            <td>None</td>\n",
              "            <td>None</td>\n",
              "            <td>None</td>\n",
              "            <td>8.33</td>\n",
              "            <td>54.422</td>\n",
              "            <td>18.6</td>\n",
              "            <td>2.5810000000000004</td>\n",
              "            <td>1.337</td>\n",
              "            <td>1803.987</td>\n",
              "            <td>None</td>\n",
              "            <td>597.029</td>\n",
              "            <td>9.59</td>\n",
              "            <td>None</td>\n",
              "            <td>None</td>\n",
              "            <td>37.746</td>\n",
              "            <td>0.5</td>\n",
              "            <td>64.83</td>\n",
              "            <td>0.511</td>\n",
              "            <td>None</td>\n",
              "            <td>None</td>\n",
              "            <td>None</td>\n",
              "            <td>None</td>\n",
              "        </tr>\n",
              "        <tr>\n",
              "            <td>AFG</td>\n",
              "            <td>Asia</td>\n",
              "            <td>Afghanistan</td>\n",
              "            <td>27/02/2020</td>\n",
              "            <td>39835428.0</td>\n",
              "            <td>5.0</td>\n",
              "            <td>0.0</td>\n",
              "            <td>None</td>\n",
              "            <td>None</td>\n",
              "            <td>None</td>\n",
              "            <td>None</td>\n",
              "            <td>0.126</td>\n",
              "            <td>0.0</td>\n",
              "            <td>None</td>\n",
              "            <td>None</td>\n",
              "            <td>None</td>\n",
              "            <td>None</td>\n",
              "            <td>None</td>\n",
              "            <td>None</td>\n",
              "            <td>None</td>\n",
              "            <td>None</td>\n",
              "            <td>None</td>\n",
              "            <td>None</td>\n",
              "            <td>None</td>\n",
              "            <td>None</td>\n",
              "            <td>None</td>\n",
              "            <td>AFG</td>\n",
              "            <td>Asia</td>\n",
              "            <td>Afghanistan</td>\n",
              "            <td>27/02/2020</td>\n",
              "            <td>None</td>\n",
              "            <td>None</td>\n",
              "            <td>None</td>\n",
              "            <td>None</td>\n",
              "            <td>None</td>\n",
              "            <td>None</td>\n",
              "            <td>None</td>\n",
              "            <td>None</td>\n",
              "            <td>None</td>\n",
              "            <td>None</td>\n",
              "            <td>None</td>\n",
              "            <td>None</td>\n",
              "            <td>None</td>\n",
              "            <td>None</td>\n",
              "            <td>None</td>\n",
              "            <td>None</td>\n",
              "            <td>None</td>\n",
              "            <td>None</td>\n",
              "            <td>None</td>\n",
              "            <td>None</td>\n",
              "            <td>8.33</td>\n",
              "            <td>54.422</td>\n",
              "            <td>18.6</td>\n",
              "            <td>2.5810000000000004</td>\n",
              "            <td>1.337</td>\n",
              "            <td>1803.987</td>\n",
              "            <td>None</td>\n",
              "            <td>597.029</td>\n",
              "            <td>9.59</td>\n",
              "            <td>None</td>\n",
              "            <td>None</td>\n",
              "            <td>37.746</td>\n",
              "            <td>0.5</td>\n",
              "            <td>64.83</td>\n",
              "            <td>0.511</td>\n",
              "            <td>None</td>\n",
              "            <td>None</td>\n",
              "            <td>None</td>\n",
              "            <td>None</td>\n",
              "        </tr>\n",
              "        <tr>\n",
              "            <td>AFG</td>\n",
              "            <td>Asia</td>\n",
              "            <td>Afghanistan</td>\n",
              "            <td>28/02/2020</td>\n",
              "            <td>39835428.0</td>\n",
              "            <td>5.0</td>\n",
              "            <td>0.0</td>\n",
              "            <td>None</td>\n",
              "            <td>None</td>\n",
              "            <td>None</td>\n",
              "            <td>None</td>\n",
              "            <td>0.126</td>\n",
              "            <td>0.0</td>\n",
              "            <td>None</td>\n",
              "            <td>None</td>\n",
              "            <td>None</td>\n",
              "            <td>None</td>\n",
              "            <td>None</td>\n",
              "            <td>None</td>\n",
              "            <td>None</td>\n",
              "            <td>None</td>\n",
              "            <td>None</td>\n",
              "            <td>None</td>\n",
              "            <td>None</td>\n",
              "            <td>None</td>\n",
              "            <td>None</td>\n",
              "            <td>AFG</td>\n",
              "            <td>Asia</td>\n",
              "            <td>Afghanistan</td>\n",
              "            <td>28/02/2020</td>\n",
              "            <td>None</td>\n",
              "            <td>None</td>\n",
              "            <td>None</td>\n",
              "            <td>None</td>\n",
              "            <td>None</td>\n",
              "            <td>None</td>\n",
              "            <td>None</td>\n",
              "            <td>None</td>\n",
              "            <td>None</td>\n",
              "            <td>None</td>\n",
              "            <td>None</td>\n",
              "            <td>None</td>\n",
              "            <td>None</td>\n",
              "            <td>None</td>\n",
              "            <td>None</td>\n",
              "            <td>None</td>\n",
              "            <td>None</td>\n",
              "            <td>None</td>\n",
              "            <td>None</td>\n",
              "            <td>None</td>\n",
              "            <td>8.33</td>\n",
              "            <td>54.422</td>\n",
              "            <td>18.6</td>\n",
              "            <td>2.5810000000000004</td>\n",
              "            <td>1.337</td>\n",
              "            <td>1803.987</td>\n",
              "            <td>None</td>\n",
              "            <td>597.029</td>\n",
              "            <td>9.59</td>\n",
              "            <td>None</td>\n",
              "            <td>None</td>\n",
              "            <td>37.746</td>\n",
              "            <td>0.5</td>\n",
              "            <td>64.83</td>\n",
              "            <td>0.511</td>\n",
              "            <td>None</td>\n",
              "            <td>None</td>\n",
              "            <td>None</td>\n",
              "            <td>None</td>\n",
              "        </tr>\n",
              "        <tr>\n",
              "            <td>AFG</td>\n",
              "            <td>Asia</td>\n",
              "            <td>Afghanistan</td>\n",
              "            <td>29/02/2020</td>\n",
              "            <td>39835428.0</td>\n",
              "            <td>5.0</td>\n",
              "            <td>0.0</td>\n",
              "            <td>0.7140000000000001</td>\n",
              "            <td>None</td>\n",
              "            <td>None</td>\n",
              "            <td>0.0</td>\n",
              "            <td>0.126</td>\n",
              "            <td>0.0</td>\n",
              "            <td>0.018000000000000002</td>\n",
              "            <td>None</td>\n",
              "            <td>None</td>\n",
              "            <td>0.0</td>\n",
              "            <td>None</td>\n",
              "            <td>None</td>\n",
              "            <td>None</td>\n",
              "            <td>None</td>\n",
              "            <td>None</td>\n",
              "            <td>None</td>\n",
              "            <td>None</td>\n",
              "            <td>None</td>\n",
              "            <td>None</td>\n",
              "            <td>AFG</td>\n",
              "            <td>Asia</td>\n",
              "            <td>Afghanistan</td>\n",
              "            <td>29/02/2020</td>\n",
              "            <td>None</td>\n",
              "            <td>None</td>\n",
              "            <td>None</td>\n",
              "            <td>None</td>\n",
              "            <td>None</td>\n",
              "            <td>None</td>\n",
              "            <td>None</td>\n",
              "            <td>None</td>\n",
              "            <td>None</td>\n",
              "            <td>None</td>\n",
              "            <td>None</td>\n",
              "            <td>None</td>\n",
              "            <td>None</td>\n",
              "            <td>None</td>\n",
              "            <td>None</td>\n",
              "            <td>None</td>\n",
              "            <td>None</td>\n",
              "            <td>None</td>\n",
              "            <td>None</td>\n",
              "            <td>None</td>\n",
              "            <td>8.33</td>\n",
              "            <td>54.422</td>\n",
              "            <td>18.6</td>\n",
              "            <td>2.5810000000000004</td>\n",
              "            <td>1.337</td>\n",
              "            <td>1803.987</td>\n",
              "            <td>None</td>\n",
              "            <td>597.029</td>\n",
              "            <td>9.59</td>\n",
              "            <td>None</td>\n",
              "            <td>None</td>\n",
              "            <td>37.746</td>\n",
              "            <td>0.5</td>\n",
              "            <td>64.83</td>\n",
              "            <td>0.511</td>\n",
              "            <td>None</td>\n",
              "            <td>None</td>\n",
              "            <td>None</td>\n",
              "            <td>None</td>\n",
              "        </tr>\n",
              "        <tr>\n",
              "            <td>AFG</td>\n",
              "            <td>Asia</td>\n",
              "            <td>Afghanistan</td>\n",
              "            <td>01/03/2020</td>\n",
              "            <td>39835428.0</td>\n",
              "            <td>5.0</td>\n",
              "            <td>0.0</td>\n",
              "            <td>0.7140000000000001</td>\n",
              "            <td>None</td>\n",
              "            <td>None</td>\n",
              "            <td>0.0</td>\n",
              "            <td>0.126</td>\n",
              "            <td>0.0</td>\n",
              "            <td>0.018000000000000002</td>\n",
              "            <td>None</td>\n",
              "            <td>None</td>\n",
              "            <td>0.0</td>\n",
              "            <td>None</td>\n",
              "            <td>None</td>\n",
              "            <td>None</td>\n",
              "            <td>None</td>\n",
              "            <td>None</td>\n",
              "            <td>None</td>\n",
              "            <td>None</td>\n",
              "            <td>None</td>\n",
              "            <td>None</td>\n",
              "            <td>AFG</td>\n",
              "            <td>Asia</td>\n",
              "            <td>Afghanistan</td>\n",
              "            <td>01/03/2020</td>\n",
              "            <td>None</td>\n",
              "            <td>None</td>\n",
              "            <td>None</td>\n",
              "            <td>None</td>\n",
              "            <td>None</td>\n",
              "            <td>None</td>\n",
              "            <td>None</td>\n",
              "            <td>None</td>\n",
              "            <td>None</td>\n",
              "            <td>None</td>\n",
              "            <td>None</td>\n",
              "            <td>None</td>\n",
              "            <td>None</td>\n",
              "            <td>None</td>\n",
              "            <td>None</td>\n",
              "            <td>None</td>\n",
              "            <td>None</td>\n",
              "            <td>None</td>\n",
              "            <td>None</td>\n",
              "            <td>None</td>\n",
              "            <td>27.78</td>\n",
              "            <td>54.422</td>\n",
              "            <td>18.6</td>\n",
              "            <td>2.5810000000000004</td>\n",
              "            <td>1.337</td>\n",
              "            <td>1803.987</td>\n",
              "            <td>None</td>\n",
              "            <td>597.029</td>\n",
              "            <td>9.59</td>\n",
              "            <td>None</td>\n",
              "            <td>None</td>\n",
              "            <td>37.746</td>\n",
              "            <td>0.5</td>\n",
              "            <td>64.83</td>\n",
              "            <td>0.511</td>\n",
              "            <td>None</td>\n",
              "            <td>None</td>\n",
              "            <td>None</td>\n",
              "            <td>None</td>\n",
              "        </tr>\n",
              "        <tr>\n",
              "            <td>AFG</td>\n",
              "            <td>Asia</td>\n",
              "            <td>Afghanistan</td>\n",
              "            <td>02/03/2020</td>\n",
              "            <td>39835428.0</td>\n",
              "            <td>5.0</td>\n",
              "            <td>0.0</td>\n",
              "            <td>0.0</td>\n",
              "            <td>None</td>\n",
              "            <td>None</td>\n",
              "            <td>0.0</td>\n",
              "            <td>0.126</td>\n",
              "            <td>0.0</td>\n",
              "            <td>0.0</td>\n",
              "            <td>None</td>\n",
              "            <td>None</td>\n",
              "            <td>0.0</td>\n",
              "            <td>None</td>\n",
              "            <td>None</td>\n",
              "            <td>None</td>\n",
              "            <td>None</td>\n",
              "            <td>None</td>\n",
              "            <td>None</td>\n",
              "            <td>None</td>\n",
              "            <td>None</td>\n",
              "            <td>None</td>\n",
              "            <td>AFG</td>\n",
              "            <td>Asia</td>\n",
              "            <td>Afghanistan</td>\n",
              "            <td>02/03/2020</td>\n",
              "            <td>None</td>\n",
              "            <td>None</td>\n",
              "            <td>None</td>\n",
              "            <td>None</td>\n",
              "            <td>None</td>\n",
              "            <td>None</td>\n",
              "            <td>None</td>\n",
              "            <td>None</td>\n",
              "            <td>None</td>\n",
              "            <td>None</td>\n",
              "            <td>None</td>\n",
              "            <td>None</td>\n",
              "            <td>None</td>\n",
              "            <td>None</td>\n",
              "            <td>None</td>\n",
              "            <td>None</td>\n",
              "            <td>None</td>\n",
              "            <td>None</td>\n",
              "            <td>None</td>\n",
              "            <td>None</td>\n",
              "            <td>27.78</td>\n",
              "            <td>54.422</td>\n",
              "            <td>18.6</td>\n",
              "            <td>2.5810000000000004</td>\n",
              "            <td>1.337</td>\n",
              "            <td>1803.987</td>\n",
              "            <td>None</td>\n",
              "            <td>597.029</td>\n",
              "            <td>9.59</td>\n",
              "            <td>None</td>\n",
              "            <td>None</td>\n",
              "            <td>37.746</td>\n",
              "            <td>0.5</td>\n",
              "            <td>64.83</td>\n",
              "            <td>0.511</td>\n",
              "            <td>None</td>\n",
              "            <td>None</td>\n",
              "            <td>None</td>\n",
              "            <td>None</td>\n",
              "        </tr>\n",
              "        <tr>\n",
              "            <td>AFG</td>\n",
              "            <td>Asia</td>\n",
              "            <td>Afghanistan</td>\n",
              "            <td>03/03/2020</td>\n",
              "            <td>39835428.0</td>\n",
              "            <td>5.0</td>\n",
              "            <td>0.0</td>\n",
              "            <td>0.0</td>\n",
              "            <td>None</td>\n",
              "            <td>None</td>\n",
              "            <td>0.0</td>\n",
              "            <td>0.126</td>\n",
              "            <td>0.0</td>\n",
              "            <td>0.0</td>\n",
              "            <td>None</td>\n",
              "            <td>None</td>\n",
              "            <td>0.0</td>\n",
              "            <td>None</td>\n",
              "            <td>None</td>\n",
              "            <td>None</td>\n",
              "            <td>None</td>\n",
              "            <td>None</td>\n",
              "            <td>None</td>\n",
              "            <td>None</td>\n",
              "            <td>None</td>\n",
              "            <td>None</td>\n",
              "            <td>AFG</td>\n",
              "            <td>Asia</td>\n",
              "            <td>Afghanistan</td>\n",
              "            <td>03/03/2020</td>\n",
              "            <td>None</td>\n",
              "            <td>None</td>\n",
              "            <td>None</td>\n",
              "            <td>None</td>\n",
              "            <td>None</td>\n",
              "            <td>None</td>\n",
              "            <td>None</td>\n",
              "            <td>None</td>\n",
              "            <td>None</td>\n",
              "            <td>None</td>\n",
              "            <td>None</td>\n",
              "            <td>None</td>\n",
              "            <td>None</td>\n",
              "            <td>None</td>\n",
              "            <td>None</td>\n",
              "            <td>None</td>\n",
              "            <td>None</td>\n",
              "            <td>None</td>\n",
              "            <td>None</td>\n",
              "            <td>None</td>\n",
              "            <td>27.78</td>\n",
              "            <td>54.422</td>\n",
              "            <td>18.6</td>\n",
              "            <td>2.5810000000000004</td>\n",
              "            <td>1.337</td>\n",
              "            <td>1803.987</td>\n",
              "            <td>None</td>\n",
              "            <td>597.029</td>\n",
              "            <td>9.59</td>\n",
              "            <td>None</td>\n",
              "            <td>None</td>\n",
              "            <td>37.746</td>\n",
              "            <td>0.5</td>\n",
              "            <td>64.83</td>\n",
              "            <td>0.511</td>\n",
              "            <td>None</td>\n",
              "            <td>None</td>\n",
              "            <td>None</td>\n",
              "            <td>None</td>\n",
              "        </tr>\n",
              "        <tr>\n",
              "            <td>AFG</td>\n",
              "            <td>Asia</td>\n",
              "            <td>Afghanistan</td>\n",
              "            <td>04/03/2020</td>\n",
              "            <td>39835428.0</td>\n",
              "            <td>5.0</td>\n",
              "            <td>0.0</td>\n",
              "            <td>0.0</td>\n",
              "            <td>None</td>\n",
              "            <td>None</td>\n",
              "            <td>0.0</td>\n",
              "            <td>0.126</td>\n",
              "            <td>0.0</td>\n",
              "            <td>0.0</td>\n",
              "            <td>None</td>\n",
              "            <td>None</td>\n",
              "            <td>0.0</td>\n",
              "            <td>None</td>\n",
              "            <td>None</td>\n",
              "            <td>None</td>\n",
              "            <td>None</td>\n",
              "            <td>None</td>\n",
              "            <td>None</td>\n",
              "            <td>None</td>\n",
              "            <td>None</td>\n",
              "            <td>None</td>\n",
              "            <td>AFG</td>\n",
              "            <td>Asia</td>\n",
              "            <td>Afghanistan</td>\n",
              "            <td>04/03/2020</td>\n",
              "            <td>None</td>\n",
              "            <td>None</td>\n",
              "            <td>None</td>\n",
              "            <td>None</td>\n",
              "            <td>None</td>\n",
              "            <td>None</td>\n",
              "            <td>None</td>\n",
              "            <td>None</td>\n",
              "            <td>None</td>\n",
              "            <td>None</td>\n",
              "            <td>None</td>\n",
              "            <td>None</td>\n",
              "            <td>None</td>\n",
              "            <td>None</td>\n",
              "            <td>None</td>\n",
              "            <td>None</td>\n",
              "            <td>None</td>\n",
              "            <td>None</td>\n",
              "            <td>None</td>\n",
              "            <td>None</td>\n",
              "            <td>27.78</td>\n",
              "            <td>54.422</td>\n",
              "            <td>18.6</td>\n",
              "            <td>2.5810000000000004</td>\n",
              "            <td>1.337</td>\n",
              "            <td>1803.987</td>\n",
              "            <td>None</td>\n",
              "            <td>597.029</td>\n",
              "            <td>9.59</td>\n",
              "            <td>None</td>\n",
              "            <td>None</td>\n",
              "            <td>37.746</td>\n",
              "            <td>0.5</td>\n",
              "            <td>64.83</td>\n",
              "            <td>0.511</td>\n",
              "            <td>None</td>\n",
              "            <td>None</td>\n",
              "            <td>None</td>\n",
              "            <td>None</td>\n",
              "        </tr>\n",
              "    </tbody>\n",
              "</table>"
            ],
            "text/plain": [
              "[('AFG', 'Asia', 'Afghanistan', '24/02/2020', 39835428.0, 5.0, 5.0, None, None, None, None, 0.126, 0.126, None, None, None, None, None, None, None, None, None, None, None, None, None, 'AFG', 'Asia', 'Afghanistan', '24/02/2020', None, None, None, None, None, None, None, None, None, None, None, None, None, None, None, None, None, None, None, None, 8.33, 54.422, 18.6, 2.5810000000000004, 1.337, 1803.987, None, 597.029, 9.59, None, None, 37.746, 0.5, 64.83, 0.511, None, None, None, None),\n",
              " ('AFG', 'Asia', 'Afghanistan', '25/02/2020', 39835428.0, 5.0, 0.0, None, None, None, None, 0.126, 0.0, None, None, None, None, None, None, None, None, None, None, None, None, None, 'AFG', 'Asia', 'Afghanistan', '25/02/2020', None, None, None, None, None, None, None, None, None, None, None, None, None, None, None, None, None, None, None, None, 8.33, 54.422, 18.6, 2.5810000000000004, 1.337, 1803.987, None, 597.029, 9.59, None, None, 37.746, 0.5, 64.83, 0.511, None, None, None, None),\n",
              " ('AFG', 'Asia', 'Afghanistan', '26/02/2020', 39835428.0, 5.0, 0.0, None, None, None, None, 0.126, 0.0, None, None, None, None, None, None, None, None, None, None, None, None, None, 'AFG', 'Asia', 'Afghanistan', '26/02/2020', None, None, None, None, None, None, None, None, None, None, None, None, None, None, None, None, None, None, None, None, 8.33, 54.422, 18.6, 2.5810000000000004, 1.337, 1803.987, None, 597.029, 9.59, None, None, 37.746, 0.5, 64.83, 0.511, None, None, None, None),\n",
              " ('AFG', 'Asia', 'Afghanistan', '27/02/2020', 39835428.0, 5.0, 0.0, None, None, None, None, 0.126, 0.0, None, None, None, None, None, None, None, None, None, None, None, None, None, 'AFG', 'Asia', 'Afghanistan', '27/02/2020', None, None, None, None, None, None, None, None, None, None, None, None, None, None, None, None, None, None, None, None, 8.33, 54.422, 18.6, 2.5810000000000004, 1.337, 1803.987, None, 597.029, 9.59, None, None, 37.746, 0.5, 64.83, 0.511, None, None, None, None),\n",
              " ('AFG', 'Asia', 'Afghanistan', '28/02/2020', 39835428.0, 5.0, 0.0, None, None, None, None, 0.126, 0.0, None, None, None, None, None, None, None, None, None, None, None, None, None, 'AFG', 'Asia', 'Afghanistan', '28/02/2020', None, None, None, None, None, None, None, None, None, None, None, None, None, None, None, None, None, None, None, None, 8.33, 54.422, 18.6, 2.5810000000000004, 1.337, 1803.987, None, 597.029, 9.59, None, None, 37.746, 0.5, 64.83, 0.511, None, None, None, None),\n",
              " ('AFG', 'Asia', 'Afghanistan', '29/02/2020', 39835428.0, 5.0, 0.0, 0.7140000000000001, None, None, 0.0, 0.126, 0.0, 0.018000000000000002, None, None, 0.0, None, None, None, None, None, None, None, None, None, 'AFG', 'Asia', 'Afghanistan', '29/02/2020', None, None, None, None, None, None, None, None, None, None, None, None, None, None, None, None, None, None, None, None, 8.33, 54.422, 18.6, 2.5810000000000004, 1.337, 1803.987, None, 597.029, 9.59, None, None, 37.746, 0.5, 64.83, 0.511, None, None, None, None),\n",
              " ('AFG', 'Asia', 'Afghanistan', '01/03/2020', 39835428.0, 5.0, 0.0, 0.7140000000000001, None, None, 0.0, 0.126, 0.0, 0.018000000000000002, None, None, 0.0, None, None, None, None, None, None, None, None, None, 'AFG', 'Asia', 'Afghanistan', '01/03/2020', None, None, None, None, None, None, None, None, None, None, None, None, None, None, None, None, None, None, None, None, 27.78, 54.422, 18.6, 2.5810000000000004, 1.337, 1803.987, None, 597.029, 9.59, None, None, 37.746, 0.5, 64.83, 0.511, None, None, None, None),\n",
              " ('AFG', 'Asia', 'Afghanistan', '02/03/2020', 39835428.0, 5.0, 0.0, 0.0, None, None, 0.0, 0.126, 0.0, 0.0, None, None, 0.0, None, None, None, None, None, None, None, None, None, 'AFG', 'Asia', 'Afghanistan', '02/03/2020', None, None, None, None, None, None, None, None, None, None, None, None, None, None, None, None, None, None, None, None, 27.78, 54.422, 18.6, 2.5810000000000004, 1.337, 1803.987, None, 597.029, 9.59, None, None, 37.746, 0.5, 64.83, 0.511, None, None, None, None),\n",
              " ('AFG', 'Asia', 'Afghanistan', '03/03/2020', 39835428.0, 5.0, 0.0, 0.0, None, None, 0.0, 0.126, 0.0, 0.0, None, None, 0.0, None, None, None, None, None, None, None, None, None, 'AFG', 'Asia', 'Afghanistan', '03/03/2020', None, None, None, None, None, None, None, None, None, None, None, None, None, None, None, None, None, None, None, None, 27.78, 54.422, 18.6, 2.5810000000000004, 1.337, 1803.987, None, 597.029, 9.59, None, None, 37.746, 0.5, 64.83, 0.511, None, None, None, None),\n",
              " ('AFG', 'Asia', 'Afghanistan', '04/03/2020', 39835428.0, 5.0, 0.0, 0.0, None, None, 0.0, 0.126, 0.0, 0.0, None, None, 0.0, None, None, None, None, None, None, None, None, None, 'AFG', 'Asia', 'Afghanistan', '04/03/2020', None, None, None, None, None, None, None, None, None, None, None, None, None, None, None, None, None, None, None, None, 27.78, 54.422, 18.6, 2.5810000000000004, 1.337, 1803.987, None, 597.029, 9.59, None, None, 37.746, 0.5, 64.83, 0.511, None, None, None, None)]"
            ]
          },
          "metadata": {},
          "execution_count": 27
        }
      ]
    },
    {
      "cell_type": "code",
      "metadata": {
        "colab": {
          "base_uri": "https://localhost:8080/",
          "height": 263
        },
        "id": "DaGVS9OemLAX",
        "outputId": "b6eea426-0567-491c-b90c-04aa69a232ee"
      },
      "source": [
        "%%sql\n",
        "---Total vaccination vs population\n",
        "SELECT covid_deaths.location, MAX(((covid_vaccine.people_vaccinated- covid_vaccine.people_fully_vaccinated)/covid_deaths.population))*100 as people_partially_vaccinated\n",
        "FROM covid_deaths JOIN  covid_vaccine \n",
        "on covid_deaths.location = covid_vaccine.location \n",
        "and covid_deaths.date = covid_vaccine.date\n",
        "WHERE covid_deaths.continent IS NULL\n",
        "GROUP BY covid_deaths.location\n",
        "ORDER BY 2 DESC\n",
        "LIMIT 10;"
      ],
      "execution_count": null,
      "outputs": [
        {
          "output_type": "stream",
          "name": "stdout",
          "text": [
            " * sqlite://\n",
            "Done.\n"
          ]
        },
        {
          "output_type": "execute_result",
          "data": {
            "text/html": [
              "<table>\n",
              "    <thead>\n",
              "        <tr>\n",
              "            <th>location</th>\n",
              "            <th>people_partially_vaccinated</th>\n",
              "        </tr>\n",
              "    </thead>\n",
              "    <tbody>\n",
              "        <tr>\n",
              "            <td>South America</td>\n",
              "            <td>24.634861834820306</td>\n",
              "        </tr>\n",
              "        <tr>\n",
              "            <td>Asia</td>\n",
              "            <td>23.54395672858821</td>\n",
              "        </tr>\n",
              "        <tr>\n",
              "            <td>European Union</td>\n",
              "            <td>20.135174336389046</td>\n",
              "        </tr>\n",
              "        <tr>\n",
              "            <td>World</td>\n",
              "            <td>17.37371468729586</td>\n",
              "        </tr>\n",
              "        <tr>\n",
              "            <td>Oceania</td>\n",
              "            <td>17.122102906449182</td>\n",
              "        </tr>\n",
              "        <tr>\n",
              "            <td>Europe</td>\n",
              "            <td>15.206105512134743</td>\n",
              "        </tr>\n",
              "        <tr>\n",
              "            <td>North America</td>\n",
              "            <td>11.909894598553807</td>\n",
              "        </tr>\n",
              "        <tr>\n",
              "            <td>Africa</td>\n",
              "            <td>2.449838108052367</td>\n",
              "        </tr>\n",
              "        <tr>\n",
              "            <td>International</td>\n",
              "            <td>None</td>\n",
              "        </tr>\n",
              "    </tbody>\n",
              "</table>"
            ],
            "text/plain": [
              "[('South America', 24.634861834820306),\n",
              " ('Asia', 23.54395672858821),\n",
              " ('European Union', 20.135174336389046),\n",
              " ('World', 17.37371468729586),\n",
              " ('Oceania', 17.122102906449182),\n",
              " ('Europe', 15.206105512134743),\n",
              " ('North America', 11.909894598553807),\n",
              " ('Africa', 2.449838108052367),\n",
              " ('International', None)]"
            ]
          },
          "metadata": {},
          "execution_count": 37
        }
      ]
    },
    {
      "cell_type": "code",
      "metadata": {
        "id": "HSXgKUMWIUV-",
        "colab": {
          "base_uri": "https://localhost:8080/",
          "height": 263
        },
        "outputId": "4c6d6bd0-5d97-46b8-f867-cf30d320ec87"
      },
      "source": [
        "%%sql\n",
        "---Total vaccination vs population\n",
        "SELECT covid_deaths.location, MAX((covid_vaccine.people_fully_vaccinated/covid_deaths.population))*100 as people_fully_vaccinated\n",
        "FROM covid_deaths JOIN  covid_vaccine \n",
        "on covid_deaths.location = covid_vaccine.location \n",
        "and covid_deaths.date = covid_vaccine.date\n",
        "WHERE covid_deaths.continent IS NULL\n",
        "GROUP BY covid_deaths.location\n",
        "ORDER BY 2 DESC\n",
        "LIMIT 10;"
      ],
      "execution_count": null,
      "outputs": [
        {
          "output_type": "stream",
          "name": "stdout",
          "text": [
            " * sqlite://\n",
            "Done.\n"
          ]
        },
        {
          "output_type": "execute_result",
          "data": {
            "text/html": [
              "<table>\n",
              "    <thead>\n",
              "        <tr>\n",
              "            <th>location</th>\n",
              "            <th>people_fully_vaccinated</th>\n",
              "            <th>SUM(covid_vaccine.new_vaccinations)</th>\n",
              "        </tr>\n",
              "    </thead>\n",
              "    <tbody>\n",
              "        <tr>\n",
              "            <td>European Union</td>\n",
              "            <td>63.513990694535224</td>\n",
              "            <td>573299608.0</td>\n",
              "        </tr>\n",
              "        <tr>\n",
              "            <td>Europe</td>\n",
              "            <td>53.2014887819148</td>\n",
              "            <td>813382928.0</td>\n",
              "        </tr>\n",
              "        <tr>\n",
              "            <td>North America</td>\n",
              "            <td>48.265529812137935</td>\n",
              "            <td>635020739.0</td>\n",
              "        </tr>\n",
              "        <tr>\n",
              "            <td>South America</td>\n",
              "            <td>43.78810403270309</td>\n",
              "            <td>460836637.0</td>\n",
              "        </tr>\n",
              "        <tr>\n",
              "            <td>Asia</td>\n",
              "            <td>38.19361377700602</td>\n",
              "            <td>4354710132.0</td>\n",
              "        </tr>\n",
              "        <tr>\n",
              "            <td>Oceania</td>\n",
              "            <td>36.73017328986514</td>\n",
              "            <td>38276189.0</td>\n",
              "        </tr>\n",
              "        <tr>\n",
              "            <td>World</td>\n",
              "            <td>34.829549871620955</td>\n",
              "            <td>6463418984.0</td>\n",
              "        </tr>\n",
              "        <tr>\n",
              "            <td>Africa</td>\n",
              "            <td>4.637739162239088</td>\n",
              "            <td>159265365.0</td>\n",
              "        </tr>\n",
              "        <tr>\n",
              "            <td>International</td>\n",
              "            <td>None</td>\n",
              "            <td>None</td>\n",
              "        </tr>\n",
              "    </tbody>\n",
              "</table>"
            ],
            "text/plain": [
              "[('European Union', 63.513990694535224, 573299608.0),\n",
              " ('Europe', 53.2014887819148, 813382928.0),\n",
              " ('North America', 48.265529812137935, 635020739.0),\n",
              " ('South America', 43.78810403270309, 460836637.0),\n",
              " ('Asia', 38.19361377700602, 4354710132.0),\n",
              " ('Oceania', 36.73017328986514, 38276189.0),\n",
              " ('World', 34.829549871620955, 6463418984.0),\n",
              " ('Africa', 4.637739162239088, 159265365.0),\n",
              " ('International', None, None)]"
            ]
          },
          "metadata": {},
          "execution_count": 49
        }
      ]
    },
    {
      "cell_type": "code",
      "metadata": {
        "colab": {
          "base_uri": "https://localhost:8080/"
        },
        "id": "YLFGthDnraIJ",
        "outputId": "606b7bd1-e967-4aad-c464-55124ab95f67"
      },
      "source": [
        "%%sql\n",
        "---Total vaccination vs population\n",
        "SELECT covid_deaths.location,covid_deaths.date, SUM(covid_vaccine.new_vaccinations) OVER ( PARTITION BY covid_deaths.location order by covid_deaths.location, covid_deaths.date) as RollingPeopleVaccinated\n",
        "FROM covid_deaths JOIN  covid_vaccine \n",
        "on covid_deaths.location = covid_vaccine.location \n",
        "and covid_deaths.date = covid_vaccine.date\n",
        "WHERE covid_deaths.continent IS NOT  NULL\n",
        "GROUP BY covid_deaths.location\n",
        "--ORDER BY 2 DESC\n",
        "LIMIT 10;"
      ],
      "execution_count": null,
      "outputs": [
        {
          "output_type": "stream",
          "name": "stdout",
          "text": [
            " * sqlite://\n",
            "(sqlite3.OperationalError) near \"(\": syntax error\n",
            "[SQL: ---Total vaccination vs population\n",
            "SELECT covid_deaths.location,covid_deaths.date, SUM(covid_vaccine.new_vaccinations) OVER ( PARTITION BY covid_deaths.location order by covid_deaths.location, covid_deaths.date) as RollingPeopleVaccinated\n",
            "FROM covid_deaths JOIN  covid_vaccine \n",
            "on covid_deaths.location = covid_vaccine.location \n",
            "and covid_deaths.date = covid_vaccine.date\n",
            "WHERE covid_deaths.continent IS NOT  NULL\n",
            "GROUP BY covid_deaths.location\n",
            "--ORDER BY 2 DESC\n",
            "LIMIT 10;]\n",
            "(Background on this error at: https://sqlalche.me/e/14/e3q8)\n"
          ]
        }
      ]
    },
    {
      "cell_type": "code",
      "metadata": {
        "id": "_avDXTEHIUY0",
        "colab": {
          "base_uri": "https://localhost:8080/"
        },
        "outputId": "0306eb26-92cd-45a1-8fb5-2e280e72d473"
      },
      "source": [
        "%%sql\n",
        "-- Rolling count\n",
        "Select covid_deaths.continent, covid_deaths.location, covid_deaths.date, covid_deaths.population, covid_vaccine.new_vaccinations\n",
        "SUM(covid_vaccine.new_vaccinations) OVER (Partition by covid_deaths.location \n",
        "Order by covid_deaths.location, covid_deaths.date) as RollingPeopleVaccinated\n",
        "--,(RollingPeopleVaccinated/population)*100\n",
        "From covid_deaths\n",
        "Join covid_vaccine\n",
        "\tOn covid_deaths.location = covid_vaccine.location\n",
        "\tand covid_deaths.date = covid_vaccine.date\n",
        "where covid_deaths.continent is not null \n",
        "order by 2,3 LIMIT 10;"
      ],
      "execution_count": null,
      "outputs": [
        {
          "output_type": "stream",
          "name": "stdout",
          "text": [
            " * sqlite://\n",
            "(sqlite3.OperationalError) near \"(\": syntax error\n",
            "[SQL: -- Rolling count\n",
            "Select covid_deaths.continent, covid_deaths.location, covid_deaths.date, covid_deaths.population, covid_vaccine.new_vaccinations\n",
            "SUM(covid_vaccine.new_vaccinations) OVER (Partition by covid_deaths.location \n",
            "Order by covid_deaths.location, covid_deaths.date) as RollingPeopleVaccinated,(RollingPeopleVaccinated/population)*100\n",
            "From covid_deaths\n",
            "Join covid_vaccine\n",
            "\tOn covid_deaths.location = covid_vaccine.location\n",
            "\tand covid_deaths.date = covid_vaccine.date\n",
            "where covid_deaths.continent is not null \n",
            "order by 2,3 LIMIT 10;]\n",
            "(Background on this error at: https://sqlalche.me/e/14/e3q8)\n"
          ]
        }
      ]
    },
    {
      "cell_type": "markdown",
      "metadata": {
        "id": "qRngORkLA3eg"
      },
      "source": [
        "#### Analysis by continent"
      ]
    },
    {
      "cell_type": "code",
      "metadata": {
        "colab": {
          "base_uri": "https://localhost:8080/"
        },
        "id": "ofUOLXfeA3eg",
        "outputId": "ce4246ab-e770-4733-f53a-6c4b472be1e5"
      },
      "source": [
        "%%sql\n",
        "-- Continent wide death count per population\n",
        "SELECT location, MAX((total_cases/population))*100 as infected_pop_percentage\n",
        "FROM covid_deaths\n",
        "-- To exclude data that was aggregated per continent\n",
        "WHERE continent IS  NULL \n",
        "--Group by location to get highest per country\n",
        "GROUP BY location \n",
        "--Order in descending order of the highest death count per location \n",
        "ORDER BY 2 desc;"
      ],
      "execution_count": null,
      "outputs": [
        {
          "output_type": "stream",
          "name": "stdout",
          "text": [
            " * sqlite://\n",
            "Done.\n"
          ]
        },
        {
          "output_type": "execute_result",
          "data": {
            "text/html": [
              "<table>\n",
              "    <thead>\n",
              "        <tr>\n",
              "            <th>location</th>\n",
              "            <th>infected_pop_percentage</th>\n",
              "        </tr>\n",
              "    </thead>\n",
              "    <tbody>\n",
              "        <tr>\n",
              "            <td>North America</td>\n",
              "            <td>8.9293800388974</td>\n",
              "        </tr>\n",
              "        <tr>\n",
              "            <td>South America</td>\n",
              "            <td>8.73924306632998</td>\n",
              "        </tr>\n",
              "        <tr>\n",
              "            <td>European Union</td>\n",
              "            <td>8.578734607644272</td>\n",
              "        </tr>\n",
              "        <tr>\n",
              "            <td>Europe</td>\n",
              "            <td>8.097915061144526</td>\n",
              "        </tr>\n",
              "        <tr>\n",
              "            <td>World</td>\n",
              "            <td>3.0127030018166945</td>\n",
              "        </tr>\n",
              "        <tr>\n",
              "            <td>Asia</td>\n",
              "            <td>1.643063715531266</td>\n",
              "        </tr>\n",
              "        <tr>\n",
              "            <td>Africa</td>\n",
              "            <td>0.6101557729794662</td>\n",
              "        </tr>\n",
              "        <tr>\n",
              "            <td>Oceania</td>\n",
              "            <td>0.4709005474647196</td>\n",
              "        </tr>\n",
              "        <tr>\n",
              "            <td>International</td>\n",
              "            <td>None</td>\n",
              "        </tr>\n",
              "    </tbody>\n",
              "</table>"
            ],
            "text/plain": [
              "[('North America', 8.9293800388974),\n",
              " ('South America', 8.73924306632998),\n",
              " ('European Union', 8.578734607644272),\n",
              " ('Europe', 8.097915061144526),\n",
              " ('World', 3.0127030018166945),\n",
              " ('Asia', 1.643063715531266),\n",
              " ('Africa', 0.6101557729794662),\n",
              " ('Oceania', 0.4709005474647196),\n",
              " ('International', None)]"
            ]
          },
          "metadata": {},
          "execution_count": 15
        }
      ]
    },
    {
      "cell_type": "code",
      "metadata": {
        "colab": {
          "base_uri": "https://localhost:8080/"
        },
        "id": "0Vc2tOrFA3eh",
        "outputId": "3baaf1bf-cea6-46f9-d176-4cd5cb2da3a4"
      },
      "source": [
        "%%sql\n",
        "-- Continent wide death count per population\n",
        "SELECT location, MAX((total_deaths/population))*100 as death_count_per_population\n",
        "FROM covid_deaths\n",
        "-- To exclude data that was aggregated per continent\n",
        "WHERE continent IS  NULL \n",
        "--Group by location to get highest per country\n",
        "GROUP BY location \n",
        "--Order in descending order of the highest death count per location \n",
        "ORDER BY 2 desc;\n"
      ],
      "execution_count": null,
      "outputs": [
        {
          "output_type": "stream",
          "name": "stdout",
          "text": [
            " * sqlite://\n",
            "Done.\n"
          ]
        },
        {
          "output_type": "execute_result",
          "data": {
            "text/html": [
              "<table>\n",
              "    <thead>\n",
              "        <tr>\n",
              "            <th>location</th>\n",
              "            <th>death_count_per_population</th>\n",
              "        </tr>\n",
              "    </thead>\n",
              "    <tbody>\n",
              "        <tr>\n",
              "            <td>South America</td>\n",
              "            <td>0.2670853017598405</td>\n",
              "        </tr>\n",
              "        <tr>\n",
              "            <td>North America</td>\n",
              "            <td>0.18128594222088593</td>\n",
              "        </tr>\n",
              "        <tr>\n",
              "            <td>European Union</td>\n",
              "            <td>0.17373356910340879</td>\n",
              "        </tr>\n",
              "        <tr>\n",
              "            <td>Europe</td>\n",
              "            <td>0.16650007832324168</td>\n",
              "        </tr>\n",
              "        <tr>\n",
              "            <td>World</td>\n",
              "            <td>0.06149598823422537</td>\n",
              "        </tr>\n",
              "        <tr>\n",
              "            <td>Asia</td>\n",
              "            <td>0.024372088114134122</td>\n",
              "        </tr>\n",
              "        <tr>\n",
              "            <td>Africa</td>\n",
              "            <td>0.015546640200181016</td>\n",
              "        </tr>\n",
              "        <tr>\n",
              "            <td>Oceania</td>\n",
              "            <td>0.005432675842274149</td>\n",
              "        </tr>\n",
              "        <tr>\n",
              "            <td>International</td>\n",
              "            <td>None</td>\n",
              "        </tr>\n",
              "    </tbody>\n",
              "</table>"
            ],
            "text/plain": [
              "[('South America', 0.2670853017598405),\n",
              " ('North America', 0.18128594222088593),\n",
              " ('European Union', 0.17373356910340879),\n",
              " ('Europe', 0.16650007832324168),\n",
              " ('World', 0.06149598823422537),\n",
              " ('Asia', 0.024372088114134122),\n",
              " ('Africa', 0.015546640200181016),\n",
              " ('Oceania', 0.005432675842274149),\n",
              " ('International', None)]"
            ]
          },
          "metadata": {},
          "execution_count": 16
        }
      ]
    },
    {
      "cell_type": "markdown",
      "metadata": {
        "id": "O6M7ruV9A9n8"
      },
      "source": [
        "#### Analysis by country"
      ]
    },
    {
      "cell_type": "code",
      "metadata": {
        "colab": {
          "base_uri": "https://localhost:8080/"
        },
        "id": "21KEsReyA9n8",
        "outputId": "97b4b8a5-3eb4-4083-eaf7-c907eba7a0b7"
      },
      "source": [
        "%%sql\n",
        "--Selecting the data that we are going to be using ordered by date and location\n",
        "SELECT location, date, total_cases,new_cases, total_deaths, population FROM covid_deaths ORDER BY 1,2 LIMIT 10;"
      ],
      "execution_count": null,
      "outputs": [
        {
          "output_type": "stream",
          "name": "stderr",
          "text": [
            "UsageError: Cell magic `%%sql` not found.\n"
          ]
        }
      ]
    },
    {
      "cell_type": "code",
      "metadata": {
        "colab": {
          "base_uri": "https://localhost:8080/"
        },
        "id": "d8i0lk8hA9n9",
        "outputId": "3d8ce607-69a6-4e19-8165-f41da9bd5c30"
      },
      "source": [
        "%%sql\n",
        "--Looking at total deaths vs total cases\n",
        "SELECT location, date, total_cases, total_deaths, (total_deaths/total_cases)*100 as death_percentage\n",
        "FROM covid_deaths WHERE total_cases AND total_deaths IS NOT NULL\n",
        "ORDER BY 5 desc LIMIT 10;"
      ],
      "execution_count": null,
      "outputs": [
        {
          "output_type": "stream",
          "name": "stderr",
          "text": [
            "UsageError: Cell magic `%%sql` not found.\n"
          ]
        }
      ]
    },
    {
      "cell_type": "code",
      "metadata": {
        "id": "eNuIQd3gA9n9"
      },
      "source": [
        "%%sql\n",
        "--Looking at total deaths vs total cases\n",
        "SELECT location, date, total_cases, total_deaths, (total_deaths/total_cases)*100 as death_percentage\n",
        "FROM covid_deaths \n",
        "WHERE location like '%Kenya%' AND  total_cases AND total_deaths IS NOT NULL \n",
        "ORDER BY 5 desc LIMIT 5;"
      ],
      "execution_count": null,
      "outputs": []
    },
    {
      "cell_type": "code",
      "metadata": {
        "id": "iQ66e4byA9n-"
      },
      "source": [
        "%%sql\n",
        "--Looking at percentage of infection per country \n",
        "  --Ordered by highest infected population percentage\n",
        "SELECT location, date, total_cases, total_deaths, (total_cases/population)*100 as infected_pop_percentage\n",
        "FROM covid_deaths \n",
        "GROUP BY location\n",
        "ORDER BY 5 desc LIMIT 5;"
      ],
      "execution_count": null,
      "outputs": []
    },
    {
      "cell_type": "markdown",
      "metadata": {
        "id": "h9FGlrSeA9n-"
      },
      "source": [
        "Seychelles, Montenegro and Andorra had the highest percentage of infeccted population which were 21.97%, 21.43% and 19.77% respectively as of 08/10/2021."
      ]
    },
    {
      "cell_type": "code",
      "metadata": {
        "id": "VpUCPw_LA9n-"
      },
      "source": [
        "%%sql\n",
        "--Looking at top percentage of infected population in Kenya.\n",
        "SELECT location, total_cases, MAX(total_deaths) as highest_total_deaths, MAX((total_cases/population))*100 as infected_pop_percentage\n",
        "FROM covid_deaths\n",
        "WHERE continent IS NOT NULL\n",
        "GROUP BY location  \n",
        "ORDER BY 4 desc LIMIT 15;"
      ],
      "execution_count": null,
      "outputs": []
    },
    {
      "cell_type": "markdown",
      "metadata": {
        "id": "aP0WmLUuA9n-"
      },
      "source": [
        "Percentage of Kenyan population infected with covid 19 as at 08/10/2021 was 0.456%"
      ]
    },
    {
      "cell_type": "code",
      "metadata": {
        "id": "YBHwHTNzA9n_"
      },
      "source": [
        "%%sql\n",
        "--Looking at coutries with the highest total death count.\n",
        "SELECT location, total_cases, MAX(total_deaths) as maximum_deaths \n",
        "FROM covid_deaths \n",
        "WHERE continent IS NOT NULL\n",
        "group by location\n",
        "ORDER BY 3 desc LIMIT 5;"
      ],
      "execution_count": null,
      "outputs": []
    },
    {
      "cell_type": "code",
      "metadata": {
        "id": "VcD3w7PEA9n_"
      },
      "source": [
        "%%sql\n",
        "-- Top 5 countries with highest death count per population\n",
        "SELECT location, MAX((total_deaths/population))*100 as death_count_per_population\n",
        "FROM covid_deaths\n",
        "-- To exclude data that was aggregated per continent\n",
        "WHERE continent IS NOT NULL\n",
        "--Group by location to get highest per country\n",
        "GROUP BY location \n",
        "--Order in descending order of the highest death count per location \n",
        "ORDER BY 2 desc LIMIT 5;\n"
      ],
      "execution_count": null,
      "outputs": []
    },
    {
      "cell_type": "markdown",
      "metadata": {
        "id": "GXLwhk6tA9n_"
      },
      "source": [
        "Peru had the highest death to population ratio at 0.60% percent followed by Bosmia and Herzegovina at 0.33%."
      ]
    },
    {
      "cell_type": "code",
      "metadata": {
        "id": "SOFn7yqtA9oA"
      },
      "source": [
        "%%sql\n"
      ],
      "execution_count": null,
      "outputs": []
    },
    {
      "cell_type": "code",
      "metadata": {
        "id": "cvlsX1HUIUcj"
      },
      "source": [
        "%%sql\n",
        "\n"
      ],
      "execution_count": null,
      "outputs": []
    },
    {
      "cell_type": "code",
      "metadata": {
        "id": "o6guWnxiIUoz"
      },
      "source": [
        "%%sql\n"
      ],
      "execution_count": null,
      "outputs": []
    },
    {
      "cell_type": "code",
      "metadata": {
        "id": "SAjtU5vCIUuf"
      },
      "source": [
        "%%sql\n"
      ],
      "execution_count": null,
      "outputs": []
    },
    {
      "cell_type": "markdown",
      "metadata": {
        "id": "Y-vxSTw5BTDR"
      },
      "source": [
        "# **Conclussion**"
      ]
    },
    {
      "cell_type": "markdown",
      "metadata": {
        "id": "ILnB8BH-BdE5"
      },
      "source": [
        ""
      ]
    }
  ]
}